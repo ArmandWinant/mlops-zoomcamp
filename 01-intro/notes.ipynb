{
 "cells": [
  {
   "metadata": {},
   "cell_type": "markdown",
   "source": [
    "# MLOps Zoomcamp\n",
    "## Putting ML to Production\n",
    "MLOps is a set of best practices and tools for deploying machine learning in production.\n",
    "\n",
    "Imaging trying to predict the duration of a given taxi trip.\n",
    "\n",
    "The main steps in developing such a machine learning project:\n",
    "1. Design\n",
    "> Is machine learning hte right approach\n",
    "2. Train\n",
    "> Try and compare different models and pick the most appropriate one\n",
    "3. Deploy and maintain\n",
    "> Make the service available to the public through an API\n",
    "\n",
    "MLOps assists us in each of the above steps by enabling automation and collaboration."
   ],
   "id": "447e4ed1ee243ce4"
  },
  {
   "metadata": {},
   "cell_type": "markdown",
   "source": [
    "## The issue with notebooks\n",
    "Notebooks are used for experimentation, but can often result in unorganized and sloppy code.\n",
    "Cells are out of order and code is often not modular => no csoftware engineering best practices.\n",
    "\n",
    "### Experiment tracking\n",
    "When trying to find the best model with optimal parameters, the history of experiments is often lost (or relies on the discipline of the data scientists). With this, an experiment tracking tool can help.\n",
    "\n",
    "### Model saving\n",
    "Saving models locally along with performance. Model registry can help with this.\n",
    "\n",
    "### Model pipelines\n",
    "Training a machine learning model consists of a series of sequential steps:\n",
    "1. load and prepare data\n",
    "2. vectorize data and format the data\n",
    "3. train the models\n",
    "\n",
    "When training multiple models and trying different parameters, the above pipeline will have to be run a large amount of times. For time-saving purposes, it is crucial that the workflow streamlined and parametrized, this allowing for quick iterations.\n",
    "\n",
    "- updating the training data\n",
    "- adjusting parameters for a given model\n",
    "- training a new training algorithm entirely\n",
    "\n",
    "Tools such as Kestra or Prefect can help us with this.\n",
    "\n",
    "### Model serving\n",
    "When deployed, a model is typically put in a publicly accessible service. Users can send requests and receive the predictions output by the model.\n",
    "\n",
    "### Model moniroring\n",
    "Model need to be maintained as behaviors change, When a model no longer perform at the expected level, a new updated model needs to be trained and deployed.\n",
    "This process can be automated such that no human is involved."
   ],
   "id": "ccb31405fae1c203"
  },
  {
   "metadata": {},
   "cell_type": "markdown",
   "source": [
    "The overall idea behind MLOps is to provide tools and best practices to automate part of the machine learning project workflow.\n",
    "It borrows from DevOps and overall software engineering best practices to ensure proper documentation, testing, and maintenance."
   ],
   "id": "cb7bb26b76057546"
  },
  {
   "metadata": {},
   "cell_type": "markdown",
   "source": "Data scientists rarely work in isolation. In addition to engineering best practices, it is important to establish proper processes for communication, documentation and code ownership such that ensure we know what and why we are solving a problem.",
   "id": "7d858f095d23267"
  },
  {
   "metadata": {},
   "cell_type": "markdown",
   "source": [
    "## MLOps Maturity Model\n",
    "### Level 1: No MLOps/Automation\n",
    "- notebooks only\n",
    "- no tracking of models and metadata\n",
    "- data scientists work alone\n",
    "- good for POC projects only\n",
    "### Level 2: DevOps but no MLOps\n",
    "- some automation (engineers involved)\n",
    "- automated releases like web apps\n",
    "- CI/CD, operations metrics\n",
    "- not ML specific\n",
    "- no experiment tracking\n",
    "- DS separated from engineers\n",
    "### Level 3: Automated Training\n",
    "- parametrized training pipeline\n",
    "- experiment tracking and registry\n",
    "- deployment is not automated yet but low friction\n",
    "- DS and engineers work together\n",
    "- good when you have multiple models in prod\n",
    "### Level 4: Automated deployment operations\n",
    "- no human deployment or very easy\n",
    "- ML platform for deployment through API\n",
    "- A/B test capabilities to compare models\n",
    "- model monitoring\n",
    "### Level 5: Full MLOps automation\n",
    "- automated training and deployment in an integrated environment\n",
    "\n",
    "When you should be at which models:\n",
    "- when testing ideas (proof of concept), level 1 is enough for early results\n",
    "- deployment requires at least level 2\n",
    "- multiple models require level 2\n",
    "- even in mature organizations, not all models need to be fully automated\n",
    "- pragmatism: only level 4, 5 if required (high infrastructure cost)\n",
    "- you may want some level of human intervention in the process"
   ],
   "id": "640d1e07fbf72a4"
  },
  {
   "metadata": {},
   "cell_type": "code",
   "outputs": [],
   "execution_count": null,
   "source": "",
   "id": "f45fccbb4f06b2cc"
  }
 ],
 "metadata": {
  "kernelspec": {
   "display_name": "Python 3",
   "language": "python",
   "name": "python3"
  },
  "language_info": {
   "codemirror_mode": {
    "name": "ipython",
    "version": 2
   },
   "file_extension": ".py",
   "mimetype": "text/x-python",
   "name": "python",
   "nbconvert_exporter": "python",
   "pygments_lexer": "ipython2",
   "version": "2.7.6"
  }
 },
 "nbformat": 4,
 "nbformat_minor": 5
}
