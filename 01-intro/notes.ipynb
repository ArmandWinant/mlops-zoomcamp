{
 "cells": [
  {
   "metadata": {},
   "cell_type": "markdown",
   "source": [
    "# MLOps Zoomcamp\n",
    "## Putting ML into production\n",
    "MLOps is a set of best practices for putting ML models into production.\n",
    "\n",
    "ML project stages:\n",
    "1. __Design:__ decide if ML is the right approach\n",
    "2. __Train:__ do many experiments to develop a suitable model\n",
    "3. __Operate__: deploy a model to a web service/API that can be accessed by users\n",
    "\n",
    "MLops helps in all stages of ML deployment by:\n",
    "- providing experimentation tools\n",
    "- generating reproducible results\n",
    "- making models easy to deploy and monitor\n",
    "- enabling collaboration between engineers and software developers\n",
    "\n",
    "MLOps is a set of best practices for automating the process of developing and deploying ML models to production."
   ],
   "id": "65c2f2972951fbcf"
  }
 ],
 "metadata": {
  "kernelspec": {
   "display_name": "Python 3",
   "language": "python",
   "name": "python3"
  },
  "language_info": {
   "codemirror_mode": {
    "name": "ipython",
    "version": 2
   },
   "file_extension": ".py",
   "mimetype": "text/x-python",
   "name": "python",
   "nbconvert_exporter": "python",
   "pygments_lexer": "ipython2",
   "version": "2.7.6"
  }
 },
 "nbformat": 4,
 "nbformat_minor": 5
}
