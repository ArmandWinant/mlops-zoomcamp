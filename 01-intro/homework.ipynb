{
 "cells": [
  {
   "metadata": {},
   "cell_type": "markdown",
   "source": [
    "# MLOps Zoomcamp: Intro\n",
    "### Homework"
   ],
   "id": "1bd143670620c74c"
  },
  {
   "metadata": {
    "ExecuteTime": {
     "end_time": "2025-05-23T13:40:36.038392Z",
     "start_time": "2025-05-23T13:40:36.032528Z"
    }
   },
   "cell_type": "code",
   "source": [
    "import numpy as np\n",
    "import pandas as pd\n",
    "from sklearn.preprocessing import OneHotEncoder\n",
    "from sklearn.linear_model import LinearRegression"
   ],
   "id": "1769bc7ec968952e",
   "outputs": [],
   "execution_count": 47
  },
  {
   "metadata": {},
   "cell_type": "markdown",
   "source": "#### Q1. Downloading the data",
   "id": "b423234798275b6a"
  },
  {
   "metadata": {
    "ExecuteTime": {
     "end_time": "2025-05-23T13:40:44.089169Z",
     "start_time": "2025-05-23T13:40:36.072310Z"
    }
   },
   "cell_type": "code",
   "source": [
    "df_jan = pd.read_parquet('https://d37ci6vzurychx.cloudfront.net/trip-data/yellow_tripdata_2023-01.parquet')\n",
    "df_feb = pd.read_parquet('https://d37ci6vzurychx.cloudfront.net/trip-data/yellow_tripdata_2023-02.parquet')"
   ],
   "id": "fc7dadc7e44b0695",
   "outputs": [],
   "execution_count": 48
  },
  {
   "metadata": {
    "ExecuteTime": {
     "end_time": "2025-05-23T13:40:44.126527Z",
     "start_time": "2025-05-23T13:40:44.121999Z"
    }
   },
   "cell_type": "code",
   "source": "print(df_jan.shape[1])",
   "id": "26b1764341cfbdf4",
   "outputs": [
    {
     "name": "stdout",
     "output_type": "stream",
     "text": [
      "19\n"
     ]
    }
   ],
   "execution_count": 49
  },
  {
   "metadata": {},
   "cell_type": "markdown",
   "source": "#### Q2. Computing duration",
   "id": "fe6e1fc1d0036ccb"
  },
  {
   "metadata": {
    "ExecuteTime": {
     "end_time": "2025-05-23T13:40:44.175730Z",
     "start_time": "2025-05-23T13:40:44.170848Z"
    }
   },
   "cell_type": "code",
   "source": [
    "def compute_duration(df):\n",
    "    df = df.copy()\n",
    "    df['duration'] = df.tpep_dropoff_datetime - df.tpep_pickup_datetime\n",
    "    df.duration = df.duration.apply(lambda x: x.total_seconds() / 60)\n",
    "\n",
    "    return df"
   ],
   "id": "cb08840d5e75547a",
   "outputs": [],
   "execution_count": 50
  },
  {
   "metadata": {
    "ExecuteTime": {
     "end_time": "2025-05-23T13:40:59.852121Z",
     "start_time": "2025-05-23T13:40:44.210010Z"
    }
   },
   "cell_type": "code",
   "source": [
    "df_jan = compute_duration(df_jan)\n",
    "df_feb = compute_duration(df_feb)"
   ],
   "id": "f73086f813f8d34e",
   "outputs": [],
   "execution_count": 51
  },
  {
   "metadata": {
    "ExecuteTime": {
     "end_time": "2025-05-23T13:40:59.909447Z",
     "start_time": "2025-05-23T13:40:59.885203Z"
    }
   },
   "cell_type": "code",
   "source": "df_jan.head()",
   "id": "6e9c8b22115fde5e",
   "outputs": [
    {
     "data": {
      "text/plain": [
       "   VendorID tpep_pickup_datetime tpep_dropoff_datetime  passenger_count  \\\n",
       "0         2  2023-01-01 00:32:10   2023-01-01 00:40:36              1.0   \n",
       "1         2  2023-01-01 00:55:08   2023-01-01 01:01:27              1.0   \n",
       "2         2  2023-01-01 00:25:04   2023-01-01 00:37:49              1.0   \n",
       "3         1  2023-01-01 00:03:48   2023-01-01 00:13:25              0.0   \n",
       "4         2  2023-01-01 00:10:29   2023-01-01 00:21:19              1.0   \n",
       "\n",
       "   trip_distance  RatecodeID store_and_fwd_flag  PULocationID  DOLocationID  \\\n",
       "0           0.97         1.0                  N           161           141   \n",
       "1           1.10         1.0                  N            43           237   \n",
       "2           2.51         1.0                  N            48           238   \n",
       "3           1.90         1.0                  N           138             7   \n",
       "4           1.43         1.0                  N           107            79   \n",
       "\n",
       "   payment_type  fare_amount  extra  mta_tax  tip_amount  tolls_amount  \\\n",
       "0             2          9.3   1.00      0.5        0.00           0.0   \n",
       "1             1          7.9   1.00      0.5        4.00           0.0   \n",
       "2             1         14.9   1.00      0.5       15.00           0.0   \n",
       "3             1         12.1   7.25      0.5        0.00           0.0   \n",
       "4             1         11.4   1.00      0.5        3.28           0.0   \n",
       "\n",
       "   improvement_surcharge  total_amount  congestion_surcharge  airport_fee  \\\n",
       "0                    1.0         14.30                   2.5         0.00   \n",
       "1                    1.0         16.90                   2.5         0.00   \n",
       "2                    1.0         34.90                   2.5         0.00   \n",
       "3                    1.0         20.85                   0.0         1.25   \n",
       "4                    1.0         19.68                   2.5         0.00   \n",
       "\n",
       "    duration  \n",
       "0   8.433333  \n",
       "1   6.316667  \n",
       "2  12.750000  \n",
       "3   9.616667  \n",
       "4  10.833333  "
      ],
      "text/html": [
       "<div>\n",
       "<style scoped>\n",
       "    .dataframe tbody tr th:only-of-type {\n",
       "        vertical-align: middle;\n",
       "    }\n",
       "\n",
       "    .dataframe tbody tr th {\n",
       "        vertical-align: top;\n",
       "    }\n",
       "\n",
       "    .dataframe thead th {\n",
       "        text-align: right;\n",
       "    }\n",
       "</style>\n",
       "<table border=\"1\" class=\"dataframe\">\n",
       "  <thead>\n",
       "    <tr style=\"text-align: right;\">\n",
       "      <th></th>\n",
       "      <th>VendorID</th>\n",
       "      <th>tpep_pickup_datetime</th>\n",
       "      <th>tpep_dropoff_datetime</th>\n",
       "      <th>passenger_count</th>\n",
       "      <th>trip_distance</th>\n",
       "      <th>RatecodeID</th>\n",
       "      <th>store_and_fwd_flag</th>\n",
       "      <th>PULocationID</th>\n",
       "      <th>DOLocationID</th>\n",
       "      <th>payment_type</th>\n",
       "      <th>fare_amount</th>\n",
       "      <th>extra</th>\n",
       "      <th>mta_tax</th>\n",
       "      <th>tip_amount</th>\n",
       "      <th>tolls_amount</th>\n",
       "      <th>improvement_surcharge</th>\n",
       "      <th>total_amount</th>\n",
       "      <th>congestion_surcharge</th>\n",
       "      <th>airport_fee</th>\n",
       "      <th>duration</th>\n",
       "    </tr>\n",
       "  </thead>\n",
       "  <tbody>\n",
       "    <tr>\n",
       "      <th>0</th>\n",
       "      <td>2</td>\n",
       "      <td>2023-01-01 00:32:10</td>\n",
       "      <td>2023-01-01 00:40:36</td>\n",
       "      <td>1.0</td>\n",
       "      <td>0.97</td>\n",
       "      <td>1.0</td>\n",
       "      <td>N</td>\n",
       "      <td>161</td>\n",
       "      <td>141</td>\n",
       "      <td>2</td>\n",
       "      <td>9.3</td>\n",
       "      <td>1.00</td>\n",
       "      <td>0.5</td>\n",
       "      <td>0.00</td>\n",
       "      <td>0.0</td>\n",
       "      <td>1.0</td>\n",
       "      <td>14.30</td>\n",
       "      <td>2.5</td>\n",
       "      <td>0.00</td>\n",
       "      <td>8.433333</td>\n",
       "    </tr>\n",
       "    <tr>\n",
       "      <th>1</th>\n",
       "      <td>2</td>\n",
       "      <td>2023-01-01 00:55:08</td>\n",
       "      <td>2023-01-01 01:01:27</td>\n",
       "      <td>1.0</td>\n",
       "      <td>1.10</td>\n",
       "      <td>1.0</td>\n",
       "      <td>N</td>\n",
       "      <td>43</td>\n",
       "      <td>237</td>\n",
       "      <td>1</td>\n",
       "      <td>7.9</td>\n",
       "      <td>1.00</td>\n",
       "      <td>0.5</td>\n",
       "      <td>4.00</td>\n",
       "      <td>0.0</td>\n",
       "      <td>1.0</td>\n",
       "      <td>16.90</td>\n",
       "      <td>2.5</td>\n",
       "      <td>0.00</td>\n",
       "      <td>6.316667</td>\n",
       "    </tr>\n",
       "    <tr>\n",
       "      <th>2</th>\n",
       "      <td>2</td>\n",
       "      <td>2023-01-01 00:25:04</td>\n",
       "      <td>2023-01-01 00:37:49</td>\n",
       "      <td>1.0</td>\n",
       "      <td>2.51</td>\n",
       "      <td>1.0</td>\n",
       "      <td>N</td>\n",
       "      <td>48</td>\n",
       "      <td>238</td>\n",
       "      <td>1</td>\n",
       "      <td>14.9</td>\n",
       "      <td>1.00</td>\n",
       "      <td>0.5</td>\n",
       "      <td>15.00</td>\n",
       "      <td>0.0</td>\n",
       "      <td>1.0</td>\n",
       "      <td>34.90</td>\n",
       "      <td>2.5</td>\n",
       "      <td>0.00</td>\n",
       "      <td>12.750000</td>\n",
       "    </tr>\n",
       "    <tr>\n",
       "      <th>3</th>\n",
       "      <td>1</td>\n",
       "      <td>2023-01-01 00:03:48</td>\n",
       "      <td>2023-01-01 00:13:25</td>\n",
       "      <td>0.0</td>\n",
       "      <td>1.90</td>\n",
       "      <td>1.0</td>\n",
       "      <td>N</td>\n",
       "      <td>138</td>\n",
       "      <td>7</td>\n",
       "      <td>1</td>\n",
       "      <td>12.1</td>\n",
       "      <td>7.25</td>\n",
       "      <td>0.5</td>\n",
       "      <td>0.00</td>\n",
       "      <td>0.0</td>\n",
       "      <td>1.0</td>\n",
       "      <td>20.85</td>\n",
       "      <td>0.0</td>\n",
       "      <td>1.25</td>\n",
       "      <td>9.616667</td>\n",
       "    </tr>\n",
       "    <tr>\n",
       "      <th>4</th>\n",
       "      <td>2</td>\n",
       "      <td>2023-01-01 00:10:29</td>\n",
       "      <td>2023-01-01 00:21:19</td>\n",
       "      <td>1.0</td>\n",
       "      <td>1.43</td>\n",
       "      <td>1.0</td>\n",
       "      <td>N</td>\n",
       "      <td>107</td>\n",
       "      <td>79</td>\n",
       "      <td>1</td>\n",
       "      <td>11.4</td>\n",
       "      <td>1.00</td>\n",
       "      <td>0.5</td>\n",
       "      <td>3.28</td>\n",
       "      <td>0.0</td>\n",
       "      <td>1.0</td>\n",
       "      <td>19.68</td>\n",
       "      <td>2.5</td>\n",
       "      <td>0.00</td>\n",
       "      <td>10.833333</td>\n",
       "    </tr>\n",
       "  </tbody>\n",
       "</table>\n",
       "</div>"
      ]
     },
     "execution_count": 52,
     "metadata": {},
     "output_type": "execute_result"
    }
   ],
   "execution_count": 52
  },
  {
   "metadata": {
    "ExecuteTime": {
     "end_time": "2025-05-23T13:41:00.042301Z",
     "start_time": "2025-05-23T13:41:00.009086Z"
    }
   },
   "cell_type": "code",
   "source": "print(df_jan.duration.std().round(2))",
   "id": "ab881ca615166cdf",
   "outputs": [
    {
     "name": "stdout",
     "output_type": "stream",
     "text": [
      "42.59\n"
     ]
    }
   ],
   "execution_count": 53
  },
  {
   "metadata": {},
   "cell_type": "markdown",
   "source": "#### Q3. Dropping outliers",
   "id": "fae6317c6cd1a696"
  },
  {
   "metadata": {
    "ExecuteTime": {
     "end_time": "2025-05-23T13:41:00.145298Z",
     "start_time": "2025-05-23T13:41:00.139122Z"
    }
   },
   "cell_type": "code",
   "source": [
    "def drop_outliers(df):\n",
    "    df = df.loc[(df.duration >= 1) & (df.duration <= 60), :]\n",
    "    return df"
   ],
   "id": "8a1985b51d7f6e82",
   "outputs": [],
   "execution_count": 54
  },
  {
   "metadata": {
    "ExecuteTime": {
     "end_time": "2025-05-23T13:41:00.221839Z",
     "start_time": "2025-05-23T13:41:00.216687Z"
    }
   },
   "cell_type": "code",
   "source": "print(df_jan.shape[0])",
   "id": "47afda126eb7fac4",
   "outputs": [
    {
     "name": "stdout",
     "output_type": "stream",
     "text": [
      "3066766\n"
     ]
    }
   ],
   "execution_count": 55
  },
  {
   "metadata": {
    "ExecuteTime": {
     "end_time": "2025-05-23T13:41:01.162299Z",
     "start_time": "2025-05-23T13:41:00.277870Z"
    }
   },
   "cell_type": "code",
   "source": [
    "df_jan = drop_outliers(df_jan)\n",
    "df_feb = drop_outliers(df_feb)"
   ],
   "id": "4e9171848b2f596d",
   "outputs": [],
   "execution_count": 56
  },
  {
   "metadata": {
    "ExecuteTime": {
     "end_time": "2025-05-23T13:41:01.196507Z",
     "start_time": "2025-05-23T13:41:01.192640Z"
    }
   },
   "cell_type": "code",
   "source": "print(df_jan.shape[0])",
   "id": "422bd6f7c32bf238",
   "outputs": [
    {
     "name": "stdout",
     "output_type": "stream",
     "text": [
      "3009173\n"
     ]
    }
   ],
   "execution_count": 57
  },
  {
   "metadata": {
    "ExecuteTime": {
     "end_time": "2025-05-23T13:41:01.232564Z",
     "start_time": "2025-05-23T13:41:01.227182Z"
    }
   },
   "cell_type": "code",
   "source": "round(3009173 / 3066766, 2)",
   "id": "37c0941c26b57f9",
   "outputs": [
    {
     "data": {
      "text/plain": [
       "0.98"
      ]
     },
     "execution_count": 58,
     "metadata": {},
     "output_type": "execute_result"
    }
   ],
   "execution_count": 58
  },
  {
   "metadata": {},
   "cell_type": "markdown",
   "source": "#### Q4. One-hot encoding",
   "id": "86ba694123335a3f"
  },
  {
   "metadata": {
    "ExecuteTime": {
     "end_time": "2025-05-23T13:43:10.610742Z",
     "start_time": "2025-05-23T13:43:10.602674Z"
    }
   },
   "cell_type": "code",
   "source": [
    "def one_hot_encoding(df, encoder=None):\n",
    "    df_categorical = df.select_dtypes(exclude='number')\n",
    "    df_numerical = df.select_dtypes(include='number')\n",
    "\n",
    "    if not encoder:\n",
    "        encoder = OneHotEncoder(dtype=int, handle_unknown='infrequent_if_exist')\n",
    "        encoder.fit(df_categorical)\n",
    "\n",
    "    encodings = encoder.transform(df_categorical).toarray()\n",
    "    print(encodings)\n",
    "    print(encodings.shape)"
   ],
   "id": "6ee8abdc6f420086",
   "outputs": [],
   "execution_count": 65
  },
  {
   "metadata": {
    "ExecuteTime": {
     "end_time": "2025-05-23T13:43:10.889689Z",
     "start_time": "2025-05-23T13:43:10.861779Z"
    }
   },
   "cell_type": "code",
   "source": [
    "df_jan.PULocationID = df_jan.PULocationID.astype(\"category\")\n",
    "df_feb.PULocationID = df_feb.PULocationID.astype(\"category\")"
   ],
   "id": "fae95f1ade1facc2",
   "outputs": [],
   "execution_count": 66
  },
  {
   "metadata": {
    "ExecuteTime": {
     "end_time": "2025-05-23T13:42:47.153772Z",
     "start_time": "2025-05-23T13:42:04.782415Z"
    }
   },
   "cell_type": "code",
   "source": "one_hot_encoding(df_jan)",
   "id": "3122cc9563566285",
   "outputs": [
    {
     "ename": "AttributeError",
     "evalue": "'csr_matrix' object has no attribute 'to_array'",
     "output_type": "error",
     "traceback": [
      "\u001B[0;31m---------------------------------------------------------------------------\u001B[0m",
      "\u001B[0;31mAttributeError\u001B[0m                            Traceback (most recent call last)",
      "Cell \u001B[0;32mIn[64], line 1\u001B[0m\n\u001B[0;32m----> 1\u001B[0m \u001B[43mone_hot_encoding\u001B[49m\u001B[43m(\u001B[49m\u001B[43mdf_jan\u001B[49m\u001B[43m)\u001B[49m\n",
      "Cell \u001B[0;32mIn[62], line 9\u001B[0m, in \u001B[0;36mone_hot_encoding\u001B[0;34m(df, encoder)\u001B[0m\n\u001B[1;32m      6\u001B[0m     encoder \u001B[38;5;241m=\u001B[39m OneHotEncoder(dtype\u001B[38;5;241m=\u001B[39m\u001B[38;5;28mint\u001B[39m, handle_unknown\u001B[38;5;241m=\u001B[39m\u001B[38;5;124m'\u001B[39m\u001B[38;5;124minfrequent_if_exist\u001B[39m\u001B[38;5;124m'\u001B[39m)\n\u001B[1;32m      7\u001B[0m     encoder\u001B[38;5;241m.\u001B[39mfit(df_categorical)\n\u001B[0;32m----> 9\u001B[0m encodings \u001B[38;5;241m=\u001B[39m \u001B[43mencoder\u001B[49m\u001B[38;5;241;43m.\u001B[39;49m\u001B[43mtransform\u001B[49m\u001B[43m(\u001B[49m\u001B[43mdf_categorical\u001B[49m\u001B[43m)\u001B[49m\u001B[38;5;241;43m.\u001B[39;49m\u001B[43mto_array\u001B[49m()\n\u001B[1;32m     10\u001B[0m \u001B[38;5;28mprint\u001B[39m(encodings)\n\u001B[1;32m     11\u001B[0m \u001B[38;5;28mprint\u001B[39m(encodings\u001B[38;5;241m.\u001B[39mshape)\n",
      "\u001B[0;31mAttributeError\u001B[0m: 'csr_matrix' object has no attribute 'to_array'"
     ]
    }
   ],
   "execution_count": 64
  },
  {
   "metadata": {
    "ExecuteTime": {
     "end_time": "2025-05-23T13:41:44.695226Z",
     "start_time": "2025-05-23T13:41:44.691580Z"
    }
   },
   "cell_type": "code",
   "source": "",
   "id": "cf9061ee7d05a43",
   "outputs": [],
   "execution_count": null
  }
 ],
 "metadata": {},
 "nbformat": 4,
 "nbformat_minor": 5
}
