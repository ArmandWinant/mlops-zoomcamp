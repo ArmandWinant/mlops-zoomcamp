{
 "cells": [
  {
   "metadata": {},
   "cell_type": "markdown",
   "source": "# Duration Prediction",
   "id": "8df1e33eddbe486a"
  },
  {
   "metadata": {
    "ExecuteTime": {
     "end_time": "2025-05-12T21:42:25.013662Z",
     "start_time": "2025-05-12T21:42:25.006917Z"
    }
   },
   "cell_type": "code",
   "source": [
    "import pandas as pd\n",
    "from sklearn.feature_extraction import DictVectorizer\n",
    "from sklearn.linear_model import LinearRegression"
   ],
   "id": "3ff847c79c1fa77f",
   "outputs": [],
   "execution_count": 40
  },
  {
   "metadata": {
    "ExecuteTime": {
     "end_time": "2025-05-12T21:42:25.405870Z",
     "start_time": "2025-05-12T21:42:25.050655Z"
    }
   },
   "cell_type": "code",
   "source": "df = pd.read_parquet('https://d37ci6vzurychx.cloudfront.net/trip-data/green_tripdata_2021-01.parquet')",
   "id": "81f2eb2bb2e49f33",
   "outputs": [],
   "execution_count": 41
  },
  {
   "metadata": {
    "ExecuteTime": {
     "end_time": "2025-05-12T21:42:25.433712Z",
     "start_time": "2025-05-12T21:42:25.429956Z"
    }
   },
   "cell_type": "code",
   "source": "# df = df.loc[(df.trip_type == 2), :]",
   "id": "2e888490daca4b75",
   "outputs": [],
   "execution_count": 42
  },
  {
   "metadata": {
    "ExecuteTime": {
     "end_time": "2025-05-12T21:42:25.728Z",
     "start_time": "2025-05-12T21:42:25.472710Z"
    }
   },
   "cell_type": "code",
   "source": [
    "df['duration'] = df.lpep_dropoff_datetime - df.lpep_pickup_datetime\n",
    "df.duration = df.duration.apply(lambda td: td.total_seconds() / 60)"
   ],
   "id": "5424649b7d8738a1",
   "outputs": [],
   "execution_count": 43
  },
  {
   "metadata": {
    "ExecuteTime": {
     "end_time": "2025-05-12T21:42:25.776245Z",
     "start_time": "2025-05-12T21:42:25.758343Z"
    }
   },
   "cell_type": "code",
   "source": "df = df.loc[(df.duration >= 1) & (df.duration <= 60), :]",
   "id": "20a9ba2f453c66cf",
   "outputs": [],
   "execution_count": 44
  },
  {
   "metadata": {
    "ExecuteTime": {
     "end_time": "2025-05-12T21:42:25.831667Z",
     "start_time": "2025-05-12T21:42:25.819903Z"
    }
   },
   "cell_type": "code",
   "source": "df.duration.describe(percentiles=[.95, .98, .99])",
   "id": "eeaadf80f50ec361",
   "outputs": [
    {
     "data": {
      "text/plain": [
       "count    73908.000000\n",
       "mean        16.852578\n",
       "std         11.563163\n",
       "min          1.000000\n",
       "50%         14.000000\n",
       "95%         41.000000\n",
       "98%         48.781000\n",
       "99%         53.000000\n",
       "max         60.000000\n",
       "Name: duration, dtype: float64"
      ]
     },
     "execution_count": 45,
     "metadata": {},
     "output_type": "execute_result"
    }
   ],
   "execution_count": 45
  },
  {
   "metadata": {
    "ExecuteTime": {
     "end_time": "2025-05-12T21:51:36.210565Z",
     "start_time": "2025-05-12T21:51:36.204746Z"
    }
   },
   "cell_type": "code",
   "source": [
    "categorical = ['PULocationID', 'DOLocationID']\n",
    "numerical = ['trip_distance']"
   ],
   "id": "10b8d92f00b44798",
   "outputs": [],
   "execution_count": 53
  },
  {
   "metadata": {
    "ExecuteTime": {
     "end_time": "2025-05-12T21:51:44.917397Z",
     "start_time": "2025-05-12T21:51:44.909537Z"
    }
   },
   "cell_type": "code",
   "source": [
    "def one_hot_encoding(df, numerical, categorical, dv=None):\n",
    "    df[categorical] = df[categorical].astype(str)\n",
    "    train_dicts = df[numerical + categorical].to_dict(orient='records')\n",
    "    if not dv:\n",
    "        dv = DictVectorizer()\n",
    "    X_train = dv.fit_transform(train_dicts)\n",
    "\n",
    "    return dv, X_train"
   ],
   "id": "3963ca491410b25b",
   "outputs": [],
   "execution_count": 54
  },
  {
   "metadata": {
    "ExecuteTime": {
     "end_time": "2025-05-12T21:52:00.075768Z",
     "start_time": "2025-05-12T21:51:59.586663Z"
    }
   },
   "cell_type": "code",
   "source": "_, X_train = one_hot_encoding(df, numerical, categorical)",
   "id": "be7c850d808826fc",
   "outputs": [],
   "execution_count": 56
  },
  {
   "metadata": {
    "ExecuteTime": {
     "end_time": "2025-05-12T21:52:02.647731Z",
     "start_time": "2025-05-12T21:52:02.637638Z"
    }
   },
   "cell_type": "code",
   "source": "X_train",
   "id": "df0a0fb67852b72e",
   "outputs": [
    {
     "data": {
      "text/plain": [
       "<73908x507 sparse matrix of type '<class 'numpy.float64'>'\n",
       "\twith 221724 stored elements in Compressed Sparse Row format>"
      ]
     },
     "execution_count": 57,
     "metadata": {},
     "output_type": "execute_result"
    }
   ],
   "execution_count": 57
  },
  {
   "metadata": {
    "ExecuteTime": {
     "end_time": "2025-05-12T21:48:50.464670Z",
     "start_time": "2025-05-12T21:48:50.461447Z"
    }
   },
   "cell_type": "code",
   "source": [
    "target = 'duration'\n",
    "y_train = df[target].values"
   ],
   "id": "960e4afd67227c7a",
   "outputs": [],
   "execution_count": 47
  },
  {
   "metadata": {},
   "cell_type": "code",
   "outputs": [],
   "execution_count": null,
   "source": "lr = LinearRegression()",
   "id": "f121fc45b1c4da72"
  }
 ],
 "metadata": {},
 "nbformat": 4,
 "nbformat_minor": 5
}
