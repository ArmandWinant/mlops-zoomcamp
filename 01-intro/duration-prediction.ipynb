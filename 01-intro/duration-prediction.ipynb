{
 "cells": [
  {
   "metadata": {},
   "cell_type": "markdown",
   "source": "# Duration Prediction",
   "id": "8df1e33eddbe486a"
  },
  {
   "metadata": {
    "ExecuteTime": {
     "end_time": "2025-05-12T22:05:29.822975Z",
     "start_time": "2025-05-12T22:05:29.816251Z"
    }
   },
   "cell_type": "code",
   "source": [
    "import pandas as pd\n",
    "from sklearn.feature_extraction import DictVectorizer\n",
    "from sklearn.linear_model import LinearRegression, Lasso\n",
    "from sklearn.metrics import mean_squared_error\n",
    "import seaborn as sns\n",
    "import matplotlib.pyplot as plt"
   ],
   "id": "3ff847c79c1fa77f",
   "outputs": [],
   "execution_count": 89
  },
  {
   "metadata": {
    "ExecuteTime": {
     "end_time": "2025-05-12T22:05:29.874060Z",
     "start_time": "2025-05-12T22:05:29.869049Z"
    }
   },
   "cell_type": "code",
   "source": [
    "def preprocessing(df):\n",
    "    # compute target variables: trip duration in minutes\n",
    "    df['duration'] = df.lpep_dropoff_datetime - df.lpep_pickup_datetime\n",
    "    df.duration = df.duration.apply(lambda td: td.total_seconds() / 60)\n",
    "\n",
    "    # keep only trips of less than an hour\n",
    "    df = df.loc[(df.duration >= 1) & (df.duration <= 60), :]\n",
    "\n",
    "    return df"
   ],
   "id": "5424649b7d8738a1",
   "outputs": [],
   "execution_count": 90
  },
  {
   "metadata": {
    "ExecuteTime": {
     "end_time": "2025-05-12T22:07:24.161024Z",
     "start_time": "2025-05-12T22:07:24.152492Z"
    }
   },
   "cell_type": "code",
   "source": [
    "def one_hot_encoding(df, numerical, categorical, dv=None):\n",
    "    df[categorical] = df[categorical].astype(str)\n",
    "    df_dicts = df[categorical + numerical].to_dict(orient='records')\n",
    "\n",
    "    if not dv:\n",
    "        dv = DictVectorizer()\n",
    "    X_train = dv.fit_transform(df_dicts)\n",
    "\n",
    "    return X_train, dv"
   ],
   "id": "17eb76d5b94f943d",
   "outputs": [],
   "execution_count": 104
  },
  {
   "metadata": {
    "ExecuteTime": {
     "end_time": "2025-05-12T22:07:25.412257Z",
     "start_time": "2025-05-12T22:07:24.812459Z"
    }
   },
   "cell_type": "code",
   "source": [
    "df_train = pd.read_parquet('https://d37ci6vzurychx.cloudfront.net/trip-data/green_tripdata_2021-01.parquet')\n",
    "df_val = pd.read_parquet('https://d37ci6vzurychx.cloudfront.net/trip-data/green_tripdata_2021-02.parquet')"
   ],
   "id": "20a9ba2f453c66cf",
   "outputs": [],
   "execution_count": 105
  },
  {
   "metadata": {
    "ExecuteTime": {
     "end_time": "2025-05-12T22:07:26.087315Z",
     "start_time": "2025-05-12T22:07:25.550427Z"
    }
   },
   "cell_type": "code",
   "source": [
    "df_train = preprocessing(df_train)\n",
    "df_val = preprocessing(df_val)"
   ],
   "id": "d0c6ea0e5f1b372c",
   "outputs": [],
   "execution_count": 106
  },
  {
   "metadata": {
    "ExecuteTime": {
     "end_time": "2025-05-12T22:07:27.078225Z",
     "start_time": "2025-05-12T22:07:27.073605Z"
    }
   },
   "cell_type": "code",
   "source": [
    "categorical = ['PULocationID', 'DOLocationID']\n",
    "numerical = ['trip_distance']"
   ],
   "id": "10b8d92f00b44798",
   "outputs": [],
   "execution_count": 107
  },
  {
   "metadata": {
    "ExecuteTime": {
     "end_time": "2025-05-12T22:07:28.931798Z",
     "start_time": "2025-05-12T22:07:28.058464Z"
    }
   },
   "cell_type": "code",
   "source": [
    "X_train, dv = one_hot_encoding(df_train, numerical, categorical)\n",
    "X_val, _ = one_hot_encoding(df_val, numerical, categorical, dv=dv)"
   ],
   "id": "27a0aa67399448a6",
   "outputs": [],
   "execution_count": 108
  },
  {
   "metadata": {
    "ExecuteTime": {
     "end_time": "2025-05-12T22:07:29.078547Z",
     "start_time": "2025-05-12T22:07:29.071774Z"
    }
   },
   "cell_type": "code",
   "source": "X_train",
   "id": "ec77f2ee2b6512f6",
   "outputs": [
    {
     "data": {
      "text/plain": [
       "<73908x507 sparse matrix of type '<class 'numpy.float64'>'\n",
       "\twith 221724 stored elements in Compressed Sparse Row format>"
      ]
     },
     "execution_count": 109,
     "metadata": {},
     "output_type": "execute_result"
    }
   ],
   "execution_count": 109
  },
  {
   "metadata": {
    "ExecuteTime": {
     "end_time": "2025-05-12T22:05:59.576488Z",
     "start_time": "2025-05-12T22:05:59.570256Z"
    }
   },
   "cell_type": "code",
   "source": "X_val",
   "id": "e1382a0c15fa9d6a",
   "outputs": [
    {
     "data": {
      "text/plain": [
       "<61921x3 sparse matrix of type '<class 'numpy.float64'>'\n",
       "\twith 185763 stored elements in Compressed Sparse Row format>"
      ]
     },
     "execution_count": 103,
     "metadata": {},
     "output_type": "execute_result"
    }
   ],
   "execution_count": 103
  },
  {
   "metadata": {
    "ExecuteTime": {
     "end_time": "2025-05-12T22:05:32.307040Z",
     "start_time": "2025-05-12T22:05:32.303522Z"
    }
   },
   "cell_type": "code",
   "source": [
    "# target = 'duration'\n",
    "# y_train = df[target].values"
   ],
   "id": "960e4afd67227c7a",
   "outputs": [],
   "execution_count": 96
  },
  {
   "metadata": {
    "ExecuteTime": {
     "end_time": "2025-05-12T22:05:32.362337Z",
     "start_time": "2025-05-12T22:05:32.359425Z"
    }
   },
   "cell_type": "code",
   "source": [
    "# lr = LinearRegression()\n",
    "# lr.fit(X_train, y_train)"
   ],
   "id": "f121fc45b1c4da72",
   "outputs": [],
   "execution_count": 97
  },
  {
   "metadata": {
    "ExecuteTime": {
     "end_time": "2025-05-12T22:05:32.404868Z",
     "start_time": "2025-05-12T22:05:32.401173Z"
    }
   },
   "cell_type": "code",
   "source": "# y_pred = lr.predict(X_train)",
   "id": "61b5b43abe35d437",
   "outputs": [],
   "execution_count": 98
  },
  {
   "metadata": {
    "ExecuteTime": {
     "end_time": "2025-05-12T22:05:32.449253Z",
     "start_time": "2025-05-12T22:05:32.445781Z"
    }
   },
   "cell_type": "code",
   "source": [
    "# sns.kdeplot(y_pred, label='prediction', fill=True)\n",
    "# sns.kdeplot(y_train, label='actual', fill=True)\n",
    "# plt.legend()\n",
    "# plt.show()"
   ],
   "id": "7807117ed5cdcd4b",
   "outputs": [],
   "execution_count": 99
  },
  {
   "metadata": {
    "ExecuteTime": {
     "end_time": "2025-05-12T22:05:32.501988Z",
     "start_time": "2025-05-12T22:05:32.497733Z"
    }
   },
   "cell_type": "code",
   "source": "# mean_squared_error(y_train, y_pred)**.5",
   "id": "f3cbb473e2bbe8af",
   "outputs": [],
   "execution_count": 100
  },
  {
   "metadata": {
    "ExecuteTime": {
     "end_time": "2025-05-12T22:05:32.543250Z",
     "start_time": "2025-05-12T22:05:32.539835Z"
    }
   },
   "cell_type": "code",
   "source": [
    "# lr = Lasso()\n",
    "# lr.fit(X_train, y_train)"
   ],
   "id": "ee99f9b5e836a878",
   "outputs": [],
   "execution_count": 101
  }
 ],
 "metadata": {},
 "nbformat": 4,
 "nbformat_minor": 5
}
