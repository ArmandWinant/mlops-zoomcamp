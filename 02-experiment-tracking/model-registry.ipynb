{
 "cells": [
  {
   "cell_type": "code",
   "id": "initial_id",
   "metadata": {
    "collapsed": true,
    "ExecuteTime": {
     "end_time": "2025-06-04T19:27:12.702716Z",
     "start_time": "2025-06-04T19:27:12.696292Z"
    }
   },
   "source": [
    "import mlflow\n",
    "from mlflow.tracking import MlflowClient\n",
    "from mlflow.entities import ViewType"
   ],
   "outputs": [],
   "execution_count": 10
  },
  {
   "metadata": {
    "ExecuteTime": {
     "end_time": "2025-06-04T19:20:19.786779Z",
     "start_time": "2025-06-04T19:20:19.776813Z"
    }
   },
   "cell_type": "code",
   "source": "MLFLOW_TRACKING_URI = \"sqlite:///mlflow.db\"",
   "id": "a72f932c82f4ac0b",
   "outputs": [],
   "execution_count": 2
  },
  {
   "metadata": {
    "ExecuteTime": {
     "end_time": "2025-06-04T19:27:31.396693Z",
     "start_time": "2025-06-04T19:27:31.390602Z"
    }
   },
   "cell_type": "code",
   "source": [
    "client = MlflowClient(tracking_uri=MLFLOW_TRACKING_URI)\n",
    "mlflow.set_tracking_uri(MLFLOW_TRACKING_URI)"
   ],
   "id": "97c7f88975d76862",
   "outputs": [],
   "execution_count": 11
  },
  {
   "metadata": {
    "ExecuteTime": {
     "end_time": "2025-06-04T19:26:30.332680Z",
     "start_time": "2025-06-04T19:26:30.306629Z"
    }
   },
   "cell_type": "code",
   "source": [
    "runs = client.search_runs(\n",
    "    experiment_ids='1',\n",
    "    filter_string='metrics.rmse < 6.31',\n",
    "    run_view_type=ViewType.ACTIVE_ONLY,\n",
    "    max_results=5,\n",
    "    order_by=[\"metrics.rmse ASC\"]\n",
    ")"
   ],
   "id": "4775d098b179b18d",
   "outputs": [],
   "execution_count": 8
  },
  {
   "metadata": {
    "ExecuteTime": {
     "end_time": "2025-06-04T19:26:31.127052Z",
     "start_time": "2025-06-04T19:26:31.121857Z"
    }
   },
   "cell_type": "code",
   "source": [
    "for run in runs:\n",
    "    print(f\"run id: {run.info.run_id}, rmse: {run.data.metrics['rmse']:.4f}\")"
   ],
   "id": "f4962202eebf175a",
   "outputs": [
    {
     "name": "stdout",
     "output_type": "stream",
     "text": [
      "run id: ef2155ec11214def8ebe2c038790cd9b, rmse: 6.3059\n",
      "run id: c2390d4e0cb04d0e9fcd312b55a83c4f, rmse: 6.3059\n",
      "run id: e11fc8ea803f4e148430fe636a549961, rmse: 6.3068\n"
     ]
    }
   ],
   "execution_count": 9
  },
  {
   "metadata": {
    "ExecuteTime": {
     "end_time": "2025-06-04T19:32:01.178748Z",
     "start_time": "2025-06-04T19:32:01.059205Z"
    }
   },
   "cell_type": "code",
   "source": [
    "run_id = runs[2].info.run_id\n",
    "model_uri = f\"runs:/{run_id}/model\"\n",
    "model_name = \"nyc-taxi-regressor\"\n",
    "mlflow.register_model(model_uri=model_uri, name=model_name)"
   ],
   "id": "ca4e20921edd1234",
   "outputs": [
    {
     "name": "stderr",
     "output_type": "stream",
     "text": [
      "Registered model 'nyc-taxi-regressor' already exists. Creating a new version of this model...\n",
      "Created version '3' of model 'nyc-taxi-regressor'.\n"
     ]
    },
    {
     "data": {
      "text/plain": [
       "<ModelVersion: aliases=[], creation_timestamp=1749065521161, current_stage='None', description=None, last_updated_timestamp=1749065521161, name='nyc-taxi-regressor', run_id='e11fc8ea803f4e148430fe636a549961', run_link=None, source='/Users/bastienwinant/Desktop/projects/mlops-zoomcamp/02-experiment-tracking/mlruns/1/e11fc8ea803f4e148430fe636a549961/artifacts/model', status='READY', status_message=None, tags={}, user_id=None, version=3>"
      ]
     },
     "execution_count": 12,
     "metadata": {},
     "output_type": "execute_result"
    }
   ],
   "execution_count": 12
  },
  {
   "metadata": {},
   "cell_type": "code",
   "outputs": [],
   "execution_count": null,
   "source": "",
   "id": "ab82814bc0425927"
  }
 ],
 "metadata": {
  "kernelspec": {
   "display_name": "Python 3",
   "language": "python",
   "name": "python3"
  },
  "language_info": {
   "codemirror_mode": {
    "name": "ipython",
    "version": 2
   },
   "file_extension": ".py",
   "mimetype": "text/x-python",
   "name": "python",
   "nbconvert_exporter": "python",
   "pygments_lexer": "ipython2",
   "version": "2.7.6"
  }
 },
 "nbformat": 4,
 "nbformat_minor": 5
}
