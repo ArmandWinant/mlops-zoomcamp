{
 "cells": [
  {
   "metadata": {},
   "cell_type": "markdown",
   "source": [
    "# Experiment Tracking\n",
    "## Preprocessing"
   ],
   "id": "8df1e33eddbe486a"
  },
  {
   "metadata": {
    "ExecuteTime": {
     "end_time": "2025-06-04T07:35:53.086017Z",
     "start_time": "2025-06-04T07:35:53.066223Z"
    }
   },
   "cell_type": "code",
   "source": [
    "import pandas as pd\n",
    "from sklearn.feature_extraction import DictVectorizer\n",
    "from sklearn.linear_model import Lasso\n",
    "from sklearn.svm import LinearSVR\n",
    "from sklearn.ensemble import GradientBoostingRegressor, RandomForestRegressor, ExtraTreesRegressor\n",
    "from sklearn.metrics import root_mean_squared_error\n",
    "import xgboost as xgb\n",
    "from hyperopt import tpe, hp, Trials, STATUS_OK, fmin\n",
    "from hyperopt.pyll import scope\n",
    "import mlflow\n",
    "import pickle"
   ],
   "id": "3ff847c79c1fa77f",
   "outputs": [],
   "execution_count": 71
  },
  {
   "metadata": {
    "ExecuteTime": {
     "end_time": "2025-06-03T22:29:06.365922Z",
     "start_time": "2025-06-03T22:29:06.361983Z"
    }
   },
   "cell_type": "code",
   "source": "pd.options.mode.copy_on_write = True",
   "id": "d5fb4c12e68866bd",
   "outputs": [],
   "execution_count": 40
  },
  {
   "metadata": {
    "ExecuteTime": {
     "end_time": "2025-06-03T22:29:06.405521Z",
     "start_time": "2025-06-03T22:29:06.399504Z"
    }
   },
   "cell_type": "code",
   "source": [
    "def preprocessing(df):\n",
    "    # compute target variables: trip duration in minutes\n",
    "    df['duration'] = df.lpep_dropoff_datetime - df.lpep_pickup_datetime\n",
    "    df.duration = df.duration.apply(lambda td: td.total_seconds() / 60)\n",
    "\n",
    "    # keep only trips of less than an hour\n",
    "    df = df.loc[(df.duration >= 1) & (df.duration <= 60), :]\n",
    "\n",
    "    # extract trip date components\n",
    "    df['trip_month'] = pd.Categorical(df.lpep_pickup_datetime.dt.month)\n",
    "    df['trip_dom'] = pd.Categorical(df.lpep_pickup_datetime.dt.day)\n",
    "    df['trip_hour'] = pd.Categorical(df.lpep_pickup_datetime.dt.hour)\n",
    "\n",
    "    # concatenate pickup and dropoff locations\n",
    "    df['PU_DO'] = df['PULocationID'].astype(str) + '_' + df['DOLocationID'].astype(str)\n",
    "\n",
    "    return df"
   ],
   "id": "5424649b7d8738a1",
   "outputs": [],
   "execution_count": 41
  },
  {
   "metadata": {
    "ExecuteTime": {
     "end_time": "2025-06-03T22:29:06.447927Z",
     "start_time": "2025-06-03T22:29:06.442275Z"
    }
   },
   "cell_type": "code",
   "source": [
    "def one_hot_encoding(df, numerical, categorical, dv=None):\n",
    "    df[categorical] = df[categorical].astype(str)\n",
    "    df_dicts = df[categorical + numerical].to_dict(orient='records')\n",
    "\n",
    "    if not dv:\n",
    "        dv = DictVectorizer()\n",
    "        dv.fit(df_dicts)\n",
    "\n",
    "    X_train = dv.transform(df_dicts)\n",
    "\n",
    "    return X_train, dv"
   ],
   "id": "17eb76d5b94f943d",
   "outputs": [],
   "execution_count": 42
  },
  {
   "metadata": {
    "ExecuteTime": {
     "end_time": "2025-06-03T22:29:06.489310Z",
     "start_time": "2025-06-03T22:29:06.485631Z"
    }
   },
   "cell_type": "code",
   "source": [
    "def train_model(model, X_train, y_train):\n",
    "    model.fit(X_train, y_train)"
   ],
   "id": "693c95161945494d",
   "outputs": [],
   "execution_count": 43
  },
  {
   "metadata": {
    "ExecuteTime": {
     "end_time": "2025-06-03T22:29:07.075152Z",
     "start_time": "2025-06-03T22:29:06.531204Z"
    }
   },
   "cell_type": "code",
   "source": [
    "# read im the raw data\n",
    "df_train = pd.read_parquet('https://d37ci6vzurychx.cloudfront.net/trip-data/green_tripdata_2021-01.parquet')\n",
    "df_val = pd.read_parquet('https://d37ci6vzurychx.cloudfront.net/trip-data/green_tripdata_2021-02.parquet')"
   ],
   "id": "20a9ba2f453c66cf",
   "outputs": [],
   "execution_count": 44
  },
  {
   "metadata": {
    "ExecuteTime": {
     "end_time": "2025-06-03T22:29:07.862013Z",
     "start_time": "2025-06-03T22:29:07.106366Z"
    }
   },
   "cell_type": "code",
   "source": [
    "# data cleaning\n",
    "df_train = preprocessing(df_train)\n",
    "df_val = preprocessing(df_val)"
   ],
   "id": "d0c6ea0e5f1b372c",
   "outputs": [],
   "execution_count": 45
  },
  {
   "metadata": {
    "ExecuteTime": {
     "end_time": "2025-06-03T22:29:07.899237Z",
     "start_time": "2025-06-03T22:29:07.895785Z"
    }
   },
   "cell_type": "code",
   "source": [
    "# variable selection\n",
    "categorical = ['PU_DO']\n",
    "numerical = ['trip_distance']"
   ],
   "id": "10b8d92f00b44798",
   "outputs": [],
   "execution_count": 46
  },
  {
   "metadata": {
    "ExecuteTime": {
     "end_time": "2025-06-03T22:29:08.544515Z",
     "start_time": "2025-06-03T22:29:07.939685Z"
    }
   },
   "cell_type": "code",
   "source": [
    "# categorical feature encoding\n",
    "X_train, dv = one_hot_encoding(df_train, numerical, categorical)\n",
    "X_val, _ = one_hot_encoding(df_val, numerical, categorical, dv=dv)"
   ],
   "id": "27a0aa67399448a6",
   "outputs": [],
   "execution_count": 47
  },
  {
   "metadata": {
    "ExecuteTime": {
     "end_time": "2025-06-03T22:29:08.581765Z",
     "start_time": "2025-06-03T22:29:08.577406Z"
    }
   },
   "cell_type": "code",
   "source": [
    "target = 'duration'\n",
    "y_train = df_train[target]\n",
    "y_val = df_val[target]"
   ],
   "id": "960e4afd67227c7a",
   "outputs": [],
   "execution_count": 48
  },
  {
   "metadata": {},
   "cell_type": "code",
   "outputs": [],
   "execution_count": null,
   "source": [
    "with open('models/preprocessor.b', \"wb\") as f_out:\n",
    "    pickle.dump(dv, f_out)"
   ],
   "id": "dc9968f21a13a3a0"
  },
  {
   "metadata": {},
   "cell_type": "markdown",
   "source": "## Manual Logging",
   "id": "b343df9511648dac"
  },
  {
   "metadata": {
    "ExecuteTime": {
     "end_time": "2025-06-03T22:29:08.634324Z",
     "start_time": "2025-06-03T22:29:08.624815Z"
    }
   },
   "cell_type": "code",
   "source": [
    "mlflow.set_tracking_uri(\"sqlite:///mlflow.db\")\n",
    "mlflow.set_experiment(\"nyc-taxi-experiment\")"
   ],
   "id": "ca430aea154d6ff1",
   "outputs": [
    {
     "data": {
      "text/plain": [
       "<Experiment: artifact_location='/Users/bastienwinant/Desktop/projects/mlops-zoomcamp/02-experiment-tracking/mlruns/1', creation_time=1748987505722, experiment_id='1', last_update_time=1748987505722, lifecycle_stage='active', name='nyc-taxi-experiment', tags={}>"
      ]
     },
     "execution_count": 49,
     "metadata": {},
     "output_type": "execute_result"
    }
   ],
   "execution_count": 49
  },
  {
   "metadata": {
    "ExecuteTime": {
     "end_time": "2025-06-03T22:29:08.686882Z",
     "start_time": "2025-06-03T22:29:08.680408Z"
    }
   },
   "cell_type": "code",
   "source": [
    "mlflow.sklearn.autolog(disable=True)\n",
    "mlflow.xgboost.autolog(disable=True)"
   ],
   "id": "500723f69154fdfd",
   "outputs": [],
   "execution_count": 50
  },
  {
   "metadata": {},
   "cell_type": "markdown",
   "source": "### Lasso",
   "id": "c152812741698591"
  },
  {
   "metadata": {
    "ExecuteTime": {
     "end_time": "2025-06-03T22:29:16.403717Z",
     "start_time": "2025-06-03T22:29:08.737092Z"
    }
   },
   "cell_type": "code",
   "source": [
    "alpha = .01\n",
    "lr = Lasso(alpha=alpha)\n",
    "train_model(lr, X_train, y_train)\n",
    "y_preds = lr.predict(X_val)\n",
    "rmse = root_mean_squared_error(y_val, y_preds)"
   ],
   "id": "151df9ce275721b6",
   "outputs": [],
   "execution_count": 51
  },
  {
   "metadata": {
    "ExecuteTime": {
     "end_time": "2025-06-03T22:29:27.786064Z",
     "start_time": "2025-06-03T22:29:16.438747Z"
    }
   },
   "cell_type": "code",
   "source": [
    "with mlflow.start_run():\n",
    "    mlflow.set_tag(\"developer\", \"Armand Winant\")\n",
    "\n",
    "    mlflow.log_param(\"training-data\", \"https://d37ci6vzurychx.cloudfront.net/trip-data/green_tripdata_2021-01.parquet\")\n",
    "    mlflow.log_param(\"validation-data\", \"https://d37ci6vzurychx.cloudfront.net/trip-data/green_tripdata_2021-02.parquet\")\n",
    "\n",
    "    mlflow.log_artifact(\"models/preprocessor.b\", artifact_path=\"preprocessor\")\n",
    "    mlflow.log_param(\"alpha\", alpha)\n",
    "    mlflow.sklearn.log_model(lr, \"model\")\n",
    "    mlflow.log_metric(\"rmse\", rmse)"
   ],
   "id": "6fc1c87eff024f31",
   "outputs": [
    {
     "name": "stderr",
     "output_type": "stream",
     "text": [
      "\u001B[31m2025/06/04 00:29:27 WARNING mlflow.models.model: Model logged without a signature and input example. Please set `input_example` parameter when logging the model to auto infer the model signature.\u001B[0m\n"
     ]
    }
   ],
   "execution_count": 52
  },
  {
   "metadata": {},
   "cell_type": "markdown",
   "source": "### Xgboost",
   "id": "89d999713cc4a017"
  },
  {
   "metadata": {
    "ExecuteTime": {
     "end_time": "2025-06-03T22:29:27.834025Z",
     "start_time": "2025-06-03T22:29:27.822004Z"
    }
   },
   "cell_type": "code",
   "source": [
    "train = xgb.DMatrix(X_train, label=y_train)\n",
    "valid = xgb.DMatrix(X_val, label=y_val)"
   ],
   "id": "8c0df8977c2e517a",
   "outputs": [],
   "execution_count": 53
  },
  {
   "metadata": {
    "ExecuteTime": {
     "end_time": "2025-06-03T22:29:27.888714Z",
     "start_time": "2025-06-03T22:29:27.881588Z"
    }
   },
   "cell_type": "code",
   "source": [
    "def objective(params):\n",
    "    booster = xgb.train(\n",
    "        params=params,\n",
    "        dtrain=train,\n",
    "        num_boost_round=1000,\n",
    "        evals=[(valid, \"validation\")],\n",
    "        early_stopping_rounds=50,\n",
    "        verbose_eval=200\n",
    "    )\n",
    "\n",
    "    y_preds = booster.predict(valid)\n",
    "    rmse = root_mean_squared_error(y_val, y_preds)\n",
    "\n",
    "    with mlflow.start_run():\n",
    "        mlflow.set_tag(\"developer\", \"Armand Winant\")\n",
    "\n",
    "        mlflow.log_param(\"training-data\", \"https://d37ci6vzurychx.cloudfront.net/trip-data/green_tripdata_2021-01.parquet\")\n",
    "        mlflow.log_param(\"validation-data\", \"https://d37ci6vzurychx.cloudfront.net/trip-data/green_tripdata_2021-02.parquet\")\n",
    "\n",
    "        mlflow.log_artifact(\"models/preprocessor.b\", artifact_path=\"preprocessor\")\n",
    "        mlflow.log_params(params)\n",
    "        mlflow.xgboost.log_model(booster, \"model\")\n",
    "        mlflow.log_metric(\"rmse\", rmse)\n",
    "\n",
    "    return {'loss': rmse, 'status': STATUS_OK}"
   ],
   "id": "4ad6ebad5d2b9197",
   "outputs": [],
   "execution_count": 54
  },
  {
   "metadata": {
    "ExecuteTime": {
     "end_time": "2025-06-03T22:29:27.943881Z",
     "start_time": "2025-06-03T22:29:27.937489Z"
    }
   },
   "cell_type": "code",
   "source": [
    "search_space = {\n",
    "    'max_depth': scope.int(hp.quniform('max_depth', 4, 100, 1)),\n",
    "    'learning_rate': hp.loguniform('learning_rate', -3, 0),\n",
    "    'reg_alpha': hp.loguniform('reg_alpha', -5, -1),\n",
    "    'reg_lambda': hp.loguniform('reg_lambda', -6, -1),\n",
    "    'min_child_weight': hp.loguniform('min_child_weight', -1, 3),\n",
    "    'objective': 'reg:squarederror',\n",
    "    'seed': 42\n",
    "}"
   ],
   "id": "e1d48edf48e0fd91",
   "outputs": [],
   "execution_count": 55
  },
  {
   "metadata": {
    "ExecuteTime": {
     "end_time": "2025-06-03T23:27:43.727877Z",
     "start_time": "2025-06-03T22:29:27.996894Z"
    }
   },
   "cell_type": "code",
   "source": [
    "best_result = fmin(\n",
    "    fn=objective,\n",
    "    space=search_space,\n",
    "    algo=tpe.suggest,\n",
    "    max_evals=50,\n",
    "    trials=Trials()\n",
    ")"
   ],
   "id": "bd46f185e7d223f2",
   "outputs": [
    {
     "name": "stdout",
     "output_type": "stream",
     "text": [
      "[0]\tvalidation-rmse:7.66055                           \n",
      "[200]\tvalidation-rmse:6.34188                         \n",
      "[257]\tvalidation-rmse:6.34329                         \n",
      "  0%|          | 0/50 [00:11<?, ?trial/s, best loss=?]"
     ]
    },
    {
     "name": "stderr",
     "output_type": "stream",
     "text": [
      "/Users/bastienwinant/Desktop/projects/mlops-zoomcamp/.venv/lib/python3.9/site-packages/xgboost/core.py:158: UserWarning: [00:29:39] WARNING: /Users/runner/work/xgboost/xgboost/src/c_api/c_api.cc:1374: Saving model in the UBJSON format as default.  You can use file extension: `json`, `ubj` or `deprecated` to choose between formats.\n",
      "  warnings.warn(smsg, UserWarning)\n",
      "\n",
      "\u001B[31m2025/06/04 00:29:49 WARNING mlflow.models.model: Model logged without a signature and input example. Please set `input_example` parameter when logging the model to auto infer the model signature.\u001B[0m\n",
      "\n"
     ]
    },
    {
     "name": "stdout",
     "output_type": "stream",
     "text": [
      "[0]\tvalidation-rmse:11.20316                                                    \n",
      "[200]\tvalidation-rmse:6.33953                                                   \n",
      "[400]\tvalidation-rmse:6.32469                                                   \n",
      "[429]\tvalidation-rmse:6.32467                                                   \n",
      "  2%|▏         | 1/50 [01:40<17:27, 21.37s/trial, best loss: 6.3432850901531985]"
     ]
    },
    {
     "name": "stderr",
     "output_type": "stream",
     "text": [
      "/Users/bastienwinant/Desktop/projects/mlops-zoomcamp/.venv/lib/python3.9/site-packages/xgboost/core.py:158: UserWarning: [00:31:13] WARNING: /Users/runner/work/xgboost/xgboost/src/c_api/c_api.cc:1374: Saving model in the UBJSON format as default.  You can use file extension: `json`, `ubj` or `deprecated` to choose between formats.\n",
      "  warnings.warn(smsg, UserWarning)\n",
      "\n",
      "\u001B[31m2025/06/04 00:31:23 WARNING mlflow.models.model: Model logged without a signature and input example. Please set `input_example` parameter when logging the model to auto infer the model signature.\u001B[0m\n",
      "\n"
     ]
    },
    {
     "name": "stdout",
     "output_type": "stream",
     "text": [
      "[0]\tvalidation-rmse:8.70373                                                     \n",
      "[200]\tvalidation-rmse:6.33591                                                 \n",
      "[278]\tvalidation-rmse:6.33830                                                 \n",
      "  4%|▍         | 2/50 [02:38<51:16, 64.10s/trial, best loss: 6.32466791025804]"
     ]
    },
    {
     "name": "stderr",
     "output_type": "stream",
     "text": [
      "/Users/bastienwinant/Desktop/projects/mlops-zoomcamp/.venv/lib/python3.9/site-packages/xgboost/core.py:158: UserWarning: [00:32:07] WARNING: /Users/runner/work/xgboost/xgboost/src/c_api/c_api.cc:1374: Saving model in the UBJSON format as default.  You can use file extension: `json`, `ubj` or `deprecated` to choose between formats.\n",
      "  warnings.warn(smsg, UserWarning)\n",
      "\n",
      "\u001B[31m2025/06/04 00:32:18 WARNING mlflow.models.model: Model logged without a signature and input example. Please set `input_example` parameter when logging the model to auto infer the model signature.\u001B[0m\n",
      "\n"
     ]
    },
    {
     "name": "stdout",
     "output_type": "stream",
     "text": [
      "[0]\tvalidation-rmse:10.85425                                                  \n",
      "[200]\tvalidation-rmse:6.46332                                                 \n",
      "[400]\tvalidation-rmse:6.41949                                                 \n",
      "[600]\tvalidation-rmse:6.40219                                                 \n",
      "[768]\tvalidation-rmse:6.40070                                                 \n",
      "  6%|▌         | 3/50 [04:02<46:57, 59.95s/trial, best loss: 6.32466791025804]"
     ]
    },
    {
     "name": "stderr",
     "output_type": "stream",
     "text": [
      "/Users/bastienwinant/Desktop/projects/mlops-zoomcamp/.venv/lib/python3.9/site-packages/xgboost/core.py:158: UserWarning: [00:33:32] WARNING: /Users/runner/work/xgboost/xgboost/src/c_api/c_api.cc:1374: Saving model in the UBJSON format as default.  You can use file extension: `json`, `ubj` or `deprecated` to choose between formats.\n",
      "  warnings.warn(smsg, UserWarning)\n",
      "\n",
      "\u001B[31m2025/06/04 00:33:41 WARNING mlflow.models.model: Model logged without a signature and input example. Please set `input_example` parameter when logging the model to auto infer the model signature.\u001B[0m\n",
      "\n"
     ]
    },
    {
     "name": "stdout",
     "output_type": "stream",
     "text": [
      "[0]\tvalidation-rmse:10.72477                                                  \n",
      "[200]\tvalidation-rmse:6.58909                                                 \n",
      "[400]\tvalidation-rmse:6.58140                                                 \n",
      "[600]\tvalidation-rmse:6.57891                                                 \n",
      "[640]\tvalidation-rmse:6.57901                                                 \n",
      "  8%|▊         | 4/50 [05:26<53:04, 69.22s/trial, best loss: 6.32466791025804]"
     ]
    },
    {
     "name": "stderr",
     "output_type": "stream",
     "text": [
      "/Users/bastienwinant/Desktop/projects/mlops-zoomcamp/.venv/lib/python3.9/site-packages/xgboost/core.py:158: UserWarning: [00:34:59] WARNING: /Users/runner/work/xgboost/xgboost/src/c_api/c_api.cc:1374: Saving model in the UBJSON format as default.  You can use file extension: `json`, `ubj` or `deprecated` to choose between formats.\n",
      "  warnings.warn(smsg, UserWarning)\n",
      "\n",
      "\u001B[31m2025/06/04 00:35:08 WARNING mlflow.models.model: Model logged without a signature and input example. Please set `input_example` parameter when logging the model to auto infer the model signature.\u001B[0m\n",
      "\n"
     ]
    },
    {
     "name": "stdout",
     "output_type": "stream",
     "text": [
      "[0]\tvalidation-rmse:11.62104                                                  \n",
      "[200]\tvalidation-rmse:6.48796                                                 \n",
      "[400]\tvalidation-rmse:6.45994                                                 \n",
      "[600]\tvalidation-rmse:6.44314                                                 \n",
      "[800]\tvalidation-rmse:6.43466                                                 \n",
      "[999]\tvalidation-rmse:6.43012                                                 \n",
      " 10%|█         | 5/50 [06:45<56:38, 75.52s/trial, best loss: 6.32466791025804]"
     ]
    },
    {
     "name": "stderr",
     "output_type": "stream",
     "text": [
      "/Users/bastienwinant/Desktop/projects/mlops-zoomcamp/.venv/lib/python3.9/site-packages/xgboost/core.py:158: UserWarning: [00:36:17] WARNING: /Users/runner/work/xgboost/xgboost/src/c_api/c_api.cc:1374: Saving model in the UBJSON format as default.  You can use file extension: `json`, `ubj` or `deprecated` to choose between formats.\n",
      "  warnings.warn(smsg, UserWarning)\n",
      "\n",
      "\u001B[31m2025/06/04 00:36:26 WARNING mlflow.models.model: Model logged without a signature and input example. Please set `input_example` parameter when logging the model to auto infer the model signature.\u001B[0m\n",
      "\n"
     ]
    },
    {
     "name": "stdout",
     "output_type": "stream",
     "text": [
      "[0]\tvalidation-rmse:11.42514                                                  \n",
      "[200]\tvalidation-rmse:6.35765                                                 \n",
      "[400]\tvalidation-rmse:6.32192                                                 \n",
      "[600]\tvalidation-rmse:6.31006                                                 \n",
      "[690]\tvalidation-rmse:6.31043                                                 \n",
      " 12%|█▏        | 6/50 [08:36<56:01, 76.39s/trial, best loss: 6.32466791025804]"
     ]
    },
    {
     "name": "stderr",
     "output_type": "stream",
     "text": [
      "/Users/bastienwinant/Desktop/projects/mlops-zoomcamp/.venv/lib/python3.9/site-packages/xgboost/core.py:158: UserWarning: [00:38:11] WARNING: /Users/runner/work/xgboost/xgboost/src/c_api/c_api.cc:1374: Saving model in the UBJSON format as default.  You can use file extension: `json`, `ubj` or `deprecated` to choose between formats.\n",
      "  warnings.warn(smsg, UserWarning)\n",
      "\n",
      "\u001B[31m2025/06/04 00:38:20 WARNING mlflow.models.model: Model logged without a signature and input example. Please set `input_example` parameter when logging the model to auto infer the model signature.\u001B[0m\n",
      "\n"
     ]
    },
    {
     "name": "stdout",
     "output_type": "stream",
     "text": [
      "[0]\tvalidation-rmse:8.08859                                                      \n",
      "[111]\tvalidation-rmse:6.45493                                                    \n",
      " 14%|█▍        | 7/50 [09:20<1:03:36, 88.76s/trial, best loss: 6.310432115984673]"
     ]
    },
    {
     "name": "stderr",
     "output_type": "stream",
     "text": [
      "/Users/bastienwinant/Desktop/projects/mlops-zoomcamp/.venv/lib/python3.9/site-packages/xgboost/core.py:158: UserWarning: [00:38:49] WARNING: /Users/runner/work/xgboost/xgboost/src/c_api/c_api.cc:1374: Saving model in the UBJSON format as default.  You can use file extension: `json`, `ubj` or `deprecated` to choose between formats.\n",
      "  warnings.warn(smsg, UserWarning)\n",
      "\n",
      "\u001B[31m2025/06/04 00:38:58 WARNING mlflow.models.model: Model logged without a signature and input example. Please set `input_example` parameter when logging the model to auto infer the model signature.\u001B[0m\n",
      "\n"
     ]
    },
    {
     "name": "stdout",
     "output_type": "stream",
     "text": [
      "[0]\tvalidation-rmse:11.61816                                                     \n",
      "[200]\tvalidation-rmse:6.67954                                                  \n",
      "[400]\tvalidation-rmse:6.66674                                                  \n",
      "[600]\tvalidation-rmse:6.65906                                                  \n",
      "[800]\tvalidation-rmse:6.65399                                                  \n",
      "[999]\tvalidation-rmse:6.65048                                                  \n",
      " 16%|█▌        | 8/50 [10:11<50:48, 72.59s/trial, best loss: 6.310432115984673]"
     ]
    },
    {
     "name": "stderr",
     "output_type": "stream",
     "text": [
      "/Users/bastienwinant/Desktop/projects/mlops-zoomcamp/.venv/lib/python3.9/site-packages/xgboost/core.py:158: UserWarning: [00:39:41] WARNING: /Users/runner/work/xgboost/xgboost/src/c_api/c_api.cc:1374: Saving model in the UBJSON format as default.  You can use file extension: `json`, `ubj` or `deprecated` to choose between formats.\n",
      "  warnings.warn(smsg, UserWarning)\n",
      "\n",
      "\u001B[31m2025/06/04 00:39:49 WARNING mlflow.models.model: Model logged without a signature and input example. Please set `input_example` parameter when logging the model to auto infer the model signature.\u001B[0m\n",
      "\n"
     ]
    },
    {
     "name": "stdout",
     "output_type": "stream",
     "text": [
      "[0]\tvalidation-rmse:7.02194                                                    \n",
      "[200]\tvalidation-rmse:6.49388                                                  \n",
      "[214]\tvalidation-rmse:6.49667                                                  \n",
      " 18%|█▊        | 9/50 [10:34<44:50, 65.62s/trial, best loss: 6.310432115984673]"
     ]
    },
    {
     "name": "stderr",
     "output_type": "stream",
     "text": [
      "/Users/bastienwinant/Desktop/projects/mlops-zoomcamp/.venv/lib/python3.9/site-packages/xgboost/core.py:158: UserWarning: [00:40:03] WARNING: /Users/runner/work/xgboost/xgboost/src/c_api/c_api.cc:1374: Saving model in the UBJSON format as default.  You can use file extension: `json`, `ubj` or `deprecated` to choose between formats.\n",
      "  warnings.warn(smsg, UserWarning)\n",
      "\n",
      "\u001B[31m2025/06/04 00:40:11 WARNING mlflow.models.model: Model logged without a signature and input example. Please set `input_example` parameter when logging the model to auto infer the model signature.\u001B[0m\n",
      "\n"
     ]
    },
    {
     "name": "stdout",
     "output_type": "stream",
     "text": [
      "[0]\tvalidation-rmse:11.19261                                                    \n",
      "[200]\tvalidation-rmse:6.58335                                                   \n",
      "[400]\tvalidation-rmse:6.51657                                                   \n",
      "[600]\tvalidation-rmse:6.47286                                                   \n",
      "[800]\tvalidation-rmse:6.43955                                                   \n",
      "[999]\tvalidation-rmse:6.41609                                                   \n",
      " 20%|██        | 10/50 [11:16<34:50, 52.26s/trial, best loss: 6.310432115984673]"
     ]
    },
    {
     "name": "stderr",
     "output_type": "stream",
     "text": [
      "/Users/bastienwinant/Desktop/projects/mlops-zoomcamp/.venv/lib/python3.9/site-packages/xgboost/core.py:158: UserWarning: [00:40:45] WARNING: /Users/runner/work/xgboost/xgboost/src/c_api/c_api.cc:1374: Saving model in the UBJSON format as default.  You can use file extension: `json`, `ubj` or `deprecated` to choose between formats.\n",
      "  warnings.warn(smsg, UserWarning)\n",
      "\n",
      "\u001B[31m2025/06/04 00:40:52 WARNING mlflow.models.model: Model logged without a signature and input example. Please set `input_example` parameter when logging the model to auto infer the model signature.\u001B[0m\n",
      "\n"
     ]
    },
    {
     "name": "stdout",
     "output_type": "stream",
     "text": [
      "[0]\tvalidation-rmse:6.63765                                                     \n",
      "[85]\tvalidation-rmse:6.49546                                                    \n",
      " 22%|██▏       | 11/50 [11:41<31:48, 48.94s/trial, best loss: 6.310432115984673]"
     ]
    },
    {
     "name": "stderr",
     "output_type": "stream",
     "text": [
      "/Users/bastienwinant/Desktop/projects/mlops-zoomcamp/.venv/lib/python3.9/site-packages/xgboost/core.py:158: UserWarning: [00:41:11] WARNING: /Users/runner/work/xgboost/xgboost/src/c_api/c_api.cc:1374: Saving model in the UBJSON format as default.  You can use file extension: `json`, `ubj` or `deprecated` to choose between formats.\n",
      "  warnings.warn(smsg, UserWarning)\n",
      "\n",
      "\u001B[31m2025/06/04 00:41:21 WARNING mlflow.models.model: Model logged without a signature and input example. Please set `input_example` parameter when logging the model to auto infer the model signature.\u001B[0m\n",
      "\n"
     ]
    },
    {
     "name": "stdout",
     "output_type": "stream",
     "text": [
      "[0]\tvalidation-rmse:8.49422                                                     \n",
      "[123]\tvalidation-rmse:6.45903                                                   \n",
      " 24%|██▍       | 12/50 [12:16<27:05, 42.77s/trial, best loss: 6.310432115984673]"
     ]
    },
    {
     "name": "stderr",
     "output_type": "stream",
     "text": [
      "/Users/bastienwinant/Desktop/projects/mlops-zoomcamp/.venv/lib/python3.9/site-packages/xgboost/core.py:158: UserWarning: [00:41:45] WARNING: /Users/runner/work/xgboost/xgboost/src/c_api/c_api.cc:1374: Saving model in the UBJSON format as default.  You can use file extension: `json`, `ubj` or `deprecated` to choose between formats.\n",
      "  warnings.warn(smsg, UserWarning)\n",
      "\n",
      "\u001B[31m2025/06/04 00:41:52 WARNING mlflow.models.model: Model logged without a signature and input example. Please set `input_example` parameter when logging the model to auto infer the model signature.\u001B[0m\n",
      "\n"
     ]
    },
    {
     "name": "stdout",
     "output_type": "stream",
     "text": [
      "[0]\tvalidation-rmse:11.78459                                                    \n",
      "[200]\tvalidation-rmse:6.60536                                                   \n",
      "[400]\tvalidation-rmse:6.57592                                                   \n",
      "[600]\tvalidation-rmse:6.55700                                                   \n",
      "[800]\tvalidation-rmse:6.54356                                                   \n",
      "[999]\tvalidation-rmse:6.53531                                                   \n",
      " 26%|██▌       | 13/50 [13:02<24:09, 39.18s/trial, best loss: 6.310432115984673]"
     ]
    },
    {
     "name": "stderr",
     "output_type": "stream",
     "text": [
      "/Users/bastienwinant/Desktop/projects/mlops-zoomcamp/.venv/lib/python3.9/site-packages/xgboost/core.py:158: UserWarning: [00:42:31] WARNING: /Users/runner/work/xgboost/xgboost/src/c_api/c_api.cc:1374: Saving model in the UBJSON format as default.  You can use file extension: `json`, `ubj` or `deprecated` to choose between formats.\n",
      "  warnings.warn(smsg, UserWarning)\n",
      "\n",
      "\u001B[31m2025/06/04 00:42:38 WARNING mlflow.models.model: Model logged without a signature and input example. Please set `input_example` parameter when logging the model to auto infer the model signature.\u001B[0m\n",
      "\n"
     ]
    },
    {
     "name": "stdout",
     "output_type": "stream",
     "text": [
      "[0]\tvalidation-rmse:11.49700                                                    \n",
      "[200]\tvalidation-rmse:6.49053                                                   \n",
      "[400]\tvalidation-rmse:6.44568                                                   \n",
      "[600]\tvalidation-rmse:6.42088                                                   \n",
      "[800]\tvalidation-rmse:6.40551                                                   \n",
      "[999]\tvalidation-rmse:6.39858                                                   \n",
      " 28%|██▊       | 14/50 [14:58<24:47, 41.32s/trial, best loss: 6.310432115984673]"
     ]
    },
    {
     "name": "stderr",
     "output_type": "stream",
     "text": [
      "/Users/bastienwinant/Desktop/projects/mlops-zoomcamp/.venv/lib/python3.9/site-packages/xgboost/core.py:158: UserWarning: [00:44:32] WARNING: /Users/runner/work/xgboost/xgboost/src/c_api/c_api.cc:1374: Saving model in the UBJSON format as default.  You can use file extension: `json`, `ubj` or `deprecated` to choose between formats.\n",
      "  warnings.warn(smsg, UserWarning)\n",
      "\n",
      "\u001B[31m2025/06/04 00:44:39 WARNING mlflow.models.model: Model logged without a signature and input example. Please set `input_example` parameter when logging the model to auto infer the model signature.\u001B[0m\n",
      "\n"
     ]
    },
    {
     "name": "stdout",
     "output_type": "stream",
     "text": [
      "[0]\tvalidation-rmse:10.16408                                                    \n",
      "[200]\tvalidation-rmse:6.54452                                                   \n",
      "[390]\tvalidation-rmse:6.54233                                                   \n",
      " 30%|███       | 15/50 [16:05<38:09, 65.41s/trial, best loss: 6.310432115984673]"
     ]
    },
    {
     "name": "stderr",
     "output_type": "stream",
     "text": [
      "/Users/bastienwinant/Desktop/projects/mlops-zoomcamp/.venv/lib/python3.9/site-packages/xgboost/core.py:158: UserWarning: [00:45:36] WARNING: /Users/runner/work/xgboost/xgboost/src/c_api/c_api.cc:1374: Saving model in the UBJSON format as default.  You can use file extension: `json`, `ubj` or `deprecated` to choose between formats.\n",
      "  warnings.warn(smsg, UserWarning)\n",
      "\n",
      "\u001B[31m2025/06/04 00:45:44 WARNING mlflow.models.model: Model logged without a signature and input example. Please set `input_example` parameter when logging the model to auto infer the model signature.\u001B[0m\n",
      "\n"
     ]
    },
    {
     "name": "stdout",
     "output_type": "stream",
     "text": [
      "[0]\tvalidation-rmse:11.33193                                                    \n",
      "[200]\tvalidation-rmse:6.63943                                                   \n",
      "[400]\tvalidation-rmse:6.63133                                                   \n",
      "[600]\tvalidation-rmse:6.62759                                                   \n",
      "[800]\tvalidation-rmse:6.62583                                                   \n",
      "[990]\tvalidation-rmse:6.62553                                                   \n",
      " 32%|███▏      | 16/50 [18:29<36:57, 65.21s/trial, best loss: 6.310432115984673]"
     ]
    },
    {
     "name": "stderr",
     "output_type": "stream",
     "text": [
      "/Users/bastienwinant/Desktop/projects/mlops-zoomcamp/.venv/lib/python3.9/site-packages/xgboost/core.py:158: UserWarning: [00:48:08] WARNING: /Users/runner/work/xgboost/xgboost/src/c_api/c_api.cc:1374: Saving model in the UBJSON format as default.  You can use file extension: `json`, `ubj` or `deprecated` to choose between formats.\n",
      "  warnings.warn(smsg, UserWarning)\n",
      "\n",
      "\u001B[31m2025/06/04 00:48:16 WARNING mlflow.models.model: Model logged without a signature and input example. Please set `input_example` parameter when logging the model to auto infer the model signature.\u001B[0m\n",
      "\n"
     ]
    },
    {
     "name": "stdout",
     "output_type": "stream",
     "text": [
      "[0]\tvalidation-rmse:11.71476                                                    \n",
      "[200]\tvalidation-rmse:6.47103                                                   \n",
      "[400]\tvalidation-rmse:6.41999                                                   \n",
      "[600]\tvalidation-rmse:6.38786                                                   \n",
      "[800]\tvalidation-rmse:6.36564                                                   \n",
      "[999]\tvalidation-rmse:6.34930                                                   \n",
      " 34%|███▍      | 17/50 [20:02<50:08, 91.16s/trial, best loss: 6.310432115984673]"
     ]
    },
    {
     "name": "stderr",
     "output_type": "stream",
     "text": [
      "/Users/bastienwinant/Desktop/projects/mlops-zoomcamp/.venv/lib/python3.9/site-packages/xgboost/core.py:158: UserWarning: [00:49:34] WARNING: /Users/runner/work/xgboost/xgboost/src/c_api/c_api.cc:1374: Saving model in the UBJSON format as default.  You can use file extension: `json`, `ubj` or `deprecated` to choose between formats.\n",
      "  warnings.warn(smsg, UserWarning)\n",
      "\n",
      "\u001B[31m2025/06/04 00:49:41 WARNING mlflow.models.model: Model logged without a signature and input example. Please set `input_example` parameter when logging the model to auto infer the model signature.\u001B[0m\n",
      "\n"
     ]
    },
    {
     "name": "stdout",
     "output_type": "stream",
     "text": [
      "[0]\tvalidation-rmse:11.74532                                                    \n",
      "[200]\tvalidation-rmse:6.38616                                                   \n",
      "[400]\tvalidation-rmse:6.35532                                                   \n",
      "[600]\tvalidation-rmse:6.34226                                                   \n",
      "[800]\tvalidation-rmse:6.33572                                                   \n",
      "[999]\tvalidation-rmse:6.33078                                                   \n",
      " 36%|███▌      | 18/50 [22:46<47:40, 89.38s/trial, best loss: 6.310432115984673]"
     ]
    },
    {
     "name": "stderr",
     "output_type": "stream",
     "text": [
      "/Users/bastienwinant/Desktop/projects/mlops-zoomcamp/.venv/lib/python3.9/site-packages/xgboost/core.py:158: UserWarning: [00:52:25] WARNING: /Users/runner/work/xgboost/xgboost/src/c_api/c_api.cc:1374: Saving model in the UBJSON format as default.  You can use file extension: `json`, `ubj` or `deprecated` to choose between formats.\n",
      "  warnings.warn(smsg, UserWarning)\n",
      "\n",
      "\u001B[31m2025/06/04 00:52:32 WARNING mlflow.models.model: Model logged without a signature and input example. Please set `input_example` parameter when logging the model to auto infer the model signature.\u001B[0m\n",
      "\n"
     ]
    },
    {
     "name": "stdout",
     "output_type": "stream",
     "text": [
      "[0]\tvalidation-rmse:8.99097                                                      \n",
      "[200]\tvalidation-rmse:6.44425                                                    \n",
      "[243]\tvalidation-rmse:6.44787                                                    \n",
      " 38%|███▊      | 19/50 [23:33<58:56, 114.07s/trial, best loss: 6.310432115984673]"
     ]
    },
    {
     "name": "stderr",
     "output_type": "stream",
     "text": [
      "/Users/bastienwinant/Desktop/projects/mlops-zoomcamp/.venv/lib/python3.9/site-packages/xgboost/core.py:158: UserWarning: [00:53:02] WARNING: /Users/runner/work/xgboost/xgboost/src/c_api/c_api.cc:1374: Saving model in the UBJSON format as default.  You can use file extension: `json`, `ubj` or `deprecated` to choose between formats.\n",
      "  warnings.warn(smsg, UserWarning)\n",
      "\n",
      "\u001B[31m2025/06/04 00:53:09 WARNING mlflow.models.model: Model logged without a signature and input example. Please set `input_example` parameter when logging the model to auto infer the model signature.\u001B[0m\n",
      "\n"
     ]
    },
    {
     "name": "stdout",
     "output_type": "stream",
     "text": [
      "[0]\tvalidation-rmse:9.71559                                                      \n",
      "[200]\tvalidation-rmse:6.35862                                                   \n",
      "[295]\tvalidation-rmse:6.35823                                                   \n",
      " 40%|████      | 20/50 [24:15<45:24, 90.82s/trial, best loss: 6.310432115984673]"
     ]
    },
    {
     "name": "stderr",
     "output_type": "stream",
     "text": [
      "/Users/bastienwinant/Desktop/projects/mlops-zoomcamp/.venv/lib/python3.9/site-packages/xgboost/core.py:158: UserWarning: [00:53:44] WARNING: /Users/runner/work/xgboost/xgboost/src/c_api/c_api.cc:1374: Saving model in the UBJSON format as default.  You can use file extension: `json`, `ubj` or `deprecated` to choose between formats.\n",
      "  warnings.warn(smsg, UserWarning)\n",
      "\n",
      "\u001B[31m2025/06/04 00:53:51 WARNING mlflow.models.model: Model logged without a signature and input example. Please set `input_example` parameter when logging the model to auto infer the model signature.\u001B[0m\n",
      "\n"
     ]
    },
    {
     "name": "stdout",
     "output_type": "stream",
     "text": [
      "[0]\tvalidation-rmse:11.07462                                                    \n",
      "[200]\tvalidation-rmse:6.40915                                                   \n",
      "[400]\tvalidation-rmse:6.39099                                                   \n",
      "[600]\tvalidation-rmse:6.38232                                                   \n",
      "[751]\tvalidation-rmse:6.38125                                                   \n",
      " 42%|████▏     | 21/50 [25:37<36:52, 76.29s/trial, best loss: 6.310432115984673]"
     ]
    },
    {
     "name": "stderr",
     "output_type": "stream",
     "text": [
      "/Users/bastienwinant/Desktop/projects/mlops-zoomcamp/.venv/lib/python3.9/site-packages/xgboost/core.py:158: UserWarning: [00:55:10] WARNING: /Users/runner/work/xgboost/xgboost/src/c_api/c_api.cc:1374: Saving model in the UBJSON format as default.  You can use file extension: `json`, `ubj` or `deprecated` to choose between formats.\n",
      "  warnings.warn(smsg, UserWarning)\n",
      "\n",
      "\u001B[31m2025/06/04 00:55:17 WARNING mlflow.models.model: Model logged without a signature and input example. Please set `input_example` parameter when logging the model to auto infer the model signature.\u001B[0m\n",
      "\n"
     ]
    },
    {
     "name": "stdout",
     "output_type": "stream",
     "text": [
      "[0]\tvalidation-rmse:11.41711                                                    \n",
      "[200]\tvalidation-rmse:6.36820                                                   \n",
      "[400]\tvalidation-rmse:6.34153                                                   \n",
      "[600]\tvalidation-rmse:6.33259                                                   \n",
      "[772]\tvalidation-rmse:6.32702                                                   \n",
      " 44%|████▍     | 22/50 [27:25<36:57, 79.18s/trial, best loss: 6.310432115984673]"
     ]
    },
    {
     "name": "stderr",
     "output_type": "stream",
     "text": [
      "/Users/bastienwinant/Desktop/projects/mlops-zoomcamp/.venv/lib/python3.9/site-packages/xgboost/core.py:158: UserWarning: [00:57:00] WARNING: /Users/runner/work/xgboost/xgboost/src/c_api/c_api.cc:1374: Saving model in the UBJSON format as default.  You can use file extension: `json`, `ubj` or `deprecated` to choose between formats.\n",
      "  warnings.warn(smsg, UserWarning)\n",
      "\n",
      "\u001B[31m2025/06/04 00:57:07 WARNING mlflow.models.model: Model logged without a signature and input example. Please set `input_example` parameter when logging the model to auto infer the model signature.\u001B[0m\n",
      "\n"
     ]
    },
    {
     "name": "stdout",
     "output_type": "stream",
     "text": [
      "[0]\tvalidation-rmse:10.26932                                                    \n",
      "[200]\tvalidation-rmse:6.39928                                                   \n",
      "[390]\tvalidation-rmse:6.38185                                                   \n",
      " 46%|████▌     | 23/50 [28:29<39:44, 88.31s/trial, best loss: 6.310432115984673]"
     ]
    },
    {
     "name": "stderr",
     "output_type": "stream",
     "text": [
      "/Users/bastienwinant/Desktop/projects/mlops-zoomcamp/.venv/lib/python3.9/site-packages/xgboost/core.py:158: UserWarning: [00:57:59] WARNING: /Users/runner/work/xgboost/xgboost/src/c_api/c_api.cc:1374: Saving model in the UBJSON format as default.  You can use file extension: `json`, `ubj` or `deprecated` to choose between formats.\n",
      "  warnings.warn(smsg, UserWarning)\n",
      "\n",
      "\u001B[31m2025/06/04 00:58:06 WARNING mlflow.models.model: Model logged without a signature and input example. Please set `input_example` parameter when logging the model to auto infer the model signature.\u001B[0m\n",
      "\n"
     ]
    },
    {
     "name": "stdout",
     "output_type": "stream",
     "text": [
      "[0]\tvalidation-rmse:10.93873                                                    \n",
      "[200]\tvalidation-rmse:6.33317                                                   \n",
      "[400]\tvalidation-rmse:6.31674                                                   \n",
      "[457]\tvalidation-rmse:6.31689                                                   \n",
      " 48%|████▊     | 24/50 [29:41<34:26, 79.50s/trial, best loss: 6.310432115984673]"
     ]
    },
    {
     "name": "stderr",
     "output_type": "stream",
     "text": [
      "/Users/bastienwinant/Desktop/projects/mlops-zoomcamp/.venv/lib/python3.9/site-packages/xgboost/core.py:158: UserWarning: [00:59:12] WARNING: /Users/runner/work/xgboost/xgboost/src/c_api/c_api.cc:1374: Saving model in the UBJSON format as default.  You can use file extension: `json`, `ubj` or `deprecated` to choose between formats.\n",
      "  warnings.warn(smsg, UserWarning)\n",
      "\n",
      "\u001B[31m2025/06/04 00:59:21 WARNING mlflow.models.model: Model logged without a signature and input example. Please set `input_example` parameter when logging the model to auto infer the model signature.\u001B[0m\n",
      "\n"
     ]
    },
    {
     "name": "stdout",
     "output_type": "stream",
     "text": [
      "[0]\tvalidation-rmse:10.82419                                                    \n",
      "[200]\tvalidation-rmse:6.32641                                                   \n",
      "[342]\tvalidation-rmse:6.31725                                                   \n",
      " 50%|█████     | 25/50 [30:44<32:37, 78.29s/trial, best loss: 6.310432115984673]"
     ]
    },
    {
     "name": "stderr",
     "output_type": "stream",
     "text": [
      "/Users/bastienwinant/Desktop/projects/mlops-zoomcamp/.venv/lib/python3.9/site-packages/xgboost/core.py:158: UserWarning: [01:00:14] WARNING: /Users/runner/work/xgboost/xgboost/src/c_api/c_api.cc:1374: Saving model in the UBJSON format as default.  You can use file extension: `json`, `ubj` or `deprecated` to choose between formats.\n",
      "  warnings.warn(smsg, UserWarning)\n",
      "\n",
      "\u001B[31m2025/06/04 01:00:24 WARNING mlflow.models.model: Model logged without a signature and input example. Please set `input_example` parameter when logging the model to auto infer the model signature.\u001B[0m\n",
      "\n"
     ]
    },
    {
     "name": "stdout",
     "output_type": "stream",
     "text": [
      "[0]\tvalidation-rmse:11.02304                                                    \n",
      "[200]\tvalidation-rmse:6.46484                                                   \n",
      "[400]\tvalidation-rmse:6.44794                                                   \n",
      "[600]\tvalidation-rmse:6.44225                                                   \n",
      "[800]\tvalidation-rmse:6.43861                                                   \n",
      "[904]\tvalidation-rmse:6.43894                                                   \n",
      " 52%|█████▏    | 26/50 [32:11<29:22, 73.43s/trial, best loss: 6.310432115984673]"
     ]
    },
    {
     "name": "stderr",
     "output_type": "stream",
     "text": [
      "/Users/bastienwinant/Desktop/projects/mlops-zoomcamp/.venv/lib/python3.9/site-packages/xgboost/core.py:158: UserWarning: [01:01:45] WARNING: /Users/runner/work/xgboost/xgboost/src/c_api/c_api.cc:1374: Saving model in the UBJSON format as default.  You can use file extension: `json`, `ubj` or `deprecated` to choose between formats.\n",
      "  warnings.warn(smsg, UserWarning)\n",
      "\n",
      "\u001B[31m2025/06/04 01:01:52 WARNING mlflow.models.model: Model logged without a signature and input example. Please set `input_example` parameter when logging the model to auto infer the model signature.\u001B[0m\n",
      "\n"
     ]
    },
    {
     "name": "stdout",
     "output_type": "stream",
     "text": [
      "[0]\tvalidation-rmse:11.44274                                                    \n",
      "[200]\tvalidation-rmse:6.38851                                                   \n",
      "[400]\tvalidation-rmse:6.36543                                                   \n",
      "[600]\tvalidation-rmse:6.35140                                                   \n",
      "[800]\tvalidation-rmse:6.34765                                                   \n",
      "[898]\tvalidation-rmse:6.34706                                                   \n",
      " 54%|█████▍    | 27/50 [34:11<29:55, 78.06s/trial, best loss: 6.310432115984673]"
     ]
    },
    {
     "name": "stderr",
     "output_type": "stream",
     "text": [
      "/Users/bastienwinant/Desktop/projects/mlops-zoomcamp/.venv/lib/python3.9/site-packages/xgboost/core.py:158: UserWarning: [01:03:48] WARNING: /Users/runner/work/xgboost/xgboost/src/c_api/c_api.cc:1374: Saving model in the UBJSON format as default.  You can use file extension: `json`, `ubj` or `deprecated` to choose between formats.\n",
      "  warnings.warn(smsg, UserWarning)\n",
      "\n",
      "\u001B[31m2025/06/04 01:03:55 WARNING mlflow.models.model: Model logged without a signature and input example. Please set `input_example` parameter when logging the model to auto infer the model signature.\u001B[0m\n",
      "\n"
     ]
    },
    {
     "name": "stdout",
     "output_type": "stream",
     "text": [
      "[0]\tvalidation-rmse:9.35641                                                     \n",
      "[173]\tvalidation-rmse:6.33610                                                   \n",
      " 56%|█████▌    | 28/50 [34:57<33:33, 91.51s/trial, best loss: 6.310432115984673]"
     ]
    },
    {
     "name": "stderr",
     "output_type": "stream",
     "text": [
      "/Users/bastienwinant/Desktop/projects/mlops-zoomcamp/.venv/lib/python3.9/site-packages/xgboost/core.py:158: UserWarning: [01:04:26] WARNING: /Users/runner/work/xgboost/xgboost/src/c_api/c_api.cc:1374: Saving model in the UBJSON format as default.  You can use file extension: `json`, `ubj` or `deprecated` to choose between formats.\n",
      "  warnings.warn(smsg, UserWarning)\n",
      "\n",
      "\u001B[31m2025/06/04 01:04:33 WARNING mlflow.models.model: Model logged without a signature and input example. Please set `input_example` parameter when logging the model to auto infer the model signature.\u001B[0m\n",
      "\n"
     ]
    },
    {
     "name": "stdout",
     "output_type": "stream",
     "text": [
      "[0]\tvalidation-rmse:10.55992                                                    \n",
      "[200]\tvalidation-rmse:6.42441                                                   \n",
      "[400]\tvalidation-rmse:6.40301                                                   \n",
      "[413]\tvalidation-rmse:6.40293                                                   \n",
      " 58%|█████▊    | 29/50 [35:54<26:24, 75.46s/trial, best loss: 6.310432115984673]"
     ]
    },
    {
     "name": "stderr",
     "output_type": "stream",
     "text": [
      "/Users/bastienwinant/Desktop/projects/mlops-zoomcamp/.venv/lib/python3.9/site-packages/xgboost/core.py:158: UserWarning: [01:05:24] WARNING: /Users/runner/work/xgboost/xgboost/src/c_api/c_api.cc:1374: Saving model in the UBJSON format as default.  You can use file extension: `json`, `ubj` or `deprecated` to choose between formats.\n",
      "  warnings.warn(smsg, UserWarning)\n",
      "\n",
      "\u001B[31m2025/06/04 01:05:31 WARNING mlflow.models.model: Model logged without a signature and input example. Please set `input_example` parameter when logging the model to auto infer the model signature.\u001B[0m\n",
      "\n"
     ]
    },
    {
     "name": "stdout",
     "output_type": "stream",
     "text": [
      "[0]\tvalidation-rmse:11.60693                                                    \n",
      "[200]\tvalidation-rmse:6.38930                                                   \n",
      "[400]\tvalidation-rmse:6.35483                                                   \n",
      "[600]\tvalidation-rmse:6.33935                                                   \n",
      "[800]\tvalidation-rmse:6.33291                                                   \n",
      "[999]\tvalidation-rmse:6.32882                                                   \n",
      " 60%|██████    | 30/50 [37:51<23:24, 70.22s/trial, best loss: 6.310432115984673]"
     ]
    },
    {
     "name": "stderr",
     "output_type": "stream",
     "text": [
      "/Users/bastienwinant/Desktop/projects/mlops-zoomcamp/.venv/lib/python3.9/site-packages/xgboost/core.py:158: UserWarning: [01:07:27] WARNING: /Users/runner/work/xgboost/xgboost/src/c_api/c_api.cc:1374: Saving model in the UBJSON format as default.  You can use file extension: `json`, `ubj` or `deprecated` to choose between formats.\n",
      "  warnings.warn(smsg, UserWarning)\n",
      "\n",
      "\u001B[31m2025/06/04 01:07:34 WARNING mlflow.models.model: Model logged without a signature and input example. Please set `input_example` parameter when logging the model to auto infer the model signature.\u001B[0m\n",
      "\n"
     ]
    },
    {
     "name": "stdout",
     "output_type": "stream",
     "text": [
      "[0]\tvalidation-rmse:11.29497                                                    \n",
      "[200]\tvalidation-rmse:6.34810                                                   \n",
      "[400]\tvalidation-rmse:6.32210                                                   \n",
      "[600]\tvalidation-rmse:6.31846                                                   \n",
      " 62%|██████▏   | 31/50 [39:36<27:14, 86.01s/trial, best loss: 6.310432115984673]"
     ]
    },
    {
     "name": "stderr",
     "output_type": "stream",
     "text": [
      "/Users/bastienwinant/Desktop/projects/mlops-zoomcamp/.venv/lib/python3.9/site-packages/xgboost/core.py:158: UserWarning: [01:09:10] WARNING: /Users/runner/work/xgboost/xgboost/src/c_api/c_api.cc:1374: Saving model in the UBJSON format as default.  You can use file extension: `json`, `ubj` or `deprecated` to choose between formats.\n",
      "  warnings.warn(smsg, UserWarning)\n",
      "\n",
      "\u001B[31m2025/06/04 01:09:19 WARNING mlflow.models.model: Model logged without a signature and input example. Please set `input_example` parameter when logging the model to auto infer the model signature.\u001B[0m\n",
      "\n"
     ]
    },
    {
     "name": "stdout",
     "output_type": "stream",
     "text": [
      "[0]\tvalidation-rmse:9.95839                                                     \n",
      "[200]\tvalidation-rmse:6.32796                                                   \n",
      "[217]\tvalidation-rmse:6.33030                                                   \n",
      " 64%|██████▍   | 32/50 [40:30<27:32, 91.78s/trial, best loss: 6.310432115984673]"
     ]
    },
    {
     "name": "stderr",
     "output_type": "stream",
     "text": [
      "/Users/bastienwinant/Desktop/projects/mlops-zoomcamp/.venv/lib/python3.9/site-packages/xgboost/core.py:158: UserWarning: [01:10:00] WARNING: /Users/runner/work/xgboost/xgboost/src/c_api/c_api.cc:1374: Saving model in the UBJSON format as default.  You can use file extension: `json`, `ubj` or `deprecated` to choose between formats.\n",
      "  warnings.warn(smsg, UserWarning)\n",
      "\n",
      "\u001B[31m2025/06/04 01:10:08 WARNING mlflow.models.model: Model logged without a signature and input example. Please set `input_example` parameter when logging the model to auto infer the model signature.\u001B[0m\n",
      "\n"
     ]
    },
    {
     "name": "stdout",
     "output_type": "stream",
     "text": [
      "[0]\tvalidation-rmse:10.94590                                                    \n",
      "[200]\tvalidation-rmse:6.44139                                                   \n",
      "[400]\tvalidation-rmse:6.40820                                                   \n",
      "[600]\tvalidation-rmse:6.39830                                                   \n",
      "[656]\tvalidation-rmse:6.39956                                                   \n",
      " 66%|██████▌   | 33/50 [41:56<22:21, 78.91s/trial, best loss: 6.310432115984673]"
     ]
    },
    {
     "name": "stderr",
     "output_type": "stream",
     "text": [
      "/Users/bastienwinant/Desktop/projects/mlops-zoomcamp/.venv/lib/python3.9/site-packages/xgboost/core.py:158: UserWarning: [01:11:28] WARNING: /Users/runner/work/xgboost/xgboost/src/c_api/c_api.cc:1374: Saving model in the UBJSON format as default.  You can use file extension: `json`, `ubj` or `deprecated` to choose between formats.\n",
      "  warnings.warn(smsg, UserWarning)\n",
      "\n",
      "\u001B[31m2025/06/04 01:11:54 WARNING mlflow.models.model: Model logged without a signature and input example. Please set `input_example` parameter when logging the model to auto infer the model signature.\u001B[0m\n",
      "\n"
     ]
    },
    {
     "name": "stdout",
     "output_type": "stream",
     "text": [
      "[0]\tvalidation-rmse:10.56255                                                    \n",
      "[200]\tvalidation-rmse:6.31700                                                   \n",
      "[261]\tvalidation-rmse:6.31770                                                   \n",
      " 68%|██████▊   | 34/50 [43:10<23:10, 86.91s/trial, best loss: 6.310432115984673]"
     ]
    },
    {
     "name": "stderr",
     "output_type": "stream",
     "text": [
      "/Users/bastienwinant/Desktop/projects/mlops-zoomcamp/.venv/lib/python3.9/site-packages/xgboost/core.py:158: UserWarning: [01:12:40] WARNING: /Users/runner/work/xgboost/xgboost/src/c_api/c_api.cc:1374: Saving model in the UBJSON format as default.  You can use file extension: `json`, `ubj` or `deprecated` to choose between formats.\n",
      "  warnings.warn(smsg, UserWarning)\n",
      "\n",
      "\u001B[31m2025/06/04 01:12:50 WARNING mlflow.models.model: Model logged without a signature and input example. Please set `input_example` parameter when logging the model to auto infer the model signature.\u001B[0m\n",
      "\n"
     ]
    },
    {
     "name": "stdout",
     "output_type": "stream",
     "text": [
      "[0]\tvalidation-rmse:11.27176                                                    \n",
      "[200]\tvalidation-rmse:6.37630                                                   \n",
      "[400]\tvalidation-rmse:6.35710                                                   \n",
      "[568]\tvalidation-rmse:6.35628                                                   \n",
      " 70%|███████   | 35/50 [44:56<19:23, 77.54s/trial, best loss: 6.310432115984673]"
     ]
    },
    {
     "name": "stderr",
     "output_type": "stream",
     "text": [
      "/Users/bastienwinant/Desktop/projects/mlops-zoomcamp/.venv/lib/python3.9/site-packages/xgboost/core.py:158: UserWarning: [01:14:32] WARNING: /Users/runner/work/xgboost/xgboost/src/c_api/c_api.cc:1374: Saving model in the UBJSON format as default.  You can use file extension: `json`, `ubj` or `deprecated` to choose between formats.\n",
      "  warnings.warn(smsg, UserWarning)\n",
      "\n",
      "\u001B[31m2025/06/04 01:14:39 WARNING mlflow.models.model: Model logged without a signature and input example. Please set `input_example` parameter when logging the model to auto infer the model signature.\u001B[0m\n",
      "\n"
     ]
    },
    {
     "name": "stdout",
     "output_type": "stream",
     "text": [
      "[0]\tvalidation-rmse:11.56433                                                    \n",
      "[200]\tvalidation-rmse:6.44402                                                   \n",
      "[400]\tvalidation-rmse:6.41584                                                   \n",
      "[600]\tvalidation-rmse:6.40216                                                   \n",
      "[800]\tvalidation-rmse:6.39335                                                   \n",
      "[999]\tvalidation-rmse:6.38722                                                   \n",
      " 72%|███████▏  | 36/50 [46:26<20:21, 87.27s/trial, best loss: 6.310432115984673]"
     ]
    },
    {
     "name": "stderr",
     "output_type": "stream",
     "text": [
      "/Users/bastienwinant/Desktop/projects/mlops-zoomcamp/.venv/lib/python3.9/site-packages/xgboost/core.py:158: UserWarning: [01:15:59] WARNING: /Users/runner/work/xgboost/xgboost/src/c_api/c_api.cc:1374: Saving model in the UBJSON format as default.  You can use file extension: `json`, `ubj` or `deprecated` to choose between formats.\n",
      "  warnings.warn(smsg, UserWarning)\n",
      "\n",
      "\u001B[31m2025/06/04 01:16:06 WARNING mlflow.models.model: Model logged without a signature and input example. Please set `input_example` parameter when logging the model to auto infer the model signature.\u001B[0m\n",
      "\n"
     ]
    },
    {
     "name": "stdout",
     "output_type": "stream",
     "text": [
      "[0]\tvalidation-rmse:10.74885                                                    \n",
      "[200]\tvalidation-rmse:6.41541                                                   \n",
      "[344]\tvalidation-rmse:6.40782                                                   \n",
      " 74%|███████▍  | 37/50 [47:43<18:52, 87.08s/trial, best loss: 6.310432115984673]"
     ]
    },
    {
     "name": "stderr",
     "output_type": "stream",
     "text": [
      "/Users/bastienwinant/Desktop/projects/mlops-zoomcamp/.venv/lib/python3.9/site-packages/xgboost/core.py:158: UserWarning: [01:17:14] WARNING: /Users/runner/work/xgboost/xgboost/src/c_api/c_api.cc:1374: Saving model in the UBJSON format as default.  You can use file extension: `json`, `ubj` or `deprecated` to choose between formats.\n",
      "  warnings.warn(smsg, UserWarning)\n",
      "\n",
      "\u001B[31m2025/06/04 01:17:23 WARNING mlflow.models.model: Model logged without a signature and input example. Please set `input_example` parameter when logging the model to auto infer the model signature.\u001B[0m\n",
      "\n"
     ]
    },
    {
     "name": "stdout",
     "output_type": "stream",
     "text": [
      "[0]\tvalidation-rmse:11.71173                                                    \n",
      "[200]\tvalidation-rmse:6.48041                                                   \n",
      "[400]\tvalidation-rmse:6.44046                                                   \n",
      "[600]\tvalidation-rmse:6.41940                                                   \n",
      "[800]\tvalidation-rmse:6.40761                                                   \n",
      "[999]\tvalidation-rmse:6.40148                                                   \n",
      " 76%|███████▌  | 38/50 [50:28<16:48, 84.03s/trial, best loss: 6.310432115984673]"
     ]
    },
    {
     "name": "stderr",
     "output_type": "stream",
     "text": [
      "/Users/bastienwinant/Desktop/projects/mlops-zoomcamp/.venv/lib/python3.9/site-packages/xgboost/core.py:158: UserWarning: [01:20:05] WARNING: /Users/runner/work/xgboost/xgboost/src/c_api/c_api.cc:1374: Saving model in the UBJSON format as default.  You can use file extension: `json`, `ubj` or `deprecated` to choose between formats.\n",
      "  warnings.warn(smsg, UserWarning)\n",
      "\n",
      "\u001B[31m2025/06/04 01:20:14 WARNING mlflow.models.model: Model logged without a signature and input example. Please set `input_example` parameter when logging the model to auto infer the model signature.\u001B[0m\n",
      "\n"
     ]
    },
    {
     "name": "stdout",
     "output_type": "stream",
     "text": [
      "[0]\tvalidation-rmse:10.35446                                                     \n",
      "[200]\tvalidation-rmse:6.35461                                                    \n",
      "[400]\tvalidation-rmse:6.31678                                                    \n",
      "[582]\tvalidation-rmse:6.30595                                                    \n",
      " 78%|███████▊  | 39/50 [51:26<20:12, 110.23s/trial, best loss: 6.310432115984673]"
     ]
    },
    {
     "name": "stderr",
     "output_type": "stream",
     "text": [
      "/Users/bastienwinant/Desktop/projects/mlops-zoomcamp/.venv/lib/python3.9/site-packages/xgboost/core.py:158: UserWarning: [01:20:55] WARNING: /Users/runner/work/xgboost/xgboost/src/c_api/c_api.cc:1374: Saving model in the UBJSON format as default.  You can use file extension: `json`, `ubj` or `deprecated` to choose between formats.\n",
      "  warnings.warn(smsg, UserWarning)\n",
      "\n",
      "\u001B[31m2025/06/04 01:21:02 WARNING mlflow.models.model: Model logged without a signature and input example. Please set `input_example` parameter when logging the model to auto infer the model signature.\u001B[0m\n",
      "\n"
     ]
    },
    {
     "name": "stdout",
     "output_type": "stream",
     "text": [
      "[0]\tvalidation-rmse:7.90484                                                      \n",
      "[200]\tvalidation-rmse:6.34946                                                   \n",
      "[400]\tvalidation-rmse:6.33764                                                   \n",
      "[418]\tvalidation-rmse:6.34026                                                   \n",
      " 80%|████████  | 40/50 [51:53<15:15, 91.56s/trial, best loss: 6.305945326886427]"
     ]
    },
    {
     "name": "stderr",
     "output_type": "stream",
     "text": [
      "/Users/bastienwinant/Desktop/projects/mlops-zoomcamp/.venv/lib/python3.9/site-packages/xgboost/core.py:158: UserWarning: [01:21:22] WARNING: /Users/runner/work/xgboost/xgboost/src/c_api/c_api.cc:1374: Saving model in the UBJSON format as default.  You can use file extension: `json`, `ubj` or `deprecated` to choose between formats.\n",
      "  warnings.warn(smsg, UserWarning)\n",
      "\n",
      "\u001B[31m2025/06/04 01:21:29 WARNING mlflow.models.model: Model logged without a signature and input example. Please set `input_example` parameter when logging the model to auto infer the model signature.\u001B[0m\n",
      "\n"
     ]
    },
    {
     "name": "stdout",
     "output_type": "stream",
     "text": [
      "[0]\tvalidation-rmse:7.18396                                                     \n",
      "[200]\tvalidation-rmse:6.39568                                                   \n",
      "[400]\tvalidation-rmse:6.36067                                                   \n",
      "[419]\tvalidation-rmse:6.36312                                                   \n",
      " 82%|████████▏ | 41/50 [52:14<10:48, 72.08s/trial, best loss: 6.305945326886427]"
     ]
    },
    {
     "name": "stderr",
     "output_type": "stream",
     "text": [
      "/Users/bastienwinant/Desktop/projects/mlops-zoomcamp/.venv/lib/python3.9/site-packages/xgboost/core.py:158: UserWarning: [01:21:42] WARNING: /Users/runner/work/xgboost/xgboost/src/c_api/c_api.cc:1374: Saving model in the UBJSON format as default.  You can use file extension: `json`, `ubj` or `deprecated` to choose between formats.\n",
      "  warnings.warn(smsg, UserWarning)\n",
      "\n",
      "\u001B[31m2025/06/04 01:21:50 WARNING mlflow.models.model: Model logged without a signature and input example. Please set `input_example` parameter when logging the model to auto infer the model signature.\u001B[0m\n",
      "\n"
     ]
    },
    {
     "name": "stdout",
     "output_type": "stream",
     "text": [
      "[0]\tvalidation-rmse:8.93548                                                     \n",
      "[200]\tvalidation-rmse:6.43086                                                   \n",
      "[400]\tvalidation-rmse:6.42141                                                   \n",
      "[600]\tvalidation-rmse:6.41801                                                   \n",
      "[689]\tvalidation-rmse:6.41732                                                   \n",
      " 84%|████████▍ | 42/50 [52:58<07:33, 56.63s/trial, best loss: 6.305945326886427]"
     ]
    },
    {
     "name": "stderr",
     "output_type": "stream",
     "text": [
      "/Users/bastienwinant/Desktop/projects/mlops-zoomcamp/.venv/lib/python3.9/site-packages/xgboost/core.py:158: UserWarning: [01:22:28] WARNING: /Users/runner/work/xgboost/xgboost/src/c_api/c_api.cc:1374: Saving model in the UBJSON format as default.  You can use file extension: `json`, `ubj` or `deprecated` to choose between formats.\n",
      "  warnings.warn(smsg, UserWarning)\n",
      "\n",
      "\u001B[31m2025/06/04 01:22:35 WARNING mlflow.models.model: Model logged without a signature and input example. Please set `input_example` parameter when logging the model to auto infer the model signature.\u001B[0m\n",
      "\n"
     ]
    },
    {
     "name": "stdout",
     "output_type": "stream",
     "text": [
      "[0]\tvalidation-rmse:9.67412                                                     \n",
      "[200]\tvalidation-rmse:6.42689                                                   \n",
      "[345]\tvalidation-rmse:6.41815                                                   \n",
      " 86%|████████▌ | 43/50 [53:36<06:12, 53.24s/trial, best loss: 6.305945326886427]"
     ]
    },
    {
     "name": "stderr",
     "output_type": "stream",
     "text": [
      "/Users/bastienwinant/Desktop/projects/mlops-zoomcamp/.venv/lib/python3.9/site-packages/xgboost/core.py:158: UserWarning: [01:23:05] WARNING: /Users/runner/work/xgboost/xgboost/src/c_api/c_api.cc:1374: Saving model in the UBJSON format as default.  You can use file extension: `json`, `ubj` or `deprecated` to choose between formats.\n",
      "  warnings.warn(smsg, UserWarning)\n",
      "\n",
      "\u001B[31m2025/06/04 01:23:12 WARNING mlflow.models.model: Model logged without a signature and input example. Please set `input_example` parameter when logging the model to auto infer the model signature.\u001B[0m\n",
      "\n"
     ]
    },
    {
     "name": "stdout",
     "output_type": "stream",
     "text": [
      "[0]\tvalidation-rmse:10.33129                                                    \n",
      "[200]\tvalidation-rmse:6.49728                                                   \n",
      "[400]\tvalidation-rmse:6.48033                                                   \n",
      "[600]\tvalidation-rmse:6.47519                                                   \n",
      "[800]\tvalidation-rmse:6.46829                                                   \n",
      "[999]\tvalidation-rmse:6.46383                                                   \n",
      " 88%|████████▊ | 44/50 [54:28<04:50, 48.45s/trial, best loss: 6.305945326886427]"
     ]
    },
    {
     "name": "stderr",
     "output_type": "stream",
     "text": [
      "/Users/bastienwinant/Desktop/projects/mlops-zoomcamp/.venv/lib/python3.9/site-packages/xgboost/core.py:158: UserWarning: [01:23:58] WARNING: /Users/runner/work/xgboost/xgboost/src/c_api/c_api.cc:1374: Saving model in the UBJSON format as default.  You can use file extension: `json`, `ubj` or `deprecated` to choose between formats.\n",
      "  warnings.warn(smsg, UserWarning)\n",
      "\n",
      "\u001B[31m2025/06/04 01:24:05 WARNING mlflow.models.model: Model logged without a signature and input example. Please set `input_example` parameter when logging the model to auto infer the model signature.\u001B[0m\n",
      "\n"
     ]
    },
    {
     "name": "stdout",
     "output_type": "stream",
     "text": [
      "[0]\tvalidation-rmse:11.18955                                                    \n",
      "[200]\tvalidation-rmse:6.47770                                                   \n",
      "[400]\tvalidation-rmse:6.43174                                                   \n",
      "[600]\tvalidation-rmse:6.41255                                                   \n",
      "[763]\tvalidation-rmse:6.40415                                                   \n",
      " 90%|█████████ | 45/50 [55:44<04:08, 49.75s/trial, best loss: 6.305945326886427]"
     ]
    },
    {
     "name": "stderr",
     "output_type": "stream",
     "text": [
      "/Users/bastienwinant/Desktop/projects/mlops-zoomcamp/.venv/lib/python3.9/site-packages/xgboost/core.py:158: UserWarning: [01:25:15] WARNING: /Users/runner/work/xgboost/xgboost/src/c_api/c_api.cc:1374: Saving model in the UBJSON format as default.  You can use file extension: `json`, `ubj` or `deprecated` to choose between formats.\n",
      "  warnings.warn(smsg, UserWarning)\n",
      "\n",
      "\u001B[31m2025/06/04 01:25:22 WARNING mlflow.models.model: Model logged without a signature and input example. Please set `input_example` parameter when logging the model to auto infer the model signature.\u001B[0m\n",
      "\n"
     ]
    },
    {
     "name": "stdout",
     "output_type": "stream",
     "text": [
      "[0]\tvalidation-rmse:7.39467                                                     \n",
      "[200]\tvalidation-rmse:6.50592                                                   \n",
      "[327]\tvalidation-rmse:6.49257                                                   \n",
      " 92%|█████████▏| 46/50 [56:06<03:51, 57.96s/trial, best loss: 6.305945326886427]"
     ]
    },
    {
     "name": "stderr",
     "output_type": "stream",
     "text": [
      "/Users/bastienwinant/Desktop/projects/mlops-zoomcamp/.venv/lib/python3.9/site-packages/xgboost/core.py:158: UserWarning: [01:25:35] WARNING: /Users/runner/work/xgboost/xgboost/src/c_api/c_api.cc:1374: Saving model in the UBJSON format as default.  You can use file extension: `json`, `ubj` or `deprecated` to choose between formats.\n",
      "  warnings.warn(smsg, UserWarning)\n",
      "\n",
      "\u001B[31m2025/06/04 01:25:42 WARNING mlflow.models.model: Model logged without a signature and input example. Please set `input_example` parameter when logging the model to auto infer the model signature.\u001B[0m\n",
      "\n"
     ]
    },
    {
     "name": "stdout",
     "output_type": "stream",
     "text": [
      "[0]\tvalidation-rmse:8.55477                                                     \n",
      "[200]\tvalidation-rmse:6.56103                                                   \n",
      "[400]\tvalidation-rmse:6.47360                                                   \n",
      "[600]\tvalidation-rmse:6.42614                                                   \n",
      "[800]\tvalidation-rmse:6.38494                                                   \n",
      "[999]\tvalidation-rmse:6.35996                                                   \n",
      " 94%|█████████▍| 47/50 [56:38<02:19, 46.57s/trial, best loss: 6.305945326886427]"
     ]
    },
    {
     "name": "stderr",
     "output_type": "stream",
     "text": [
      "/Users/bastienwinant/Desktop/projects/mlops-zoomcamp/.venv/lib/python3.9/site-packages/xgboost/core.py:158: UserWarning: [01:26:06] WARNING: /Users/runner/work/xgboost/xgboost/src/c_api/c_api.cc:1374: Saving model in the UBJSON format as default.  You can use file extension: `json`, `ubj` or `deprecated` to choose between formats.\n",
      "  warnings.warn(smsg, UserWarning)\n",
      "\n",
      "\u001B[31m2025/06/04 01:26:14 WARNING mlflow.models.model: Model logged without a signature and input example. Please set `input_example` parameter when logging the model to auto infer the model signature.\u001B[0m\n",
      "\n"
     ]
    },
    {
     "name": "stdout",
     "output_type": "stream",
     "text": [
      "[0]\tvalidation-rmse:9.31912                                                     \n",
      "[200]\tvalidation-rmse:6.57562                                                   \n",
      "[249]\tvalidation-rmse:6.57734                                                   \n",
      " 96%|█████████▌| 48/50 [57:22<01:24, 42.18s/trial, best loss: 6.305945326886427]"
     ]
    },
    {
     "name": "stderr",
     "output_type": "stream",
     "text": [
      "/Users/bastienwinant/Desktop/projects/mlops-zoomcamp/.venv/lib/python3.9/site-packages/xgboost/core.py:158: UserWarning: [01:26:52] WARNING: /Users/runner/work/xgboost/xgboost/src/c_api/c_api.cc:1374: Saving model in the UBJSON format as default.  You can use file extension: `json`, `ubj` or `deprecated` to choose between formats.\n",
      "  warnings.warn(smsg, UserWarning)\n",
      "\n",
      "\u001B[31m2025/06/04 01:26:59 WARNING mlflow.models.model: Model logged without a signature and input example. Please set `input_example` parameter when logging the model to auto infer the model signature.\u001B[0m\n",
      "\n"
     ]
    },
    {
     "name": "stdout",
     "output_type": "stream",
     "text": [
      "[0]\tvalidation-rmse:9.95465                                                     \n",
      "[200]\tvalidation-rmse:6.39741                                                   \n",
      "[400]\tvalidation-rmse:6.38263                                                   \n",
      "[469]\tvalidation-rmse:6.38157                                                   \n",
      " 98%|█████████▊| 49/50 [58:06<00:43, 43.05s/trial, best loss: 6.305945326886427]"
     ]
    },
    {
     "name": "stderr",
     "output_type": "stream",
     "text": [
      "/Users/bastienwinant/Desktop/projects/mlops-zoomcamp/.venv/lib/python3.9/site-packages/xgboost/core.py:158: UserWarning: [01:27:36] WARNING: /Users/runner/work/xgboost/xgboost/src/c_api/c_api.cc:1374: Saving model in the UBJSON format as default.  You can use file extension: `json`, `ubj` or `deprecated` to choose between formats.\n",
      "  warnings.warn(smsg, UserWarning)\n",
      "\n",
      "\u001B[31m2025/06/04 01:27:43 WARNING mlflow.models.model: Model logged without a signature and input example. Please set `input_example` parameter when logging the model to auto infer the model signature.\u001B[0m\n",
      "\n"
     ]
    },
    {
     "name": "stdout",
     "output_type": "stream",
     "text": [
      "100%|██████████| 50/50 [58:15<00:00, 69.91s/trial, best loss: 6.305945326886427]\n"
     ]
    }
   ],
   "execution_count": 56
  },
  {
   "metadata": {
    "ExecuteTime": {
     "end_time": "2025-06-04T07:09:34.596228Z",
     "start_time": "2025-06-04T07:09:34.588957Z"
    }
   },
   "cell_type": "code",
   "source": [
    "params = {\n",
    "    'learning_rate': 0.23768760883453516,\n",
    "    'max_depth': 32,\n",
    "    'min_child_weight': 1.4255637138891217,\n",
    "    'objective': 'reg:squarederror',\n",
    "    'reg_alpha': 0.20333941491253288,\n",
    "    'reg_lambda': 0.014135076785365224,\n",
    "    'seed': 42\n",
    "}"
   ],
   "id": "74aa26b0613347e6",
   "outputs": [],
   "execution_count": 60
  },
  {
   "metadata": {
    "ExecuteTime": {
     "end_time": "2025-06-04T07:16:42.797640Z",
     "start_time": "2025-06-04T07:12:55.398860Z"
    }
   },
   "cell_type": "code",
   "source": [
    "booster = xgb.train(\n",
    "    params=params,\n",
    "    dtrain=train,\n",
    "    num_boost_round=1000,\n",
    "    evals=[(valid, \"validation\")],\n",
    "    early_stopping_rounds=50,\n",
    "    verbose_eval=200\n",
    ")\n",
    "\n",
    "y_preds = booster.predict(valid)\n",
    "rmse = root_mean_squared_error(y_val, y_preds)\n",
    "\n",
    "with mlflow.start_run():\n",
    "    mlflow.set_tag(\"developer\", \"Armand Winant\")\n",
    "\n",
    "    mlflow.log_param(\"training-data\", \"https://d37ci6vzurychx.cloudfront.net/trip-data/green_tripdata_2021-01.parquet\")\n",
    "    mlflow.log_param(\"validation-data\", \"https://d37ci6vzurychx.cloudfront.net/trip-data/green_tripdata_2021-02.parquet\")\n",
    "\n",
    "    mlflow.log_artifact(\"models/preprocessor.b\", artifact_path=\"preprocessor\")\n",
    "    mlflow.log_params(params)\n",
    "    mlflow.xgboost.log_model(booster, \"model\")\n",
    "    mlflow.log_metric(\"rmse\", rmse)"
   ],
   "id": "c4b37bc1751a3ec4",
   "outputs": [
    {
     "name": "stdout",
     "output_type": "stream",
     "text": [
      "[0]\tvalidation-rmse:10.35446\n",
      "[200]\tvalidation-rmse:6.35461\n",
      "[400]\tvalidation-rmse:6.31678\n",
      "[581]\tvalidation-rmse:6.30616\n"
     ]
    },
    {
     "name": "stderr",
     "output_type": "stream",
     "text": [
      "2025/06/04 09:13:38 WARNING mlflow.models.signature: Failed to infer schema for inputs. Setting schema to `Schema([ColSpec(type=AnyType())]` as default. Note that MLflow doesn't validate data types during inference for AnyType. To see the full traceback, set logging level to DEBUG.\n",
      "/Users/bastienwinant/Desktop/projects/mlops-zoomcamp/.venv/lib/python3.9/site-packages/xgboost/core.py:158: UserWarning: [09:13:38] WARNING: /Users/runner/work/xgboost/xgboost/src/c_api/c_api.cc:1374: Saving model in the UBJSON format as default.  You can use file extension: `json`, `ubj` or `deprecated` to choose between formats.\n",
      "  warnings.warn(smsg, UserWarning)\n",
      "2025/06/04 09:15:45 INFO mlflow.models.evaluation.default_evaluator: Testing metrics on first row...\n",
      "2025/06/04 09:16:42 WARNING mlflow.models.evaluation.evaluators.shap: SHAP or matplotlib package is not installed, so model explainability insights will not be logged.\n"
     ]
    }
   ],
   "execution_count": 69
  },
  {
   "metadata": {},
   "cell_type": "markdown",
   "source": "### Random Forest",
   "id": "a272010f134bd70c"
  },
  {
   "metadata": {},
   "cell_type": "code",
   "outputs": [],
   "execution_count": null,
   "source": [
    "rf = RandomForestRegressor()\n",
    "train_model(rf, X_train, y_train)\n",
    "y_preds = rf.predict(X_val)\n",
    "rmse = root_mean_squared_error(y_val, y_preds)"
   ],
   "id": "5a1fcda55a193971"
  },
  {
   "metadata": {},
   "cell_type": "code",
   "outputs": [],
   "execution_count": null,
   "source": [
    "with mlflow.start_run():\n",
    "    mlflow.set_tag(\"developer\", \"Armand Winant\")\n",
    "\n",
    "    mlflow.log_param(\"training-data\", \"https://d37ci6vzurychx.cloudfront.net/trip-data/green_tripdata_2021-01.parquet\")\n",
    "    mlflow.log_param(\"validation-data\", \"https://d37ci6vzurychx.cloudfront.net/trip-data/green_tripdata_2021-02.parquet\")\n",
    "\n",
    "    mlflow.log_artifact(\"models/preprocessor.b\", artifact_path=\"preprocessor\")\n",
    "    mlflow.sklearn.log_model(rf, \"model\")\n",
    "    mlflow.log_metric(\"rmse\", rmse)"
   ],
   "id": "dae9fe0839a62443"
  },
  {
   "metadata": {},
   "cell_type": "markdown",
   "source": "### Linear SVR",
   "id": "30b037753defc7e7"
  },
  {
   "metadata": {},
   "cell_type": "code",
   "outputs": [],
   "execution_count": null,
   "source": [
    "svr = LinearSVR(max_iter=10000000)\n",
    "train_model(svr, X_train, y_train)\n",
    "y_preds = svr.predict(X_val)\n",
    "rmse = root_mean_squared_error(y_val, y_preds)"
   ],
   "id": "df9b8c6fc23e48fc"
  },
  {
   "metadata": {},
   "cell_type": "code",
   "outputs": [],
   "execution_count": null,
   "source": [
    "with mlflow.start_run():\n",
    "    mlflow.set_tag(\"developer\", \"Armand Winant\")\n",
    "\n",
    "    mlflow.log_param(\"training-data\", \"https://d37ci6vzurychx.cloudfront.net/trip-data/green_tripdata_2021-01.parquet\")\n",
    "    mlflow.log_param(\"validation-data\", \"https://d37ci6vzurychx.cloudfront.net/trip-data/green_tripdata_2021-02.parquet\")\n",
    "\n",
    "    mlflow.log_artifact(\"models/preprocessor.b\", artifact_path=\"preprocessor\")\n",
    "    mlflow.sklearn.log_model(svr, \"model\")\n",
    "    mlflow.log_metric(\"rmse\", rmse)"
   ],
   "id": "432a5cba7dc2cab"
  },
  {
   "metadata": {},
   "cell_type": "markdown",
   "source": "### Gradient Boosting",
   "id": "6cc8d4c6eafd8fdf"
  },
  {
   "metadata": {},
   "cell_type": "code",
   "outputs": [],
   "execution_count": null,
   "source": [
    "gb = GradientBoostingRegressor()\n",
    "train_model(gb, X_train, y_train)\n",
    "y_preds = gb.predict(X_val)\n",
    "rmse = root_mean_squared_error(y_val, y_preds)"
   ],
   "id": "2dd237d30a3edf73"
  },
  {
   "metadata": {},
   "cell_type": "code",
   "outputs": [],
   "execution_count": null,
   "source": [
    "with mlflow.start_run():\n",
    "    mlflow.set_tag(\"developer\", \"Armand Winant\")\n",
    "\n",
    "    mlflow.log_param(\"training-data\", \"https://d37ci6vzurychx.cloudfront.net/trip-data/green_tripdata_2021-01.parquet\")\n",
    "    mlflow.log_param(\"validation-data\", \"https://d37ci6vzurychx.cloudfront.net/trip-data/green_tripdata_2021-02.parquet\")\n",
    "\n",
    "    mlflow.log_artifact(\"models/preprocessor.b\", artifact_path=\"preprocessor\")\n",
    "    mlflow.sklearn.log_model(gb, \"model\")\n",
    "    mlflow.log_metric(\"rmse\", rmse)"
   ],
   "id": "9aca2698561fd2a2"
  },
  {
   "metadata": {},
   "cell_type": "markdown",
   "source": "### Extra Trees",
   "id": "a3967290e3fb4b14"
  },
  {
   "metadata": {},
   "cell_type": "code",
   "outputs": [],
   "execution_count": null,
   "source": [
    "et = ExtraTreesRegressor()\n",
    "train_model(et, X_train, y_train)\n",
    "y_preds = et.predict(X_val)\n",
    "rmse = root_mean_squared_error(y_val, y_preds)"
   ],
   "id": "ad92459c9f76c0de"
  },
  {
   "metadata": {},
   "cell_type": "code",
   "outputs": [],
   "execution_count": null,
   "source": [
    "with mlflow.start_run():\n",
    "    mlflow.set_tag(\"developer\", \"Armand Winant\")\n",
    "\n",
    "    mlflow.log_param(\"training-data\", \"https://d37ci6vzurychx.cloudfront.net/trip-data/green_tripdata_2021-01.parquet\")\n",
    "    mlflow.log_param(\"validation-data\", \"https://d37ci6vzurychx.cloudfront.net/trip-data/green_tripdata_2021-02.parquet\")\n",
    "\n",
    "    mlflow.log_artifact(\"models/preprocessor.b\", artifact_path=\"preprocessor\")\n",
    "    mlflow.sklearn.log_model(et, \"model\")\n",
    "    mlflow.log_metric(\"rmse\", rmse)"
   ],
   "id": "9ef1637d1203032e"
  }
 ],
 "metadata": {},
 "nbformat": 4,
 "nbformat_minor": 5
}
