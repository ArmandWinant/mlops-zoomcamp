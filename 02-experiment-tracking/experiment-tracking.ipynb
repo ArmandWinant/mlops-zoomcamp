{
 "cells": [
  {
   "metadata": {},
   "cell_type": "markdown",
   "source": [
    "# Experiment Tracking\n",
    "## Preprocessing"
   ],
   "id": "8df1e33eddbe486a"
  },
  {
   "metadata": {
    "ExecuteTime": {
     "end_time": "2025-06-04T14:42:24.475938Z",
     "start_time": "2025-06-04T14:42:08.185905Z"
    }
   },
   "cell_type": "code",
   "source": [
    "import pandas as pd\n",
    "from sklearn.feature_extraction import DictVectorizer\n",
    "from sklearn.linear_model import Lasso\n",
    "from sklearn.svm import LinearSVR\n",
    "from sklearn.ensemble import GradientBoostingRegressor, RandomForestRegressor, ExtraTreesRegressor\n",
    "from sklearn.metrics import root_mean_squared_error\n",
    "import xgboost as xgb\n",
    "from hyperopt import tpe, hp, Trials, STATUS_OK, fmin\n",
    "from hyperopt.pyll import scope\n",
    "import mlflow\n",
    "import pickle"
   ],
   "id": "3ff847c79c1fa77f",
   "outputs": [
    {
     "name": "stderr",
     "output_type": "stream",
     "text": [
      "/Users/bastienwinant/Desktop/projects/mlops-zoomcamp/.venv/lib/python3.9/site-packages/urllib3/__init__.py:35: NotOpenSSLWarning: urllib3 v2 only supports OpenSSL 1.1.1+, currently the 'ssl' module is compiled with 'LibreSSL 2.8.3'. See: https://github.com/urllib3/urllib3/issues/3020\n",
      "  warnings.warn(\n"
     ]
    }
   ],
   "execution_count": 1
  },
  {
   "metadata": {
    "ExecuteTime": {
     "end_time": "2025-06-04T14:42:24.518523Z",
     "start_time": "2025-06-04T14:42:24.503450Z"
    }
   },
   "cell_type": "code",
   "source": "pd.options.mode.copy_on_write = True",
   "id": "d5fb4c12e68866bd",
   "outputs": [],
   "execution_count": 2
  },
  {
   "metadata": {
    "ExecuteTime": {
     "end_time": "2025-06-04T14:42:24.547054Z",
     "start_time": "2025-06-04T14:42:24.535778Z"
    }
   },
   "cell_type": "code",
   "source": [
    "def preprocessing(df):\n",
    "    # compute target variables: trip duration in minutes\n",
    "    df['duration'] = df.lpep_dropoff_datetime - df.lpep_pickup_datetime\n",
    "    df.duration = df.duration.apply(lambda td: td.total_seconds() / 60)\n",
    "\n",
    "    # keep only trips of less than an hour\n",
    "    df = df.loc[(df.duration >= 1) & (df.duration <= 60), :]\n",
    "\n",
    "    # extract trip date components\n",
    "    df['trip_month'] = pd.Categorical(df.lpep_pickup_datetime.dt.month)\n",
    "    df['trip_dom'] = pd.Categorical(df.lpep_pickup_datetime.dt.day)\n",
    "    df['trip_hour'] = pd.Categorical(df.lpep_pickup_datetime.dt.hour)\n",
    "\n",
    "    # concatenate pickup and dropoff locations\n",
    "    df['PU_DO'] = df['PULocationID'].astype(str) + '_' + df['DOLocationID'].astype(str)\n",
    "\n",
    "    return df"
   ],
   "id": "5424649b7d8738a1",
   "outputs": [],
   "execution_count": 3
  },
  {
   "metadata": {
    "ExecuteTime": {
     "end_time": "2025-06-04T14:42:24.570645Z",
     "start_time": "2025-06-04T14:42:24.562975Z"
    }
   },
   "cell_type": "code",
   "source": [
    "def one_hot_encoding(df, numerical, categorical, dv=None):\n",
    "    df[categorical] = df[categorical].astype(str)\n",
    "    df_dicts = df[categorical + numerical].to_dict(orient='records')\n",
    "\n",
    "    if not dv:\n",
    "        dv = DictVectorizer()\n",
    "        dv.fit(df_dicts)\n",
    "\n",
    "    X_train = dv.transform(df_dicts)\n",
    "\n",
    "    return X_train, dv"
   ],
   "id": "17eb76d5b94f943d",
   "outputs": [],
   "execution_count": 4
  },
  {
   "metadata": {
    "ExecuteTime": {
     "end_time": "2025-06-04T14:42:25.129260Z",
     "start_time": "2025-06-04T14:42:25.122822Z"
    }
   },
   "cell_type": "code",
   "source": [
    "def train_model(model, X_train, y_train):\n",
    "    model.fit(X_train, y_train)"
   ],
   "id": "693c95161945494d",
   "outputs": [],
   "execution_count": 5
  },
  {
   "metadata": {
    "ExecuteTime": {
     "end_time": "2025-06-04T14:42:26.177194Z",
     "start_time": "2025-06-04T14:42:25.221429Z"
    }
   },
   "cell_type": "code",
   "source": [
    "# read im the raw data\n",
    "df_train = pd.read_parquet('https://d37ci6vzurychx.cloudfront.net/trip-data/green_tripdata_2021-01.parquet')\n",
    "df_val = pd.read_parquet('https://d37ci6vzurychx.cloudfront.net/trip-data/green_tripdata_2021-02.parquet')"
   ],
   "id": "20a9ba2f453c66cf",
   "outputs": [],
   "execution_count": 6
  },
  {
   "metadata": {
    "ExecuteTime": {
     "end_time": "2025-06-04T14:42:26.915968Z",
     "start_time": "2025-06-04T14:42:26.244517Z"
    }
   },
   "cell_type": "code",
   "source": [
    "# data cleaning\n",
    "df_train = preprocessing(df_train)\n",
    "df_val = preprocessing(df_val)"
   ],
   "id": "d0c6ea0e5f1b372c",
   "outputs": [],
   "execution_count": 7
  },
  {
   "metadata": {
    "ExecuteTime": {
     "end_time": "2025-06-04T14:42:26.965582Z",
     "start_time": "2025-06-04T14:42:26.961847Z"
    }
   },
   "cell_type": "code",
   "source": [
    "# variable selection\n",
    "categorical = ['PU_DO']\n",
    "numerical = ['trip_distance']"
   ],
   "id": "10b8d92f00b44798",
   "outputs": [],
   "execution_count": 8
  },
  {
   "metadata": {
    "ExecuteTime": {
     "end_time": "2025-06-04T14:42:27.829308Z",
     "start_time": "2025-06-04T14:42:27.011863Z"
    }
   },
   "cell_type": "code",
   "source": [
    "# categorical feature encoding\n",
    "X_train, dv = one_hot_encoding(df_train, numerical, categorical)\n",
    "X_val, _ = one_hot_encoding(df_val, numerical, categorical, dv=dv)"
   ],
   "id": "27a0aa67399448a6",
   "outputs": [],
   "execution_count": 9
  },
  {
   "metadata": {
    "ExecuteTime": {
     "end_time": "2025-06-04T14:42:27.881159Z",
     "start_time": "2025-06-04T14:42:27.876971Z"
    }
   },
   "cell_type": "code",
   "source": [
    "target = 'duration'\n",
    "y_train = df_train[target]\n",
    "y_val = df_val[target]"
   ],
   "id": "960e4afd67227c7a",
   "outputs": [],
   "execution_count": 10
  },
  {
   "metadata": {
    "ExecuteTime": {
     "end_time": "2025-06-04T14:42:27.941296Z",
     "start_time": "2025-06-04T14:42:27.921936Z"
    }
   },
   "cell_type": "code",
   "source": [
    "with open('models/preprocessor.b', \"wb\") as f_out:\n",
    "    pickle.dump(dv, f_out)"
   ],
   "id": "dc9968f21a13a3a0",
   "outputs": [],
   "execution_count": 11
  },
  {
   "metadata": {},
   "cell_type": "markdown",
   "source": "## Manual Logging",
   "id": "b343df9511648dac"
  },
  {
   "metadata": {
    "ExecuteTime": {
     "end_time": "2025-06-04T14:42:29.186066Z",
     "start_time": "2025-06-04T14:42:27.986816Z"
    }
   },
   "cell_type": "code",
   "source": [
    "mlflow.set_tracking_uri(\"sqlite:///mlflow.db\")\n",
    "mlflow.set_experiment(\"nyc-taxi-experiment\")"
   ],
   "id": "ca430aea154d6ff1",
   "outputs": [
    {
     "data": {
      "text/plain": [
       "<Experiment: artifact_location='/Users/bastienwinant/Desktop/projects/mlops-zoomcamp/02-experiment-tracking/mlruns/1', creation_time=1749031625980, experiment_id='1', last_update_time=1749031625980, lifecycle_stage='active', name='nyc-taxi-experiment', tags={}>"
      ]
     },
     "execution_count": 12,
     "metadata": {},
     "output_type": "execute_result"
    }
   ],
   "execution_count": 12
  },
  {
   "metadata": {
    "ExecuteTime": {
     "end_time": "2025-06-04T10:07:06.177545Z",
     "start_time": "2025-06-04T10:07:06.144708Z"
    }
   },
   "cell_type": "code",
   "source": [
    "mlflow.sklearn.autolog(disable=True)\n",
    "mlflow.xgboost.autolog(disable=True)"
   ],
   "id": "500723f69154fdfd",
   "outputs": [],
   "execution_count": 13
  },
  {
   "metadata": {},
   "cell_type": "markdown",
   "source": "### Lasso",
   "id": "c152812741698591"
  },
  {
   "metadata": {
    "ExecuteTime": {
     "end_time": "2025-06-04T10:07:27.895864Z",
     "start_time": "2025-06-04T10:07:06.225406Z"
    }
   },
   "cell_type": "code",
   "source": [
    "alpha = .01\n",
    "lr = Lasso(alpha=alpha)\n",
    "train_model(lr, X_train, y_train)\n",
    "y_preds = lr.predict(X_val)\n",
    "rmse = root_mean_squared_error(y_val, y_preds)"
   ],
   "id": "151df9ce275721b6",
   "outputs": [],
   "execution_count": 14
  },
  {
   "metadata": {
    "ExecuteTime": {
     "end_time": "2025-06-04T10:07:52.716805Z",
     "start_time": "2025-06-04T10:07:28.003595Z"
    }
   },
   "cell_type": "code",
   "source": [
    "with mlflow.start_run():\n",
    "    mlflow.set_tag(\"developer\", \"Armand Winant\")\n",
    "\n",
    "    mlflow.log_param(\"training-data\", \"https://d37ci6vzurychx.cloudfront.net/trip-data/green_tripdata_2021-01.parquet\")\n",
    "    mlflow.log_param(\"validation-data\", \"https://d37ci6vzurychx.cloudfront.net/trip-data/green_tripdata_2021-02.parquet\")\n",
    "    mlflow.log_param(\"model\", \"Lasso\")\n",
    "\n",
    "    mlflow.log_artifact(\"models/preprocessor.b\", artifact_path=\"preprocessor\")\n",
    "    mlflow.log_param(\"alpha\", alpha)\n",
    "    mlflow.sklearn.log_model(lr, \"model\")\n",
    "    mlflow.log_metric(\"rmse\", rmse)"
   ],
   "id": "6fc1c87eff024f31",
   "outputs": [
    {
     "name": "stderr",
     "output_type": "stream",
     "text": [
      "\u001B[31m2025/06/04 12:07:52 WARNING mlflow.models.model: Model logged without a signature and input example. Please set `input_example` parameter when logging the model to auto infer the model signature.\u001B[0m\n"
     ]
    }
   ],
   "execution_count": 15
  },
  {
   "metadata": {},
   "cell_type": "markdown",
   "source": "### Xgboost",
   "id": "89d999713cc4a017"
  },
  {
   "metadata": {
    "ExecuteTime": {
     "end_time": "2025-06-04T14:43:55.053375Z",
     "start_time": "2025-06-04T14:43:55.023188Z"
    }
   },
   "cell_type": "code",
   "source": [
    "train = xgb.DMatrix(X_train, label=y_train)\n",
    "valid = xgb.DMatrix(X_val, label=y_val)"
   ],
   "id": "8c0df8977c2e517a",
   "outputs": [],
   "execution_count": 15
  },
  {
   "metadata": {
    "ExecuteTime": {
     "end_time": "2025-06-04T10:07:52.980857Z",
     "start_time": "2025-06-04T10:07:52.968826Z"
    }
   },
   "cell_type": "code",
   "source": [
    "def objective(params):\n",
    "    booster = xgb.train(\n",
    "        params=params,\n",
    "        dtrain=train,\n",
    "        num_boost_round=1000,\n",
    "        evals=[(valid, \"validation\")],\n",
    "        early_stopping_rounds=50,\n",
    "        verbose_eval=200\n",
    "    )\n",
    "\n",
    "    y_preds = booster.predict(valid)\n",
    "    rmse = root_mean_squared_error(y_val, y_preds)\n",
    "\n",
    "    with mlflow.start_run():\n",
    "        mlflow.set_tag(\"developer\", \"Armand Winant\")\n",
    "\n",
    "        mlflow.log_param(\"training-data\", \"https://d37ci6vzurychx.cloudfront.net/trip-data/green_tripdata_2021-01.parquet\")\n",
    "        mlflow.log_param(\"validation-data\", \"https://d37ci6vzurychx.cloudfront.net/trip-data/green_tripdata_2021-02.parquet\")\n",
    "\n",
    "        mlflow.log_artifact(\"models/preprocessor.b\", artifact_path=\"preprocessor\")\n",
    "        mlflow.log_params(params)\n",
    "        mlflow.xgboost.log_model(booster, \"model\")\n",
    "        mlflow.log_metric(\"rmse\", rmse)\n",
    "\n",
    "    return {'loss': rmse, 'status': STATUS_OK}"
   ],
   "id": "4ad6ebad5d2b9197",
   "outputs": [],
   "execution_count": 17
  },
  {
   "metadata": {
    "ExecuteTime": {
     "end_time": "2025-06-04T10:07:53.058979Z",
     "start_time": "2025-06-04T10:07:53.048772Z"
    }
   },
   "cell_type": "code",
   "source": [
    "search_space = {\n",
    "    'max_depth': scope.int(hp.quniform('max_depth', 4, 100, 1)),\n",
    "    'learning_rate': hp.loguniform('learning_rate', -3, 0),\n",
    "    'reg_alpha': hp.loguniform('reg_alpha', -5, -1),\n",
    "    'reg_lambda': hp.loguniform('reg_lambda', -6, -1),\n",
    "    'min_child_weight': hp.loguniform('min_child_weight', -1, 3),\n",
    "    'objective': 'reg:squarederror',\n",
    "    'seed': 42\n",
    "}"
   ],
   "id": "e1d48edf48e0fd91",
   "outputs": [],
   "execution_count": 18
  },
  {
   "metadata": {
    "ExecuteTime": {
     "end_time": "2025-06-04T11:07:00.507893Z",
     "start_time": "2025-06-04T10:07:53.297746Z"
    }
   },
   "cell_type": "code",
   "source": [
    "best_result = fmin(\n",
    "    fn=objective,\n",
    "    space=search_space,\n",
    "    algo=tpe.suggest,\n",
    "    max_evals=50,\n",
    "    trials=Trials()\n",
    ")"
   ],
   "id": "bd46f185e7d223f2",
   "outputs": [
    {
     "name": "stdout",
     "output_type": "stream",
     "text": [
      "[0]\tvalidation-rmse:8.89467                           \n",
      "[200]\tvalidation-rmse:6.41605                         \n",
      "[315]\tvalidation-rmse:6.40993                         \n",
      "  0%|          | 0/50 [00:54<?, ?trial/s, best loss=?]"
     ]
    },
    {
     "name": "stderr",
     "output_type": "stream",
     "text": [
      "/Users/bastienwinant/Desktop/projects/mlops-zoomcamp/.venv/lib/python3.9/site-packages/xgboost/core.py:158: UserWarning: [12:08:48] WARNING: /Users/runner/work/xgboost/xgboost/src/c_api/c_api.cc:1374: Saving model in the UBJSON format as default.  You can use file extension: `json`, `ubj` or `deprecated` to choose between formats.\n",
      "  warnings.warn(smsg, UserWarning)\n",
      "\n",
      "\u001B[31m2025/06/04 12:09:09 WARNING mlflow.models.model: Model logged without a signature and input example. Please set `input_example` parameter when logging the model to auto infer the model signature.\u001B[0m\n",
      "\n"
     ]
    },
    {
     "name": "stdout",
     "output_type": "stream",
     "text": [
      "[0]\tvalidation-rmse:9.45145                                                      \n",
      "[200]\tvalidation-rmse:6.32534                                                    \n",
      "[298]\tvalidation-rmse:6.32868                                                    \n",
      "  2%|▏         | 1/50 [02:18<1:02:26, 76.46s/trial, best loss: 6.409929751696569]"
     ]
    },
    {
     "name": "stderr",
     "output_type": "stream",
     "text": [
      "/Users/bastienwinant/Desktop/projects/mlops-zoomcamp/.venv/lib/python3.9/site-packages/xgboost/core.py:158: UserWarning: [12:10:13] WARNING: /Users/runner/work/xgboost/xgboost/src/c_api/c_api.cc:1374: Saving model in the UBJSON format as default.  You can use file extension: `json`, `ubj` or `deprecated` to choose between formats.\n",
      "  warnings.warn(smsg, UserWarning)\n",
      "\n",
      "\u001B[31m2025/06/04 12:10:27 WARNING mlflow.models.model: Model logged without a signature and input example. Please set `input_example` parameter when logging the model to auto infer the model signature.\u001B[0m\n",
      "\n"
     ]
    },
    {
     "name": "stdout",
     "output_type": "stream",
     "text": [
      "[0]\tvalidation-rmse:10.07281                                                     \n",
      "[200]\tvalidation-rmse:6.42223                                                    \n",
      "[400]\tvalidation-rmse:6.40064                                                    \n",
      "[406]\tvalidation-rmse:6.40090                                                    \n",
      "  4%|▍         | 2/50 [03:25<1:01:35, 76.98s/trial, best loss: 6.328374987594146]"
     ]
    },
    {
     "name": "stderr",
     "output_type": "stream",
     "text": [
      "/Users/bastienwinant/Desktop/projects/mlops-zoomcamp/.venv/lib/python3.9/site-packages/xgboost/core.py:158: UserWarning: [12:11:20] WARNING: /Users/runner/work/xgboost/xgboost/src/c_api/c_api.cc:1374: Saving model in the UBJSON format as default.  You can use file extension: `json`, `ubj` or `deprecated` to choose between formats.\n",
      "  warnings.warn(smsg, UserWarning)\n",
      "\n",
      "\u001B[31m2025/06/04 12:11:32 WARNING mlflow.models.model: Model logged without a signature and input example. Please set `input_example` parameter when logging the model to auto infer the model signature.\u001B[0m\n",
      "\n"
     ]
    },
    {
     "name": "stdout",
     "output_type": "stream",
     "text": [
      "[0]\tvalidation-rmse:7.53374                                                      \n",
      "[198]\tvalidation-rmse:6.36312                                                  \n",
      "  6%|▌         | 3/50 [04:00<56:14, 71.80s/trial, best loss: 6.328374987594146]"
     ]
    },
    {
     "name": "stderr",
     "output_type": "stream",
     "text": [
      "/Users/bastienwinant/Desktop/projects/mlops-zoomcamp/.venv/lib/python3.9/site-packages/xgboost/core.py:158: UserWarning: [12:11:54] WARNING: /Users/runner/work/xgboost/xgboost/src/c_api/c_api.cc:1374: Saving model in the UBJSON format as default.  You can use file extension: `json`, `ubj` or `deprecated` to choose between formats.\n",
      "  warnings.warn(smsg, UserWarning)\n",
      "\n",
      "\u001B[31m2025/06/04 12:12:02 WARNING mlflow.models.model: Model logged without a signature and input example. Please set `input_example` parameter when logging the model to auto infer the model signature.\u001B[0m\n",
      "\n"
     ]
    },
    {
     "name": "stdout",
     "output_type": "stream",
     "text": [
      "[0]\tvalidation-rmse:11.33493                                                   \n",
      "[200]\tvalidation-rmse:6.35792                                                  \n",
      "[400]\tvalidation-rmse:6.33867                                                  \n",
      "[600]\tvalidation-rmse:6.32975                                                  \n",
      "[704]\tvalidation-rmse:6.32993                                                  \n",
      "  8%|▊         | 4/50 [06:04<42:19, 55.20s/trial, best loss: 6.328374987594146]"
     ]
    },
    {
     "name": "stderr",
     "output_type": "stream",
     "text": [
      "/Users/bastienwinant/Desktop/projects/mlops-zoomcamp/.venv/lib/python3.9/site-packages/xgboost/core.py:158: UserWarning: [12:14:05] WARNING: /Users/runner/work/xgboost/xgboost/src/c_api/c_api.cc:1374: Saving model in the UBJSON format as default.  You can use file extension: `json`, `ubj` or `deprecated` to choose between formats.\n",
      "  warnings.warn(smsg, UserWarning)\n",
      "\n",
      "\u001B[31m2025/06/04 12:14:14 WARNING mlflow.models.model: Model logged without a signature and input example. Please set `input_example` parameter when logging the model to auto infer the model signature.\u001B[0m\n",
      "\n"
     ]
    },
    {
     "name": "stdout",
     "output_type": "stream",
     "text": [
      "[0]\tvalidation-rmse:10.08033                                                     \n",
      "[200]\tvalidation-rmse:6.53170                                                    \n",
      "[400]\tvalidation-rmse:6.51822                                                    \n",
      "[600]\tvalidation-rmse:6.51311                                                    \n",
      "[800]\tvalidation-rmse:6.50562                                                    \n",
      "[999]\tvalidation-rmse:6.50163                                                    \n",
      " 10%|█         | 5/50 [07:20<1:02:16, 83.04s/trial, best loss: 6.328374987594146]"
     ]
    },
    {
     "name": "stderr",
     "output_type": "stream",
     "text": [
      "/Users/bastienwinant/Desktop/projects/mlops-zoomcamp/.venv/lib/python3.9/site-packages/xgboost/core.py:158: UserWarning: [12:15:15] WARNING: /Users/runner/work/xgboost/xgboost/src/c_api/c_api.cc:1374: Saving model in the UBJSON format as default.  You can use file extension: `json`, `ubj` or `deprecated` to choose between formats.\n",
      "  warnings.warn(smsg, UserWarning)\n",
      "\n",
      "\u001B[31m2025/06/04 12:15:23 WARNING mlflow.models.model: Model logged without a signature and input example. Please set `input_example` parameter when logging the model to auto infer the model signature.\u001B[0m\n",
      "\n"
     ]
    },
    {
     "name": "stdout",
     "output_type": "stream",
     "text": [
      "[0]\tvalidation-rmse:11.78862                                                     \n",
      "[200]\tvalidation-rmse:6.39971                                                  \n",
      "[400]\tvalidation-rmse:6.37581                                                  \n",
      "[600]\tvalidation-rmse:6.36521                                                  \n",
      "[800]\tvalidation-rmse:6.36159                                                  \n",
      "[894]\tvalidation-rmse:6.36132                                                  \n",
      " 12%|█▏        | 6/50 [10:11<57:16, 78.11s/trial, best loss: 6.328374987594146]"
     ]
    },
    {
     "name": "stderr",
     "output_type": "stream",
     "text": [
      "/Users/bastienwinant/Desktop/projects/mlops-zoomcamp/.venv/lib/python3.9/site-packages/xgboost/core.py:158: UserWarning: [12:18:18] WARNING: /Users/runner/work/xgboost/xgboost/src/c_api/c_api.cc:1374: Saving model in the UBJSON format as default.  You can use file extension: `json`, `ubj` or `deprecated` to choose between formats.\n",
      "  warnings.warn(smsg, UserWarning)\n",
      "\n",
      "\u001B[31m2025/06/04 12:18:28 WARNING mlflow.models.model: Model logged without a signature and input example. Please set `input_example` parameter when logging the model to auto infer the model signature.\u001B[0m\n",
      "\n"
     ]
    },
    {
     "name": "stdout",
     "output_type": "stream",
     "text": [
      "[0]\tvalidation-rmse:9.45037                                                       \n",
      "[200]\tvalidation-rmse:6.36265                                                     \n",
      "[235]\tvalidation-rmse:6.36221                                                     \n",
      " 14%|█▍        | 7/50 [11:04<1:21:01, 113.06s/trial, best loss: 6.328374987594146]"
     ]
    },
    {
     "name": "stderr",
     "output_type": "stream",
     "text": [
      "/Users/bastienwinant/Desktop/projects/mlops-zoomcamp/.venv/lib/python3.9/site-packages/xgboost/core.py:158: UserWarning: [12:18:59] WARNING: /Users/runner/work/xgboost/xgboost/src/c_api/c_api.cc:1374: Saving model in the UBJSON format as default.  You can use file extension: `json`, `ubj` or `deprecated` to choose between formats.\n",
      "  warnings.warn(smsg, UserWarning)\n",
      "\n",
      "\u001B[31m2025/06/04 12:19:06 WARNING mlflow.models.model: Model logged without a signature and input example. Please set `input_example` parameter when logging the model to auto infer the model signature.\u001B[0m\n",
      "\n"
     ]
    },
    {
     "name": "stdout",
     "output_type": "stream",
     "text": [
      "[0]\tvalidation-rmse:11.69182                                                      \n",
      "[200]\tvalidation-rmse:6.64699                                                    \n",
      "[400]\tvalidation-rmse:6.63789                                                    \n",
      "[600]\tvalidation-rmse:6.63394                                                    \n",
      "[800]\tvalidation-rmse:6.63163                                                    \n",
      "[999]\tvalidation-rmse:6.62998                                                    \n",
      " 16%|█▌        | 8/50 [13:49<1:02:23, 89.12s/trial, best loss: 6.328374987594146]"
     ]
    },
    {
     "name": "stderr",
     "output_type": "stream",
     "text": [
      "/Users/bastienwinant/Desktop/projects/mlops-zoomcamp/.venv/lib/python3.9/site-packages/xgboost/core.py:158: UserWarning: [12:21:55] WARNING: /Users/runner/work/xgboost/xgboost/src/c_api/c_api.cc:1374: Saving model in the UBJSON format as default.  You can use file extension: `json`, `ubj` or `deprecated` to choose between formats.\n",
      "  warnings.warn(smsg, UserWarning)\n",
      "\n",
      "\u001B[31m2025/06/04 12:22:03 WARNING mlflow.models.model: Model logged without a signature and input example. Please set `input_example` parameter when logging the model to auto infer the model signature.\u001B[0m\n",
      "\n"
     ]
    },
    {
     "name": "stdout",
     "output_type": "stream",
     "text": [
      "[0]\tvalidation-rmse:11.63904                                                      \n",
      "[200]\tvalidation-rmse:6.60489                                                     \n",
      "[400]\tvalidation-rmse:6.57754                                                     \n",
      "[600]\tvalidation-rmse:6.56664                                                     \n",
      "[800]\tvalidation-rmse:6.56073                                                     \n",
      "[999]\tvalidation-rmse:6.55591                                                     \n",
      " 18%|█▊        | 9/50 [15:02<1:19:37, 116.52s/trial, best loss: 6.328374987594146]"
     ]
    },
    {
     "name": "stderr",
     "output_type": "stream",
     "text": [
      "/Users/bastienwinant/Desktop/projects/mlops-zoomcamp/.venv/lib/python3.9/site-packages/xgboost/core.py:158: UserWarning: [12:22:58] WARNING: /Users/runner/work/xgboost/xgboost/src/c_api/c_api.cc:1374: Saving model in the UBJSON format as default.  You can use file extension: `json`, `ubj` or `deprecated` to choose between formats.\n",
      "  warnings.warn(smsg, UserWarning)\n",
      "\n",
      "\u001B[31m2025/06/04 12:23:05 WARNING mlflow.models.model: Model logged without a signature and input example. Please set `input_example` parameter when logging the model to auto infer the model signature.\u001B[0m\n",
      "\n"
     ]
    },
    {
     "name": "stdout",
     "output_type": "stream",
     "text": [
      "[0]\tvalidation-rmse:9.75363                                                       \n",
      "[200]\tvalidation-rmse:6.41745                                                     \n",
      "[400]\tvalidation-rmse:6.37422                                                     \n",
      "[600]\tvalidation-rmse:6.36072                                                     \n",
      "[800]\tvalidation-rmse:6.35529                                                     \n",
      "[805]\tvalidation-rmse:6.35541                                                     \n",
      " 20%|██        | 10/50 [15:51<1:06:38, 99.96s/trial, best loss: 6.328374987594146]"
     ]
    },
    {
     "name": "stderr",
     "output_type": "stream",
     "text": [
      "/Users/bastienwinant/Desktop/projects/mlops-zoomcamp/.venv/lib/python3.9/site-packages/xgboost/core.py:158: UserWarning: [12:23:45] WARNING: /Users/runner/work/xgboost/xgboost/src/c_api/c_api.cc:1374: Saving model in the UBJSON format as default.  You can use file extension: `json`, `ubj` or `deprecated` to choose between formats.\n",
      "  warnings.warn(smsg, UserWarning)\n",
      "\n",
      "\u001B[31m2025/06/04 12:23:52 WARNING mlflow.models.model: Model logged without a signature and input example. Please set `input_example` parameter when logging the model to auto infer the model signature.\u001B[0m\n",
      "\n"
     ]
    },
    {
     "name": "stdout",
     "output_type": "stream",
     "text": [
      "[0]\tvalidation-rmse:11.60618                                                      \n",
      "[200]\tvalidation-rmse:6.46683                                                   \n",
      "[400]\tvalidation-rmse:6.44142                                                   \n",
      "[600]\tvalidation-rmse:6.43629                                                   \n",
      "[620]\tvalidation-rmse:6.43644                                                   \n",
      " 22%|██▏       | 11/50 [19:11<54:24, 83.71s/trial, best loss: 6.328374987594146]"
     ]
    },
    {
     "name": "stderr",
     "output_type": "stream",
     "text": [
      "/Users/bastienwinant/Desktop/projects/mlops-zoomcamp/.venv/lib/python3.9/site-packages/xgboost/core.py:158: UserWarning: [12:27:14] WARNING: /Users/runner/work/xgboost/xgboost/src/c_api/c_api.cc:1374: Saving model in the UBJSON format as default.  You can use file extension: `json`, `ubj` or `deprecated` to choose between formats.\n",
      "  warnings.warn(smsg, UserWarning)\n",
      "\n",
      "\u001B[31m2025/06/04 12:27:24 WARNING mlflow.models.model: Model logged without a signature and input example. Please set `input_example` parameter when logging the model to auto infer the model signature.\u001B[0m\n",
      "\n"
     ]
    },
    {
     "name": "stdout",
     "output_type": "stream",
     "text": [
      "[0]\tvalidation-rmse:11.43559                                                       \n",
      "[200]\tvalidation-rmse:6.60230                                                      \n",
      "[400]\tvalidation-rmse:6.59001                                                      \n",
      "[600]\tvalidation-rmse:6.58398                                                      \n",
      "[800]\tvalidation-rmse:6.58066                                                      \n",
      "[999]\tvalidation-rmse:6.57839                                                      \n",
      " 24%|██▍       | 12/50 [21:08<1:17:38, 122.59s/trial, best loss: 6.328374987594146]"
     ]
    },
    {
     "name": "stderr",
     "output_type": "stream",
     "text": [
      "/Users/bastienwinant/Desktop/projects/mlops-zoomcamp/.venv/lib/python3.9/site-packages/xgboost/core.py:158: UserWarning: [12:29:08] WARNING: /Users/runner/work/xgboost/xgboost/src/c_api/c_api.cc:1374: Saving model in the UBJSON format as default.  You can use file extension: `json`, `ubj` or `deprecated` to choose between formats.\n",
      "  warnings.warn(smsg, UserWarning)\n",
      "\n",
      "\u001B[31m2025/06/04 12:29:15 WARNING mlflow.models.model: Model logged without a signature and input example. Please set `input_example` parameter when logging the model to auto infer the model signature.\u001B[0m\n",
      "\n"
     ]
    },
    {
     "name": "stdout",
     "output_type": "stream",
     "text": [
      "[0]\tvalidation-rmse:10.99790                                                       \n",
      "[200]\tvalidation-rmse:6.42380                                                      \n",
      "[386]\tvalidation-rmse:6.41485                                                      \n",
      " 26%|██▌       | 13/50 [22:54<1:13:31, 119.22s/trial, best loss: 6.328374987594146]"
     ]
    },
    {
     "name": "stderr",
     "output_type": "stream",
     "text": [
      "/Users/bastienwinant/Desktop/projects/mlops-zoomcamp/.venv/lib/python3.9/site-packages/xgboost/core.py:158: UserWarning: [12:30:53] WARNING: /Users/runner/work/xgboost/xgboost/src/c_api/c_api.cc:1374: Saving model in the UBJSON format as default.  You can use file extension: `json`, `ubj` or `deprecated` to choose between formats.\n",
      "  warnings.warn(smsg, UserWarning)\n",
      "\n",
      "\u001B[31m2025/06/04 12:31:00 WARNING mlflow.models.model: Model logged without a signature and input example. Please set `input_example` parameter when logging the model to auto infer the model signature.\u001B[0m\n",
      "\n"
     ]
    },
    {
     "name": "stdout",
     "output_type": "stream",
     "text": [
      "[0]\tvalidation-rmse:11.48916                                                       \n",
      "[200]\tvalidation-rmse:6.45168                                                      \n",
      "[400]\tvalidation-rmse:6.40170                                                      \n",
      "[600]\tvalidation-rmse:6.37344                                                      \n",
      "[800]\tvalidation-rmse:6.35373                                                      \n",
      "[999]\tvalidation-rmse:6.34046                                                      \n",
      " 28%|██▊       | 14/50 [24:04<1:08:57, 114.94s/trial, best loss: 6.328374987594146]"
     ]
    },
    {
     "name": "stderr",
     "output_type": "stream",
     "text": [
      "/Users/bastienwinant/Desktop/projects/mlops-zoomcamp/.venv/lib/python3.9/site-packages/xgboost/core.py:158: UserWarning: [12:32:00] WARNING: /Users/runner/work/xgboost/xgboost/src/c_api/c_api.cc:1374: Saving model in the UBJSON format as default.  You can use file extension: `json`, `ubj` or `deprecated` to choose between formats.\n",
      "  warnings.warn(smsg, UserWarning)\n",
      "\n",
      "\u001B[31m2025/06/04 12:32:09 WARNING mlflow.models.model: Model logged without a signature and input example. Please set `input_example` parameter when logging the model to auto infer the model signature.\u001B[0m\n",
      "\n"
     ]
    },
    {
     "name": "stdout",
     "output_type": "stream",
     "text": [
      "[0]\tvalidation-rmse:6.74470                                                        \n",
      "[81]\tvalidation-rmse:6.47552                                                     \n",
      " 30%|███       | 15/50 [24:40<58:57, 101.08s/trial, best loss: 6.328374987594146]"
     ]
    },
    {
     "name": "stderr",
     "output_type": "stream",
     "text": [
      "/Users/bastienwinant/Desktop/projects/mlops-zoomcamp/.venv/lib/python3.9/site-packages/xgboost/core.py:158: UserWarning: [12:32:34] WARNING: /Users/runner/work/xgboost/xgboost/src/c_api/c_api.cc:1374: Saving model in the UBJSON format as default.  You can use file extension: `json`, `ubj` or `deprecated` to choose between formats.\n",
      "  warnings.warn(smsg, UserWarning)\n",
      "\n",
      "\u001B[31m2025/06/04 12:32:41 WARNING mlflow.models.model: Model logged without a signature and input example. Please set `input_example` parameter when logging the model to auto infer the model signature.\u001B[0m\n",
      "\n"
     ]
    },
    {
     "name": "stdout",
     "output_type": "stream",
     "text": [
      "[0]\tvalidation-rmse:11.16045                                                     \n",
      "[200]\tvalidation-rmse:6.44813                                                   \n",
      "[400]\tvalidation-rmse:6.38937                                                   \n",
      "[600]\tvalidation-rmse:6.35469                                                   \n",
      "[800]\tvalidation-rmse:6.33463                                                   \n",
      "[999]\tvalidation-rmse:6.32217                                                   \n",
      " 32%|███▏      | 16/50 [25:53<45:30, 80.32s/trial, best loss: 6.328374987594146]"
     ]
    },
    {
     "name": "stderr",
     "output_type": "stream",
     "text": [
      "/Users/bastienwinant/Desktop/projects/mlops-zoomcamp/.venv/lib/python3.9/site-packages/xgboost/core.py:158: UserWarning: [12:33:49] WARNING: /Users/runner/work/xgboost/xgboost/src/c_api/c_api.cc:1374: Saving model in the UBJSON format as default.  You can use file extension: `json`, `ubj` or `deprecated` to choose between formats.\n",
      "  warnings.warn(smsg, UserWarning)\n",
      "\n",
      "\u001B[31m2025/06/04 12:33:58 WARNING mlflow.models.model: Model logged without a signature and input example. Please set `input_example` parameter when logging the model to auto infer the model signature.\u001B[0m\n",
      "\n"
     ]
    },
    {
     "name": "stdout",
     "output_type": "stream",
     "text": [
      "[0]\tvalidation-rmse:10.98657                                                    \n",
      "[200]\tvalidation-rmse:6.59437                                                   \n",
      "[400]\tvalidation-rmse:6.58073                                                   \n",
      "[600]\tvalidation-rmse:6.57409                                                   \n",
      "[800]\tvalidation-rmse:6.57055                                                   \n",
      "[999]\tvalidation-rmse:6.56828                                                   \n",
      " 34%|███▍      | 17/50 [27:23<43:29, 79.06s/trial, best loss: 6.322173027684213]"
     ]
    },
    {
     "name": "stderr",
     "output_type": "stream",
     "text": [
      "/Users/bastienwinant/Desktop/projects/mlops-zoomcamp/.venv/lib/python3.9/site-packages/xgboost/core.py:158: UserWarning: [12:35:21] WARNING: /Users/runner/work/xgboost/xgboost/src/c_api/c_api.cc:1374: Saving model in the UBJSON format as default.  You can use file extension: `json`, `ubj` or `deprecated` to choose between formats.\n",
      "  warnings.warn(smsg, UserWarning)\n",
      "\n",
      "\u001B[31m2025/06/04 12:35:30 WARNING mlflow.models.model: Model logged without a signature and input example. Please set `input_example` parameter when logging the model to auto infer the model signature.\u001B[0m\n",
      "\n"
     ]
    },
    {
     "name": "stdout",
     "output_type": "stream",
     "text": [
      "[0]\tvalidation-rmse:6.64021                                                     \n",
      "[96]\tvalidation-rmse:6.50946                                                    \n",
      " 36%|███▌      | 18/50 [27:55<44:15, 82.98s/trial, best loss: 6.322173027684213]"
     ]
    },
    {
     "name": "stderr",
     "output_type": "stream",
     "text": [
      "/Users/bastienwinant/Desktop/projects/mlops-zoomcamp/.venv/lib/python3.9/site-packages/xgboost/core.py:158: UserWarning: [12:35:49] WARNING: /Users/runner/work/xgboost/xgboost/src/c_api/c_api.cc:1374: Saving model in the UBJSON format as default.  You can use file extension: `json`, `ubj` or `deprecated` to choose between formats.\n",
      "  warnings.warn(smsg, UserWarning)\n",
      "\n",
      "\u001B[31m2025/06/04 12:36:00 WARNING mlflow.models.model: Model logged without a signature and input example. Please set `input_example` parameter when logging the model to auto infer the model signature.\u001B[0m\n",
      "\n"
     ]
    },
    {
     "name": "stdout",
     "output_type": "stream",
     "text": [
      "[0]\tvalidation-rmse:11.15919                                                    \n",
      "[200]\tvalidation-rmse:6.50647                                                   \n",
      "[400]\tvalidation-rmse:6.47510                                                   \n",
      "[600]\tvalidation-rmse:6.46158                                                   \n",
      "[800]\tvalidation-rmse:6.45344                                                   \n",
      "[999]\tvalidation-rmse:6.44761                                                   \n",
      " 38%|███▊      | 19/50 [28:59<34:44, 67.23s/trial, best loss: 6.322173027684213]"
     ]
    },
    {
     "name": "stderr",
     "output_type": "stream",
     "text": [
      "/Users/bastienwinant/Desktop/projects/mlops-zoomcamp/.venv/lib/python3.9/site-packages/xgboost/core.py:158: UserWarning: [12:36:54] WARNING: /Users/runner/work/xgboost/xgboost/src/c_api/c_api.cc:1374: Saving model in the UBJSON format as default.  You can use file extension: `json`, `ubj` or `deprecated` to choose between formats.\n",
      "  warnings.warn(smsg, UserWarning)\n",
      "\n",
      "\u001B[31m2025/06/04 12:37:02 WARNING mlflow.models.model: Model logged without a signature and input example. Please set `input_example` parameter when logging the model to auto infer the model signature.\u001B[0m\n",
      "\n"
     ]
    },
    {
     "name": "stdout",
     "output_type": "stream",
     "text": [
      "[0]\tvalidation-rmse:10.37107                                                    \n",
      "[200]\tvalidation-rmse:6.56702                                                   \n",
      "[400]\tvalidation-rmse:6.48905                                                   \n",
      "[600]\tvalidation-rmse:6.43748                                                   \n",
      "[800]\tvalidation-rmse:6.40104                                                   \n",
      "[999]\tvalidation-rmse:6.37620                                                   \n",
      " 40%|████      | 20/50 [29:49<32:46, 65.54s/trial, best loss: 6.322173027684213]"
     ]
    },
    {
     "name": "stderr",
     "output_type": "stream",
     "text": [
      "/Users/bastienwinant/Desktop/projects/mlops-zoomcamp/.venv/lib/python3.9/site-packages/xgboost/core.py:158: UserWarning: [12:37:43] WARNING: /Users/runner/work/xgboost/xgboost/src/c_api/c_api.cc:1374: Saving model in the UBJSON format as default.  You can use file extension: `json`, `ubj` or `deprecated` to choose between formats.\n",
      "  warnings.warn(smsg, UserWarning)\n",
      "\n",
      "\u001B[31m2025/06/04 12:37:50 WARNING mlflow.models.model: Model logged without a signature and input example. Please set `input_example` parameter when logging the model to auto infer the model signature.\u001B[0m\n",
      "\n"
     ]
    },
    {
     "name": "stdout",
     "output_type": "stream",
     "text": [
      "[0]\tvalidation-rmse:8.34024                                                     \n",
      "[149]\tvalidation-rmse:6.33803                                                   \n",
      " 42%|████▏     | 21/50 [30:20<29:07, 60.26s/trial, best loss: 6.322173027684213]"
     ]
    },
    {
     "name": "stderr",
     "output_type": "stream",
     "text": [
      "/Users/bastienwinant/Desktop/projects/mlops-zoomcamp/.venv/lib/python3.9/site-packages/xgboost/core.py:158: UserWarning: [12:38:14] WARNING: /Users/runner/work/xgboost/xgboost/src/c_api/c_api.cc:1374: Saving model in the UBJSON format as default.  You can use file extension: `json`, `ubj` or `deprecated` to choose between formats.\n",
      "  warnings.warn(smsg, UserWarning)\n",
      "\n",
      "\u001B[31m2025/06/04 12:38:21 WARNING mlflow.models.model: Model logged without a signature and input example. Please set `input_example` parameter when logging the model to auto infer the model signature.\u001B[0m\n",
      "\n"
     ]
    },
    {
     "name": "stdout",
     "output_type": "stream",
     "text": [
      "[0]\tvalidation-rmse:10.70466                                                    \n",
      "[200]\tvalidation-rmse:6.43315                                                   \n",
      "[400]\tvalidation-rmse:6.40853                                                   \n",
      "[421]\tvalidation-rmse:6.40861                                                   \n",
      " 44%|████▍     | 22/50 [31:26<24:04, 51.59s/trial, best loss: 6.322173027684213]"
     ]
    },
    {
     "name": "stderr",
     "output_type": "stream",
     "text": [
      "/Users/bastienwinant/Desktop/projects/mlops-zoomcamp/.venv/lib/python3.9/site-packages/xgboost/core.py:158: UserWarning: [12:39:22] WARNING: /Users/runner/work/xgboost/xgboost/src/c_api/c_api.cc:1374: Saving model in the UBJSON format as default.  You can use file extension: `json`, `ubj` or `deprecated` to choose between formats.\n",
      "  warnings.warn(smsg, UserWarning)\n",
      "\n",
      "\u001B[31m2025/06/04 12:39:29 WARNING mlflow.models.model: Model logged without a signature and input example. Please set `input_example` parameter when logging the model to auto infer the model signature.\u001B[0m\n",
      "\n"
     ]
    },
    {
     "name": "stdout",
     "output_type": "stream",
     "text": [
      "[0]\tvalidation-rmse:10.66312                                                    \n",
      "[200]\tvalidation-rmse:6.59721                                                   \n",
      "[400]\tvalidation-rmse:6.53558                                                   \n",
      "[600]\tvalidation-rmse:6.50058                                                   \n",
      "[800]\tvalidation-rmse:6.47813                                                   \n",
      "[999]\tvalidation-rmse:6.46000                                                   \n",
      " 46%|████▌     | 23/50 [32:08<25:27, 56.57s/trial, best loss: 6.322173027684213]"
     ]
    },
    {
     "name": "stderr",
     "output_type": "stream",
     "text": [
      "/Users/bastienwinant/Desktop/projects/mlops-zoomcamp/.venv/lib/python3.9/site-packages/xgboost/core.py:158: UserWarning: [12:40:02] WARNING: /Users/runner/work/xgboost/xgboost/src/c_api/c_api.cc:1374: Saving model in the UBJSON format as default.  You can use file extension: `json`, `ubj` or `deprecated` to choose between formats.\n",
      "  warnings.warn(smsg, UserWarning)\n",
      "\n",
      "\u001B[31m2025/06/04 12:40:12 WARNING mlflow.models.model: Model logged without a signature and input example. Please set `input_example` parameter when logging the model to auto infer the model signature.\u001B[0m\n",
      "\n"
     ]
    },
    {
     "name": "stdout",
     "output_type": "stream",
     "text": [
      "[0]\tvalidation-rmse:8.97523                                                     \n",
      "[200]\tvalidation-rmse:6.42952                                                   \n",
      "[216]\tvalidation-rmse:6.43177                                                   \n",
      " 48%|████▊     | 24/50 [32:54<22:44, 52.49s/trial, best loss: 6.322173027684213]"
     ]
    },
    {
     "name": "stderr",
     "output_type": "stream",
     "text": [
      "/Users/bastienwinant/Desktop/projects/mlops-zoomcamp/.venv/lib/python3.9/site-packages/xgboost/core.py:158: UserWarning: [12:40:48] WARNING: /Users/runner/work/xgboost/xgboost/src/c_api/c_api.cc:1374: Saving model in the UBJSON format as default.  You can use file extension: `json`, `ubj` or `deprecated` to choose between formats.\n",
      "  warnings.warn(smsg, UserWarning)\n",
      "\n",
      "\u001B[31m2025/06/04 12:40:56 WARNING mlflow.models.model: Model logged without a signature and input example. Please set `input_example` parameter when logging the model to auto infer the model signature.\u001B[0m\n",
      "\n"
     ]
    },
    {
     "name": "stdout",
     "output_type": "stream",
     "text": [
      "[0]\tvalidation-rmse:7.77834                                                     \n",
      "[200]\tvalidation-rmse:6.35915                                                   \n",
      "[225]\tvalidation-rmse:6.36162                                                   \n",
      " 50%|█████     | 25/50 [33:26<20:44, 49.77s/trial, best loss: 6.322173027684213]"
     ]
    },
    {
     "name": "stderr",
     "output_type": "stream",
     "text": [
      "/Users/bastienwinant/Desktop/projects/mlops-zoomcamp/.venv/lib/python3.9/site-packages/xgboost/core.py:158: UserWarning: [12:41:20] WARNING: /Users/runner/work/xgboost/xgboost/src/c_api/c_api.cc:1374: Saving model in the UBJSON format as default.  You can use file extension: `json`, `ubj` or `deprecated` to choose between formats.\n",
      "  warnings.warn(smsg, UserWarning)\n",
      "\n",
      "\u001B[31m2025/06/04 12:41:27 WARNING mlflow.models.model: Model logged without a signature and input example. Please set `input_example` parameter when logging the model to auto infer the model signature.\u001B[0m\n",
      "\n"
     ]
    },
    {
     "name": "stdout",
     "output_type": "stream",
     "text": [
      "[0]\tvalidation-rmse:11.80785                                                    \n",
      "[200]\tvalidation-rmse:6.63495                                                   \n",
      "[400]\tvalidation-rmse:6.59514                                                   \n",
      "[600]\tvalidation-rmse:6.56565                                                   \n",
      "[800]\tvalidation-rmse:6.54272                                                   \n",
      "[999]\tvalidation-rmse:6.52337                                                   \n",
      " 52%|█████▏    | 26/50 [34:26<17:43, 44.33s/trial, best loss: 6.322173027684213]"
     ]
    },
    {
     "name": "stderr",
     "output_type": "stream",
     "text": [
      "/Users/bastienwinant/Desktop/projects/mlops-zoomcamp/.venv/lib/python3.9/site-packages/xgboost/core.py:158: UserWarning: [12:42:21] WARNING: /Users/runner/work/xgboost/xgboost/src/c_api/c_api.cc:1374: Saving model in the UBJSON format as default.  You can use file extension: `json`, `ubj` or `deprecated` to choose between formats.\n",
      "  warnings.warn(smsg, UserWarning)\n",
      "\n",
      "\u001B[31m2025/06/04 12:42:28 WARNING mlflow.models.model: Model logged without a signature and input example. Please set `input_example` parameter when logging the model to auto infer the model signature.\u001B[0m\n",
      "\n"
     ]
    },
    {
     "name": "stdout",
     "output_type": "stream",
     "text": [
      "[0]\tvalidation-rmse:11.16403                                                    \n",
      "[200]\tvalidation-rmse:6.49249                                                   \n",
      "[400]\tvalidation-rmse:6.48037                                                   \n",
      "[600]\tvalidation-rmse:6.47365                                                   \n",
      "[800]\tvalidation-rmse:6.47173                                                   \n",
      "[999]\tvalidation-rmse:6.47011                                                   \n",
      " 54%|█████▍    | 27/50 [36:21<18:55, 49.36s/trial, best loss: 6.322173027684213]"
     ]
    },
    {
     "name": "stderr",
     "output_type": "stream",
     "text": [
      "/Users/bastienwinant/Desktop/projects/mlops-zoomcamp/.venv/lib/python3.9/site-packages/xgboost/core.py:158: UserWarning: [12:44:23] WARNING: /Users/runner/work/xgboost/xgboost/src/c_api/c_api.cc:1374: Saving model in the UBJSON format as default.  You can use file extension: `json`, `ubj` or `deprecated` to choose between formats.\n",
      "  warnings.warn(smsg, UserWarning)\n",
      "\n",
      "\u001B[31m2025/06/04 12:44:32 WARNING mlflow.models.model: Model logged without a signature and input example. Please set `input_example` parameter when logging the model to auto infer the model signature.\u001B[0m\n",
      "\n"
     ]
    },
    {
     "name": "stdout",
     "output_type": "stream",
     "text": [
      "[0]\tvalidation-rmse:9.44417                                                     \n",
      "[200]\tvalidation-rmse:6.42349                                                   \n",
      "[353]\tvalidation-rmse:6.41739                                                   \n",
      " 56%|█████▌    | 28/50 [37:22<26:13, 71.52s/trial, best loss: 6.322173027684213]"
     ]
    },
    {
     "name": "stderr",
     "output_type": "stream",
     "text": [
      "/Users/bastienwinant/Desktop/projects/mlops-zoomcamp/.venv/lib/python3.9/site-packages/xgboost/core.py:158: UserWarning: [12:45:17] WARNING: /Users/runner/work/xgboost/xgboost/src/c_api/c_api.cc:1374: Saving model in the UBJSON format as default.  You can use file extension: `json`, `ubj` or `deprecated` to choose between formats.\n",
      "  warnings.warn(smsg, UserWarning)\n",
      "\n",
      "\u001B[31m2025/06/04 12:45:29 WARNING mlflow.models.model: Model logged without a signature and input example. Please set `input_example` parameter when logging the model to auto infer the model signature.\u001B[0m\n",
      "\n"
     ]
    },
    {
     "name": "stdout",
     "output_type": "stream",
     "text": [
      "[0]\tvalidation-rmse:10.83156                                                    \n",
      "[200]\tvalidation-rmse:6.43807                                                   \n",
      "[400]\tvalidation-rmse:6.40711                                                   \n",
      "[594]\tvalidation-rmse:6.40474                                                   \n",
      " 58%|█████▊    | 29/50 [38:50<23:29, 67.13s/trial, best loss: 6.322173027684213]"
     ]
    },
    {
     "name": "stderr",
     "output_type": "stream",
     "text": [
      "/Users/bastienwinant/Desktop/projects/mlops-zoomcamp/.venv/lib/python3.9/site-packages/xgboost/core.py:158: UserWarning: [12:46:47] WARNING: /Users/runner/work/xgboost/xgboost/src/c_api/c_api.cc:1374: Saving model in the UBJSON format as default.  You can use file extension: `json`, `ubj` or `deprecated` to choose between formats.\n",
      "  warnings.warn(smsg, UserWarning)\n",
      "\n",
      "\u001B[31m2025/06/04 12:46:54 WARNING mlflow.models.model: Model logged without a signature and input example. Please set `input_example` parameter when logging the model to auto infer the model signature.\u001B[0m\n",
      "\n"
     ]
    },
    {
     "name": "stdout",
     "output_type": "stream",
     "text": [
      "[0]\tvalidation-rmse:10.27770                                                    \n",
      "[200]\tvalidation-rmse:6.39270                                                   \n",
      "[400]\tvalidation-rmse:6.38419                                                   \n",
      "[527]\tvalidation-rmse:6.38618                                                   \n",
      " 60%|██████    | 30/50 [40:04<24:15, 72.77s/trial, best loss: 6.322173027684213]"
     ]
    },
    {
     "name": "stderr",
     "output_type": "stream",
     "text": [
      "/Users/bastienwinant/Desktop/projects/mlops-zoomcamp/.venv/lib/python3.9/site-packages/xgboost/core.py:158: UserWarning: [12:48:01] WARNING: /Users/runner/work/xgboost/xgboost/src/c_api/c_api.cc:1374: Saving model in the UBJSON format as default.  You can use file extension: `json`, `ubj` or `deprecated` to choose between formats.\n",
      "  warnings.warn(smsg, UserWarning)\n",
      "\n",
      "\u001B[31m2025/06/04 12:48:08 WARNING mlflow.models.model: Model logged without a signature and input example. Please set `input_example` parameter when logging the model to auto infer the model signature.\u001B[0m\n",
      "\n"
     ]
    },
    {
     "name": "stdout",
     "output_type": "stream",
     "text": [
      "[0]\tvalidation-rmse:8.96224                                                     \n",
      "[200]\tvalidation-rmse:6.33398                                                   \n",
      "[357]\tvalidation-rmse:6.32564                                                   \n",
      " 62%|██████▏   | 31/50 [40:52<23:06, 72.96s/trial, best loss: 6.322173027684213]"
     ]
    },
    {
     "name": "stderr",
     "output_type": "stream",
     "text": [
      "/Users/bastienwinant/Desktop/projects/mlops-zoomcamp/.venv/lib/python3.9/site-packages/xgboost/core.py:158: UserWarning: [12:48:46] WARNING: /Users/runner/work/xgboost/xgboost/src/c_api/c_api.cc:1374: Saving model in the UBJSON format as default.  You can use file extension: `json`, `ubj` or `deprecated` to choose between formats.\n",
      "  warnings.warn(smsg, UserWarning)\n",
      "\n",
      "\u001B[31m2025/06/04 12:48:53 WARNING mlflow.models.model: Model logged without a signature and input example. Please set `input_example` parameter when logging the model to auto infer the model signature.\u001B[0m\n",
      "\n"
     ]
    },
    {
     "name": "stdout",
     "output_type": "stream",
     "text": [
      "[0]\tvalidation-rmse:8.75654                                                     \n",
      "[200]\tvalidation-rmse:6.39183                                                   \n",
      "[400]\tvalidation-rmse:6.33481                                                   \n",
      "[600]\tvalidation-rmse:6.32113                                                   \n",
      "[645]\tvalidation-rmse:6.32307                                                   \n",
      " 64%|██████▍   | 32/50 [41:24<19:22, 64.56s/trial, best loss: 6.322173027684213]"
     ]
    },
    {
     "name": "stderr",
     "output_type": "stream",
     "text": [
      "/Users/bastienwinant/Desktop/projects/mlops-zoomcamp/.venv/lib/python3.9/site-packages/xgboost/core.py:158: UserWarning: [12:49:19] WARNING: /Users/runner/work/xgboost/xgboost/src/c_api/c_api.cc:1374: Saving model in the UBJSON format as default.  You can use file extension: `json`, `ubj` or `deprecated` to choose between formats.\n",
      "  warnings.warn(smsg, UserWarning)\n",
      "\n",
      "\u001B[31m2025/06/04 12:49:26 WARNING mlflow.models.model: Model logged without a signature and input example. Please set `input_example` parameter when logging the model to auto infer the model signature.\u001B[0m\n",
      "\n"
     ]
    },
    {
     "name": "stdout",
     "output_type": "stream",
     "text": [
      "[0]\tvalidation-rmse:8.18388                                                     \n",
      "[200]\tvalidation-rmse:6.48066                                                   \n",
      "[400]\tvalidation-rmse:6.44979                                                   \n",
      "[450]\tvalidation-rmse:6.45286                                                   \n",
      " 66%|██████▌   | 33/50 [41:49<15:39, 55.28s/trial, best loss: 6.322173027684213]"
     ]
    },
    {
     "name": "stderr",
     "output_type": "stream",
     "text": [
      "/Users/bastienwinant/Desktop/projects/mlops-zoomcamp/.venv/lib/python3.9/site-packages/xgboost/core.py:158: UserWarning: [12:49:43] WARNING: /Users/runner/work/xgboost/xgboost/src/c_api/c_api.cc:1374: Saving model in the UBJSON format as default.  You can use file extension: `json`, `ubj` or `deprecated` to choose between formats.\n",
      "  warnings.warn(smsg, UserWarning)\n",
      "\n",
      "\u001B[31m2025/06/04 12:49:50 WARNING mlflow.models.model: Model logged without a signature and input example. Please set `input_example` parameter when logging the model to auto infer the model signature.\u001B[0m\n",
      "\n"
     ]
    },
    {
     "name": "stdout",
     "output_type": "stream",
     "text": [
      "[0]\tvalidation-rmse:7.33691                                                     \n",
      "[200]\tvalidation-rmse:6.51102                                                   \n",
      "[400]\tvalidation-rmse:6.41635                                                   \n",
      "[600]\tvalidation-rmse:6.36946                                                   \n",
      "[800]\tvalidation-rmse:6.35356                                                   \n",
      "[976]\tvalidation-rmse:6.34571                                                   \n",
      " 68%|██████▊   | 34/50 [42:19<12:13, 45.86s/trial, best loss: 6.322173027684213]"
     ]
    },
    {
     "name": "stderr",
     "output_type": "stream",
     "text": [
      "/Users/bastienwinant/Desktop/projects/mlops-zoomcamp/.venv/lib/python3.9/site-packages/xgboost/core.py:158: UserWarning: [12:50:13] WARNING: /Users/runner/work/xgboost/xgboost/src/c_api/c_api.cc:1374: Saving model in the UBJSON format as default.  You can use file extension: `json`, `ubj` or `deprecated` to choose between formats.\n",
      "  warnings.warn(smsg, UserWarning)\n",
      "\n",
      "\u001B[31m2025/06/04 12:50:20 WARNING mlflow.models.model: Model logged without a signature and input example. Please set `input_example` parameter when logging the model to auto infer the model signature.\u001B[0m\n",
      "\n"
     ]
    },
    {
     "name": "stdout",
     "output_type": "stream",
     "text": [
      "[0]\tvalidation-rmse:11.24603                                                    \n",
      "[200]\tvalidation-rmse:6.50400                                                   \n",
      "[400]\tvalidation-rmse:6.45398                                                   \n",
      "[600]\tvalidation-rmse:6.42928                                                   \n",
      "[800]\tvalidation-rmse:6.41494                                                   \n",
      "[999]\tvalidation-rmse:6.40582                                                   \n",
      " 70%|███████   | 35/50 [43:39<10:13, 40.90s/trial, best loss: 6.322173027684213]"
     ]
    },
    {
     "name": "stderr",
     "output_type": "stream",
     "text": [
      "/Users/bastienwinant/Desktop/projects/mlops-zoomcamp/.venv/lib/python3.9/site-packages/xgboost/core.py:158: UserWarning: [12:51:36] WARNING: /Users/runner/work/xgboost/xgboost/src/c_api/c_api.cc:1374: Saving model in the UBJSON format as default.  You can use file extension: `json`, `ubj` or `deprecated` to choose between formats.\n",
      "  warnings.warn(smsg, UserWarning)\n",
      "\n",
      "\u001B[31m2025/06/04 12:51:43 WARNING mlflow.models.model: Model logged without a signature and input example. Please set `input_example` parameter when logging the model to auto infer the model signature.\u001B[0m\n",
      "\n"
     ]
    },
    {
     "name": "stdout",
     "output_type": "stream",
     "text": [
      "[0]\tvalidation-rmse:9.95830                                                     \n",
      "[200]\tvalidation-rmse:6.40903                                                   \n",
      "[400]\tvalidation-rmse:6.35266                                                   \n",
      "[600]\tvalidation-rmse:6.32368                                                   \n",
      "[792]\tvalidation-rmse:6.31131                                                   \n",
      " 72%|███████▏  | 36/50 [44:24<12:28, 53.50s/trial, best loss: 6.322173027684213]"
     ]
    },
    {
     "name": "stderr",
     "output_type": "stream",
     "text": [
      "/Users/bastienwinant/Desktop/projects/mlops-zoomcamp/.venv/lib/python3.9/site-packages/xgboost/core.py:158: UserWarning: [12:52:19] WARNING: /Users/runner/work/xgboost/xgboost/src/c_api/c_api.cc:1374: Saving model in the UBJSON format as default.  You can use file extension: `json`, `ubj` or `deprecated` to choose between formats.\n",
      "  warnings.warn(smsg, UserWarning)\n",
      "\n",
      "\u001B[31m2025/06/04 12:52:34 WARNING mlflow.models.model: Model logged without a signature and input example. Please set `input_example` parameter when logging the model to auto infer the model signature.\u001B[0m\n",
      "\n"
     ]
    },
    {
     "name": "stdout",
     "output_type": "stream",
     "text": [
      "[0]\tvalidation-rmse:9.91531                                                     \n",
      "[200]\tvalidation-rmse:6.32871                                                   \n",
      "[400]\tvalidation-rmse:6.31391                                                   \n",
      "[441]\tvalidation-rmse:6.31583                                                   \n",
      " 74%|███████▍  | 37/50 [45:27<11:25, 52.76s/trial, best loss: 6.311247773518201]"
     ]
    },
    {
     "name": "stderr",
     "output_type": "stream",
     "text": [
      "/Users/bastienwinant/Desktop/projects/mlops-zoomcamp/.venv/lib/python3.9/site-packages/xgboost/core.py:158: UserWarning: [12:53:22] WARNING: /Users/runner/work/xgboost/xgboost/src/c_api/c_api.cc:1374: Saving model in the UBJSON format as default.  You can use file extension: `json`, `ubj` or `deprecated` to choose between formats.\n",
      "  warnings.warn(smsg, UserWarning)\n",
      "\n",
      "\u001B[31m2025/06/04 12:53:32 WARNING mlflow.models.model: Model logged without a signature and input example. Please set `input_example` parameter when logging the model to auto infer the model signature.\u001B[0m\n",
      "\n"
     ]
    },
    {
     "name": "stdout",
     "output_type": "stream",
     "text": [
      "[0]\tvalidation-rmse:9.93143                                                     \n",
      "[200]\tvalidation-rmse:6.32492                                                   \n",
      "[400]\tvalidation-rmse:6.30672                                                   \n",
      "[417]\tvalidation-rmse:6.30680                                                   \n",
      " 76%|███████▌  | 38/50 [46:28<10:53, 54.50s/trial, best loss: 6.311247773518201]"
     ]
    },
    {
     "name": "stderr",
     "output_type": "stream",
     "text": [
      "/Users/bastienwinant/Desktop/projects/mlops-zoomcamp/.venv/lib/python3.9/site-packages/xgboost/core.py:158: UserWarning: [12:54:23] WARNING: /Users/runner/work/xgboost/xgboost/src/c_api/c_api.cc:1374: Saving model in the UBJSON format as default.  You can use file extension: `json`, `ubj` or `deprecated` to choose between formats.\n",
      "  warnings.warn(smsg, UserWarning)\n",
      "\n",
      "\u001B[31m2025/06/04 12:54:30 WARNING mlflow.models.model: Model logged without a signature and input example. Please set `input_example` parameter when logging the model to auto infer the model signature.\u001B[0m\n",
      "\n"
     ]
    },
    {
     "name": "stdout",
     "output_type": "stream",
     "text": [
      "[0]\tvalidation-rmse:9.33262                                                     \n",
      "[200]\tvalidation-rmse:6.33552                                                   \n",
      "[244]\tvalidation-rmse:6.33790                                                   \n",
      " 78%|███████▊  | 39/50 [47:15<10:10, 55.46s/trial, best loss: 6.306800700986433]"
     ]
    },
    {
     "name": "stderr",
     "output_type": "stream",
     "text": [
      "/Users/bastienwinant/Desktop/projects/mlops-zoomcamp/.venv/lib/python3.9/site-packages/xgboost/core.py:158: UserWarning: [12:55:10] WARNING: /Users/runner/work/xgboost/xgboost/src/c_api/c_api.cc:1374: Saving model in the UBJSON format as default.  You can use file extension: `json`, `ubj` or `deprecated` to choose between formats.\n",
      "  warnings.warn(smsg, UserWarning)\n",
      "\n",
      "\u001B[31m2025/06/04 12:55:18 WARNING mlflow.models.model: Model logged without a signature and input example. Please set `input_example` parameter when logging the model to auto infer the model signature.\u001B[0m\n",
      "\n"
     ]
    },
    {
     "name": "stdout",
     "output_type": "stream",
     "text": [
      "[0]\tvalidation-rmse:10.09450                                                    \n",
      "[200]\tvalidation-rmse:6.40938                                                   \n",
      "[330]\tvalidation-rmse:6.39909                                                   \n",
      " 80%|████████  | 40/50 [48:07<08:52, 53.26s/trial, best loss: 6.306800700986433]"
     ]
    },
    {
     "name": "stderr",
     "output_type": "stream",
     "text": [
      "/Users/bastienwinant/Desktop/projects/mlops-zoomcamp/.venv/lib/python3.9/site-packages/xgboost/core.py:158: UserWarning: [12:56:02] WARNING: /Users/runner/work/xgboost/xgboost/src/c_api/c_api.cc:1374: Saving model in the UBJSON format as default.  You can use file extension: `json`, `ubj` or `deprecated` to choose between formats.\n",
      "  warnings.warn(smsg, UserWarning)\n",
      "\n",
      "\u001B[31m2025/06/04 12:56:09 WARNING mlflow.models.model: Model logged without a signature and input example. Please set `input_example` parameter when logging the model to auto infer the model signature.\u001B[0m\n",
      "\n"
     ]
    },
    {
     "name": "stdout",
     "output_type": "stream",
     "text": [
      "[0]\tvalidation-rmse:10.48770                                                    \n",
      "[200]\tvalidation-rmse:6.41624                                                   \n",
      "[400]\tvalidation-rmse:6.38624                                                   \n",
      "[544]\tvalidation-rmse:6.38135                                                   \n",
      " 82%|████████▏ | 41/50 [49:15<07:53, 52.59s/trial, best loss: 6.306800700986433]"
     ]
    },
    {
     "name": "stderr",
     "output_type": "stream",
     "text": [
      "/Users/bastienwinant/Desktop/projects/mlops-zoomcamp/.venv/lib/python3.9/site-packages/xgboost/core.py:158: UserWarning: [12:57:11] WARNING: /Users/runner/work/xgboost/xgboost/src/c_api/c_api.cc:1374: Saving model in the UBJSON format as default.  You can use file extension: `json`, `ubj` or `deprecated` to choose between formats.\n",
      "  warnings.warn(smsg, UserWarning)\n",
      "\n",
      "\u001B[31m2025/06/04 12:57:21 WARNING mlflow.models.model: Model logged without a signature and input example. Please set `input_example` parameter when logging the model to auto infer the model signature.\u001B[0m\n",
      "\n"
     ]
    },
    {
     "name": "stdout",
     "output_type": "stream",
     "text": [
      "[0]\tvalidation-rmse:9.76666                                                     \n",
      "[200]\tvalidation-rmse:6.41646                                                   \n",
      "[213]\tvalidation-rmse:6.41658                                                   \n",
      " 84%|████████▍ | 42/50 [50:24<07:48, 58.51s/trial, best loss: 6.306800700986433]"
     ]
    },
    {
     "name": "stderr",
     "output_type": "stream",
     "text": [
      "/Users/bastienwinant/Desktop/projects/mlops-zoomcamp/.venv/lib/python3.9/site-packages/xgboost/core.py:158: UserWarning: [12:58:19] WARNING: /Users/runner/work/xgboost/xgboost/src/c_api/c_api.cc:1374: Saving model in the UBJSON format as default.  You can use file extension: `json`, `ubj` or `deprecated` to choose between formats.\n",
      "  warnings.warn(smsg, UserWarning)\n",
      "\n",
      "\u001B[31m2025/06/04 12:58:29 WARNING mlflow.models.model: Model logged without a signature and input example. Please set `input_example` parameter when logging the model to auto infer the model signature.\u001B[0m\n",
      "\n"
     ]
    },
    {
     "name": "stdout",
     "output_type": "stream",
     "text": [
      "[0]\tvalidation-rmse:7.08201                                                     \n",
      "[116]\tvalidation-rmse:6.39597                                                   \n",
      " 86%|████████▌ | 43/50 [51:10<07:08, 61.17s/trial, best loss: 6.306800700986433]"
     ]
    },
    {
     "name": "stderr",
     "output_type": "stream",
     "text": [
      "/Users/bastienwinant/Desktop/projects/mlops-zoomcamp/.venv/lib/python3.9/site-packages/xgboost/core.py:158: UserWarning: [12:59:05] WARNING: /Users/runner/work/xgboost/xgboost/src/c_api/c_api.cc:1374: Saving model in the UBJSON format as default.  You can use file extension: `json`, `ubj` or `deprecated` to choose between formats.\n",
      "  warnings.warn(smsg, UserWarning)\n",
      "\n",
      "\u001B[31m2025/06/04 12:59:22 WARNING mlflow.models.model: Model logged without a signature and input example. Please set `input_example` parameter when logging the model to auto infer the model signature.\u001B[0m\n",
      "\n"
     ]
    },
    {
     "name": "stdout",
     "output_type": "stream",
     "text": [
      "[0]\tvalidation-rmse:10.88154                                                    \n",
      "[200]\tvalidation-rmse:6.45071                                                   \n",
      "[400]\tvalidation-rmse:6.39402                                                   \n",
      "[600]\tvalidation-rmse:6.36238                                                   \n",
      "[800]\tvalidation-rmse:6.34215                                                   \n",
      "[999]\tvalidation-rmse:6.32995                                                   \n",
      " 88%|████████▊ | 44/50 [53:00<05:52, 58.72s/trial, best loss: 6.306800700986433]"
     ]
    },
    {
     "name": "stderr",
     "output_type": "stream",
     "text": [
      "/Users/bastienwinant/Desktop/projects/mlops-zoomcamp/.venv/lib/python3.9/site-packages/xgboost/core.py:158: UserWarning: [13:00:55] WARNING: /Users/runner/work/xgboost/xgboost/src/c_api/c_api.cc:1374: Saving model in the UBJSON format as default.  You can use file extension: `json`, `ubj` or `deprecated` to choose between formats.\n",
      "  warnings.warn(smsg, UserWarning)\n",
      "\n",
      "\u001B[31m2025/06/04 13:01:15 WARNING mlflow.models.model: Model logged without a signature and input example. Please set `input_example` parameter when logging the model to auto infer the model signature.\u001B[0m\n",
      "\n"
     ]
    },
    {
     "name": "stdout",
     "output_type": "stream",
     "text": [
      "[0]\tvalidation-rmse:9.32959                                                     \n",
      "[200]\tvalidation-rmse:6.48778                                                   \n",
      "[400]\tvalidation-rmse:6.40451                                                   \n",
      "[600]\tvalidation-rmse:6.36133                                                   \n",
      "[800]\tvalidation-rmse:6.33043                                                   \n",
      "[999]\tvalidation-rmse:6.31410                                                   \n",
      " 90%|█████████ | 45/50 [54:05<06:15, 75.16s/trial, best loss: 6.306800700986433]"
     ]
    },
    {
     "name": "stderr",
     "output_type": "stream",
     "text": [
      "/Users/bastienwinant/Desktop/projects/mlops-zoomcamp/.venv/lib/python3.9/site-packages/xgboost/core.py:158: UserWarning: [13:01:59] WARNING: /Users/runner/work/xgboost/xgboost/src/c_api/c_api.cc:1374: Saving model in the UBJSON format as default.  You can use file extension: `json`, `ubj` or `deprecated` to choose between formats.\n",
      "  warnings.warn(smsg, UserWarning)\n",
      "\n",
      "\u001B[31m2025/06/04 13:02:08 WARNING mlflow.models.model: Model logged without a signature and input example. Please set `input_example` parameter when logging the model to auto infer the model signature.\u001B[0m\n",
      "\n"
     ]
    },
    {
     "name": "stdout",
     "output_type": "stream",
     "text": [
      "[0]\tvalidation-rmse:10.25933                                                    \n",
      "[200]\tvalidation-rmse:6.43123                                                   \n",
      "[400]\tvalidation-rmse:6.40062                                                   \n",
      "[600]\tvalidation-rmse:6.39052                                                   \n",
      "[800]\tvalidation-rmse:6.38550                                                   \n",
      "[999]\tvalidation-rmse:6.38173                                                   \n",
      " 92%|█████████▏| 46/50 [55:14<04:34, 68.52s/trial, best loss: 6.306800700986433]"
     ]
    },
    {
     "name": "stderr",
     "output_type": "stream",
     "text": [
      "/Users/bastienwinant/Desktop/projects/mlops-zoomcamp/.venv/lib/python3.9/site-packages/xgboost/core.py:158: UserWarning: [13:03:09] WARNING: /Users/runner/work/xgboost/xgboost/src/c_api/c_api.cc:1374: Saving model in the UBJSON format as default.  You can use file extension: `json`, `ubj` or `deprecated` to choose between formats.\n",
      "  warnings.warn(smsg, UserWarning)\n",
      "\n",
      "\u001B[31m2025/06/04 13:03:18 WARNING mlflow.models.model: Model logged without a signature and input example. Please set `input_example` parameter when logging the model to auto infer the model signature.\u001B[0m\n",
      "\n"
     ]
    },
    {
     "name": "stdout",
     "output_type": "stream",
     "text": [
      "[0]\tvalidation-rmse:11.70886                                                    \n",
      "[200]\tvalidation-rmse:6.54637                                                   \n",
      "[400]\tvalidation-rmse:6.50375                                                   \n",
      "[600]\tvalidation-rmse:6.47428                                                   \n",
      "[800]\tvalidation-rmse:6.45304                                                   \n",
      "[999]\tvalidation-rmse:6.43615                                                   \n",
      " 94%|█████████▍| 47/50 [57:15<03:26, 68.96s/trial, best loss: 6.306800700986433]"
     ]
    },
    {
     "name": "stderr",
     "output_type": "stream",
     "text": [
      "/Users/bastienwinant/Desktop/projects/mlops-zoomcamp/.venv/lib/python3.9/site-packages/xgboost/core.py:158: UserWarning: [13:05:12] WARNING: /Users/runner/work/xgboost/xgboost/src/c_api/c_api.cc:1374: Saving model in the UBJSON format as default.  You can use file extension: `json`, `ubj` or `deprecated` to choose between formats.\n",
      "  warnings.warn(smsg, UserWarning)\n",
      "\n",
      "\u001B[31m2025/06/04 13:05:21 WARNING mlflow.models.model: Model logged without a signature and input example. Please set `input_example` parameter when logging the model to auto infer the model signature.\u001B[0m\n",
      "\n"
     ]
    },
    {
     "name": "stdout",
     "output_type": "stream",
     "text": [
      "[0]\tvalidation-rmse:9.66920                                                     \n",
      "[200]\tvalidation-rmse:6.33823                                                   \n",
      "[349]\tvalidation-rmse:6.33513                                                   \n",
      " 96%|█████████▌| 48/50 [57:58<02:50, 85.16s/trial, best loss: 6.306800700986433]"
     ]
    },
    {
     "name": "stderr",
     "output_type": "stream",
     "text": [
      "/Users/bastienwinant/Desktop/projects/mlops-zoomcamp/.venv/lib/python3.9/site-packages/xgboost/core.py:158: UserWarning: [13:05:53] WARNING: /Users/runner/work/xgboost/xgboost/src/c_api/c_api.cc:1374: Saving model in the UBJSON format as default.  You can use file extension: `json`, `ubj` or `deprecated` to choose between formats.\n",
      "  warnings.warn(smsg, UserWarning)\n",
      "\n",
      "\u001B[31m2025/06/04 13:06:00 WARNING mlflow.models.model: Model logged without a signature and input example. Please set `input_example` parameter when logging the model to auto infer the model signature.\u001B[0m\n",
      "\n"
     ]
    },
    {
     "name": "stdout",
     "output_type": "stream",
     "text": [
      "[0]\tvalidation-rmse:11.46779                                                    \n",
      "[200]\tvalidation-rmse:6.66846                                                   \n",
      "[400]\tvalidation-rmse:6.65745                                                   \n",
      "[600]\tvalidation-rmse:6.65039                                                   \n",
      "[800]\tvalidation-rmse:6.64630                                                   \n",
      "[999]\tvalidation-rmse:6.64307                                                   \n",
      " 98%|█████████▊| 49/50 [58:56<01:11, 71.18s/trial, best loss: 6.306800700986433]"
     ]
    },
    {
     "name": "stderr",
     "output_type": "stream",
     "text": [
      "/Users/bastienwinant/Desktop/projects/mlops-zoomcamp/.venv/lib/python3.9/site-packages/xgboost/core.py:158: UserWarning: [13:06:52] WARNING: /Users/runner/work/xgboost/xgboost/src/c_api/c_api.cc:1374: Saving model in the UBJSON format as default.  You can use file extension: `json`, `ubj` or `deprecated` to choose between formats.\n",
      "  warnings.warn(smsg, UserWarning)\n",
      "\n",
      "\u001B[31m2025/06/04 13:07:00 WARNING mlflow.models.model: Model logged without a signature and input example. Please set `input_example` parameter when logging the model to auto infer the model signature.\u001B[0m\n",
      "\n"
     ]
    },
    {
     "name": "stdout",
     "output_type": "stream",
     "text": [
      "100%|██████████| 50/50 [59:07<00:00, 70.94s/trial, best loss: 6.306800700986433]\n"
     ]
    }
   ],
   "execution_count": 19
  },
  {
   "metadata": {
    "ExecuteTime": {
     "end_time": "2025-06-04T14:42:44.685312Z",
     "start_time": "2025-06-04T14:42:44.678528Z"
    }
   },
   "cell_type": "code",
   "source": [
    "params = {\n",
    "    'learning_rate': 0.23768760883453516,\n",
    "    'max_depth': 32,\n",
    "    'min_child_weight': 1.4255637138891217,\n",
    "    'objective': 'reg:squarederror',\n",
    "    'reg_alpha': 0.20333941491253288,\n",
    "    'reg_lambda': 0.014135076785365224,\n",
    "    'seed': 42\n",
    "}"
   ],
   "id": "74aa26b0613347e6",
   "outputs": [],
   "execution_count": 13
  },
  {
   "metadata": {
    "ExecuteTime": {
     "end_time": "2025-06-04T14:44:58.159608Z",
     "start_time": "2025-06-04T14:44:08.641940Z"
    }
   },
   "cell_type": "code",
   "source": [
    "booster = xgb.train(\n",
    "    params=params,\n",
    "    dtrain=train,\n",
    "    num_boost_round=1000,\n",
    "    evals=[(valid, \"validation\")],\n",
    "    early_stopping_rounds=50,\n",
    "    verbose_eval=200\n",
    ")\n",
    "\n",
    "y_preds = booster.predict(valid)\n",
    "rmse = root_mean_squared_error(y_val, y_preds)\n",
    "\n",
    "with mlflow.start_run():\n",
    "    mlflow.set_tag(\"developer\", \"Armand Winant\")\n",
    "\n",
    "    mlflow.log_param(\"training-data\", \"https://d37ci6vzurychx.cloudfront.net/trip-data/green_tripdata_2021-01.parquet\")\n",
    "    mlflow.log_param(\"validation-data\", \"https://d37ci6vzurychx.cloudfront.net/trip-data/green_tripdata_2021-02.parquet\")\n",
    "\n",
    "    mlflow.log_artifact(\"models/preprocessor.b\", artifact_path=\"preprocessor\")\n",
    "    mlflow.log_params(params)\n",
    "    mlflow.xgboost.log_model(booster, \"model\")\n",
    "    mlflow.log_metric(\"rmse\", rmse)"
   ],
   "id": "c4b37bc1751a3ec4",
   "outputs": [
    {
     "name": "stdout",
     "output_type": "stream",
     "text": [
      "[0]\tvalidation-rmse:10.35446\n",
      "[200]\tvalidation-rmse:6.35461\n",
      "[400]\tvalidation-rmse:6.31678\n",
      "[581]\tvalidation-rmse:6.30616\n"
     ]
    },
    {
     "name": "stderr",
     "output_type": "stream",
     "text": [
      "/Users/bastienwinant/Desktop/projects/mlops-zoomcamp/.venv/lib/python3.9/site-packages/xgboost/core.py:158: UserWarning: [16:44:46] WARNING: /Users/runner/work/xgboost/xgboost/src/c_api/c_api.cc:1374: Saving model in the UBJSON format as default.  You can use file extension: `json`, `ubj` or `deprecated` to choose between formats.\n",
      "  warnings.warn(smsg, UserWarning)\n",
      "\u001B[31m2025/06/04 16:44:58 WARNING mlflow.models.model: Model logged without a signature and input example. Please set `input_example` parameter when logging the model to auto infer the model signature.\u001B[0m\n"
     ]
    }
   ],
   "execution_count": 16
  },
  {
   "metadata": {},
   "cell_type": "markdown",
   "source": "### Random Forest",
   "id": "a272010f134bd70c"
  },
  {
   "metadata": {
    "ExecuteTime": {
     "end_time": "2025-06-04T11:20:30.257632Z",
     "start_time": "2025-06-04T11:07:50.184830Z"
    }
   },
   "cell_type": "code",
   "source": [
    "rf = RandomForestRegressor()\n",
    "train_model(rf, X_train, y_train)\n",
    "y_preds = rf.predict(X_val)\n",
    "rmse = root_mean_squared_error(y_val, y_preds)"
   ],
   "id": "5a1fcda55a193971",
   "outputs": [],
   "execution_count": 22
  },
  {
   "metadata": {
    "ExecuteTime": {
     "end_time": "2025-06-04T11:20:41.042537Z",
     "start_time": "2025-06-04T11:20:30.807229Z"
    }
   },
   "cell_type": "code",
   "source": [
    "with mlflow.start_run():\n",
    "    mlflow.set_tag(\"developer\", \"Armand Winant\")\n",
    "\n",
    "    mlflow.log_param(\"training-data\", \"https://d37ci6vzurychx.cloudfront.net/trip-data/green_tripdata_2021-01.parquet\")\n",
    "    mlflow.log_param(\"validation-data\", \"https://d37ci6vzurychx.cloudfront.net/trip-data/green_tripdata_2021-02.parquet\")\n",
    "    mlflow.log_param(\"model\", \"RandomForestRegressor\")\n",
    "\n",
    "    mlflow.log_artifact(\"models/preprocessor.b\", artifact_path=\"preprocessor\")\n",
    "    mlflow.sklearn.log_model(rf, \"model\")\n",
    "    mlflow.log_metric(\"rmse\", rmse)"
   ],
   "id": "dae9fe0839a62443",
   "outputs": [
    {
     "name": "stderr",
     "output_type": "stream",
     "text": [
      "\u001B[31m2025/06/04 13:20:40 WARNING mlflow.models.model: Model logged without a signature and input example. Please set `input_example` parameter when logging the model to auto infer the model signature.\u001B[0m\n"
     ]
    }
   ],
   "execution_count": 23
  },
  {
   "metadata": {},
   "cell_type": "markdown",
   "source": "### Linear SVR",
   "id": "30b037753defc7e7"
  },
  {
   "metadata": {
    "ExecuteTime": {
     "end_time": "2025-06-04T12:03:45.320044Z",
     "start_time": "2025-06-04T11:20:41.248989Z"
    }
   },
   "cell_type": "code",
   "source": [
    "svr = LinearSVR(max_iter=10000000)\n",
    "train_model(svr, X_train, y_train)\n",
    "y_preds = svr.predict(X_val)\n",
    "rmse = root_mean_squared_error(y_val, y_preds)"
   ],
   "id": "df9b8c6fc23e48fc",
   "outputs": [],
   "execution_count": 24
  },
  {
   "metadata": {
    "ExecuteTime": {
     "end_time": "2025-06-04T12:03:53.023219Z",
     "start_time": "2025-06-04T12:03:45.939324Z"
    }
   },
   "cell_type": "code",
   "source": [
    "with mlflow.start_run():\n",
    "    mlflow.set_tag(\"developer\", \"Armand Winant\")\n",
    "\n",
    "    mlflow.log_param(\"training-data\", \"https://d37ci6vzurychx.cloudfront.net/trip-data/green_tripdata_2021-01.parquet\")\n",
    "    mlflow.log_param(\"validation-data\", \"https://d37ci6vzurychx.cloudfront.net/trip-data/green_tripdata_2021-02.parquet\")\n",
    "    mlflow.log_param(\"model\", \"LinearSVR\")\n",
    "\n",
    "    mlflow.log_artifact(\"models/preprocessor.b\", artifact_path=\"preprocessor\")\n",
    "    mlflow.sklearn.log_model(svr, \"model\")\n",
    "    mlflow.log_metric(\"rmse\", rmse)"
   ],
   "id": "432a5cba7dc2cab",
   "outputs": [
    {
     "name": "stderr",
     "output_type": "stream",
     "text": [
      "\u001B[31m2025/06/04 14:03:52 WARNING mlflow.models.model: Model logged without a signature and input example. Please set `input_example` parameter when logging the model to auto infer the model signature.\u001B[0m\n"
     ]
    }
   ],
   "execution_count": 25
  },
  {
   "metadata": {},
   "cell_type": "markdown",
   "source": "### Gradient Boosting",
   "id": "6cc8d4c6eafd8fdf"
  },
  {
   "metadata": {
    "ExecuteTime": {
     "end_time": "2025-06-04T12:03:57.169484Z",
     "start_time": "2025-06-04T12:03:53.076901Z"
    }
   },
   "cell_type": "code",
   "source": [
    "gb = GradientBoostingRegressor()\n",
    "train_model(gb, X_train, y_train)\n",
    "y_preds = gb.predict(X_val)\n",
    "rmse = root_mean_squared_error(y_val, y_preds)"
   ],
   "id": "2dd237d30a3edf73",
   "outputs": [],
   "execution_count": 26
  },
  {
   "metadata": {
    "ExecuteTime": {
     "end_time": "2025-06-04T12:04:07.078797Z",
     "start_time": "2025-06-04T12:03:57.887651Z"
    }
   },
   "cell_type": "code",
   "source": [
    "with mlflow.start_run():\n",
    "    mlflow.set_tag(\"developer\", \"Armand Winant\")\n",
    "\n",
    "    mlflow.log_param(\"training-data\", \"https://d37ci6vzurychx.cloudfront.net/trip-data/green_tripdata_2021-01.parquet\")\n",
    "    mlflow.log_param(\"validation-data\", \"https://d37ci6vzurychx.cloudfront.net/trip-data/green_tripdata_2021-02.parquet\")\n",
    "    mlflow.log_param(\"model\", \"GradientBoostingRegressor\")\n",
    "\n",
    "    mlflow.log_artifact(\"models/preprocessor.b\", artifact_path=\"preprocessor\")\n",
    "    mlflow.sklearn.log_model(gb, \"model\")\n",
    "    mlflow.log_metric(\"rmse\", rmse)"
   ],
   "id": "9aca2698561fd2a2",
   "outputs": [
    {
     "name": "stderr",
     "output_type": "stream",
     "text": [
      "\u001B[31m2025/06/04 14:04:07 WARNING mlflow.models.model: Model logged without a signature and input example. Please set `input_example` parameter when logging the model to auto infer the model signature.\u001B[0m\n"
     ]
    }
   ],
   "execution_count": 27
  },
  {
   "metadata": {},
   "cell_type": "markdown",
   "source": "### Extra Trees",
   "id": "a3967290e3fb4b14"
  },
  {
   "metadata": {
    "ExecuteTime": {
     "end_time": "2025-06-04T12:47:17.861154Z",
     "start_time": "2025-06-04T12:04:07.343874Z"
    }
   },
   "cell_type": "code",
   "source": [
    "et = ExtraTreesRegressor()\n",
    "train_model(et, X_train, y_train)\n",
    "y_preds = et.predict(X_val)\n",
    "rmse = root_mean_squared_error(y_val, y_preds)"
   ],
   "id": "ad92459c9f76c0de",
   "outputs": [],
   "execution_count": 28
  },
  {
   "metadata": {
    "ExecuteTime": {
     "end_time": "2025-06-04T12:47:30.307801Z",
     "start_time": "2025-06-04T12:47:17.944413Z"
    }
   },
   "cell_type": "code",
   "source": [
    "with mlflow.start_run():\n",
    "    mlflow.set_tag(\"developer\", \"Armand Winant\")\n",
    "\n",
    "    mlflow.log_param(\"training-data\", \"https://d37ci6vzurychx.cloudfront.net/trip-data/green_tripdata_2021-01.parquet\")\n",
    "    mlflow.log_param(\"validation-data\", \"https://d37ci6vzurychx.cloudfront.net/trip-data/green_tripdata_2021-02.parquet\")\n",
    "    mlflow.log_param(\"model\", \"ExtraTreesRegressor\")\n",
    "\n",
    "    mlflow.log_artifact(\"models/preprocessor.b\", artifact_path=\"preprocessor\")\n",
    "    mlflow.sklearn.log_model(et, \"model\")\n",
    "    mlflow.log_metric(\"rmse\", rmse)"
   ],
   "id": "9ef1637d1203032e",
   "outputs": [
    {
     "name": "stderr",
     "output_type": "stream",
     "text": [
      "\u001B[31m2025/06/04 14:47:29 WARNING mlflow.models.model: Model logged without a signature and input example. Please set `input_example` parameter when logging the model to auto infer the model signature.\u001B[0m\n"
     ]
    }
   ],
   "execution_count": 29
  },
  {
   "metadata": {},
   "cell_type": "markdown",
   "source": "## Model Management",
   "id": "31d93c3ac4b1814c"
  },
  {
   "metadata": {
    "ExecuteTime": {
     "end_time": "2025-06-04T14:49:27.316147Z",
     "start_time": "2025-06-04T14:49:23.726163Z"
    }
   },
   "cell_type": "code",
   "source": [
    "logged_model = 'runs:/ef2155ec11214def8ebe2c038790cd9b/model'\n",
    "\n",
    "# Load model as a PyFuncModel.\n",
    "loaded_model = mlflow.pyfunc.load_model(logged_model)\n",
    "\n",
    "# Predict on a Pandas DataFrame.\n",
    "y_preds = loaded_model.predict(X_val)\n",
    "rmse = root_mean_squared_error(y_val, y_preds)"
   ],
   "id": "c19810f7443d77b6",
   "outputs": [],
   "execution_count": 18
  },
  {
   "metadata": {
    "ExecuteTime": {
     "end_time": "2025-06-04T14:50:23.975864Z",
     "start_time": "2025-06-04T14:50:23.909090Z"
    }
   },
   "cell_type": "code",
   "source": "xgboost_model = mlflow.xgboost.load_model(logged_model)",
   "id": "ed0278fd7ec96fab",
   "outputs": [],
   "execution_count": 20
  },
  {
   "metadata": {
    "ExecuteTime": {
     "end_time": "2025-06-04T14:50:55.337251Z",
     "start_time": "2025-06-04T14:50:51.920109Z"
    }
   },
   "cell_type": "code",
   "source": [
    "y_preds = xgboost_model.predict(valid)\n",
    "rmse = root_mean_squared_error(y_val, y_preds)\n",
    "rmse"
   ],
   "id": "85b7755f6a2a32ef",
   "outputs": [
    {
     "data": {
      "text/plain": [
       "6.305945326886427"
      ]
     },
     "execution_count": 21,
     "metadata": {},
     "output_type": "execute_result"
    }
   ],
   "execution_count": 21
  },
  {
   "metadata": {},
   "cell_type": "code",
   "outputs": [],
   "execution_count": null,
   "source": "",
   "id": "8ab6bb06697d625e"
  }
 ],
 "metadata": {},
 "nbformat": 4,
 "nbformat_minor": 5
}
