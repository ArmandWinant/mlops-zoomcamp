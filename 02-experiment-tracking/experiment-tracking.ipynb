{
 "cells": [
  {
   "metadata": {},
   "cell_type": "markdown",
   "source": [
    "# Experiment Tracking\n",
    "## Preprocessing"
   ],
   "id": "8df1e33eddbe486a"
  },
  {
   "metadata": {
    "ExecuteTime": {
     "end_time": "2025-06-03T21:01:37.369111Z",
     "start_time": "2025-06-03T21:00:43.622902Z"
    }
   },
   "cell_type": "code",
   "source": [
    "import pandas as pd\n",
    "from sklearn.feature_extraction import DictVectorizer\n",
    "from sklearn.linear_model import LinearRegression, Lasso, Ridge\n",
    "from sklearn.metrics import root_mean_squared_error\n",
    "import xgboost as xgb\n",
    "from hyperopt import tpe, hp, Trials, STATUS_OK, fmin\n",
    "from hyperopt.pyll import scope\n",
    "import mlflow"
   ],
   "id": "3ff847c79c1fa77f",
   "outputs": [
    {
     "name": "stderr",
     "output_type": "stream",
     "text": [
      "/Users/bastienwinant/Desktop/projects/mlops-zoomcamp/.venv/lib/python3.9/site-packages/urllib3/__init__.py:35: NotOpenSSLWarning: urllib3 v2 only supports OpenSSL 1.1.1+, currently the 'ssl' module is compiled with 'LibreSSL 2.8.3'. See: https://github.com/urllib3/urllib3/issues/3020\n",
      "  warnings.warn(\n"
     ]
    }
   ],
   "execution_count": 1
  },
  {
   "metadata": {
    "ExecuteTime": {
     "end_time": "2025-05-14T21:54:17.729601Z",
     "start_time": "2025-05-14T21:54:17.723402Z"
    }
   },
   "cell_type": "code",
   "source": "pd.options.mode.copy_on_write = True",
   "id": "d5fb4c12e68866bd",
   "outputs": [],
   "execution_count": 66
  },
  {
   "metadata": {
    "ExecuteTime": {
     "end_time": "2025-05-14T21:54:17.806436Z",
     "start_time": "2025-05-14T21:54:17.797848Z"
    }
   },
   "cell_type": "code",
   "source": [
    "def preprocessing(df):\n",
    "    # compute target variables: trip duration in minutes\n",
    "    df['duration'] = df.lpep_dropoff_datetime - df.lpep_pickup_datetime\n",
    "    df.duration = df.duration.apply(lambda td: td.total_seconds() / 60)\n",
    "\n",
    "    # keep only trips of less than an hour\n",
    "    df = df.loc[(df.duration >= 1) & (df.duration <= 60), :]\n",
    "\n",
    "    # extract trip date components\n",
    "    df['trip_month'] = pd.Categorical(df.lpep_pickup_datetime.dt.month)\n",
    "    df['trip_dom'] = pd.Categorical(df.lpep_pickup_datetime.dt.day)\n",
    "    df['trip_hour'] = pd.Categorical(df.lpep_pickup_datetime.dt.hour)\n",
    "\n",
    "    # concatenate pickup and dropoff locations\n",
    "    df['PU_DO'] = df['PULocationID'].astype(str) + '_' + df['DOLocationID'].astype(str)\n",
    "\n",
    "    return df"
   ],
   "id": "5424649b7d8738a1",
   "outputs": [],
   "execution_count": 67
  },
  {
   "metadata": {
    "ExecuteTime": {
     "end_time": "2025-05-14T21:54:17.852503Z",
     "start_time": "2025-05-14T21:54:17.846623Z"
    }
   },
   "cell_type": "code",
   "source": [
    "def one_hot_encoding(df, numerical, categorical, dv=None):\n",
    "    df[categorical] = df[categorical].astype(str)\n",
    "    df_dicts = df[categorical + numerical].to_dict(orient='records')\n",
    "\n",
    "    if not dv:\n",
    "        dv = DictVectorizer()\n",
    "        dv.fit(df_dicts)\n",
    "\n",
    "    X_train = dv.transform(df_dicts)\n",
    "\n",
    "    return X_train, dv"
   ],
   "id": "17eb76d5b94f943d",
   "outputs": [],
   "execution_count": 68
  },
  {
   "metadata": {
    "ExecuteTime": {
     "end_time": "2025-05-14T21:54:17.907768Z",
     "start_time": "2025-05-14T21:54:17.901375Z"
    }
   },
   "cell_type": "code",
   "source": [
    "def train_model(model, X_train, y_train):\n",
    "    model.fit(X_train, y_train)"
   ],
   "id": "693c95161945494d",
   "outputs": [],
   "execution_count": 69
  },
  {
   "metadata": {
    "ExecuteTime": {
     "end_time": "2025-05-14T21:54:18.717519Z",
     "start_time": "2025-05-14T21:54:17.948333Z"
    }
   },
   "cell_type": "code",
   "source": [
    "# read im the raw data\n",
    "df_train = pd.read_parquet('https://d37ci6vzurychx.cloudfront.net/trip-data/green_tripdata_2021-01.parquet')\n",
    "df_val = pd.read_parquet('https://d37ci6vzurychx.cloudfront.net/trip-data/green_tripdata_2021-02.parquet')"
   ],
   "id": "20a9ba2f453c66cf",
   "outputs": [],
   "execution_count": 70
  },
  {
   "metadata": {
    "ExecuteTime": {
     "end_time": "2025-05-14T21:54:19.355989Z",
     "start_time": "2025-05-14T21:54:18.751697Z"
    }
   },
   "cell_type": "code",
   "source": [
    "# data cleaning\n",
    "df_train = preprocessing(df_train)\n",
    "df_val = preprocessing(df_val)"
   ],
   "id": "d0c6ea0e5f1b372c",
   "outputs": [],
   "execution_count": 71
  },
  {
   "metadata": {
    "ExecuteTime": {
     "end_time": "2025-05-14T21:54:19.405469Z",
     "start_time": "2025-05-14T21:54:19.401317Z"
    }
   },
   "cell_type": "code",
   "source": [
    "# variable selection\n",
    "categorical = ['PU_DO']\n",
    "numerical = ['trip_distance']"
   ],
   "id": "10b8d92f00b44798",
   "outputs": [],
   "execution_count": 72
  },
  {
   "metadata": {
    "ExecuteTime": {
     "end_time": "2025-05-14T21:54:20.171352Z",
     "start_time": "2025-05-14T21:54:19.448024Z"
    }
   },
   "cell_type": "code",
   "source": [
    "# categorical feature encoding\n",
    "X_train, dv = one_hot_encoding(df_train, numerical, categorical)\n",
    "X_val, _ = one_hot_encoding(df_val, numerical, categorical, dv=dv)"
   ],
   "id": "27a0aa67399448a6",
   "outputs": [],
   "execution_count": 73
  },
  {
   "metadata": {
    "ExecuteTime": {
     "end_time": "2025-05-14T21:54:20.213385Z",
     "start_time": "2025-05-14T21:54:20.208706Z"
    }
   },
   "cell_type": "code",
   "source": [
    "target = 'duration'\n",
    "y_train = df_train[target]\n",
    "y_val = df_val[target]"
   ],
   "id": "960e4afd67227c7a",
   "outputs": [],
   "execution_count": 74
  },
  {
   "metadata": {},
   "cell_type": "markdown",
   "source": "## Manual Logging",
   "id": "b343df9511648dac"
  },
  {
   "metadata": {},
   "cell_type": "code",
   "outputs": [],
   "execution_count": null,
   "source": [
    "mlflow.set_tracking_uri(\"sqlite:///mlflow.db\")\n",
    "mlflow.set_experiment(\"nyc-taxi-experiment\")"
   ],
   "id": "ca430aea154d6ff1"
  },
  {
   "metadata": {},
   "cell_type": "code",
   "outputs": [],
   "execution_count": null,
   "source": [
    "mlflow.sklearn.autolog(disable=True)\n",
    "mlflow.xgboost.autolog(disable=True)"
   ],
   "id": "500723f69154fdfd"
  },
  {
   "metadata": {},
   "cell_type": "markdown",
   "source": "### Lasso",
   "id": "c152812741698591"
  },
  {
   "metadata": {},
   "cell_type": "code",
   "outputs": [],
   "execution_count": null,
   "source": [
    "alpha = .01\n",
    "lr = Lasso(alpha=alpha)\n",
    "train_model(lr, X_train, y_train)\n",
    "y_preds = lr.predict(X_val)\n",
    "rmse = root_mean_squared_error(y_val, y_preds)"
   ],
   "id": "151df9ce275721b6"
  },
  {
   "metadata": {},
   "cell_type": "code",
   "outputs": [],
   "execution_count": null,
   "source": [
    "with mlflow.start_run():\n",
    "    mlflow.set_tag(\"developer\", \"Armand Winant\")\n",
    "\n",
    "    mlflow.log_param(\"training-data\", \"https://d37ci6vzurychx.cloudfront.net/trip-data/green_tripdata_2021-01.parquet\")\n",
    "    mlflow.log_param(\"validation-data\", \"https://d37ci6vzurychx.cloudfront.net/trip-data/green_tripdata_2021-02.parquet\")\n",
    "\n",
    "    mlflow.log_param(\"alpha\", alpha)\n",
    "    mlflow.log_metric(\"rmse\", rmse)"
   ],
   "id": "6fc1c87eff024f31"
  },
  {
   "metadata": {},
   "cell_type": "markdown",
   "source": "### Xgboost",
   "id": "89d999713cc4a017"
  },
  {
   "metadata": {},
   "cell_type": "code",
   "outputs": [],
   "execution_count": null,
   "source": [
    "train = xgb.DMatrix(X_train, label=y_train)\n",
    "valid = xgb.DMatrix(X_val, label=y_val)"
   ],
   "id": "8c0df8977c2e517a"
  },
  {
   "metadata": {},
   "cell_type": "code",
   "outputs": [],
   "execution_count": null,
   "source": [
    "def objective(params):\n",
    "    booster = xgb.train(\n",
    "        params=params,\n",
    "        dtrain=train,\n",
    "        num_boost_round=1000,\n",
    "        evals=[(valid, \"validation\")],\n",
    "        early_stopping_rounds=50,\n",
    "        verbose_eval=200\n",
    "    )\n",
    "\n",
    "    y_preds = booster.predict(valid)\n",
    "    rmse = root_mean_squared_error(y_val, y_preds)\n",
    "\n",
    "    with mlflow.start_run():\n",
    "        mlflow.set_tag(\"developer\", \"Armand Winant\")\n",
    "\n",
    "        mlflow.log_param(\"training-data\", \"https://d37ci6vzurychx.cloudfront.net/trip-data/green_tripdata_2021-01.parquet\")\n",
    "        mlflow.log_param(\"validation-data\", \"https://d37ci6vzurychx.cloudfront.net/trip-data/green_tripdata_2021-02.parquet\")\n",
    "\n",
    "        mlflow.log_params(params)\n",
    "        mlflow.log_metric(\"rmse\", rmse)\n",
    "\n",
    "    return {'loss': rmse, 'status': STATUS_OK}"
   ],
   "id": "4ad6ebad5d2b9197"
  },
  {
   "metadata": {},
   "cell_type": "markdown",
   "source": "### Autologging",
   "id": "8ae22c448105925b"
  },
  {
   "metadata": {},
   "cell_type": "code",
   "outputs": [],
   "execution_count": null,
   "source": "",
   "id": "40d747c04e12c407"
  }
 ],
 "metadata": {},
 "nbformat": 4,
 "nbformat_minor": 5
}
