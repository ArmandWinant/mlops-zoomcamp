{
 "cells": [
  {
   "metadata": {},
   "cell_type": "markdown",
   "source": [
    "# Experiment Tracking\n",
    "## Preprocessing"
   ],
   "id": "8df1e33eddbe486a"
  },
  {
   "metadata": {
    "ExecuteTime": {
     "end_time": "2025-05-14T21:54:17.675344Z",
     "start_time": "2025-05-14T21:54:17.671222Z"
    }
   },
   "cell_type": "code",
   "source": [
    "import pandas as pd\n",
    "from sklearn.feature_extraction import DictVectorizer\n",
    "from sklearn.linear_model import LinearRegression, Lasso, Ridge\n",
    "from sklearn.metrics import root_mean_squared_error\n",
    "import pickle\n",
    "\n",
    "import mlflow"
   ],
   "id": "3ff847c79c1fa77f",
   "outputs": [],
   "execution_count": 65
  },
  {
   "metadata": {
    "ExecuteTime": {
     "end_time": "2025-05-14T21:54:17.729601Z",
     "start_time": "2025-05-14T21:54:17.723402Z"
    }
   },
   "cell_type": "code",
   "source": "pd.options.mode.copy_on_write = True",
   "id": "d5fb4c12e68866bd",
   "outputs": [],
   "execution_count": 66
  },
  {
   "metadata": {
    "ExecuteTime": {
     "end_time": "2025-05-14T21:54:17.806436Z",
     "start_time": "2025-05-14T21:54:17.797848Z"
    }
   },
   "cell_type": "code",
   "source": [
    "def preprocessing(df):\n",
    "    # compute target variables: trip duration in minutes\n",
    "    df['duration'] = df.lpep_dropoff_datetime - df.lpep_pickup_datetime\n",
    "    df.duration = df.duration.apply(lambda td: td.total_seconds() / 60)\n",
    "\n",
    "    # keep only trips of less than an hour\n",
    "    df = df.loc[(df.duration >= 1) & (df.duration <= 60), :]\n",
    "\n",
    "    # extract trip date components\n",
    "    df['trip_month'] = pd.Categorical(df.lpep_pickup_datetime.dt.month)\n",
    "    df['trip_dom'] = pd.Categorical(df.lpep_pickup_datetime.dt.day)\n",
    "    df['trip_hour'] = pd.Categorical(df.lpep_pickup_datetime.dt.hour)\n",
    "\n",
    "    # concatenate pickup and dropoff locations\n",
    "    df['PU_DO'] = df['PULocationID'].astype(str) + '_' + df['DOLocationID'].astype(str)\n",
    "\n",
    "    return df"
   ],
   "id": "5424649b7d8738a1",
   "outputs": [],
   "execution_count": 67
  },
  {
   "metadata": {
    "ExecuteTime": {
     "end_time": "2025-05-14T21:54:17.852503Z",
     "start_time": "2025-05-14T21:54:17.846623Z"
    }
   },
   "cell_type": "code",
   "source": [
    "def one_hot_encoding(df, numerical, categorical, dv=None):\n",
    "    df[categorical] = df[categorical].astype(str)\n",
    "    df_dicts = df[categorical + numerical].to_dict(orient='records')\n",
    "\n",
    "    if not dv:\n",
    "        dv = DictVectorizer()\n",
    "        dv.fit(df_dicts)\n",
    "\n",
    "    X_train = dv.transform(df_dicts)\n",
    "\n",
    "    return X_train, dv"
   ],
   "id": "17eb76d5b94f943d",
   "outputs": [],
   "execution_count": 68
  },
  {
   "metadata": {
    "ExecuteTime": {
     "end_time": "2025-05-14T21:54:17.907768Z",
     "start_time": "2025-05-14T21:54:17.901375Z"
    }
   },
   "cell_type": "code",
   "source": [
    "def train_model(model, X_train, y_train):\n",
    "    model.fit(X_train, y_train)"
   ],
   "id": "693c95161945494d",
   "outputs": [],
   "execution_count": 69
  },
  {
   "metadata": {
    "ExecuteTime": {
     "end_time": "2025-05-14T21:54:18.717519Z",
     "start_time": "2025-05-14T21:54:17.948333Z"
    }
   },
   "cell_type": "code",
   "source": [
    "# read im the raw data\n",
    "df_train = pd.read_parquet('https://d37ci6vzurychx.cloudfront.net/trip-data/green_tripdata_2021-01.parquet')\n",
    "df_val = pd.read_parquet('https://d37ci6vzurychx.cloudfront.net/trip-data/green_tripdata_2021-02.parquet')"
   ],
   "id": "20a9ba2f453c66cf",
   "outputs": [],
   "execution_count": 70
  },
  {
   "metadata": {
    "ExecuteTime": {
     "end_time": "2025-05-14T21:54:19.355989Z",
     "start_time": "2025-05-14T21:54:18.751697Z"
    }
   },
   "cell_type": "code",
   "source": [
    "# data cleaning\n",
    "df_train = preprocessing(df_train)\n",
    "df_val = preprocessing(df_val)"
   ],
   "id": "d0c6ea0e5f1b372c",
   "outputs": [],
   "execution_count": 71
  },
  {
   "metadata": {
    "ExecuteTime": {
     "end_time": "2025-05-14T21:54:19.405469Z",
     "start_time": "2025-05-14T21:54:19.401317Z"
    }
   },
   "cell_type": "code",
   "source": [
    "# variable selection\n",
    "categorical = ['PU_DO']\n",
    "numerical = ['trip_distance']"
   ],
   "id": "10b8d92f00b44798",
   "outputs": [],
   "execution_count": 72
  },
  {
   "metadata": {
    "ExecuteTime": {
     "end_time": "2025-05-14T21:54:20.171352Z",
     "start_time": "2025-05-14T21:54:19.448024Z"
    }
   },
   "cell_type": "code",
   "source": [
    "# categorical feature encoding\n",
    "X_train, dv = one_hot_encoding(df_train, numerical, categorical)\n",
    "X_val, _ = one_hot_encoding(df_val, numerical, categorical, dv=dv)"
   ],
   "id": "27a0aa67399448a6",
   "outputs": [],
   "execution_count": 73
  },
  {
   "metadata": {
    "ExecuteTime": {
     "end_time": "2025-05-14T21:54:20.213385Z",
     "start_time": "2025-05-14T21:54:20.208706Z"
    }
   },
   "cell_type": "code",
   "source": [
    "target = 'duration'\n",
    "y_train = df_train[target]\n",
    "y_val = df_val[target]"
   ],
   "id": "960e4afd67227c7a",
   "outputs": [],
   "execution_count": 74
  },
  {
   "metadata": {},
   "cell_type": "markdown",
   "source": "## Manual Logging",
   "id": "b343df9511648dac"
  },
  {
   "metadata": {},
   "cell_type": "code",
   "outputs": [],
   "execution_count": null,
   "source": [
    "mlflow.set_tracking_uri(\"sqlite:///mlflow.db\")\n",
    "mlflow.set_experiment(\"nyc-taxi-experiment\")"
   ],
   "id": "ca430aea154d6ff1"
  },
  {
   "metadata": {},
   "cell_type": "markdown",
   "source": "### Lasso",
   "id": "c152812741698591"
  },
  {
   "metadata": {},
   "cell_type": "code",
   "outputs": [],
   "execution_count": null,
   "source": [
    "alpha = .01\n",
    "lr = Lasso(alpha=alpha)\n",
    "train_model(lr, X_train, y_train)\n",
    "y_preds = lr.predict(X_val)\n",
    "rmse = root_mean_squared_error(y_val, y_preds)"
   ],
   "id": "151df9ce275721b6"
  },
  {
   "metadata": {},
   "cell_type": "code",
   "outputs": [],
   "execution_count": null,
   "source": [
    "with mlflow.start_run():\n",
    "    mlflow.set_tag(\"developer\", \"Armand Winant\")\n",
    "\n",
    "    mlflow.log_param(\"training-data\", \"https://d37ci6vzurychx.cloudfront.net/trip-data/green_tripdata_2021-01.parquet\")\n",
    "    mlflow.log_param(\"validation-data\", \"https://d37ci6vzurychx.cloudfront.net/trip-data/green_tripdata_2021-02.parquet\")\n",
    "\n",
    "    mlflow.log_param(\"alpha\", alpha)\n",
    "    mlflow.log_metric(\"rmse\", rmse)\n",
    "\n",
    "    mlflow.sklearn.log_model(\n",
    "        \n",
    "    )"
   ],
   "id": "6fc1c87eff024f31"
  }
 ],
 "metadata": {},
 "nbformat": 4,
 "nbformat_minor": 5
}
