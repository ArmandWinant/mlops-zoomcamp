{
 "cells": [
  {
   "metadata": {},
   "cell_type": "markdown",
   "source": [
    "# MLOps Zoomcamp\n",
    "## Experiment Tracking\n",
    "### Concepts\n",
    "- __ML experiment:__ the process of build an ML model\n",
    "- __Experiment run:__ each trial in an ML experiment\n",
    "- __Run artifact:__ any file assisiated with a run\n",
    "- __Experiment artifact:__ all the info related to the experiment\n",
    "\n",
    "### Definition\n",
    "Experiment tracking is the process of keeping track of all the relevant information about an ML experiment, including:\n",
    "- source code\n",
    "- environment\n",
    "- data\n",
    "- models\n",
    "- hyperparameters\n",
    "- metrics\n",
    "\n",
    "The information depends on the type of experiments run and the tasks involved.\n",
    "\n",
    "### Why tracking is important\n",
    "Experiment tracking is important for:\n",
    "1. reproducibility\n",
    "2. organization/collaboration\n",
    "3. optimization\n",
    "\n",
    "What is stopping you from tracking experiments using existing tools such as Excel spreadsheets or Github repos?\n",
    "1. error-prone: manual inputs\n",
    "2. no standard format\n",
    "3. visibility & collaboration\n",
    "\n",
    "MLFlow is an open source platform for the machine learning lifecycle that covers the main components of any ML project.\n",
    "MLFlow tracking allows us to organize experiments into runs"
   ],
   "id": "5f9c53d6cf17d603"
  },
  {
   "cell_type": "code",
   "execution_count": null,
   "id": "initial_id",
   "metadata": {
    "collapsed": true
   },
   "outputs": [],
   "source": [
    ""
   ]
  }
 ],
 "metadata": {
  "kernelspec": {
   "display_name": "Python 3",
   "language": "python",
   "name": "python3"
  },
  "language_info": {
   "codemirror_mode": {
    "name": "ipython",
    "version": 2
   },
   "file_extension": ".py",
   "mimetype": "text/x-python",
   "name": "python",
   "nbconvert_exporter": "python",
   "pygments_lexer": "ipython2",
   "version": "2.7.6"
  }
 },
 "nbformat": 4,
 "nbformat_minor": 5
}
