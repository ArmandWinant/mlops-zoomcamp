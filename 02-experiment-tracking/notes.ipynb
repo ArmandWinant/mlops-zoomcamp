{
 "cells": [
  {
   "metadata": {},
   "cell_type": "markdown",
   "source": [
    "# MLOps Zoomcamp\n",
    "## Experiment Tracking\n",
    "### Concepts\n",
    "- ML experiment: the process of build an ML model\n",
    "- Experiment run: each trial in an ML experiment\n",
    "- Run artifact: any file assisiated with a run\n",
    "- Experiment artifact: all the info related to the experiment"
   ],
   "id": "5f9c53d6cf17d603"
  },
  {
   "cell_type": "code",
   "execution_count": null,
   "id": "initial_id",
   "metadata": {
    "collapsed": true
   },
   "outputs": [],
   "source": [
    ""
   ]
  }
 ],
 "metadata": {
  "kernelspec": {
   "display_name": "Python 3",
   "language": "python",
   "name": "python3"
  },
  "language_info": {
   "codemirror_mode": {
    "name": "ipython",
    "version": 2
   },
   "file_extension": ".py",
   "mimetype": "text/x-python",
   "name": "python",
   "nbconvert_exporter": "python",
   "pygments_lexer": "ipython2",
   "version": "2.7.6"
  }
 },
 "nbformat": 4,
 "nbformat_minor": 5
}
