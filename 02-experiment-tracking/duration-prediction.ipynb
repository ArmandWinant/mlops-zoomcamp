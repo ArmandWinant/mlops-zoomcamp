{
 "cells": [
  {
   "metadata": {},
   "cell_type": "markdown",
   "source": "# Duration Prediction",
   "id": "8df1e33eddbe486a"
  },
  {
   "metadata": {
    "ExecuteTime": {
     "end_time": "2025-05-30T14:20:09.279551Z",
     "start_time": "2025-05-30T14:20:08.088037Z"
    }
   },
   "cell_type": "code",
   "source": [
    "import pandas as pd\n",
    "from sklearn.feature_extraction import DictVectorizer\n",
    "from sklearn.linear_model import LinearRegression, Lasso, Ridge\n",
    "from sklearn.ensemble import GradientBoostingRegressor, ExtraTreesRegressor, RandomForestRegressor\n",
    "from sklearn.svm import LinearSVR\n",
    "from sklearn.metrics import root_mean_squared_error\n",
    "import pickle\n",
    "import mlflow\n",
    "from hyperopt import fmin, tpe, hp, STATUS_OK, Trials\n",
    "from hyperopt.pyll import scope\n",
    "import xgboost as xgb"
   ],
   "id": "3ff847c79c1fa77f",
   "outputs": [],
   "execution_count": 39
  },
  {
   "metadata": {
    "ExecuteTime": {
     "end_time": "2025-05-30T13:00:13.111774Z",
     "start_time": "2025-05-30T13:00:13.105878Z"
    }
   },
   "cell_type": "code",
   "source": "pd.options.mode.copy_on_write = True",
   "id": "d5fb4c12e68866bd",
   "outputs": [],
   "execution_count": 2
  },
  {
   "metadata": {},
   "cell_type": "markdown",
   "source": "## Preprocessing",
   "id": "1a041d3405f25ce2"
  },
  {
   "metadata": {
    "ExecuteTime": {
     "end_time": "2025-05-30T13:00:13.136085Z",
     "start_time": "2025-05-30T13:00:13.125082Z"
    }
   },
   "cell_type": "code",
   "source": [
    "def preprocessing(df):\n",
    "    # compute target variables: trip duration in minutes\n",
    "    df['duration'] = df.lpep_dropoff_datetime - df.lpep_pickup_datetime\n",
    "    df.duration = df.duration.apply(lambda td: td.total_seconds() / 60)\n",
    "\n",
    "    # keep only trips of less than an hour\n",
    "    df = df.loc[(df.duration >= 1) & (df.duration <= 60), :]\n",
    "\n",
    "    # extract trip date components\n",
    "    df['trip_month'] = pd.Categorical(df.lpep_pickup_datetime.dt.month)\n",
    "    df['trip_dom'] = pd.Categorical(df.lpep_pickup_datetime.dt.day)\n",
    "    df['trip_hour'] = pd.Categorical(df.lpep_pickup_datetime.dt.hour)\n",
    "\n",
    "    # concatenate pickup and dropoff locations\n",
    "    df['PU_DO'] = df['PULocationID'].astype(str) + '_' + df['DOLocationID'].astype(str)\n",
    "\n",
    "    return df"
   ],
   "id": "5424649b7d8738a1",
   "outputs": [],
   "execution_count": 3
  },
  {
   "metadata": {
    "ExecuteTime": {
     "end_time": "2025-05-30T13:00:13.510545Z",
     "start_time": "2025-05-30T13:00:13.504353Z"
    }
   },
   "cell_type": "code",
   "source": [
    "def one_hot_encoding(df, numerical, categorical, dv=None):\n",
    "    df[categorical] = df[categorical].astype(str)\n",
    "    df_dicts = df[categorical + numerical].to_dict(orient='records')\n",
    "\n",
    "    if not dv:\n",
    "        dv = DictVectorizer()\n",
    "        dv.fit(df_dicts)\n",
    "\n",
    "    X_train = dv.transform(df_dicts)\n",
    "\n",
    "    return X_train, dv"
   ],
   "id": "17eb76d5b94f943d",
   "outputs": [],
   "execution_count": 4
  },
  {
   "metadata": {
    "ExecuteTime": {
     "end_time": "2025-05-30T13:00:13.587778Z",
     "start_time": "2025-05-30T13:00:13.584228Z"
    }
   },
   "cell_type": "code",
   "source": [
    "def train_model(model, X_train, y_train):\n",
    "    model.fit(X_train, y_train)"
   ],
   "id": "693c95161945494d",
   "outputs": [],
   "execution_count": 5
  },
  {
   "metadata": {
    "ExecuteTime": {
     "end_time": "2025-05-30T13:00:23.792792Z",
     "start_time": "2025-05-30T13:00:13.640729Z"
    }
   },
   "cell_type": "code",
   "source": [
    "# read im the raw data\n",
    "df_train = pd.read_parquet('https://d37ci6vzurychx.cloudfront.net/trip-data/green_tripdata_2021-01.parquet')\n",
    "df_val = pd.read_parquet('https://d37ci6vzurychx.cloudfront.net/trip-data/green_tripdata_2021-02.parquet')"
   ],
   "id": "20a9ba2f453c66cf",
   "outputs": [],
   "execution_count": 6
  },
  {
   "metadata": {
    "ExecuteTime": {
     "end_time": "2025-05-30T13:00:24.333084Z",
     "start_time": "2025-05-30T13:00:23.840094Z"
    }
   },
   "cell_type": "code",
   "source": [
    "# data cleaning\n",
    "df_train = preprocessing(df_train)\n",
    "df_val = preprocessing(df_val)"
   ],
   "id": "d0c6ea0e5f1b372c",
   "outputs": [],
   "execution_count": 7
  },
  {
   "metadata": {
    "ExecuteTime": {
     "end_time": "2025-05-30T13:00:24.383682Z",
     "start_time": "2025-05-30T13:00:24.379389Z"
    }
   },
   "cell_type": "code",
   "source": [
    "# variable selection\n",
    "categorical = ['PU_DO']\n",
    "numerical = ['trip_distance']"
   ],
   "id": "10b8d92f00b44798",
   "outputs": [],
   "execution_count": 8
  },
  {
   "metadata": {
    "ExecuteTime": {
     "end_time": "2025-05-30T13:00:25.076785Z",
     "start_time": "2025-05-30T13:00:24.420344Z"
    }
   },
   "cell_type": "code",
   "source": [
    "# categorical feature encoding\n",
    "X_train, dv = one_hot_encoding(df_train, numerical, categorical)\n",
    "X_val, _ = one_hot_encoding(df_val, numerical, categorical, dv=dv)"
   ],
   "id": "27a0aa67399448a6",
   "outputs": [],
   "execution_count": 9
  },
  {
   "metadata": {
    "ExecuteTime": {
     "end_time": "2025-05-30T13:00:25.118553Z",
     "start_time": "2025-05-30T13:00:25.114104Z"
    }
   },
   "cell_type": "code",
   "source": [
    "target = 'duration'\n",
    "y_train = df_train[target]\n",
    "y_val = df_val[target]"
   ],
   "id": "960e4afd67227c7a",
   "outputs": [],
   "execution_count": 10
  },
  {
   "metadata": {},
   "cell_type": "markdown",
   "source": "## Experiment Tracking",
   "id": "bdcbaf0ad4540419"
  },
  {
   "metadata": {
    "ExecuteTime": {
     "end_time": "2025-05-30T13:00:26.182254Z",
     "start_time": "2025-05-30T13:00:25.164734Z"
    }
   },
   "cell_type": "code",
   "source": [
    "mlflow.set_tracking_uri(\"sqlite:///mlflow.db\")\n",
    "mlflow.set_experiment(\"nyc-taxi-experiment\")"
   ],
   "id": "ecd33ba62ac9b430",
   "outputs": [
    {
     "data": {
      "text/plain": [
       "<Experiment: artifact_location='/Users/bastienwinant/Desktop/projects/mlops-zoomcamp/02-experiment-tracking/mlruns/1', creation_time=1748510026560, experiment_id='1', last_update_time=1748510026560, lifecycle_stage='active', name='nyc-taxi-experiment', tags={}>"
      ]
     },
     "execution_count": 11,
     "metadata": {},
     "output_type": "execute_result"
    }
   ],
   "execution_count": 11
  },
  {
   "metadata": {
    "ExecuteTime": {
     "end_time": "2025-05-30T13:00:26.256563Z",
     "start_time": "2025-05-30T13:00:26.233355Z"
    }
   },
   "cell_type": "code",
   "source": "mlflow.autolog(disable=True)",
   "id": "745011c36f134cee",
   "outputs": [],
   "execution_count": 12
  },
  {
   "metadata": {
    "ExecuteTime": {
     "end_time": "2025-05-30T13:00:26.304271Z",
     "start_time": "2025-05-30T13:00:26.292718Z"
    }
   },
   "cell_type": "code",
   "source": [
    "with open('models/preprocessor.b', 'wb') as f_out:\n",
    "    pickle.dump(dv, f_out)"
   ],
   "id": "d203c8133115a18",
   "outputs": [],
   "execution_count": 13
  },
  {
   "metadata": {},
   "cell_type": "markdown",
   "source": [
    "### Manual Logging\n",
    "#### Lasso"
   ],
   "id": "310b443117b7ae5e"
  },
  {
   "metadata": {
    "ExecuteTime": {
     "end_time": "2025-05-30T13:00:26.339099Z",
     "start_time": "2025-05-30T13:00:26.335693Z"
    }
   },
   "cell_type": "code",
   "source": "alpha=.01",
   "id": "b2cc1baef07efb78",
   "outputs": [],
   "execution_count": 14
  },
  {
   "metadata": {
    "ExecuteTime": {
     "end_time": "2025-05-30T13:00:34.076254Z",
     "start_time": "2025-05-30T13:00:26.373088Z"
    }
   },
   "cell_type": "code",
   "source": [
    "lasso = Lasso(alpha=alpha)\n",
    "train_model(lasso, X_train, y_train)\n",
    "y_pred = lasso.predict(X_val)"
   ],
   "id": "a806f35348249604",
   "outputs": [],
   "execution_count": 15
  },
  {
   "metadata": {
    "ExecuteTime": {
     "end_time": "2025-05-30T13:00:34.127003Z",
     "start_time": "2025-05-30T13:00:34.119687Z"
    }
   },
   "cell_type": "code",
   "source": "rmse = root_mean_squared_error(y_val, y_pred)",
   "id": "389e6610968991f6",
   "outputs": [],
   "execution_count": 16
  },
  {
   "metadata": {
    "ExecuteTime": {
     "end_time": "2025-05-30T13:00:44.227059Z",
     "start_time": "2025-05-30T13:00:34.174376Z"
    }
   },
   "cell_type": "code",
   "source": [
    "with mlflow.start_run():\n",
    "    mlflow.set_tag(\"developer\", \"Armand Winant\")\n",
    "\n",
    "    # training params\n",
    "    mlflow.log_param(\"training-data\", 'https://d37ci6vzurychx.cloudfront.net/trip-data/green_tripdata_2021-01.parquet')\n",
    "    mlflow.log_param(\"testing-data\", 'https://d37ci6vzurychx.cloudfront.net/trip-data/green_tripdata_2021-02.parquet')\n",
    "    mlflow.log_param(\"alpha\", alpha)\n",
    "\n",
    "    mlflow.log_metric(\"rmse\", rmse)\n",
    "\n",
    "    mlflow.log_artifact(local_path=\"models/preprocessor.b\", artifact_path=\"preprocessor\")\n",
    "    mlflow.sklearn.log_model(lasso, artifact_path=\"models_mlflow\")"
   ],
   "id": "bbb1deb56e7b6a0c",
   "outputs": [
    {
     "name": "stderr",
     "output_type": "stream",
     "text": [
      "\u001B[31m2025/05/30 15:00:44 WARNING mlflow.models.model: Model logged without a signature and input example. Please set `input_example` parameter when logging the model to auto infer the model signature.\u001B[0m\n"
     ]
    }
   ],
   "execution_count": 17
  },
  {
   "metadata": {},
   "cell_type": "markdown",
   "source": "#### Linear Regression",
   "id": "b90bc8ec67525372"
  },
  {
   "metadata": {
    "ExecuteTime": {
     "end_time": "2025-05-30T13:00:44.310649Z",
     "start_time": "2025-05-30T13:00:44.266836Z"
    }
   },
   "cell_type": "code",
   "source": [
    "lr = LinearRegression()\n",
    "train_model(lr, X_train, y_train)\n",
    "y_pred = lr.predict(X_val)"
   ],
   "id": "ce6b1c27954dd21e",
   "outputs": [],
   "execution_count": 18
  },
  {
   "metadata": {
    "ExecuteTime": {
     "end_time": "2025-05-30T13:00:44.356916Z",
     "start_time": "2025-05-30T13:00:44.348710Z"
    }
   },
   "cell_type": "code",
   "source": "rmse = root_mean_squared_error(y_val, y_pred)",
   "id": "ab68fb74bde7ff7e",
   "outputs": [],
   "execution_count": 19
  },
  {
   "metadata": {
    "ExecuteTime": {
     "end_time": "2025-05-30T13:00:50.061360Z",
     "start_time": "2025-05-30T13:00:44.400347Z"
    }
   },
   "cell_type": "code",
   "source": [
    "with mlflow.start_run():\n",
    "    mlflow.set_tag(\"developer\", \"Armand Winant\")\n",
    "\n",
    "    # training params\n",
    "    mlflow.log_param(\"training-data\", 'https://d37ci6vzurychx.cloudfront.net/trip-data/green_tripdata_2021-01.parquet')\n",
    "    mlflow.log_param(\"testing-data\", 'https://d37ci6vzurychx.cloudfront.net/trip-data/green_tripdata_2021-02.parquet')\n",
    "    mlflow.log_param(\"alpha\", alpha)\n",
    "\n",
    "    # validation error\n",
    "    mlflow.log_metric(\"rmse\", rmse)\n",
    "\n",
    "    # model artifacts\n",
    "    mlflow.log_artifact(local_path=\"models/preprocessor.b\", artifact_path=\"preprocessor\")\n",
    "    mlflow.sklearn.log_model(lr, artifact_path=\"models_mlflow\")"
   ],
   "id": "23bcef3e293eeb20",
   "outputs": [
    {
     "name": "stderr",
     "output_type": "stream",
     "text": [
      "\u001B[31m2025/05/30 15:00:50 WARNING mlflow.models.model: Model logged without a signature and input example. Please set `input_example` parameter when logging the model to auto infer the model signature.\u001B[0m\n"
     ]
    }
   ],
   "execution_count": 20
  },
  {
   "metadata": {},
   "cell_type": "markdown",
   "source": "#### Ridge",
   "id": "13a8c420d41e3822"
  },
  {
   "metadata": {
    "ExecuteTime": {
     "end_time": "2025-05-30T13:00:50.104022Z",
     "start_time": "2025-05-30T13:00:50.100076Z"
    }
   },
   "cell_type": "code",
   "source": "alpha = .01",
   "id": "9ed832b903210a86",
   "outputs": [],
   "execution_count": 21
  },
  {
   "metadata": {
    "ExecuteTime": {
     "end_time": "2025-05-30T13:00:50.193854Z",
     "start_time": "2025-05-30T13:00:50.140802Z"
    }
   },
   "cell_type": "code",
   "source": [
    "rr = Ridge(alpha=alpha, random_state=42)\n",
    "train_model(rr, X_train, y_train)\n",
    "y_pred = rr.predict(X_val)"
   ],
   "id": "a31fada80c7342ab",
   "outputs": [],
   "execution_count": 22
  },
  {
   "metadata": {
    "ExecuteTime": {
     "end_time": "2025-05-30T13:00:50.243166Z",
     "start_time": "2025-05-30T13:00:50.237076Z"
    }
   },
   "cell_type": "code",
   "source": "rmse = root_mean_squared_error(y_val, y_pred)",
   "id": "8fafb75e202e75c7",
   "outputs": [],
   "execution_count": 23
  },
  {
   "metadata": {
    "ExecuteTime": {
     "end_time": "2025-05-30T13:00:55.962746Z",
     "start_time": "2025-05-30T13:00:50.281768Z"
    }
   },
   "cell_type": "code",
   "source": [
    "with mlflow.start_run():\n",
    "    mlflow.set_tag(\"developer\", \"Armand Winant\")\n",
    "\n",
    "    # training params\n",
    "    mlflow.log_param(\"training-data\", 'https://d37ci6vzurychx.cloudfront.net/trip-data/green_tripdata_2021-01.parquet')\n",
    "    mlflow.log_param(\"testing-data\", 'https://d37ci6vzurychx.cloudfront.net/trip-data/green_tripdata_2021-02.parquet')\n",
    "    mlflow.log_param(\"alpha\", alpha)\n",
    "\n",
    "    mlflow.log_metric(\"rmse\", rmse)\n",
    "\n",
    "    mlflow.log_artifact(local_path=\"models/preprocessor.b\", artifact_path=\"preprocessor\")\n",
    "    mlflow.sklearn.log_model(rr, artifact_path=\"models_mlflow\")"
   ],
   "id": "8324234f0ea5d393",
   "outputs": [
    {
     "name": "stderr",
     "output_type": "stream",
     "text": [
      "\u001B[31m2025/05/30 15:00:55 WARNING mlflow.models.model: Model logged without a signature and input example. Please set `input_example` parameter when logging the model to auto infer the model signature.\u001B[0m\n"
     ]
    }
   ],
   "execution_count": 24
  },
  {
   "metadata": {},
   "cell_type": "markdown",
   "source": "#### XGBoost",
   "id": "86cb45181293b31c"
  },
  {
   "metadata": {
    "ExecuteTime": {
     "end_time": "2025-05-30T13:00:56.039302Z",
     "start_time": "2025-05-30T13:00:56.008443Z"
    }
   },
   "cell_type": "code",
   "source": [
    "train = xgb.DMatrix(X_train, label=y_train)\n",
    "valid = xgb.DMatrix(X_val, label=y_val)"
   ],
   "id": "52771aa836a594f8",
   "outputs": [],
   "execution_count": 25
  },
  {
   "metadata": {
    "ExecuteTime": {
     "end_time": "2025-05-30T13:00:56.088252Z",
     "start_time": "2025-05-30T13:00:56.080309Z"
    }
   },
   "cell_type": "code",
   "source": [
    "def objective(params):\n",
    "    booster = xgb.train(\n",
    "        params=params,\n",
    "        dtrain=train,\n",
    "        num_boost_round=1000,\n",
    "        evals=[(valid, \"validation\")],\n",
    "        early_stopping_rounds=50,\n",
    "        verbose_eval=20\n",
    "    )\n",
    "\n",
    "    y_pred = booster.predict(valid)\n",
    "    rmse = root_mean_squared_error(y_val, y_pred)\n",
    "\n",
    "    with mlflow.start_run():\n",
    "        mlflow.set_tag(\"model\", \"xgboost\")\n",
    "        mlflow.log_params(params)\n",
    "        mlflow.log_metric(\"rmse\", rmse)\n",
    "\n",
    "        mlflow.xgboost.log_model(booster, artifact_path=\"models_mlflow\")\n",
    "        mlflow.log_artifact(local_path=\"models/preprocessor.b\", artifact_path=\"preprocessor\")\n",
    "\n",
    "    return {'loss': rmse, 'status': STATUS_OK}"
   ],
   "id": "5db9dea83d254745",
   "outputs": [],
   "execution_count": 26
  },
  {
   "metadata": {
    "ExecuteTime": {
     "end_time": "2025-05-30T13:00:56.145888Z",
     "start_time": "2025-05-30T13:00:56.139406Z"
    }
   },
   "cell_type": "code",
   "source": [
    "search_space = {\n",
    "    'max_depth': scope.int(hp.quniform('max_depth', 4, 100, 1)),\n",
    "    'learning_rate': hp.loguniform('learning_rate', -3, 0),\n",
    "    'reg_alpha': hp.loguniform('reg_alpha', -5, -1),\n",
    "    'reg_lambda': hp.loguniform('reg_lambda', -6, -1),\n",
    "    'min_child_weight': hp.loguniform('min_child_weight', -1, 3),\n",
    "    'objective': 'reg:squarederror',\n",
    "    'seed': 42\n",
    "}"
   ],
   "id": "fbaf87c9c3f0f80d",
   "outputs": [],
   "execution_count": 27
  },
  {
   "metadata": {
    "ExecuteTime": {
     "end_time": "2025-05-30T14:09:00.152461Z",
     "start_time": "2025-05-30T13:00:56.193032Z"
    }
   },
   "cell_type": "code",
   "source": [
    "best_result = fmin(\n",
    "    fn=objective,\n",
    "    space=search_space,\n",
    "    algo=tpe.suggest,\n",
    "    max_evals=50,\n",
    "    trials=Trials()\n",
    ")"
   ],
   "id": "44488e48cecd1865",
   "outputs": [
    {
     "name": "stdout",
     "output_type": "stream",
     "text": [
      "[0]\tvalidation-rmse:10.49261                          \n",
      "[20]\tvalidation-rmse:6.50368                          \n",
      "[40]\tvalidation-rmse:6.46562                          \n",
      "[60]\tvalidation-rmse:6.44681                          \n",
      "[80]\tvalidation-rmse:6.43502                          \n",
      "[100]\tvalidation-rmse:6.42643                         \n",
      "[120]\tvalidation-rmse:6.42102                         \n",
      "[140]\tvalidation-rmse:6.41245                         \n",
      "[160]\tvalidation-rmse:6.40979                         \n",
      "[180]\tvalidation-rmse:6.40599                         \n",
      "[200]\tvalidation-rmse:6.40281                         \n",
      "[220]\tvalidation-rmse:6.40001                         \n",
      "[240]\tvalidation-rmse:6.39799                         \n",
      "[260]\tvalidation-rmse:6.39691                         \n",
      "[280]\tvalidation-rmse:6.39501                         \n",
      "[300]\tvalidation-rmse:6.39277                         \n",
      "[320]\tvalidation-rmse:6.39096                         \n",
      "[340]\tvalidation-rmse:6.39035                         \n",
      "[360]\tvalidation-rmse:6.38945                         \n",
      "[380]\tvalidation-rmse:6.38724                         \n",
      "[400]\tvalidation-rmse:6.38652                         \n",
      "[420]\tvalidation-rmse:6.38561                         \n",
      "[440]\tvalidation-rmse:6.38663                         \n",
      "[460]\tvalidation-rmse:6.38560                         \n",
      "[480]\tvalidation-rmse:6.38407                         \n",
      "[500]\tvalidation-rmse:6.38291                         \n",
      "[520]\tvalidation-rmse:6.38271                         \n",
      "[540]\tvalidation-rmse:6.38242                         \n",
      "[560]\tvalidation-rmse:6.38222                         \n",
      "[580]\tvalidation-rmse:6.38126                         \n",
      "[600]\tvalidation-rmse:6.38168                         \n",
      "[620]\tvalidation-rmse:6.38153                         \n",
      "[640]\tvalidation-rmse:6.38036                         \n",
      "[660]\tvalidation-rmse:6.38021                         \n",
      "[680]\tvalidation-rmse:6.37990                         \n",
      "[700]\tvalidation-rmse:6.37998                         \n",
      "[720]\tvalidation-rmse:6.37976                         \n",
      "[740]\tvalidation-rmse:6.37931                         \n",
      "[760]\tvalidation-rmse:6.37926                         \n",
      "[780]\tvalidation-rmse:6.37896                         \n",
      "[800]\tvalidation-rmse:6.37916                         \n",
      "[820]\tvalidation-rmse:6.37942                         \n",
      "[833]\tvalidation-rmse:6.37918                         \n",
      "  0%|          | 0/50 [00:56<?, ?trial/s, best loss=?]"
     ]
    },
    {
     "name": "stderr",
     "output_type": "stream",
     "text": [
      "/Users/bastienwinant/Desktop/projects/mlops-zoomcamp/.venv/lib/python3.9/site-packages/xgboost/core.py:158: UserWarning: [15:01:57] WARNING: /Users/runner/work/xgboost/xgboost/src/c_api/c_api.cc:1374: Saving model in the UBJSON format as default.  You can use file extension: `json`, `ubj` or `deprecated` to choose between formats.\n",
      "  warnings.warn(smsg, UserWarning)\n",
      "\n",
      "\u001B[31m2025/05/30 15:02:06 WARNING mlflow.models.model: Model logged without a signature and input example. Please set `input_example` parameter when logging the model to auto infer the model signature.\u001B[0m\n",
      "\n"
     ]
    },
    {
     "name": "stdout",
     "output_type": "stream",
     "text": [
      "[0]\tvalidation-rmse:11.72116                                                   \n",
      "[20]\tvalidation-rmse:7.39178                                                   \n",
      "[40]\tvalidation-rmse:6.79755                                                   \n",
      "[60]\tvalidation-rmse:6.69036                                                   \n",
      "[80]\tvalidation-rmse:6.65887                                                   \n",
      "[100]\tvalidation-rmse:6.64652                                                  \n",
      "[120]\tvalidation-rmse:6.63938                                                  \n",
      "[140]\tvalidation-rmse:6.63545                                                  \n",
      "[160]\tvalidation-rmse:6.63295                                                  \n",
      "[180]\tvalidation-rmse:6.63094                                                  \n",
      "[200]\tvalidation-rmse:6.62931                                                  \n",
      "[220]\tvalidation-rmse:6.62796                                                  \n",
      "[240]\tvalidation-rmse:6.62675                                                  \n",
      "[260]\tvalidation-rmse:6.62546                                                  \n",
      "[280]\tvalidation-rmse:6.62426                                                  \n",
      "[300]\tvalidation-rmse:6.62288                                                  \n",
      "[320]\tvalidation-rmse:6.62198                                                  \n",
      "[340]\tvalidation-rmse:6.62099                                                  \n",
      "[360]\tvalidation-rmse:6.61999                                                  \n",
      "[380]\tvalidation-rmse:6.61887                                                  \n",
      "[400]\tvalidation-rmse:6.61819                                                  \n",
      "[420]\tvalidation-rmse:6.61742                                                  \n",
      "[440]\tvalidation-rmse:6.61668                                                  \n",
      "[460]\tvalidation-rmse:6.61580                                                  \n",
      "[480]\tvalidation-rmse:6.61519                                                  \n",
      "[500]\tvalidation-rmse:6.61453                                                  \n",
      "[520]\tvalidation-rmse:6.61371                                                  \n",
      "[540]\tvalidation-rmse:6.61301                                                  \n",
      "[560]\tvalidation-rmse:6.61248                                                  \n",
      "[580]\tvalidation-rmse:6.61196                                                  \n",
      "[600]\tvalidation-rmse:6.61112                                                  \n",
      "[620]\tvalidation-rmse:6.61063                                                  \n",
      "[640]\tvalidation-rmse:6.60997                                                  \n",
      "[660]\tvalidation-rmse:6.60967                                                  \n",
      "[680]\tvalidation-rmse:6.60920                                                  \n",
      "[700]\tvalidation-rmse:6.60837                                                  \n",
      "[720]\tvalidation-rmse:6.60806                                                  \n",
      "[740]\tvalidation-rmse:6.60783                                                  \n",
      "[760]\tvalidation-rmse:6.60760                                                  \n",
      "[780]\tvalidation-rmse:6.60736                                                  \n",
      "[800]\tvalidation-rmse:6.60664                                                  \n",
      "[820]\tvalidation-rmse:6.60605                                                  \n",
      "[840]\tvalidation-rmse:6.60567                                                  \n",
      "[860]\tvalidation-rmse:6.60511                                                  \n",
      "[880]\tvalidation-rmse:6.60468                                                  \n",
      "[900]\tvalidation-rmse:6.60420                                                  \n",
      "[920]\tvalidation-rmse:6.60363                                                  \n",
      "[940]\tvalidation-rmse:6.60320                                                  \n",
      "[960]\tvalidation-rmse:6.60268                                                  \n",
      "[980]\tvalidation-rmse:6.60219                                                  \n",
      "[999]\tvalidation-rmse:6.60196                                                  \n",
      "  2%|▏         | 1/50 [02:36<57:48, 70.80s/trial, best loss: 6.379184085162657]"
     ]
    },
    {
     "name": "stderr",
     "output_type": "stream",
     "text": [
      "/Users/bastienwinant/Desktop/projects/mlops-zoomcamp/.venv/lib/python3.9/site-packages/xgboost/core.py:158: UserWarning: [15:03:40] WARNING: /Users/runner/work/xgboost/xgboost/src/c_api/c_api.cc:1374: Saving model in the UBJSON format as default.  You can use file extension: `json`, `ubj` or `deprecated` to choose between formats.\n",
      "  warnings.warn(smsg, UserWarning)\n",
      "\n",
      "\u001B[31m2025/05/30 15:03:46 WARNING mlflow.models.model: Model logged without a signature and input example. Please set `input_example` parameter when logging the model to auto infer the model signature.\u001B[0m\n",
      "\n"
     ]
    },
    {
     "name": "stdout",
     "output_type": "stream",
     "text": [
      "[0]\tvalidation-rmse:6.93007                                                      \n",
      "[20]\tvalidation-rmse:6.68598                                                     \n",
      "[40]\tvalidation-rmse:6.64623                                                     \n",
      "[60]\tvalidation-rmse:6.62107                                                     \n",
      "[80]\tvalidation-rmse:6.61311                                                     \n",
      "[100]\tvalidation-rmse:6.60815                                                    \n",
      "[120]\tvalidation-rmse:6.61697                                                    \n",
      "[140]\tvalidation-rmse:6.60816                                                    \n",
      "[160]\tvalidation-rmse:6.60691                                                    \n",
      "[180]\tvalidation-rmse:6.60539                                                    \n",
      "[200]\tvalidation-rmse:6.60960                                                    \n",
      "[220]\tvalidation-rmse:6.61899                                                    \n",
      "[233]\tvalidation-rmse:6.62918                                                    \n",
      "  4%|▍         | 2/50 [03:04<1:10:22, 87.98s/trial, best loss: 6.379184085162657]"
     ]
    },
    {
     "name": "stderr",
     "output_type": "stream",
     "text": [
      "/Users/bastienwinant/Desktop/projects/mlops-zoomcamp/.venv/lib/python3.9/site-packages/xgboost/core.py:158: UserWarning: [15:04:01] WARNING: /Users/runner/work/xgboost/xgboost/src/c_api/c_api.cc:1374: Saving model in the UBJSON format as default.  You can use file extension: `json`, `ubj` or `deprecated` to choose between formats.\n",
      "  warnings.warn(smsg, UserWarning)\n",
      "\n",
      "\u001B[31m2025/05/30 15:04:08 WARNING mlflow.models.model: Model logged without a signature and input example. Please set `input_example` parameter when logging the model to auto infer the model signature.\u001B[0m\n",
      "\n"
     ]
    },
    {
     "name": "stdout",
     "output_type": "stream",
     "text": [
      "[0]\tvalidation-rmse:11.61876                                                     \n",
      "[20]\tvalidation-rmse:7.14073                                                   \n",
      "[40]\tvalidation-rmse:6.73263                                                   \n",
      "[60]\tvalidation-rmse:6.66506                                                   \n",
      "[80]\tvalidation-rmse:6.64771                                                   \n",
      "[100]\tvalidation-rmse:6.63903                                                  \n",
      "[120]\tvalidation-rmse:6.63479                                                  \n",
      "[140]\tvalidation-rmse:6.63222                                                  \n",
      "[160]\tvalidation-rmse:6.62993                                                  \n",
      "[180]\tvalidation-rmse:6.62805                                                  \n",
      "[200]\tvalidation-rmse:6.62654                                                  \n",
      "[220]\tvalidation-rmse:6.62510                                                  \n",
      "[240]\tvalidation-rmse:6.62367                                                  \n",
      "[260]\tvalidation-rmse:6.62268                                                  \n",
      "[280]\tvalidation-rmse:6.62109                                                  \n",
      "[300]\tvalidation-rmse:6.62010                                                  \n",
      "[320]\tvalidation-rmse:6.61916                                                  \n",
      "[340]\tvalidation-rmse:6.61792                                                  \n",
      "[360]\tvalidation-rmse:6.61687                                                  \n",
      "[380]\tvalidation-rmse:6.61588                                                  \n",
      "[400]\tvalidation-rmse:6.61517                                                  \n",
      "[420]\tvalidation-rmse:6.61425                                                  \n",
      "[440]\tvalidation-rmse:6.61353                                                  \n",
      "[460]\tvalidation-rmse:6.61269                                                  \n",
      "[480]\tvalidation-rmse:6.61193                                                  \n",
      "[500]\tvalidation-rmse:6.61123                                                  \n",
      "[520]\tvalidation-rmse:6.61067                                                  \n",
      "[540]\tvalidation-rmse:6.61012                                                  \n",
      "[560]\tvalidation-rmse:6.60977                                                  \n",
      "[580]\tvalidation-rmse:6.60918                                                  \n",
      "[600]\tvalidation-rmse:6.60797                                                  \n",
      "[620]\tvalidation-rmse:6.60740                                                  \n",
      "[640]\tvalidation-rmse:6.60695                                                  \n",
      "[660]\tvalidation-rmse:6.60655                                                  \n",
      "[680]\tvalidation-rmse:6.60595                                                  \n",
      "[700]\tvalidation-rmse:6.60544                                                  \n",
      "[720]\tvalidation-rmse:6.60470                                                  \n",
      "[740]\tvalidation-rmse:6.60410                                                  \n",
      "[760]\tvalidation-rmse:6.60375                                                  \n",
      "[780]\tvalidation-rmse:6.60342                                                  \n",
      "[800]\tvalidation-rmse:6.60308                                                  \n",
      "[820]\tvalidation-rmse:6.60274                                                  \n",
      "[840]\tvalidation-rmse:6.60240                                                  \n",
      "[860]\tvalidation-rmse:6.60212                                                  \n",
      "[880]\tvalidation-rmse:6.60176                                                  \n",
      "[900]\tvalidation-rmse:6.60164                                                  \n",
      "[920]\tvalidation-rmse:6.60152                                                  \n",
      "[940]\tvalidation-rmse:6.60121                                                  \n",
      "[960]\tvalidation-rmse:6.60091                                                  \n",
      "[980]\tvalidation-rmse:6.60049                                                  \n",
      "[999]\tvalidation-rmse:6.60024                                                  \n",
      "  6%|▌         | 3/50 [04:48<45:01, 57.49s/trial, best loss: 6.379184085162657]"
     ]
    },
    {
     "name": "stderr",
     "output_type": "stream",
     "text": [
      "/Users/bastienwinant/Desktop/projects/mlops-zoomcamp/.venv/lib/python3.9/site-packages/xgboost/core.py:158: UserWarning: [15:05:56] WARNING: /Users/runner/work/xgboost/xgboost/src/c_api/c_api.cc:1374: Saving model in the UBJSON format as default.  You can use file extension: `json`, `ubj` or `deprecated` to choose between formats.\n",
      "  warnings.warn(smsg, UserWarning)\n",
      "\n",
      "\u001B[31m2025/05/30 15:06:06 WARNING mlflow.models.model: Model logged without a signature and input example. Please set `input_example` parameter when logging the model to auto infer the model signature.\u001B[0m\n",
      "\n"
     ]
    },
    {
     "name": "stdout",
     "output_type": "stream",
     "text": [
      "[0]\tvalidation-rmse:10.01794                                                     \n",
      "[20]\tvalidation-rmse:6.50259                                                     \n",
      "[40]\tvalidation-rmse:6.47868                                                     \n",
      "[60]\tvalidation-rmse:6.47065                                                     \n",
      "[80]\tvalidation-rmse:6.46611                                                     \n",
      "[100]\tvalidation-rmse:6.46359                                                    \n",
      "[120]\tvalidation-rmse:6.45999                                                    \n",
      "[140]\tvalidation-rmse:6.45682                                                    \n",
      "[160]\tvalidation-rmse:6.45510                                                    \n",
      "[180]\tvalidation-rmse:6.45428                                                    \n",
      "[200]\tvalidation-rmse:6.45367                                                    \n",
      "[220]\tvalidation-rmse:6.45265                                                    \n",
      "[240]\tvalidation-rmse:6.45264                                                    \n",
      "[260]\tvalidation-rmse:6.45310                                                    \n",
      "[262]\tvalidation-rmse:6.45281                                                    \n",
      "  8%|▊         | 4/50 [05:53<1:02:30, 81.54s/trial, best loss: 6.379184085162657]"
     ]
    },
    {
     "name": "stderr",
     "output_type": "stream",
     "text": [
      "/Users/bastienwinant/Desktop/projects/mlops-zoomcamp/.venv/lib/python3.9/site-packages/xgboost/core.py:158: UserWarning: [15:06:52] WARNING: /Users/runner/work/xgboost/xgboost/src/c_api/c_api.cc:1374: Saving model in the UBJSON format as default.  You can use file extension: `json`, `ubj` or `deprecated` to choose between formats.\n",
      "  warnings.warn(smsg, UserWarning)\n",
      "\n",
      "\u001B[31m2025/05/30 15:07:02 WARNING mlflow.models.model: Model logged without a signature and input example. Please set `input_example` parameter when logging the model to auto infer the model signature.\u001B[0m\n",
      "\n"
     ]
    },
    {
     "name": "stdout",
     "output_type": "stream",
     "text": [
      "[0]\tvalidation-rmse:9.61404                                                      \n",
      "[20]\tvalidation-rmse:6.56318                                                   \n",
      "[40]\tvalidation-rmse:6.54645                                                   \n",
      "[60]\tvalidation-rmse:6.53706                                                   \n",
      "[80]\tvalidation-rmse:6.53363                                                   \n",
      "[100]\tvalidation-rmse:6.53089                                                  \n",
      "[120]\tvalidation-rmse:6.52752                                                  \n",
      "[140]\tvalidation-rmse:6.52795                                                  \n",
      "[160]\tvalidation-rmse:6.52662                                                  \n",
      "[180]\tvalidation-rmse:6.52541                                                  \n",
      "[200]\tvalidation-rmse:6.52554                                                  \n",
      "[220]\tvalidation-rmse:6.52520                                                  \n",
      "[240]\tvalidation-rmse:6.52494                                                  \n",
      "[260]\tvalidation-rmse:6.52540                                                  \n",
      "[280]\tvalidation-rmse:6.52612                                                  \n",
      "[299]\tvalidation-rmse:6.52624                                                  \n",
      " 10%|█         | 5/50 [06:44<54:15, 72.34s/trial, best loss: 6.379184085162657]"
     ]
    },
    {
     "name": "stderr",
     "output_type": "stream",
     "text": [
      "/Users/bastienwinant/Desktop/projects/mlops-zoomcamp/.venv/lib/python3.9/site-packages/xgboost/core.py:158: UserWarning: [15:07:43] WARNING: /Users/runner/work/xgboost/xgboost/src/c_api/c_api.cc:1374: Saving model in the UBJSON format as default.  You can use file extension: `json`, `ubj` or `deprecated` to choose between formats.\n",
      "  warnings.warn(smsg, UserWarning)\n",
      "\n",
      "\u001B[31m2025/05/30 15:07:50 WARNING mlflow.models.model: Model logged without a signature and input example. Please set `input_example` parameter when logging the model to auto infer the model signature.\u001B[0m\n",
      "\n"
     ]
    },
    {
     "name": "stdout",
     "output_type": "stream",
     "text": [
      "[0]\tvalidation-rmse:8.46261                                                    \n",
      "[20]\tvalidation-rmse:6.52366                                                   \n",
      "[40]\tvalidation-rmse:6.48747                                                   \n",
      "[60]\tvalidation-rmse:6.47504                                                   \n",
      "[80]\tvalidation-rmse:6.46834                                                   \n",
      "[100]\tvalidation-rmse:6.45976                                                  \n",
      "[120]\tvalidation-rmse:6.46703                                                  \n",
      "[140]\tvalidation-rmse:6.47090                                                  \n",
      "[150]\tvalidation-rmse:6.47570                                                  \n",
      " 12%|█▏        | 6/50 [07:20<46:56, 64.00s/trial, best loss: 6.379184085162657]"
     ]
    },
    {
     "name": "stderr",
     "output_type": "stream",
     "text": [
      "/Users/bastienwinant/Desktop/projects/mlops-zoomcamp/.venv/lib/python3.9/site-packages/xgboost/core.py:158: UserWarning: [15:08:17] WARNING: /Users/runner/work/xgboost/xgboost/src/c_api/c_api.cc:1374: Saving model in the UBJSON format as default.  You can use file extension: `json`, `ubj` or `deprecated` to choose between formats.\n",
      "  warnings.warn(smsg, UserWarning)\n",
      "\n",
      "\u001B[31m2025/05/30 15:08:25 WARNING mlflow.models.model: Model logged without a signature and input example. Please set `input_example` parameter when logging the model to auto infer the model signature.\u001B[0m\n",
      "\n"
     ]
    },
    {
     "name": "stdout",
     "output_type": "stream",
     "text": [
      "[0]\tvalidation-rmse:8.19446                                                    \n",
      "[20]\tvalidation-rmse:6.54662                                                   \n",
      "[40]\tvalidation-rmse:6.53467                                                   \n",
      "[60]\tvalidation-rmse:6.52577                                                   \n",
      "[80]\tvalidation-rmse:6.52354                                                   \n",
      "[100]\tvalidation-rmse:6.51906                                                  \n",
      "[120]\tvalidation-rmse:6.51691                                                  \n",
      "[140]\tvalidation-rmse:6.51559                                                  \n",
      "[160]\tvalidation-rmse:6.51429                                                  \n",
      "[180]\tvalidation-rmse:6.51398                                                  \n",
      "[200]\tvalidation-rmse:6.51407                                                  \n",
      "[220]\tvalidation-rmse:6.51365                                                  \n",
      "[240]\tvalidation-rmse:6.51316                                                  \n",
      "[260]\tvalidation-rmse:6.51426                                                  \n",
      "[280]\tvalidation-rmse:6.51448                                                  \n",
      "[289]\tvalidation-rmse:6.51499                                                  \n",
      " 14%|█▍        | 7/50 [07:52<39:06, 54.58s/trial, best loss: 6.379184085162657]"
     ]
    },
    {
     "name": "stderr",
     "output_type": "stream",
     "text": [
      "/Users/bastienwinant/Desktop/projects/mlops-zoomcamp/.venv/lib/python3.9/site-packages/xgboost/core.py:158: UserWarning: [15:08:50] WARNING: /Users/runner/work/xgboost/xgboost/src/c_api/c_api.cc:1374: Saving model in the UBJSON format as default.  You can use file extension: `json`, `ubj` or `deprecated` to choose between formats.\n",
      "  warnings.warn(smsg, UserWarning)\n",
      "\n",
      "\u001B[31m2025/05/30 15:08:57 WARNING mlflow.models.model: Model logged without a signature and input example. Please set `input_example` parameter when logging the model to auto infer the model signature.\u001B[0m\n",
      "\n"
     ]
    },
    {
     "name": "stdout",
     "output_type": "stream",
     "text": [
      "[0]\tvalidation-rmse:8.24632                                                    \n",
      "[20]\tvalidation-rmse:6.52931                                                   \n",
      "[40]\tvalidation-rmse:6.50229                                                   \n",
      "[60]\tvalidation-rmse:6.49821                                                   \n",
      "[80]\tvalidation-rmse:6.50243                                                   \n",
      "[100]\tvalidation-rmse:6.51259                                                  \n",
      " 16%|█▌        | 8/50 [08:24<33:08, 47.35s/trial, best loss: 6.379184085162657]"
     ]
    },
    {
     "name": "stderr",
     "output_type": "stream",
     "text": [
      "/Users/bastienwinant/Desktop/projects/mlops-zoomcamp/.venv/lib/python3.9/site-packages/xgboost/core.py:158: UserWarning: [15:09:21] WARNING: /Users/runner/work/xgboost/xgboost/src/c_api/c_api.cc:1374: Saving model in the UBJSON format as default.  You can use file extension: `json`, `ubj` or `deprecated` to choose between formats.\n",
      "  warnings.warn(smsg, UserWarning)\n",
      "\n",
      "\u001B[31m2025/05/30 15:09:28 WARNING mlflow.models.model: Model logged without a signature and input example. Please set `input_example` parameter when logging the model to auto infer the model signature.\u001B[0m\n",
      "\n"
     ]
    },
    {
     "name": "stdout",
     "output_type": "stream",
     "text": [
      "[0]\tvalidation-rmse:10.61381                                                   \n",
      "[20]\tvalidation-rmse:6.69248                                                   \n",
      "[40]\tvalidation-rmse:6.66303                                                   \n",
      "[60]\tvalidation-rmse:6.64538                                                   \n",
      "[80]\tvalidation-rmse:6.63499                                                   \n",
      "[100]\tvalidation-rmse:6.62499                                                  \n",
      "[120]\tvalidation-rmse:6.61732                                                  \n",
      "[140]\tvalidation-rmse:6.61033                                                  \n",
      "[160]\tvalidation-rmse:6.60586                                                  \n",
      "[180]\tvalidation-rmse:6.60041                                                  \n",
      "[200]\tvalidation-rmse:6.59653                                                  \n",
      "[220]\tvalidation-rmse:6.59067                                                  \n",
      "[240]\tvalidation-rmse:6.58877                                                  \n",
      "[260]\tvalidation-rmse:6.58619                                                  \n",
      "[280]\tvalidation-rmse:6.58372                                                  \n",
      "[300]\tvalidation-rmse:6.58184                                                  \n",
      "[320]\tvalidation-rmse:6.57879                                                  \n",
      "[340]\tvalidation-rmse:6.57648                                                  \n",
      "[360]\tvalidation-rmse:6.57485                                                  \n",
      "[380]\tvalidation-rmse:6.57270                                                  \n",
      "[400]\tvalidation-rmse:6.57116                                                  \n",
      "[420]\tvalidation-rmse:6.56913                                                  \n",
      "[440]\tvalidation-rmse:6.56833                                                  \n",
      "[460]\tvalidation-rmse:6.56693                                                  \n",
      "[480]\tvalidation-rmse:6.56574                                                  \n",
      "[500]\tvalidation-rmse:6.56436                                                  \n",
      "[520]\tvalidation-rmse:6.56376                                                  \n",
      "[540]\tvalidation-rmse:6.56280                                                  \n",
      "[560]\tvalidation-rmse:6.56247                                                  \n",
      "[580]\tvalidation-rmse:6.56254                                                  \n",
      "[600]\tvalidation-rmse:6.56194                                                  \n",
      "[620]\tvalidation-rmse:6.56145                                                  \n",
      "[640]\tvalidation-rmse:6.56070                                                  \n",
      "[660]\tvalidation-rmse:6.56003                                                  \n",
      "[680]\tvalidation-rmse:6.55977                                                  \n",
      "[700]\tvalidation-rmse:6.55902                                                  \n",
      "[720]\tvalidation-rmse:6.55893                                                  \n",
      "[740]\tvalidation-rmse:6.55858                                                  \n",
      "[760]\tvalidation-rmse:6.55807                                                  \n",
      "[780]\tvalidation-rmse:6.55758                                                  \n",
      "[800]\tvalidation-rmse:6.55728                                                  \n",
      "[820]\tvalidation-rmse:6.55658                                                  \n",
      "[840]\tvalidation-rmse:6.55613                                                  \n",
      "[860]\tvalidation-rmse:6.55569                                                  \n",
      "[880]\tvalidation-rmse:6.55581                                                  \n",
      "[900]\tvalidation-rmse:6.55600                                                  \n",
      "[913]\tvalidation-rmse:6.55585                                                  \n",
      " 18%|█▊        | 9/50 [09:04<28:55, 42.32s/trial, best loss: 6.379184085162657]"
     ]
    },
    {
     "name": "stderr",
     "output_type": "stream",
     "text": [
      "/Users/bastienwinant/Desktop/projects/mlops-zoomcamp/.venv/lib/python3.9/site-packages/xgboost/core.py:158: UserWarning: [15:10:01] WARNING: /Users/runner/work/xgboost/xgboost/src/c_api/c_api.cc:1374: Saving model in the UBJSON format as default.  You can use file extension: `json`, `ubj` or `deprecated` to choose between formats.\n",
      "  warnings.warn(smsg, UserWarning)\n",
      "\n",
      "\u001B[31m2025/05/30 15:10:09 WARNING mlflow.models.model: Model logged without a signature and input example. Please set `input_example` parameter when logging the model to auto infer the model signature.\u001B[0m\n",
      "\n"
     ]
    },
    {
     "name": "stdout",
     "output_type": "stream",
     "text": [
      "[0]\tvalidation-rmse:11.48163                                                    \n",
      "[20]\tvalidation-rmse:6.84327                                                    \n",
      "[40]\tvalidation-rmse:6.55263                                                    \n",
      "[60]\tvalidation-rmse:6.50800                                                    \n",
      "[80]\tvalidation-rmse:6.49029                                                    \n",
      "[100]\tvalidation-rmse:6.47998                                                   \n",
      "[120]\tvalidation-rmse:6.46958                                                   \n",
      "[140]\tvalidation-rmse:6.46207                                                   \n",
      "[160]\tvalidation-rmse:6.45448                                                   \n",
      "[180]\tvalidation-rmse:6.44930                                                   \n",
      "[200]\tvalidation-rmse:6.44422                                                   \n",
      "[220]\tvalidation-rmse:6.43877                                                   \n",
      "[240]\tvalidation-rmse:6.43459                                                   \n",
      "[260]\tvalidation-rmse:6.43183                                                   \n",
      "[280]\tvalidation-rmse:6.42782                                                   \n",
      "[300]\tvalidation-rmse:6.42405                                                   \n",
      "[320]\tvalidation-rmse:6.42194                                                   \n",
      "[340]\tvalidation-rmse:6.41910                                                   \n",
      "[360]\tvalidation-rmse:6.41718                                                   \n",
      "[380]\tvalidation-rmse:6.41522                                                   \n",
      "[400]\tvalidation-rmse:6.41227                                                   \n",
      "[420]\tvalidation-rmse:6.41021                                                   \n",
      "[440]\tvalidation-rmse:6.40859                                                   \n",
      "[460]\tvalidation-rmse:6.40653                                                   \n",
      "[480]\tvalidation-rmse:6.40481                                                   \n",
      "[500]\tvalidation-rmse:6.40369                                                   \n",
      "[520]\tvalidation-rmse:6.40234                                                   \n",
      "[540]\tvalidation-rmse:6.40115                                                   \n",
      "[560]\tvalidation-rmse:6.40056                                                   \n",
      "[580]\tvalidation-rmse:6.39988                                                   \n",
      "[600]\tvalidation-rmse:6.39923                                                   \n",
      "[620]\tvalidation-rmse:6.39862                                                   \n",
      "[640]\tvalidation-rmse:6.39898                                                   \n",
      "[660]\tvalidation-rmse:6.39791                                                   \n",
      "[680]\tvalidation-rmse:6.39712                                                   \n",
      "[700]\tvalidation-rmse:6.39726                                                   \n",
      "[720]\tvalidation-rmse:6.39667                                                   \n",
      "[740]\tvalidation-rmse:6.39777                                                   \n",
      "[760]\tvalidation-rmse:6.39770                                                   \n",
      "[764]\tvalidation-rmse:6.39768                                                   \n",
      " 20%|██        | 10/50 [11:09<27:53, 41.83s/trial, best loss: 6.379184085162657]"
     ]
    },
    {
     "name": "stderr",
     "output_type": "stream",
     "text": [
      "/Users/bastienwinant/Desktop/projects/mlops-zoomcamp/.venv/lib/python3.9/site-packages/xgboost/core.py:158: UserWarning: [15:12:13] WARNING: /Users/runner/work/xgboost/xgboost/src/c_api/c_api.cc:1374: Saving model in the UBJSON format as default.  You can use file extension: `json`, `ubj` or `deprecated` to choose between formats.\n",
      "  warnings.warn(smsg, UserWarning)\n",
      "\n",
      "\u001B[31m2025/05/30 15:12:20 WARNING mlflow.models.model: Model logged without a signature and input example. Please set `input_example` parameter when logging the model to auto infer the model signature.\u001B[0m\n",
      "\n"
     ]
    },
    {
     "name": "stdout",
     "output_type": "stream",
     "text": [
      "[0]\tvalidation-rmse:7.74538                                                     \n",
      "[20]\tvalidation-rmse:6.46702                                                    \n",
      "[40]\tvalidation-rmse:6.43306                                                    \n",
      "[60]\tvalidation-rmse:6.42030                                                    \n",
      "[80]\tvalidation-rmse:6.41116                                                    \n",
      "[100]\tvalidation-rmse:6.40846                                                   \n",
      "[120]\tvalidation-rmse:6.40622                                                   \n",
      "[140]\tvalidation-rmse:6.40474                                                   \n",
      "[160]\tvalidation-rmse:6.40615                                                   \n",
      "[180]\tvalidation-rmse:6.40691                                                   \n",
      "[190]\tvalidation-rmse:6.40524                                                   \n",
      " 22%|██▏       | 11/50 [11:37<44:57, 69.16s/trial, best loss: 6.379184085162657]"
     ]
    },
    {
     "name": "stderr",
     "output_type": "stream",
     "text": [
      "/Users/bastienwinant/Desktop/projects/mlops-zoomcamp/.venv/lib/python3.9/site-packages/xgboost/core.py:158: UserWarning: [15:12:34] WARNING: /Users/runner/work/xgboost/xgboost/src/c_api/c_api.cc:1374: Saving model in the UBJSON format as default.  You can use file extension: `json`, `ubj` or `deprecated` to choose between formats.\n",
      "  warnings.warn(smsg, UserWarning)\n",
      "\n",
      "\u001B[31m2025/05/30 15:12:42 WARNING mlflow.models.model: Model logged without a signature and input example. Please set `input_example` parameter when logging the model to auto infer the model signature.\u001B[0m\n",
      "\n"
     ]
    },
    {
     "name": "stdout",
     "output_type": "stream",
     "text": [
      "[0]\tvalidation-rmse:9.44839                                                     \n",
      "[20]\tvalidation-rmse:6.49982                                                    \n",
      "[40]\tvalidation-rmse:6.45601                                                    \n",
      "[60]\tvalidation-rmse:6.42134                                                    \n",
      "[80]\tvalidation-rmse:6.39742                                                    \n",
      "[100]\tvalidation-rmse:6.38089                                                   \n",
      "[120]\tvalidation-rmse:6.36708                                                   \n",
      "[140]\tvalidation-rmse:6.35691                                                   \n",
      "[160]\tvalidation-rmse:6.34774                                                   \n",
      "[180]\tvalidation-rmse:6.34199                                                   \n",
      "[200]\tvalidation-rmse:6.33714                                                   \n",
      "[220]\tvalidation-rmse:6.32942                                                   \n",
      "[240]\tvalidation-rmse:6.32433                                                   \n",
      "[260]\tvalidation-rmse:6.32208                                                   \n",
      "[280]\tvalidation-rmse:6.32035                                                   \n",
      "[300]\tvalidation-rmse:6.31832                                                   \n",
      "[320]\tvalidation-rmse:6.31453                                                   \n",
      "[340]\tvalidation-rmse:6.31472                                                   \n",
      "[360]\tvalidation-rmse:6.31032                                                   \n",
      "[380]\tvalidation-rmse:6.31062                                                   \n",
      "[400]\tvalidation-rmse:6.30993                                                   \n",
      "[420]\tvalidation-rmse:6.30966                                                   \n",
      "[440]\tvalidation-rmse:6.30836                                                   \n",
      "[460]\tvalidation-rmse:6.31079                                                   \n",
      "[480]\tvalidation-rmse:6.31002                                                   \n",
      "[484]\tvalidation-rmse:6.31026                                                   \n",
      " 24%|██▍       | 12/50 [12:20<34:43, 54.84s/trial, best loss: 6.379184085162657]"
     ]
    },
    {
     "name": "stderr",
     "output_type": "stream",
     "text": [
      "/Users/bastienwinant/Desktop/projects/mlops-zoomcamp/.venv/lib/python3.9/site-packages/xgboost/core.py:158: UserWarning: [15:13:17] WARNING: /Users/runner/work/xgboost/xgboost/src/c_api/c_api.cc:1374: Saving model in the UBJSON format as default.  You can use file extension: `json`, `ubj` or `deprecated` to choose between formats.\n",
      "  warnings.warn(smsg, UserWarning)\n",
      "\n",
      "\u001B[31m2025/05/30 15:13:25 WARNING mlflow.models.model: Model logged without a signature and input example. Please set `input_example` parameter when logging the model to auto infer the model signature.\u001B[0m\n",
      "\n"
     ]
    },
    {
     "name": "stdout",
     "output_type": "stream",
     "text": [
      "[0]\tvalidation-rmse:8.82902                                                     \n",
      "[20]\tvalidation-rmse:6.65865                                                    \n",
      "[40]\tvalidation-rmse:6.61613                                                    \n",
      "[60]\tvalidation-rmse:6.58706                                                    \n",
      "[80]\tvalidation-rmse:6.56625                                                    \n",
      "[100]\tvalidation-rmse:6.54708                                                   \n",
      "[120]\tvalidation-rmse:6.53708                                                   \n",
      "[140]\tvalidation-rmse:6.52567                                                   \n",
      "[160]\tvalidation-rmse:6.51577                                                   \n",
      "[180]\tvalidation-rmse:6.50757                                                   \n",
      "[200]\tvalidation-rmse:6.49816                                                   \n",
      "[220]\tvalidation-rmse:6.49210                                                   \n",
      "[240]\tvalidation-rmse:6.48755                                                   \n",
      "[260]\tvalidation-rmse:6.48547                                                   \n",
      "[280]\tvalidation-rmse:6.48176                                                   \n",
      "[300]\tvalidation-rmse:6.47867                                                   \n",
      "[320]\tvalidation-rmse:6.47601                                                   \n",
      "[340]\tvalidation-rmse:6.47418                                                   \n",
      "[360]\tvalidation-rmse:6.47150                                                   \n",
      "[380]\tvalidation-rmse:6.46829                                                   \n",
      "[400]\tvalidation-rmse:6.46614                                                   \n",
      "[420]\tvalidation-rmse:6.46445                                                   \n",
      "[440]\tvalidation-rmse:6.46338                                                   \n",
      "[460]\tvalidation-rmse:6.46207                                                   \n",
      "[480]\tvalidation-rmse:6.46078                                                   \n",
      "[500]\tvalidation-rmse:6.45866                                                   \n",
      "[520]\tvalidation-rmse:6.45840                                                   \n",
      "[540]\tvalidation-rmse:6.45776                                                   \n",
      "[560]\tvalidation-rmse:6.45792                                                   \n",
      "[580]\tvalidation-rmse:6.45727                                                   \n",
      "[600]\tvalidation-rmse:6.45783                                                   \n",
      "[620]\tvalidation-rmse:6.45672                                                   \n",
      "[640]\tvalidation-rmse:6.45521                                                   \n",
      "[660]\tvalidation-rmse:6.45487                                                   \n",
      "[680]\tvalidation-rmse:6.45402                                                   \n",
      "[700]\tvalidation-rmse:6.45363                                                   \n",
      "[720]\tvalidation-rmse:6.45326                                                   \n",
      "[740]\tvalidation-rmse:6.45300                                                   \n",
      "[760]\tvalidation-rmse:6.45271                                                   \n",
      "[780]\tvalidation-rmse:6.45227                                                   \n",
      "[800]\tvalidation-rmse:6.45222                                                   \n",
      "[820]\tvalidation-rmse:6.45192                                                   \n",
      "[840]\tvalidation-rmse:6.45195                                                   \n",
      "[860]\tvalidation-rmse:6.45241                                                   \n",
      "[868]\tvalidation-rmse:6.45255                                                   \n",
      " 26%|██▌       | 13/50 [12:55<31:33, 51.17s/trial, best loss: 6.310255867225004]"
     ]
    },
    {
     "name": "stderr",
     "output_type": "stream",
     "text": [
      "/Users/bastienwinant/Desktop/projects/mlops-zoomcamp/.venv/lib/python3.9/site-packages/xgboost/core.py:158: UserWarning: [15:13:52] WARNING: /Users/runner/work/xgboost/xgboost/src/c_api/c_api.cc:1374: Saving model in the UBJSON format as default.  You can use file extension: `json`, `ubj` or `deprecated` to choose between formats.\n",
      "  warnings.warn(smsg, UserWarning)\n",
      "\n",
      "\u001B[31m2025/05/30 15:13:59 WARNING mlflow.models.model: Model logged without a signature and input example. Please set `input_example` parameter when logging the model to auto infer the model signature.\u001B[0m\n",
      "\n"
     ]
    },
    {
     "name": "stdout",
     "output_type": "stream",
     "text": [
      "[0]\tvalidation-rmse:7.61789                                                     \n",
      "[20]\tvalidation-rmse:6.53277                                                    \n",
      "[40]\tvalidation-rmse:6.51807                                                    \n",
      "[60]\tvalidation-rmse:6.51318                                                    \n",
      "[80]\tvalidation-rmse:6.51042                                                    \n",
      "[100]\tvalidation-rmse:6.50870                                                   \n",
      "[120]\tvalidation-rmse:6.51033                                                   \n",
      "[140]\tvalidation-rmse:6.51249                                                   \n",
      "[157]\tvalidation-rmse:6.51350                                                   \n",
      " 28%|██▊       | 14/50 [13:24<27:41, 46.15s/trial, best loss: 6.310255867225004]"
     ]
    },
    {
     "name": "stderr",
     "output_type": "stream",
     "text": [
      "/Users/bastienwinant/Desktop/projects/mlops-zoomcamp/.venv/lib/python3.9/site-packages/xgboost/core.py:158: UserWarning: [15:14:22] WARNING: /Users/runner/work/xgboost/xgboost/src/c_api/c_api.cc:1374: Saving model in the UBJSON format as default.  You can use file extension: `json`, `ubj` or `deprecated` to choose between formats.\n",
      "  warnings.warn(smsg, UserWarning)\n",
      "\n",
      "\u001B[31m2025/05/30 15:14:29 WARNING mlflow.models.model: Model logged without a signature and input example. Please set `input_example` parameter when logging the model to auto infer the model signature.\u001B[0m\n",
      "\n"
     ]
    },
    {
     "name": "stdout",
     "output_type": "stream",
     "text": [
      "[0]\tvalidation-rmse:6.87343                                                     \n",
      "[20]\tvalidation-rmse:6.55787                                                    \n",
      "[40]\tvalidation-rmse:6.52470                                                    \n",
      "[60]\tvalidation-rmse:6.51147                                                    \n",
      "[80]\tvalidation-rmse:6.52369                                                    \n",
      "[100]\tvalidation-rmse:6.53824                                                   \n",
      "[113]\tvalidation-rmse:6.55860                                                   \n",
      " 30%|███       | 15/50 [13:52<23:58, 41.10s/trial, best loss: 6.310255867225004]"
     ]
    },
    {
     "name": "stderr",
     "output_type": "stream",
     "text": [
      "/Users/bastienwinant/Desktop/projects/mlops-zoomcamp/.venv/lib/python3.9/site-packages/xgboost/core.py:158: UserWarning: [15:14:49] WARNING: /Users/runner/work/xgboost/xgboost/src/c_api/c_api.cc:1374: Saving model in the UBJSON format as default.  You can use file extension: `json`, `ubj` or `deprecated` to choose between formats.\n",
      "  warnings.warn(smsg, UserWarning)\n",
      "\n",
      "\u001B[31m2025/05/30 15:14:57 WARNING mlflow.models.model: Model logged without a signature and input example. Please set `input_example` parameter when logging the model to auto infer the model signature.\u001B[0m\n",
      "\n"
     ]
    },
    {
     "name": "stdout",
     "output_type": "stream",
     "text": [
      "[0]\tvalidation-rmse:9.99117                                                     \n",
      "[20]\tvalidation-rmse:6.53248                                                    \n",
      "[40]\tvalidation-rmse:6.49826                                                    \n",
      "[60]\tvalidation-rmse:6.47065                                                    \n",
      "[80]\tvalidation-rmse:6.45245                                                    \n",
      "[100]\tvalidation-rmse:6.44086                                                   \n",
      "[120]\tvalidation-rmse:6.42985                                                   \n",
      "[140]\tvalidation-rmse:6.41997                                                   \n",
      "[160]\tvalidation-rmse:6.41303                                                   \n",
      "[180]\tvalidation-rmse:6.40621                                                   \n",
      "[200]\tvalidation-rmse:6.40146                                                   \n",
      "[220]\tvalidation-rmse:6.39780                                                   \n",
      "[240]\tvalidation-rmse:6.39472                                                   \n",
      "[260]\tvalidation-rmse:6.39143                                                   \n",
      "[280]\tvalidation-rmse:6.38959                                                   \n",
      "[300]\tvalidation-rmse:6.38665                                                   \n",
      "[320]\tvalidation-rmse:6.38550                                                   \n",
      "[340]\tvalidation-rmse:6.38413                                                   \n",
      "[360]\tvalidation-rmse:6.38294                                                   \n",
      "[380]\tvalidation-rmse:6.38152                                                   \n",
      "[400]\tvalidation-rmse:6.38321                                                   \n",
      "[420]\tvalidation-rmse:6.38327                                                   \n",
      "[428]\tvalidation-rmse:6.38506                                                   \n",
      " 32%|███▏      | 16/50 [14:45<21:00, 37.07s/trial, best loss: 6.310255867225004]"
     ]
    },
    {
     "name": "stderr",
     "output_type": "stream",
     "text": [
      "/Users/bastienwinant/Desktop/projects/mlops-zoomcamp/.venv/lib/python3.9/site-packages/xgboost/core.py:158: UserWarning: [15:15:43] WARNING: /Users/runner/work/xgboost/xgboost/src/c_api/c_api.cc:1374: Saving model in the UBJSON format as default.  You can use file extension: `json`, `ubj` or `deprecated` to choose between formats.\n",
      "  warnings.warn(smsg, UserWarning)\n",
      "\n",
      "\u001B[31m2025/05/30 15:15:50 WARNING mlflow.models.model: Model logged without a signature and input example. Please set `input_example` parameter when logging the model to auto infer the model signature.\u001B[0m\n",
      "\n"
     ]
    },
    {
     "name": "stdout",
     "output_type": "stream",
     "text": [
      "[0]\tvalidation-rmse:11.66759                                                    \n",
      "[20]\tvalidation-rmse:7.10689                                                    \n",
      "[40]\tvalidation-rmse:6.56374                                                    \n",
      "[60]\tvalidation-rmse:6.46698                                                    \n",
      "[80]\tvalidation-rmse:6.43385                                                    \n",
      "[100]\tvalidation-rmse:6.42046                                                   \n",
      "[120]\tvalidation-rmse:6.41169                                                   \n",
      "[140]\tvalidation-rmse:6.40611                                                   \n",
      "[160]\tvalidation-rmse:6.40113                                                   \n",
      "[180]\tvalidation-rmse:6.39717                                                   \n",
      "[200]\tvalidation-rmse:6.39426                                                   \n",
      "[220]\tvalidation-rmse:6.39106                                                   \n",
      "[240]\tvalidation-rmse:6.38815                                                   \n",
      "[260]\tvalidation-rmse:6.38533                                                   \n",
      "[280]\tvalidation-rmse:6.38303                                                   \n",
      "[300]\tvalidation-rmse:6.38079                                                   \n",
      "[320]\tvalidation-rmse:6.37737                                                   \n",
      "[340]\tvalidation-rmse:6.37484                                                   \n",
      "[360]\tvalidation-rmse:6.37284                                                   \n",
      "[380]\tvalidation-rmse:6.37102                                                   \n",
      "[400]\tvalidation-rmse:6.36965                                                   \n",
      "[420]\tvalidation-rmse:6.36863                                                   \n",
      "[440]\tvalidation-rmse:6.36747                                                   \n",
      "[460]\tvalidation-rmse:6.36646                                                   \n",
      "[480]\tvalidation-rmse:6.36576                                                   \n",
      "[500]\tvalidation-rmse:6.36448                                                   \n",
      "[520]\tvalidation-rmse:6.36351                                                   \n",
      "[540]\tvalidation-rmse:6.36274                                                   \n",
      "[560]\tvalidation-rmse:6.36225                                                   \n",
      "[580]\tvalidation-rmse:6.36167                                                   \n",
      "[600]\tvalidation-rmse:6.36138                                                   \n",
      "[620]\tvalidation-rmse:6.36111                                                   \n",
      "[640]\tvalidation-rmse:6.36039                                                   \n",
      "[660]\tvalidation-rmse:6.36002                                                   \n",
      "[680]\tvalidation-rmse:6.35976                                                   \n",
      "[700]\tvalidation-rmse:6.35958                                                   \n",
      "[720]\tvalidation-rmse:6.35976                                                   \n",
      "[740]\tvalidation-rmse:6.35927                                                   \n",
      "[760]\tvalidation-rmse:6.35867                                                   \n",
      "[780]\tvalidation-rmse:6.35860                                                   \n",
      "[800]\tvalidation-rmse:6.35872                                                   \n",
      "[820]\tvalidation-rmse:6.35857                                                   \n",
      "[828]\tvalidation-rmse:6.35884                                                   \n",
      " 34%|███▍      | 17/50 [17:36<23:05, 41.98s/trial, best loss: 6.310255867225004]"
     ]
    },
    {
     "name": "stderr",
     "output_type": "stream",
     "text": [
      "/Users/bastienwinant/Desktop/projects/mlops-zoomcamp/.venv/lib/python3.9/site-packages/xgboost/core.py:158: UserWarning: [15:18:52] WARNING: /Users/runner/work/xgboost/xgboost/src/c_api/c_api.cc:1374: Saving model in the UBJSON format as default.  You can use file extension: `json`, `ubj` or `deprecated` to choose between formats.\n",
      "  warnings.warn(smsg, UserWarning)\n",
      "\n",
      "\u001B[31m2025/05/30 15:19:04 WARNING mlflow.models.model: Model logged without a signature and input example. Please set `input_example` parameter when logging the model to auto infer the model signature.\u001B[0m\n",
      "\n"
     ]
    },
    {
     "name": "stdout",
     "output_type": "stream",
     "text": [
      "[0]\tvalidation-rmse:10.23328                                                    \n",
      "[20]\tvalidation-rmse:6.59371                                                    \n",
      "[40]\tvalidation-rmse:6.57023                                                    \n",
      "[60]\tvalidation-rmse:6.56107                                                    \n",
      "[80]\tvalidation-rmse:6.55603                                                    \n",
      "[100]\tvalidation-rmse:6.55138                                                   \n",
      "[120]\tvalidation-rmse:6.54899                                                   \n",
      "[140]\tvalidation-rmse:6.54710                                                   \n",
      "[160]\tvalidation-rmse:6.54563                                                   \n",
      "[180]\tvalidation-rmse:6.54513                                                   \n",
      "[200]\tvalidation-rmse:6.54411                                                   \n",
      "[220]\tvalidation-rmse:6.54392                                                   \n",
      "[240]\tvalidation-rmse:6.54287                                                   \n",
      "[260]\tvalidation-rmse:6.54235                                                   \n",
      "[280]\tvalidation-rmse:6.54196                                                   \n",
      "[300]\tvalidation-rmse:6.54184                                                   \n",
      "[320]\tvalidation-rmse:6.54088                                                   \n",
      "[340]\tvalidation-rmse:6.54122                                                   \n",
      "[360]\tvalidation-rmse:6.54113                                                   \n",
      "[370]\tvalidation-rmse:6.54093                                                   \n",
      " 36%|███▌      | 18/50 [19:02<46:43, 87.62s/trial, best loss: 6.310255867225004]"
     ]
    },
    {
     "name": "stderr",
     "output_type": "stream",
     "text": [
      "/Users/bastienwinant/Desktop/projects/mlops-zoomcamp/.venv/lib/python3.9/site-packages/xgboost/core.py:158: UserWarning: [15:20:01] WARNING: /Users/runner/work/xgboost/xgboost/src/c_api/c_api.cc:1374: Saving model in the UBJSON format as default.  You can use file extension: `json`, `ubj` or `deprecated` to choose between formats.\n",
      "  warnings.warn(smsg, UserWarning)\n",
      "\n",
      "\u001B[31m2025/05/30 15:20:09 WARNING mlflow.models.model: Model logged without a signature and input example. Please set `input_example` parameter when logging the model to auto infer the model signature.\u001B[0m\n",
      "\n"
     ]
    },
    {
     "name": "stdout",
     "output_type": "stream",
     "text": [
      "[0]\tvalidation-rmse:9.43653                                                     \n",
      "[20]\tvalidation-rmse:6.64805                                                    \n",
      "[40]\tvalidation-rmse:6.63542                                                    \n",
      "[60]\tvalidation-rmse:6.62884                                                    \n",
      "[80]\tvalidation-rmse:6.62374                                                    \n",
      "[100]\tvalidation-rmse:6.61973                                                   \n",
      "[120]\tvalidation-rmse:6.61628                                                   \n",
      "[140]\tvalidation-rmse:6.61416                                                   \n",
      "[160]\tvalidation-rmse:6.61204                                                   \n",
      "[180]\tvalidation-rmse:6.61121                                                   \n",
      "[200]\tvalidation-rmse:6.60971                                                   \n",
      "[220]\tvalidation-rmse:6.60852                                                   \n",
      "[240]\tvalidation-rmse:6.60793                                                   \n",
      "[260]\tvalidation-rmse:6.60710                                                   \n",
      "[280]\tvalidation-rmse:6.60703                                                   \n",
      "[300]\tvalidation-rmse:6.60706                                                   \n",
      "[320]\tvalidation-rmse:6.60666                                                   \n",
      "[340]\tvalidation-rmse:6.60614                                                   \n",
      "[360]\tvalidation-rmse:6.60667                                                   \n",
      "[379]\tvalidation-rmse:6.60666                                                   \n",
      " 38%|███▊      | 19/50 [19:47<41:50, 80.98s/trial, best loss: 6.310255867225004]"
     ]
    },
    {
     "name": "stderr",
     "output_type": "stream",
     "text": [
      "/Users/bastienwinant/Desktop/projects/mlops-zoomcamp/.venv/lib/python3.9/site-packages/xgboost/core.py:158: UserWarning: [15:20:45] WARNING: /Users/runner/work/xgboost/xgboost/src/c_api/c_api.cc:1374: Saving model in the UBJSON format as default.  You can use file extension: `json`, `ubj` or `deprecated` to choose between formats.\n",
      "  warnings.warn(smsg, UserWarning)\n",
      "\n",
      "\u001B[31m2025/05/30 15:20:52 WARNING mlflow.models.model: Model logged without a signature and input example. Please set `input_example` parameter when logging the model to auto infer the model signature.\u001B[0m\n",
      "\n"
     ]
    },
    {
     "name": "stdout",
     "output_type": "stream",
     "text": [
      "[0]\tvalidation-rmse:11.12914                                                    \n",
      "[20]\tvalidation-rmse:6.63744                                                    \n",
      "[40]\tvalidation-rmse:6.55072                                                    \n",
      "[60]\tvalidation-rmse:6.52794                                                    \n",
      "[80]\tvalidation-rmse:6.50796                                                    \n",
      "[100]\tvalidation-rmse:6.49281                                                   \n",
      "[120]\tvalidation-rmse:6.47965                                                   \n",
      "[140]\tvalidation-rmse:6.46701                                                   \n",
      "[160]\tvalidation-rmse:6.45655                                                   \n",
      "[180]\tvalidation-rmse:6.44739                                                   \n",
      "[200]\tvalidation-rmse:6.43835                                                   \n",
      "[220]\tvalidation-rmse:6.43026                                                   \n",
      "[240]\tvalidation-rmse:6.42381                                                   \n",
      "[260]\tvalidation-rmse:6.41802                                                   \n",
      "[280]\tvalidation-rmse:6.41196                                                   \n",
      "[300]\tvalidation-rmse:6.40517                                                   \n",
      "[320]\tvalidation-rmse:6.39933                                                   \n",
      "[340]\tvalidation-rmse:6.39473                                                   \n",
      "[360]\tvalidation-rmse:6.38994                                                   \n",
      "[380]\tvalidation-rmse:6.38551                                                   \n",
      "[400]\tvalidation-rmse:6.38167                                                   \n",
      "[420]\tvalidation-rmse:6.37695                                                   \n",
      "[440]\tvalidation-rmse:6.37254                                                   \n",
      "[460]\tvalidation-rmse:6.36959                                                   \n",
      "[480]\tvalidation-rmse:6.36565                                                   \n",
      "[500]\tvalidation-rmse:6.36305                                                   \n",
      "[520]\tvalidation-rmse:6.36103                                                   \n",
      "[540]\tvalidation-rmse:6.35792                                                   \n",
      "[560]\tvalidation-rmse:6.35455                                                   \n",
      "[580]\tvalidation-rmse:6.35176                                                   \n",
      "[600]\tvalidation-rmse:6.34949                                                   \n",
      "[620]\tvalidation-rmse:6.34730                                                   \n",
      "[640]\tvalidation-rmse:6.34501                                                   \n",
      "[660]\tvalidation-rmse:6.34319                                                   \n",
      "[680]\tvalidation-rmse:6.34133                                                   \n",
      "[700]\tvalidation-rmse:6.33894                                                   \n",
      "[720]\tvalidation-rmse:6.33679                                                   \n",
      "[740]\tvalidation-rmse:6.33381                                                   \n",
      "[760]\tvalidation-rmse:6.33232                                                   \n",
      "[780]\tvalidation-rmse:6.33063                                                   \n",
      "[800]\tvalidation-rmse:6.32900                                                   \n",
      "[820]\tvalidation-rmse:6.32764                                                   \n",
      "[840]\tvalidation-rmse:6.32719                                                   \n",
      "[860]\tvalidation-rmse:6.32536                                                   \n",
      "[880]\tvalidation-rmse:6.32378                                                   \n",
      "[900]\tvalidation-rmse:6.32245                                                   \n",
      "[920]\tvalidation-rmse:6.32126                                                   \n",
      "[940]\tvalidation-rmse:6.32055                                                   \n",
      "[960]\tvalidation-rmse:6.31934                                                   \n",
      "[980]\tvalidation-rmse:6.31862                                                   \n",
      "[999]\tvalidation-rmse:6.31820                                                   \n",
      " 40%|████      | 20/50 [21:06<34:44, 69.50s/trial, best loss: 6.310255867225004]"
     ]
    },
    {
     "name": "stderr",
     "output_type": "stream",
     "text": [
      "/Users/bastienwinant/Desktop/projects/mlops-zoomcamp/.venv/lib/python3.9/site-packages/xgboost/core.py:158: UserWarning: [15:22:06] WARNING: /Users/runner/work/xgboost/xgboost/src/c_api/c_api.cc:1374: Saving model in the UBJSON format as default.  You can use file extension: `json`, `ubj` or `deprecated` to choose between formats.\n",
      "  warnings.warn(smsg, UserWarning)\n",
      "\n",
      "\u001B[31m2025/05/30 15:22:18 WARNING mlflow.models.model: Model logged without a signature and input example. Please set `input_example` parameter when logging the model to auto infer the model signature.\u001B[0m\n",
      "\n"
     ]
    },
    {
     "name": "stdout",
     "output_type": "stream",
     "text": [
      "[0]\tvalidation-rmse:11.09043                                                    \n",
      "[20]\tvalidation-rmse:6.64125                                                    \n",
      "[40]\tvalidation-rmse:6.56947                                                    \n",
      "[60]\tvalidation-rmse:6.54567                                                    \n",
      "[80]\tvalidation-rmse:6.52627                                                    \n",
      "[100]\tvalidation-rmse:6.50849                                                   \n",
      "[120]\tvalidation-rmse:6.49723                                                   \n",
      "[140]\tvalidation-rmse:6.48482                                                   \n",
      "[160]\tvalidation-rmse:6.47414                                                   \n",
      "[180]\tvalidation-rmse:6.46336                                                   \n",
      "[200]\tvalidation-rmse:6.45475                                                   \n",
      "[220]\tvalidation-rmse:6.44755                                                   \n",
      "[240]\tvalidation-rmse:6.43992                                                   \n",
      "[260]\tvalidation-rmse:6.43067                                                   \n",
      "[280]\tvalidation-rmse:6.42489                                                   \n",
      "[300]\tvalidation-rmse:6.42024                                                   \n",
      "[320]\tvalidation-rmse:6.41531                                                   \n",
      "[340]\tvalidation-rmse:6.40906                                                   \n",
      "[360]\tvalidation-rmse:6.40391                                                   \n",
      "[380]\tvalidation-rmse:6.39755                                                   \n",
      "[400]\tvalidation-rmse:6.39330                                                   \n",
      "[420]\tvalidation-rmse:6.39008                                                   \n",
      "[440]\tvalidation-rmse:6.38613                                                   \n",
      "[460]\tvalidation-rmse:6.38240                                                   \n",
      "[480]\tvalidation-rmse:6.37818                                                   \n",
      "[500]\tvalidation-rmse:6.37509                                                   \n",
      "[520]\tvalidation-rmse:6.37028                                                   \n",
      "[540]\tvalidation-rmse:6.36676                                                   \n",
      "[560]\tvalidation-rmse:6.36460                                                   \n",
      "[580]\tvalidation-rmse:6.36228                                                   \n",
      "[600]\tvalidation-rmse:6.35990                                                   \n",
      "[620]\tvalidation-rmse:6.35752                                                   \n",
      "[640]\tvalidation-rmse:6.35466                                                   \n",
      "[660]\tvalidation-rmse:6.35281                                                   \n",
      "[680]\tvalidation-rmse:6.34988                                                   \n",
      "[700]\tvalidation-rmse:6.34714                                                   \n",
      "[720]\tvalidation-rmse:6.34471                                                   \n",
      "[740]\tvalidation-rmse:6.34313                                                   \n",
      "[760]\tvalidation-rmse:6.34170                                                   \n",
      "[780]\tvalidation-rmse:6.34033                                                   \n",
      "[800]\tvalidation-rmse:6.33889                                                   \n",
      "[820]\tvalidation-rmse:6.33684                                                   \n",
      "[840]\tvalidation-rmse:6.33509                                                   \n",
      "[860]\tvalidation-rmse:6.33318                                                   \n",
      "[880]\tvalidation-rmse:6.33058                                                   \n",
      "[900]\tvalidation-rmse:6.32893                                                   \n",
      "[920]\tvalidation-rmse:6.32770                                                   \n",
      "[940]\tvalidation-rmse:6.32648                                                   \n",
      "[960]\tvalidation-rmse:6.32542                                                   \n",
      "[980]\tvalidation-rmse:6.32471                                                   \n",
      "[999]\tvalidation-rmse:6.32321                                                   \n",
      " 42%|████▏     | 21/50 [22:37<36:00, 74.48s/trial, best loss: 6.310255867225004]"
     ]
    },
    {
     "name": "stderr",
     "output_type": "stream",
     "text": [
      "/Users/bastienwinant/Desktop/projects/mlops-zoomcamp/.venv/lib/python3.9/site-packages/xgboost/core.py:158: UserWarning: [15:23:35] WARNING: /Users/runner/work/xgboost/xgboost/src/c_api/c_api.cc:1374: Saving model in the UBJSON format as default.  You can use file extension: `json`, `ubj` or `deprecated` to choose between formats.\n",
      "  warnings.warn(smsg, UserWarning)\n",
      "\n",
      "\u001B[31m2025/05/30 15:23:44 WARNING mlflow.models.model: Model logged without a signature and input example. Please set `input_example` parameter when logging the model to auto infer the model signature.\u001B[0m\n",
      "\n"
     ]
    },
    {
     "name": "stdout",
     "output_type": "stream",
     "text": [
      "[0]\tvalidation-rmse:11.09057                                                    \n",
      "[20]\tvalidation-rmse:6.60711                                                    \n",
      "[40]\tvalidation-rmse:6.52656                                                    \n",
      "[60]\tvalidation-rmse:6.50202                                                    \n",
      "[80]\tvalidation-rmse:6.48354                                                    \n",
      "[100]\tvalidation-rmse:6.46565                                                   \n",
      "[120]\tvalidation-rmse:6.45279                                                   \n",
      "[140]\tvalidation-rmse:6.44149                                                   \n",
      "[160]\tvalidation-rmse:6.42924                                                   \n",
      "[180]\tvalidation-rmse:6.42103                                                   \n",
      "[200]\tvalidation-rmse:6.41383                                                   \n",
      "[220]\tvalidation-rmse:6.40660                                                   \n",
      "[240]\tvalidation-rmse:6.39890                                                   \n",
      "[260]\tvalidation-rmse:6.39245                                                   \n",
      "[280]\tvalidation-rmse:6.38679                                                   \n",
      "[300]\tvalidation-rmse:6.38268                                                   \n",
      "[320]\tvalidation-rmse:6.37777                                                   \n",
      "[340]\tvalidation-rmse:6.37135                                                   \n",
      "[360]\tvalidation-rmse:6.36704                                                   \n",
      "[380]\tvalidation-rmse:6.36352                                                   \n",
      "[400]\tvalidation-rmse:6.35991                                                   \n",
      "[420]\tvalidation-rmse:6.35711                                                   \n",
      "[440]\tvalidation-rmse:6.35371                                                   \n",
      "[460]\tvalidation-rmse:6.34977                                                   \n",
      "[480]\tvalidation-rmse:6.34670                                                   \n",
      "[500]\tvalidation-rmse:6.34386                                                   \n",
      "[520]\tvalidation-rmse:6.34151                                                   \n",
      "[540]\tvalidation-rmse:6.34026                                                   \n",
      "[560]\tvalidation-rmse:6.33783                                                   \n",
      "[580]\tvalidation-rmse:6.33504                                                   \n",
      "[600]\tvalidation-rmse:6.33234                                                   \n",
      "[620]\tvalidation-rmse:6.32988                                                   \n",
      "[640]\tvalidation-rmse:6.32850                                                   \n",
      "[660]\tvalidation-rmse:6.32715                                                   \n",
      "[680]\tvalidation-rmse:6.32541                                                   \n",
      "[700]\tvalidation-rmse:6.32385                                                   \n",
      "[720]\tvalidation-rmse:6.32284                                                   \n",
      "[740]\tvalidation-rmse:6.32133                                                   \n",
      "[760]\tvalidation-rmse:6.32004                                                   \n",
      "[780]\tvalidation-rmse:6.31812                                                   \n",
      "[800]\tvalidation-rmse:6.31654                                                   \n",
      "[820]\tvalidation-rmse:6.31538                                                   \n",
      "[840]\tvalidation-rmse:6.31508                                                   \n",
      "[860]\tvalidation-rmse:6.31319                                                   \n",
      "[880]\tvalidation-rmse:6.31309                                                   \n",
      "[900]\tvalidation-rmse:6.31218                                                   \n",
      "[920]\tvalidation-rmse:6.31031                                                   \n",
      "[940]\tvalidation-rmse:6.31066                                                   \n",
      "[960]\tvalidation-rmse:6.30985                                                   \n",
      "[980]\tvalidation-rmse:6.30855                                                   \n",
      "[999]\tvalidation-rmse:6.30807                                                   \n",
      " 44%|████▍     | 22/50 [24:06<36:18, 77.81s/trial, best loss: 6.310255867225004]"
     ]
    },
    {
     "name": "stderr",
     "output_type": "stream",
     "text": [
      "/Users/bastienwinant/Desktop/projects/mlops-zoomcamp/.venv/lib/python3.9/site-packages/xgboost/core.py:158: UserWarning: [15:25:06] WARNING: /Users/runner/work/xgboost/xgboost/src/c_api/c_api.cc:1374: Saving model in the UBJSON format as default.  You can use file extension: `json`, `ubj` or `deprecated` to choose between formats.\n",
      "  warnings.warn(smsg, UserWarning)\n",
      "\n",
      "\u001B[31m2025/05/30 15:25:16 WARNING mlflow.models.model: Model logged without a signature and input example. Please set `input_example` parameter when logging the model to auto infer the model signature.\u001B[0m\n",
      "\n"
     ]
    },
    {
     "name": "stdout",
     "output_type": "stream",
     "text": [
      "[0]\tvalidation-rmse:10.95773                                                    \n",
      "[20]\tvalidation-rmse:6.57019                                                   \n",
      "[40]\tvalidation-rmse:6.51194                                                   \n",
      "[60]\tvalidation-rmse:6.48434                                                   \n",
      "[80]\tvalidation-rmse:6.46660                                                   \n",
      "[100]\tvalidation-rmse:6.44855                                                  \n",
      "[120]\tvalidation-rmse:6.43739                                                  \n",
      "[140]\tvalidation-rmse:6.42558                                                  \n",
      "[160]\tvalidation-rmse:6.41480                                                  \n",
      "[180]\tvalidation-rmse:6.40646                                                  \n",
      "[200]\tvalidation-rmse:6.39926                                                  \n",
      "[220]\tvalidation-rmse:6.39111                                                  \n",
      "[240]\tvalidation-rmse:6.38396                                                  \n",
      "[260]\tvalidation-rmse:6.37914                                                  \n",
      "[280]\tvalidation-rmse:6.37378                                                  \n",
      "[300]\tvalidation-rmse:6.36885                                                  \n",
      "[320]\tvalidation-rmse:6.36335                                                  \n",
      "[340]\tvalidation-rmse:6.35890                                                  \n",
      "[360]\tvalidation-rmse:6.35488                                                  \n",
      "[380]\tvalidation-rmse:6.35190                                                  \n",
      "[400]\tvalidation-rmse:6.34769                                                  \n",
      "[420]\tvalidation-rmse:6.34412                                                  \n",
      "[440]\tvalidation-rmse:6.34139                                                  \n",
      "[460]\tvalidation-rmse:6.33736                                                  \n",
      "[480]\tvalidation-rmse:6.33523                                                  \n",
      "[500]\tvalidation-rmse:6.33329                                                  \n",
      "[520]\tvalidation-rmse:6.33034                                                  \n",
      "[540]\tvalidation-rmse:6.32825                                                  \n",
      "[560]\tvalidation-rmse:6.32608                                                  \n",
      "[580]\tvalidation-rmse:6.32482                                                  \n",
      "[600]\tvalidation-rmse:6.32290                                                  \n",
      "[620]\tvalidation-rmse:6.32125                                                  \n",
      "[640]\tvalidation-rmse:6.31950                                                  \n",
      "[660]\tvalidation-rmse:6.31845                                                  \n",
      "[680]\tvalidation-rmse:6.31652                                                  \n",
      "[700]\tvalidation-rmse:6.31546                                                  \n",
      "[720]\tvalidation-rmse:6.31442                                                  \n",
      "[740]\tvalidation-rmse:6.31322                                                  \n",
      "[760]\tvalidation-rmse:6.31290                                                  \n",
      "[780]\tvalidation-rmse:6.31184                                                  \n",
      "[800]\tvalidation-rmse:6.31132                                                  \n",
      "[820]\tvalidation-rmse:6.31032                                                  \n",
      "[840]\tvalidation-rmse:6.30976                                                  \n",
      "[860]\tvalidation-rmse:6.30862                                                  \n",
      "[880]\tvalidation-rmse:6.30865                                                  \n",
      "[900]\tvalidation-rmse:6.30840                                                  \n",
      "[920]\tvalidation-rmse:6.30708                                                  \n",
      "[940]\tvalidation-rmse:6.30675                                                  \n",
      "[960]\tvalidation-rmse:6.30665                                                  \n",
      "[980]\tvalidation-rmse:6.30617                                                  \n",
      "[999]\tvalidation-rmse:6.30573                                                  \n",
      " 46%|████▌     | 23/50 [25:35<36:53, 81.99s/trial, best loss: 6.30807219621605]"
     ]
    },
    {
     "name": "stderr",
     "output_type": "stream",
     "text": [
      "/Users/bastienwinant/Desktop/projects/mlops-zoomcamp/.venv/lib/python3.9/site-packages/xgboost/core.py:158: UserWarning: [15:26:35] WARNING: /Users/runner/work/xgboost/xgboost/src/c_api/c_api.cc:1374: Saving model in the UBJSON format as default.  You can use file extension: `json`, `ubj` or `deprecated` to choose between formats.\n",
      "  warnings.warn(smsg, UserWarning)\n",
      "\n",
      "\u001B[31m2025/05/30 15:26:45 WARNING mlflow.models.model: Model logged without a signature and input example. Please set `input_example` parameter when logging the model to auto infer the model signature.\u001B[0m\n",
      "\n"
     ]
    },
    {
     "name": "stdout",
     "output_type": "stream",
     "text": [
      "[0]\tvalidation-rmse:10.96537                                                    \n",
      "[20]\tvalidation-rmse:6.51629                                                    \n",
      "[40]\tvalidation-rmse:6.44505                                                    \n",
      "[60]\tvalidation-rmse:6.42085                                                    \n",
      "[80]\tvalidation-rmse:6.40391                                                    \n",
      "[100]\tvalidation-rmse:6.39166                                                   \n",
      "[120]\tvalidation-rmse:6.38241                                                   \n",
      "[140]\tvalidation-rmse:6.37354                                                   \n",
      "[160]\tvalidation-rmse:6.36718                                                   \n",
      "[180]\tvalidation-rmse:6.36088                                                   \n",
      "[200]\tvalidation-rmse:6.35657                                                   \n",
      "[220]\tvalidation-rmse:6.35136                                                   \n",
      "[240]\tvalidation-rmse:6.34816                                                   \n",
      "[260]\tvalidation-rmse:6.34552                                                   \n",
      "[280]\tvalidation-rmse:6.34148                                                   \n",
      "[300]\tvalidation-rmse:6.34041                                                   \n",
      "[320]\tvalidation-rmse:6.33790                                                   \n",
      "[340]\tvalidation-rmse:6.33637                                                   \n",
      "[360]\tvalidation-rmse:6.33547                                                   \n",
      "[380]\tvalidation-rmse:6.33368                                                   \n",
      "[400]\tvalidation-rmse:6.33245                                                   \n",
      "[420]\tvalidation-rmse:6.33022                                                   \n",
      "[440]\tvalidation-rmse:6.33022                                                   \n",
      "[460]\tvalidation-rmse:6.33032                                                   \n",
      "[480]\tvalidation-rmse:6.33007                                                   \n",
      "[500]\tvalidation-rmse:6.32955                                                   \n",
      "[520]\tvalidation-rmse:6.32995                                                   \n",
      "[540]\tvalidation-rmse:6.33036                                                   \n",
      "[545]\tvalidation-rmse:6.33014                                                   \n",
      " 48%|████▊     | 24/50 [26:58<36:26, 84.11s/trial, best loss: 6.305734775251356]"
     ]
    },
    {
     "name": "stderr",
     "output_type": "stream",
     "text": [
      "/Users/bastienwinant/Desktop/projects/mlops-zoomcamp/.venv/lib/python3.9/site-packages/xgboost/core.py:158: UserWarning: [15:27:58] WARNING: /Users/runner/work/xgboost/xgboost/src/c_api/c_api.cc:1374: Saving model in the UBJSON format as default.  You can use file extension: `json`, `ubj` or `deprecated` to choose between formats.\n",
      "  warnings.warn(smsg, UserWarning)\n",
      "\n",
      "\u001B[31m2025/05/30 15:28:08 WARNING mlflow.models.model: Model logged without a signature and input example. Please set `input_example` parameter when logging the model to auto infer the model signature.\u001B[0m\n",
      "\n"
     ]
    },
    {
     "name": "stdout",
     "output_type": "stream",
     "text": [
      "[0]\tvalidation-rmse:11.38465                                                    \n",
      "[20]\tvalidation-rmse:6.83760                                                    \n",
      "[40]\tvalidation-rmse:6.66606                                                    \n",
      "[60]\tvalidation-rmse:6.64324                                                    \n",
      "[80]\tvalidation-rmse:6.62970                                                    \n",
      "[100]\tvalidation-rmse:6.61718                                                   \n",
      "[120]\tvalidation-rmse:6.60836                                                   \n",
      "[140]\tvalidation-rmse:6.59977                                                   \n",
      "[160]\tvalidation-rmse:6.59148                                                   \n",
      "[180]\tvalidation-rmse:6.58494                                                   \n",
      "[200]\tvalidation-rmse:6.57788                                                   \n",
      "[220]\tvalidation-rmse:6.57126                                                   \n",
      "[240]\tvalidation-rmse:6.56429                                                   \n",
      "[260]\tvalidation-rmse:6.55907                                                   \n",
      "[280]\tvalidation-rmse:6.55465                                                   \n",
      "[300]\tvalidation-rmse:6.54883                                                   \n",
      "[320]\tvalidation-rmse:6.54285                                                   \n",
      "[340]\tvalidation-rmse:6.53852                                                   \n",
      "[360]\tvalidation-rmse:6.53459                                                   \n",
      "[380]\tvalidation-rmse:6.52991                                                   \n",
      "[400]\tvalidation-rmse:6.52611                                                   \n",
      "[420]\tvalidation-rmse:6.52320                                                   \n",
      "[440]\tvalidation-rmse:6.51810                                                   \n",
      "[460]\tvalidation-rmse:6.51404                                                   \n",
      "[480]\tvalidation-rmse:6.51013                                                   \n",
      "[500]\tvalidation-rmse:6.50678                                                   \n",
      "[520]\tvalidation-rmse:6.50359                                                   \n",
      "[540]\tvalidation-rmse:6.50031                                                   \n",
      "[560]\tvalidation-rmse:6.49759                                                   \n",
      "[580]\tvalidation-rmse:6.49533                                                   \n",
      "[600]\tvalidation-rmse:6.49166                                                   \n",
      "[620]\tvalidation-rmse:6.48939                                                   \n",
      "[640]\tvalidation-rmse:6.48658                                                   \n",
      "[660]\tvalidation-rmse:6.48354                                                   \n",
      "[680]\tvalidation-rmse:6.48147                                                   \n",
      "[700]\tvalidation-rmse:6.47799                                                   \n",
      "[720]\tvalidation-rmse:6.47554                                                   \n",
      "[740]\tvalidation-rmse:6.47320                                                   \n",
      "[760]\tvalidation-rmse:6.47204                                                   \n",
      "[780]\tvalidation-rmse:6.46989                                                   \n",
      "[800]\tvalidation-rmse:6.46738                                                   \n",
      "[820]\tvalidation-rmse:6.46469                                                   \n",
      "[840]\tvalidation-rmse:6.46304                                                   \n",
      "[860]\tvalidation-rmse:6.46081                                                   \n",
      "[880]\tvalidation-rmse:6.45915                                                   \n",
      "[900]\tvalidation-rmse:6.45710                                                   \n",
      "[920]\tvalidation-rmse:6.45400                                                   \n",
      "[940]\tvalidation-rmse:6.45263                                                   \n",
      "[960]\tvalidation-rmse:6.45030                                                   \n",
      "[980]\tvalidation-rmse:6.44849                                                   \n",
      "[999]\tvalidation-rmse:6.44831                                                   \n",
      " 50%|█████     | 25/50 [28:11<34:57, 83.90s/trial, best loss: 6.305734775251356]"
     ]
    },
    {
     "name": "stderr",
     "output_type": "stream",
     "text": [
      "/Users/bastienwinant/Desktop/projects/mlops-zoomcamp/.venv/lib/python3.9/site-packages/xgboost/core.py:158: UserWarning: [15:29:09] WARNING: /Users/runner/work/xgboost/xgboost/src/c_api/c_api.cc:1374: Saving model in the UBJSON format as default.  You can use file extension: `json`, `ubj` or `deprecated` to choose between formats.\n",
      "  warnings.warn(smsg, UserWarning)\n",
      "\n",
      "\u001B[31m2025/05/30 15:29:18 WARNING mlflow.models.model: Model logged without a signature and input example. Please set `input_example` parameter when logging the model to auto infer the model signature.\u001B[0m\n",
      "\n"
     ]
    },
    {
     "name": "stdout",
     "output_type": "stream",
     "text": [
      "[0]\tvalidation-rmse:11.79688                                                    \n",
      "[20]\tvalidation-rmse:7.59202                                                    \n",
      "[40]\tvalidation-rmse:6.75784                                                    \n",
      "[60]\tvalidation-rmse:6.57850                                                    \n",
      "[80]\tvalidation-rmse:6.52382                                                    \n",
      "[100]\tvalidation-rmse:6.50303                                                   \n",
      "[120]\tvalidation-rmse:6.49222                                                   \n",
      "[140]\tvalidation-rmse:6.48239                                                   \n",
      "[160]\tvalidation-rmse:6.47436                                                   \n",
      "[180]\tvalidation-rmse:6.46726                                                   \n",
      "[200]\tvalidation-rmse:6.46025                                                   \n",
      "[220]\tvalidation-rmse:6.45408                                                   \n",
      "[240]\tvalidation-rmse:6.44864                                                   \n",
      "[260]\tvalidation-rmse:6.44325                                                   \n",
      "[280]\tvalidation-rmse:6.43849                                                   \n",
      "[300]\tvalidation-rmse:6.43372                                                   \n",
      "[320]\tvalidation-rmse:6.42976                                                   \n",
      "[340]\tvalidation-rmse:6.42553                                                   \n",
      "[360]\tvalidation-rmse:6.42208                                                   \n",
      "[380]\tvalidation-rmse:6.41813                                                   \n",
      "[400]\tvalidation-rmse:6.41470                                                   \n",
      "[420]\tvalidation-rmse:6.41168                                                   \n",
      "[440]\tvalidation-rmse:6.40879                                                   \n",
      "[460]\tvalidation-rmse:6.40575                                                   \n",
      "[480]\tvalidation-rmse:6.40286                                                   \n",
      "[500]\tvalidation-rmse:6.40015                                                   \n",
      "[520]\tvalidation-rmse:6.39746                                                   \n",
      "[540]\tvalidation-rmse:6.39493                                                   \n",
      "[560]\tvalidation-rmse:6.39242                                                   \n",
      "[580]\tvalidation-rmse:6.39022                                                   \n",
      "[600]\tvalidation-rmse:6.38760                                                   \n",
      "[620]\tvalidation-rmse:6.38548                                                   \n",
      "[640]\tvalidation-rmse:6.38374                                                   \n",
      "[660]\tvalidation-rmse:6.38153                                                   \n",
      "[680]\tvalidation-rmse:6.37995                                                   \n",
      "[700]\tvalidation-rmse:6.37818                                                   \n",
      "[720]\tvalidation-rmse:6.37628                                                   \n",
      "[740]\tvalidation-rmse:6.37455                                                   \n",
      "[760]\tvalidation-rmse:6.37268                                                   \n",
      "[780]\tvalidation-rmse:6.37118                                                   \n",
      "[800]\tvalidation-rmse:6.36993                                                   \n",
      "[820]\tvalidation-rmse:6.36837                                                   \n",
      "[840]\tvalidation-rmse:6.36629                                                   \n",
      "[860]\tvalidation-rmse:6.36430                                                   \n",
      "[880]\tvalidation-rmse:6.36311                                                   \n",
      "[900]\tvalidation-rmse:6.36156                                                   \n",
      "[920]\tvalidation-rmse:6.36010                                                   \n",
      "[940]\tvalidation-rmse:6.35873                                                   \n",
      "[960]\tvalidation-rmse:6.35749                                                   \n",
      "[980]\tvalidation-rmse:6.35673                                                   \n",
      "[999]\tvalidation-rmse:6.35542                                                   \n",
      " 52%|█████▏    | 26/50 [29:56<31:55, 79.82s/trial, best loss: 6.305734775251356]"
     ]
    },
    {
     "name": "stderr",
     "output_type": "stream",
     "text": [
      "/Users/bastienwinant/Desktop/projects/mlops-zoomcamp/.venv/lib/python3.9/site-packages/xgboost/core.py:158: UserWarning: [15:30:56] WARNING: /Users/runner/work/xgboost/xgboost/src/c_api/c_api.cc:1374: Saving model in the UBJSON format as default.  You can use file extension: `json`, `ubj` or `deprecated` to choose between formats.\n",
      "  warnings.warn(smsg, UserWarning)\n",
      "\n",
      "\u001B[31m2025/05/30 15:31:05 WARNING mlflow.models.model: Model logged without a signature and input example. Please set `input_example` parameter when logging the model to auto infer the model signature.\u001B[0m\n",
      "\n"
     ]
    },
    {
     "name": "stdout",
     "output_type": "stream",
     "text": [
      "[0]\tvalidation-rmse:11.31496                                                    \n",
      "[20]\tvalidation-rmse:6.63179                                                    \n",
      "[40]\tvalidation-rmse:6.46161                                                    \n",
      "[60]\tvalidation-rmse:6.43748                                                    \n",
      "[80]\tvalidation-rmse:6.41898                                                    \n",
      "[100]\tvalidation-rmse:6.40643                                                   \n",
      "[120]\tvalidation-rmse:6.39347                                                   \n",
      "[140]\tvalidation-rmse:6.38335                                                   \n",
      "[160]\tvalidation-rmse:6.37526                                                   \n",
      "[180]\tvalidation-rmse:6.36758                                                   \n",
      "[200]\tvalidation-rmse:6.36130                                                   \n",
      "[220]\tvalidation-rmse:6.35662                                                   \n",
      "[240]\tvalidation-rmse:6.35108                                                   \n",
      "[260]\tvalidation-rmse:6.34646                                                   \n",
      "[280]\tvalidation-rmse:6.34305                                                   \n",
      "[300]\tvalidation-rmse:6.33883                                                   \n",
      "[320]\tvalidation-rmse:6.33565                                                   \n",
      "[340]\tvalidation-rmse:6.33245                                                   \n",
      "[360]\tvalidation-rmse:6.32965                                                   \n",
      "[380]\tvalidation-rmse:6.32627                                                   \n",
      "[400]\tvalidation-rmse:6.32382                                                   \n",
      "[420]\tvalidation-rmse:6.32248                                                   \n",
      "[440]\tvalidation-rmse:6.31969                                                   \n",
      "[460]\tvalidation-rmse:6.31784                                                   \n",
      "[480]\tvalidation-rmse:6.31609                                                   \n",
      "[500]\tvalidation-rmse:6.31416                                                   \n",
      "[520]\tvalidation-rmse:6.31386                                                   \n",
      "[540]\tvalidation-rmse:6.31312                                                   \n",
      "[560]\tvalidation-rmse:6.31079                                                   \n",
      "[580]\tvalidation-rmse:6.31054                                                   \n",
      "[600]\tvalidation-rmse:6.31006                                                   \n",
      "[620]\tvalidation-rmse:6.30945                                                   \n",
      "[640]\tvalidation-rmse:6.30904                                                   \n",
      "[660]\tvalidation-rmse:6.30931                                                   \n",
      "[677]\tvalidation-rmse:6.30935                                                   \n",
      " 54%|█████▍    | 27/50 [32:09<33:42, 87.92s/trial, best loss: 6.305734775251356]"
     ]
    },
    {
     "name": "stderr",
     "output_type": "stream",
     "text": [
      "/Users/bastienwinant/Desktop/projects/mlops-zoomcamp/.venv/lib/python3.9/site-packages/xgboost/core.py:158: UserWarning: [15:33:11] WARNING: /Users/runner/work/xgboost/xgboost/src/c_api/c_api.cc:1374: Saving model in the UBJSON format as default.  You can use file extension: `json`, `ubj` or `deprecated` to choose between formats.\n",
      "  warnings.warn(smsg, UserWarning)\n",
      "\n",
      "\u001B[31m2025/05/30 15:33:23 WARNING mlflow.models.model: Model logged without a signature and input example. Please set `input_example` parameter when logging the model to auto infer the model signature.\u001B[0m\n",
      "\n"
     ]
    },
    {
     "name": "stdout",
     "output_type": "stream",
     "text": [
      "[0]\tvalidation-rmse:10.72627                                                     \n",
      "[20]\tvalidation-rmse:6.49606                                                     \n",
      "[40]\tvalidation-rmse:6.44649                                                     \n",
      "[60]\tvalidation-rmse:6.42107                                                     \n",
      "[80]\tvalidation-rmse:6.40515                                                     \n",
      "[100]\tvalidation-rmse:6.39273                                                    \n",
      "[120]\tvalidation-rmse:6.38158                                                    \n",
      "[140]\tvalidation-rmse:6.37236                                                    \n",
      "[160]\tvalidation-rmse:6.36600                                                    \n",
      "[180]\tvalidation-rmse:6.36041                                                    \n",
      "[200]\tvalidation-rmse:6.35538                                                    \n",
      "[220]\tvalidation-rmse:6.34952                                                    \n",
      "[240]\tvalidation-rmse:6.34578                                                    \n",
      "[260]\tvalidation-rmse:6.34391                                                    \n",
      "[280]\tvalidation-rmse:6.33985                                                    \n",
      "[300]\tvalidation-rmse:6.33745                                                    \n",
      "[320]\tvalidation-rmse:6.33550                                                    \n",
      "[340]\tvalidation-rmse:6.33372                                                    \n",
      "[360]\tvalidation-rmse:6.33267                                                    \n",
      "[380]\tvalidation-rmse:6.33020                                                    \n",
      "[400]\tvalidation-rmse:6.33030                                                    \n",
      "[420]\tvalidation-rmse:6.32910                                                    \n",
      "[440]\tvalidation-rmse:6.33058                                                    \n",
      "[456]\tvalidation-rmse:6.32973                                                    \n",
      " 56%|█████▌    | 28/50 [33:37<37:45, 102.98s/trial, best loss: 6.305734775251356]"
     ]
    },
    {
     "name": "stderr",
     "output_type": "stream",
     "text": [
      "/Users/bastienwinant/Desktop/projects/mlops-zoomcamp/.venv/lib/python3.9/site-packages/xgboost/core.py:158: UserWarning: [15:34:38] WARNING: /Users/runner/work/xgboost/xgboost/src/c_api/c_api.cc:1374: Saving model in the UBJSON format as default.  You can use file extension: `json`, `ubj` or `deprecated` to choose between formats.\n",
      "  warnings.warn(smsg, UserWarning)\n",
      "\n",
      "\u001B[31m2025/05/30 15:34:51 WARNING mlflow.models.model: Model logged without a signature and input example. Please set `input_example` parameter when logging the model to auto infer the model signature.\u001B[0m\n",
      "\n"
     ]
    },
    {
     "name": "stdout",
     "output_type": "stream",
     "text": [
      "[0]\tvalidation-rmse:10.81331                                                     \n",
      "[20]\tvalidation-rmse:6.60735                                                    \n",
      "[40]\tvalidation-rmse:6.56204                                                    \n",
      "[60]\tvalidation-rmse:6.53931                                                    \n",
      "[80]\tvalidation-rmse:6.52383                                                    \n",
      "[100]\tvalidation-rmse:6.51190                                                   \n",
      "[120]\tvalidation-rmse:6.49846                                                   \n",
      "[140]\tvalidation-rmse:6.48578                                                   \n",
      "[160]\tvalidation-rmse:6.47688                                                   \n",
      "[180]\tvalidation-rmse:6.46992                                                   \n",
      "[200]\tvalidation-rmse:6.46393                                                   \n",
      "[220]\tvalidation-rmse:6.45701                                                   \n",
      "[240]\tvalidation-rmse:6.45042                                                   \n",
      "[260]\tvalidation-rmse:6.44560                                                   \n",
      "[280]\tvalidation-rmse:6.44205                                                   \n",
      "[300]\tvalidation-rmse:6.43592                                                   \n",
      "[320]\tvalidation-rmse:6.43262                                                   \n",
      "[340]\tvalidation-rmse:6.42860                                                   \n",
      "[360]\tvalidation-rmse:6.42370                                                   \n",
      "[380]\tvalidation-rmse:6.42229                                                   \n",
      "[400]\tvalidation-rmse:6.41930                                                   \n",
      "[420]\tvalidation-rmse:6.41691                                                   \n",
      "[440]\tvalidation-rmse:6.41425                                                   \n",
      "[460]\tvalidation-rmse:6.41070                                                   \n",
      "[480]\tvalidation-rmse:6.40922                                                   \n",
      "[500]\tvalidation-rmse:6.40781                                                   \n",
      "[520]\tvalidation-rmse:6.40341                                                   \n",
      "[540]\tvalidation-rmse:6.40146                                                   \n",
      "[560]\tvalidation-rmse:6.40046                                                   \n",
      "[580]\tvalidation-rmse:6.40005                                                   \n",
      "[600]\tvalidation-rmse:6.39855                                                   \n",
      "[620]\tvalidation-rmse:6.39709                                                   \n",
      "[640]\tvalidation-rmse:6.39620                                                   \n",
      "[660]\tvalidation-rmse:6.39506                                                   \n",
      "[680]\tvalidation-rmse:6.39471                                                   \n",
      "[700]\tvalidation-rmse:6.39377                                                   \n",
      "[720]\tvalidation-rmse:6.39344                                                   \n",
      "[740]\tvalidation-rmse:6.39255                                                   \n",
      "[760]\tvalidation-rmse:6.39321                                                   \n",
      "[780]\tvalidation-rmse:6.39265                                                   \n",
      "[792]\tvalidation-rmse:6.39343                                                   \n",
      " 58%|█████▊    | 29/50 [35:43<34:26, 98.41s/trial, best loss: 6.305734775251356]"
     ]
    },
    {
     "name": "stderr",
     "output_type": "stream",
     "text": [
      "/Users/bastienwinant/Desktop/projects/mlops-zoomcamp/.venv/lib/python3.9/site-packages/xgboost/core.py:158: UserWarning: [15:36:43] WARNING: /Users/runner/work/xgboost/xgboost/src/c_api/c_api.cc:1374: Saving model in the UBJSON format as default.  You can use file extension: `json`, `ubj` or `deprecated` to choose between formats.\n",
      "  warnings.warn(smsg, UserWarning)\n",
      "\n",
      "\u001B[31m2025/05/30 15:36:53 WARNING mlflow.models.model: Model logged without a signature and input example. Please set `input_example` parameter when logging the model to auto infer the model signature.\u001B[0m\n",
      "\n"
     ]
    },
    {
     "name": "stdout",
     "output_type": "stream",
     "text": [
      "[0]\tvalidation-rmse:11.22822                                                     \n",
      "[20]\tvalidation-rmse:6.60651                                                     \n",
      "[40]\tvalidation-rmse:6.47696                                                     \n",
      "[60]\tvalidation-rmse:6.45326                                                     \n",
      "[80]\tvalidation-rmse:6.43515                                                     \n",
      "[100]\tvalidation-rmse:6.42017                                                    \n",
      "[120]\tvalidation-rmse:6.40766                                                    \n",
      "[140]\tvalidation-rmse:6.39751                                                    \n",
      "[160]\tvalidation-rmse:6.38867                                                    \n",
      "[180]\tvalidation-rmse:6.38054                                                    \n",
      "[200]\tvalidation-rmse:6.37436                                                    \n",
      "[220]\tvalidation-rmse:6.36740                                                    \n",
      "[240]\tvalidation-rmse:6.36205                                                    \n",
      "[260]\tvalidation-rmse:6.35688                                                    \n",
      "[280]\tvalidation-rmse:6.35273                                                    \n",
      "[300]\tvalidation-rmse:6.34862                                                    \n",
      "[320]\tvalidation-rmse:6.34480                                                    \n",
      "[340]\tvalidation-rmse:6.34087                                                    \n",
      "[360]\tvalidation-rmse:6.33809                                                    \n",
      "[380]\tvalidation-rmse:6.33482                                                    \n",
      "[400]\tvalidation-rmse:6.33131                                                    \n",
      "[420]\tvalidation-rmse:6.32815                                                    \n",
      "[440]\tvalidation-rmse:6.32525                                                    \n",
      "[460]\tvalidation-rmse:6.32388                                                    \n",
      "[480]\tvalidation-rmse:6.32217                                                    \n",
      "[500]\tvalidation-rmse:6.31965                                                    \n",
      "[520]\tvalidation-rmse:6.31749                                                    \n",
      "[540]\tvalidation-rmse:6.31611                                                    \n",
      "[560]\tvalidation-rmse:6.31514                                                    \n",
      "[580]\tvalidation-rmse:6.31313                                                    \n",
      "[600]\tvalidation-rmse:6.31306                                                    \n",
      "[620]\tvalidation-rmse:6.31172                                                    \n",
      "[640]\tvalidation-rmse:6.30994                                                    \n",
      "[660]\tvalidation-rmse:6.30963                                                    \n",
      "[680]\tvalidation-rmse:6.30855                                                    \n",
      "[700]\tvalidation-rmse:6.30735                                                    \n",
      "[720]\tvalidation-rmse:6.30736                                                    \n",
      "[740]\tvalidation-rmse:6.30648                                                    \n",
      "[760]\tvalidation-rmse:6.30738                                                    \n",
      "[780]\tvalidation-rmse:6.30674                                                    \n",
      "[800]\tvalidation-rmse:6.30577                                                    \n",
      "[820]\tvalidation-rmse:6.30609                                                    \n",
      "[840]\tvalidation-rmse:6.30613                                                    \n",
      "[860]\tvalidation-rmse:6.30436                                                    \n",
      "[880]\tvalidation-rmse:6.30435                                                    \n",
      "[900]\tvalidation-rmse:6.30443                                                    \n",
      "[909]\tvalidation-rmse:6.30423                                                    \n",
      " 60%|██████    | 30/50 [37:57<35:09, 105.50s/trial, best loss: 6.305734775251356]"
     ]
    },
    {
     "name": "stderr",
     "output_type": "stream",
     "text": [
      "/Users/bastienwinant/Desktop/projects/mlops-zoomcamp/.venv/lib/python3.9/site-packages/xgboost/core.py:158: UserWarning: [15:39:02] WARNING: /Users/runner/work/xgboost/xgboost/src/c_api/c_api.cc:1374: Saving model in the UBJSON format as default.  You can use file extension: `json`, `ubj` or `deprecated` to choose between formats.\n",
      "  warnings.warn(smsg, UserWarning)\n",
      "\n",
      "\u001B[31m2025/05/30 15:39:17 WARNING mlflow.models.model: Model logged without a signature and input example. Please set `input_example` parameter when logging the model to auto infer the model signature.\u001B[0m\n",
      "\n"
     ]
    },
    {
     "name": "stdout",
     "output_type": "stream",
     "text": [
      "[0]\tvalidation-rmse:11.80450                                                     \n",
      "[20]\tvalidation-rmse:7.66008                                                     \n",
      "[40]\tvalidation-rmse:6.81816                                                     \n",
      "[60]\tvalidation-rmse:6.63191                                                     \n",
      "[80]\tvalidation-rmse:6.57816                                                     \n",
      "[100]\tvalidation-rmse:6.55820                                                    \n",
      "[120]\tvalidation-rmse:6.54698                                                    \n",
      "[140]\tvalidation-rmse:6.53751                                                    \n",
      "[160]\tvalidation-rmse:6.53003                                                    \n",
      "[180]\tvalidation-rmse:6.52406                                                    \n",
      "[200]\tvalidation-rmse:6.51748                                                    \n",
      "[220]\tvalidation-rmse:6.51256                                                    \n",
      "[240]\tvalidation-rmse:6.50726                                                    \n",
      "[260]\tvalidation-rmse:6.50321                                                    \n",
      "[280]\tvalidation-rmse:6.49874                                                    \n",
      "[300]\tvalidation-rmse:6.49383                                                    \n",
      "[320]\tvalidation-rmse:6.49008                                                    \n",
      "[340]\tvalidation-rmse:6.48611                                                    \n",
      "[360]\tvalidation-rmse:6.48235                                                    \n",
      "[380]\tvalidation-rmse:6.47892                                                    \n",
      "[400]\tvalidation-rmse:6.47559                                                    \n",
      "[420]\tvalidation-rmse:6.47254                                                    \n",
      "[440]\tvalidation-rmse:6.46953                                                    \n",
      "[460]\tvalidation-rmse:6.46666                                                    \n",
      "[480]\tvalidation-rmse:6.46353                                                    \n",
      "[500]\tvalidation-rmse:6.46113                                                    \n",
      "[520]\tvalidation-rmse:6.45846                                                    \n",
      "[540]\tvalidation-rmse:6.45612                                                    \n",
      "[560]\tvalidation-rmse:6.45394                                                    \n",
      "[580]\tvalidation-rmse:6.45228                                                    \n",
      "[600]\tvalidation-rmse:6.45014                                                    \n",
      "[620]\tvalidation-rmse:6.44767                                                    \n",
      "[640]\tvalidation-rmse:6.44556                                                    \n",
      "[660]\tvalidation-rmse:6.44355                                                    \n",
      "[680]\tvalidation-rmse:6.44143                                                    \n",
      "[700]\tvalidation-rmse:6.43976                                                    \n",
      "[720]\tvalidation-rmse:6.43784                                                    \n",
      "[740]\tvalidation-rmse:6.43660                                                    \n",
      "[760]\tvalidation-rmse:6.43482                                                    \n",
      "[780]\tvalidation-rmse:6.43288                                                    \n",
      "[800]\tvalidation-rmse:6.43171                                                    \n",
      "[820]\tvalidation-rmse:6.43020                                                    \n",
      "[840]\tvalidation-rmse:6.42881                                                    \n",
      "[860]\tvalidation-rmse:6.42784                                                    \n",
      "[880]\tvalidation-rmse:6.42621                                                    \n",
      "[900]\tvalidation-rmse:6.42485                                                    \n",
      "[920]\tvalidation-rmse:6.42342                                                    \n",
      "[940]\tvalidation-rmse:6.42213                                                    \n",
      "[960]\tvalidation-rmse:6.42105                                                    \n",
      "[980]\tvalidation-rmse:6.42022                                                    \n",
      "[999]\tvalidation-rmse:6.41922                                                    \n",
      " 62%|██████▏   | 31/50 [41:44<37:04, 117.10s/trial, best loss: 6.304227754735907]"
     ]
    },
    {
     "name": "stderr",
     "output_type": "stream",
     "text": [
      "/Users/bastienwinant/Desktop/projects/mlops-zoomcamp/.venv/lib/python3.9/site-packages/xgboost/core.py:158: UserWarning: [15:42:50] WARNING: /Users/runner/work/xgboost/xgboost/src/c_api/c_api.cc:1374: Saving model in the UBJSON format as default.  You can use file extension: `json`, `ubj` or `deprecated` to choose between formats.\n",
      "  warnings.warn(smsg, UserWarning)\n",
      "\n",
      "\u001B[31m2025/05/30 15:43:01 WARNING mlflow.models.model: Model logged without a signature and input example. Please set `input_example` parameter when logging the model to auto infer the model signature.\u001B[0m\n",
      "\n"
     ]
    },
    {
     "name": "stdout",
     "output_type": "stream",
     "text": [
      "[0]\tvalidation-rmse:11.56366                                                     \n",
      "[20]\tvalidation-rmse:6.88975                                                     \n",
      "[40]\tvalidation-rmse:6.50700                                                     \n",
      "[60]\tvalidation-rmse:6.44879                                                     \n",
      "[80]\tvalidation-rmse:6.43281                                                     \n",
      "[100]\tvalidation-rmse:6.41883                                                    \n",
      "[120]\tvalidation-rmse:6.40809                                                    \n",
      "[140]\tvalidation-rmse:6.39864                                                    \n",
      "[160]\tvalidation-rmse:6.39049                                                    \n",
      "[180]\tvalidation-rmse:6.38326                                                    \n",
      "[200]\tvalidation-rmse:6.37698                                                    \n",
      "[220]\tvalidation-rmse:6.37192                                                    \n",
      "[240]\tvalidation-rmse:6.36705                                                    \n",
      "[260]\tvalidation-rmse:6.36221                                                    \n",
      "[280]\tvalidation-rmse:6.35775                                                    \n",
      "[300]\tvalidation-rmse:6.35437                                                    \n",
      "[320]\tvalidation-rmse:6.35076                                                    \n",
      "[340]\tvalidation-rmse:6.34764                                                    \n",
      "[360]\tvalidation-rmse:6.34508                                                    \n",
      "[380]\tvalidation-rmse:6.34191                                                    \n",
      "[400]\tvalidation-rmse:6.33977                                                    \n",
      "[420]\tvalidation-rmse:6.33713                                                    \n",
      "[440]\tvalidation-rmse:6.33451                                                    \n",
      "[460]\tvalidation-rmse:6.33213                                                    \n",
      "[480]\tvalidation-rmse:6.32970                                                    \n",
      "[500]\tvalidation-rmse:6.32801                                                    \n",
      "[520]\tvalidation-rmse:6.32634                                                    \n",
      "[540]\tvalidation-rmse:6.32476                                                    \n",
      "[560]\tvalidation-rmse:6.32364                                                    \n",
      "[580]\tvalidation-rmse:6.32143                                                    \n",
      "[600]\tvalidation-rmse:6.31964                                                    \n",
      "[620]\tvalidation-rmse:6.31886                                                    \n",
      "[640]\tvalidation-rmse:6.31706                                                    \n",
      "[660]\tvalidation-rmse:6.31599                                                    \n",
      "[680]\tvalidation-rmse:6.31566                                                    \n",
      "[700]\tvalidation-rmse:6.31517                                                    \n",
      "[720]\tvalidation-rmse:6.31472                                                    \n",
      "[740]\tvalidation-rmse:6.31385                                                    \n",
      "[760]\tvalidation-rmse:6.31352                                                    \n",
      "[780]\tvalidation-rmse:6.31355                                                    \n",
      "[800]\tvalidation-rmse:6.31315                                                    \n",
      "[820]\tvalidation-rmse:6.31271                                                    \n",
      "[840]\tvalidation-rmse:6.31243                                                    \n",
      "[860]\tvalidation-rmse:6.31248                                                    \n",
      "[880]\tvalidation-rmse:6.31271                                                    \n",
      "[893]\tvalidation-rmse:6.31275                                                    \n",
      " 64%|██████▍   | 32/50 [44:28<44:43, 149.09s/trial, best loss: 6.304227754735907]"
     ]
    },
    {
     "name": "stderr",
     "output_type": "stream",
     "text": [
      "/Users/bastienwinant/Desktop/projects/mlops-zoomcamp/.venv/lib/python3.9/site-packages/xgboost/core.py:158: UserWarning: [15:45:33] WARNING: /Users/runner/work/xgboost/xgboost/src/c_api/c_api.cc:1374: Saving model in the UBJSON format as default.  You can use file extension: `json`, `ubj` or `deprecated` to choose between formats.\n",
      "  warnings.warn(smsg, UserWarning)\n",
      "\n",
      "\u001B[31m2025/05/30 15:45:43 WARNING mlflow.models.model: Model logged without a signature and input example. Please set `input_example` parameter when logging the model to auto infer the model signature.\u001B[0m\n",
      "\n"
     ]
    },
    {
     "name": "stdout",
     "output_type": "stream",
     "text": [
      "[0]\tvalidation-rmse:11.25707                                                     \n",
      "[20]\tvalidation-rmse:6.57171                                                     \n",
      "[40]\tvalidation-rmse:6.42442                                                     \n",
      "[60]\tvalidation-rmse:6.40293                                                     \n",
      "[80]\tvalidation-rmse:6.38632                                                     \n",
      "[100]\tvalidation-rmse:6.37454                                                    \n",
      "[120]\tvalidation-rmse:6.36505                                                    \n",
      "[140]\tvalidation-rmse:6.35740                                                    \n",
      "[160]\tvalidation-rmse:6.35147                                                    \n",
      "[180]\tvalidation-rmse:6.34632                                                    \n",
      "[200]\tvalidation-rmse:6.34158                                                    \n",
      "[220]\tvalidation-rmse:6.33640                                                    \n",
      "[240]\tvalidation-rmse:6.33289                                                    \n",
      "[260]\tvalidation-rmse:6.32957                                                    \n",
      "[280]\tvalidation-rmse:6.32764                                                    \n",
      "[300]\tvalidation-rmse:6.32543                                                    \n",
      "[320]\tvalidation-rmse:6.32392                                                    \n",
      "[340]\tvalidation-rmse:6.32389                                                    \n",
      "[360]\tvalidation-rmse:6.32173                                                    \n",
      "[380]\tvalidation-rmse:6.32026                                                    \n",
      "[400]\tvalidation-rmse:6.32038                                                    \n",
      "[420]\tvalidation-rmse:6.32036                                                    \n",
      "[440]\tvalidation-rmse:6.31976                                                    \n",
      "[460]\tvalidation-rmse:6.31943                                                    \n",
      "[480]\tvalidation-rmse:6.32050                                                    \n",
      "[500]\tvalidation-rmse:6.31946                                                    \n",
      "[515]\tvalidation-rmse:6.31963                                                    \n",
      " 66%|██████▌   | 33/50 [46:34<43:22, 153.12s/trial, best loss: 6.304227754735907]"
     ]
    },
    {
     "name": "stderr",
     "output_type": "stream",
     "text": [
      "/Users/bastienwinant/Desktop/projects/mlops-zoomcamp/.venv/lib/python3.9/site-packages/xgboost/core.py:158: UserWarning: [15:47:36] WARNING: /Users/runner/work/xgboost/xgboost/src/c_api/c_api.cc:1374: Saving model in the UBJSON format as default.  You can use file extension: `json`, `ubj` or `deprecated` to choose between formats.\n",
      "  warnings.warn(smsg, UserWarning)\n",
      "\n",
      "\u001B[31m2025/05/30 15:47:46 WARNING mlflow.models.model: Model logged without a signature and input example. Please set `input_example` parameter when logging the model to auto infer the model signature.\u001B[0m\n",
      "\n"
     ]
    },
    {
     "name": "stdout",
     "output_type": "stream",
     "text": [
      "[0]\tvalidation-rmse:10.35822                                                     \n",
      "[20]\tvalidation-rmse:6.57204                                                     \n",
      "[40]\tvalidation-rmse:6.53247                                                     \n",
      "[60]\tvalidation-rmse:6.50436                                                     \n",
      "[80]\tvalidation-rmse:6.48597                                                     \n",
      "[100]\tvalidation-rmse:6.46978                                                    \n",
      "[120]\tvalidation-rmse:6.45695                                                    \n",
      "[140]\tvalidation-rmse:6.44506                                                    \n",
      "[160]\tvalidation-rmse:6.43610                                                    \n",
      "[180]\tvalidation-rmse:6.42837                                                    \n",
      "[200]\tvalidation-rmse:6.42100                                                    \n",
      "[220]\tvalidation-rmse:6.41491                                                    \n",
      "[240]\tvalidation-rmse:6.40695                                                    \n",
      "[260]\tvalidation-rmse:6.40213                                                    \n",
      "[280]\tvalidation-rmse:6.39617                                                    \n",
      "[300]\tvalidation-rmse:6.39268                                                    \n",
      "[320]\tvalidation-rmse:6.38697                                                    \n",
      "[340]\tvalidation-rmse:6.38397                                                    \n",
      "[360]\tvalidation-rmse:6.38118                                                    \n",
      "[380]\tvalidation-rmse:6.37771                                                    \n",
      "[400]\tvalidation-rmse:6.37526                                                    \n",
      "[420]\tvalidation-rmse:6.37267                                                    \n",
      "[440]\tvalidation-rmse:6.37015                                                    \n",
      "[460]\tvalidation-rmse:6.36982                                                    \n",
      "[480]\tvalidation-rmse:6.36825                                                    \n",
      "[500]\tvalidation-rmse:6.36555                                                    \n",
      "[520]\tvalidation-rmse:6.36463                                                    \n",
      "[540]\tvalidation-rmse:6.36374                                                    \n",
      "[560]\tvalidation-rmse:6.36262                                                    \n",
      "[580]\tvalidation-rmse:6.36097                                                    \n",
      "[600]\tvalidation-rmse:6.35952                                                    \n",
      "[620]\tvalidation-rmse:6.35870                                                    \n",
      "[640]\tvalidation-rmse:6.35724                                                    \n",
      "[660]\tvalidation-rmse:6.35751                                                    \n",
      "[680]\tvalidation-rmse:6.35630                                                    \n",
      "[700]\tvalidation-rmse:6.35598                                                    \n",
      "[720]\tvalidation-rmse:6.35521                                                    \n",
      "[740]\tvalidation-rmse:6.35429                                                    \n",
      "[760]\tvalidation-rmse:6.35312                                                    \n",
      "[780]\tvalidation-rmse:6.35273                                                    \n",
      "[800]\tvalidation-rmse:6.35201                                                    \n",
      "[820]\tvalidation-rmse:6.35198                                                    \n",
      "[840]\tvalidation-rmse:6.35027                                                    \n",
      "[860]\tvalidation-rmse:6.34906                                                    \n",
      "[880]\tvalidation-rmse:6.34861                                                    \n",
      "[900]\tvalidation-rmse:6.34744                                                    \n",
      "[920]\tvalidation-rmse:6.34766                                                    \n",
      "[940]\tvalidation-rmse:6.34733                                                    \n",
      "[960]\tvalidation-rmse:6.34678                                                    \n",
      "[980]\tvalidation-rmse:6.34603                                                    \n",
      "[999]\tvalidation-rmse:6.34601                                                    \n",
      " 68%|██████▊   | 34/50 [47:44<38:25, 144.08s/trial, best loss: 6.304227754735907]"
     ]
    },
    {
     "name": "stderr",
     "output_type": "stream",
     "text": [
      "/Users/bastienwinant/Desktop/projects/mlops-zoomcamp/.venv/lib/python3.9/site-packages/xgboost/core.py:158: UserWarning: [15:48:42] WARNING: /Users/runner/work/xgboost/xgboost/src/c_api/c_api.cc:1374: Saving model in the UBJSON format as default.  You can use file extension: `json`, `ubj` or `deprecated` to choose between formats.\n",
      "  warnings.warn(smsg, UserWarning)\n",
      "\n",
      "\u001B[31m2025/05/30 15:48:50 WARNING mlflow.models.model: Model logged without a signature and input example. Please set `input_example` parameter when logging the model to auto infer the model signature.\u001B[0m\n",
      "\n"
     ]
    },
    {
     "name": "stdout",
     "output_type": "stream",
     "text": [
      "[0]\tvalidation-rmse:11.51832                                                     \n",
      "[20]\tvalidation-rmse:7.05087                                                     \n",
      "[40]\tvalidation-rmse:6.80174                                                     \n",
      "[60]\tvalidation-rmse:6.77286                                                     \n",
      "[80]\tvalidation-rmse:6.75974                                                     \n",
      "[100]\tvalidation-rmse:6.74964                                                    \n",
      "[120]\tvalidation-rmse:6.74110                                                    \n",
      "[140]\tvalidation-rmse:6.73339                                                    \n",
      "[160]\tvalidation-rmse:6.72623                                                    \n",
      "[180]\tvalidation-rmse:6.71994                                                    \n",
      "[200]\tvalidation-rmse:6.71455                                                    \n",
      "[220]\tvalidation-rmse:6.70731                                                    \n",
      "[240]\tvalidation-rmse:6.70195                                                    \n",
      "[260]\tvalidation-rmse:6.69655                                                    \n",
      "[280]\tvalidation-rmse:6.69292                                                    \n",
      "[300]\tvalidation-rmse:6.68893                                                    \n",
      "[320]\tvalidation-rmse:6.68256                                                    \n",
      "[340]\tvalidation-rmse:6.67815                                                    \n",
      "[360]\tvalidation-rmse:6.67404                                                    \n",
      "[380]\tvalidation-rmse:6.67031                                                    \n",
      "[400]\tvalidation-rmse:6.66719                                                    \n",
      "[420]\tvalidation-rmse:6.66375                                                    \n",
      "[440]\tvalidation-rmse:6.66077                                                    \n",
      "[460]\tvalidation-rmse:6.65635                                                    \n",
      "[480]\tvalidation-rmse:6.65284                                                    \n",
      "[500]\tvalidation-rmse:6.64998                                                    \n",
      "[520]\tvalidation-rmse:6.64663                                                    \n",
      "[540]\tvalidation-rmse:6.64354                                                    \n",
      "[560]\tvalidation-rmse:6.64073                                                    \n",
      "[580]\tvalidation-rmse:6.63777                                                    \n",
      "[600]\tvalidation-rmse:6.63485                                                    \n",
      "[620]\tvalidation-rmse:6.63252                                                    \n",
      "[640]\tvalidation-rmse:6.62884                                                    \n",
      "[660]\tvalidation-rmse:6.62655                                                    \n",
      "[680]\tvalidation-rmse:6.62443                                                    \n",
      "[700]\tvalidation-rmse:6.62170                                                    \n",
      "[720]\tvalidation-rmse:6.61848                                                    \n",
      "[740]\tvalidation-rmse:6.61584                                                    \n",
      "[760]\tvalidation-rmse:6.61341                                                    \n",
      "[780]\tvalidation-rmse:6.61129                                                    \n",
      "[800]\tvalidation-rmse:6.60904                                                    \n",
      "[820]\tvalidation-rmse:6.60678                                                    \n",
      "[840]\tvalidation-rmse:6.60471                                                    \n",
      "[860]\tvalidation-rmse:6.60163                                                    \n",
      "[880]\tvalidation-rmse:6.59890                                                    \n",
      "[900]\tvalidation-rmse:6.59806                                                    \n",
      "[920]\tvalidation-rmse:6.59649                                                    \n",
      "[940]\tvalidation-rmse:6.59441                                                    \n",
      "[960]\tvalidation-rmse:6.59250                                                    \n",
      "[980]\tvalidation-rmse:6.58995                                                    \n",
      "[999]\tvalidation-rmse:6.58819                                                    \n",
      " 70%|███████   | 35/50 [48:39<30:01, 120.07s/trial, best loss: 6.304227754735907]"
     ]
    },
    {
     "name": "stderr",
     "output_type": "stream",
     "text": [
      "/Users/bastienwinant/Desktop/projects/mlops-zoomcamp/.venv/lib/python3.9/site-packages/xgboost/core.py:158: UserWarning: [15:49:36] WARNING: /Users/runner/work/xgboost/xgboost/src/c_api/c_api.cc:1374: Saving model in the UBJSON format as default.  You can use file extension: `json`, `ubj` or `deprecated` to choose between formats.\n",
      "  warnings.warn(smsg, UserWarning)\n",
      "\n",
      "\u001B[31m2025/05/30 15:49:44 WARNING mlflow.models.model: Model logged without a signature and input example. Please set `input_example` parameter when logging the model to auto infer the model signature.\u001B[0m\n",
      "\n"
     ]
    },
    {
     "name": "stdout",
     "output_type": "stream",
     "text": [
      "[0]\tvalidation-rmse:11.74634                                                     \n",
      "[20]\tvalidation-rmse:7.39321                                                     \n",
      "[40]\tvalidation-rmse:6.68141                                                     \n",
      "[60]\tvalidation-rmse:6.53917                                                     \n",
      "[80]\tvalidation-rmse:6.49903                                                     \n",
      "[100]\tvalidation-rmse:6.48753                                                    \n",
      "[120]\tvalidation-rmse:6.47637                                                    \n",
      "[140]\tvalidation-rmse:6.46675                                                    \n",
      "[160]\tvalidation-rmse:6.45883                                                    \n",
      "[180]\tvalidation-rmse:6.45115                                                    \n",
      "[200]\tvalidation-rmse:6.44380                                                    \n",
      "[220]\tvalidation-rmse:6.43726                                                    \n",
      "[240]\tvalidation-rmse:6.43098                                                    \n",
      "[260]\tvalidation-rmse:6.42535                                                    \n",
      "[280]\tvalidation-rmse:6.42008                                                    \n",
      "[300]\tvalidation-rmse:6.41533                                                    \n",
      "[320]\tvalidation-rmse:6.41067                                                    \n",
      "[340]\tvalidation-rmse:6.40696                                                    \n",
      "[360]\tvalidation-rmse:6.40265                                                    \n",
      "[380]\tvalidation-rmse:6.39936                                                    \n",
      "[400]\tvalidation-rmse:6.39546                                                    \n",
      "[420]\tvalidation-rmse:6.39144                                                    \n",
      "[440]\tvalidation-rmse:6.38862                                                    \n",
      "[460]\tvalidation-rmse:6.38468                                                    \n",
      "[480]\tvalidation-rmse:6.38122                                                    \n",
      "[500]\tvalidation-rmse:6.37871                                                    \n",
      "[520]\tvalidation-rmse:6.37628                                                    \n",
      "[540]\tvalidation-rmse:6.37289                                                    \n",
      "[560]\tvalidation-rmse:6.37065                                                    \n",
      "[580]\tvalidation-rmse:6.36845                                                    \n",
      "[600]\tvalidation-rmse:6.36551                                                    \n",
      "[620]\tvalidation-rmse:6.36283                                                    \n",
      "[640]\tvalidation-rmse:6.36114                                                    \n",
      "[660]\tvalidation-rmse:6.35922                                                    \n",
      "[680]\tvalidation-rmse:6.35671                                                    \n",
      "[700]\tvalidation-rmse:6.35447                                                    \n",
      "[720]\tvalidation-rmse:6.35281                                                    \n",
      "[740]\tvalidation-rmse:6.35123                                                    \n",
      "[760]\tvalidation-rmse:6.34935                                                    \n",
      "[780]\tvalidation-rmse:6.34716                                                    \n",
      "[800]\tvalidation-rmse:6.34569                                                    \n",
      "[820]\tvalidation-rmse:6.34417                                                    \n",
      "[840]\tvalidation-rmse:6.34259                                                    \n",
      "[860]\tvalidation-rmse:6.34103                                                    \n",
      "[880]\tvalidation-rmse:6.33922                                                    \n",
      "[900]\tvalidation-rmse:6.33790                                                    \n",
      "[920]\tvalidation-rmse:6.33595                                                    \n",
      "[940]\tvalidation-rmse:6.33468                                                    \n",
      "[960]\tvalidation-rmse:6.33297                                                    \n",
      "[980]\tvalidation-rmse:6.33178                                                    \n",
      "[999]\tvalidation-rmse:6.33072                                                    \n",
      " 72%|███████▏  | 36/50 [50:33<23:20, 100.04s/trial, best loss: 6.304227754735907]"
     ]
    },
    {
     "name": "stderr",
     "output_type": "stream",
     "text": [
      "/Users/bastienwinant/Desktop/projects/mlops-zoomcamp/.venv/lib/python3.9/site-packages/xgboost/core.py:158: UserWarning: [15:51:35] WARNING: /Users/runner/work/xgboost/xgboost/src/c_api/c_api.cc:1374: Saving model in the UBJSON format as default.  You can use file extension: `json`, `ubj` or `deprecated` to choose between formats.\n",
      "  warnings.warn(smsg, UserWarning)\n",
      "\n",
      "\u001B[31m2025/05/30 15:51:46 WARNING mlflow.models.model: Model logged without a signature and input example. Please set `input_example` parameter when logging the model to auto infer the model signature.\u001B[0m\n",
      "\n"
     ]
    },
    {
     "name": "stdout",
     "output_type": "stream",
     "text": [
      "[0]\tvalidation-rmse:10.58942                                                     \n",
      "[20]\tvalidation-rmse:6.46449                                                     \n",
      "[40]\tvalidation-rmse:6.42008                                                     \n",
      "[60]\tvalidation-rmse:6.39775                                                     \n",
      "[80]\tvalidation-rmse:6.38261                                                     \n",
      "[100]\tvalidation-rmse:6.37163                                                    \n",
      "[120]\tvalidation-rmse:6.36307                                                    \n",
      "[140]\tvalidation-rmse:6.35659                                                    \n",
      "[160]\tvalidation-rmse:6.35116                                                    \n",
      "[180]\tvalidation-rmse:6.34624                                                    \n",
      "[200]\tvalidation-rmse:6.34425                                                    \n",
      "[220]\tvalidation-rmse:6.34012                                                    \n",
      "[240]\tvalidation-rmse:6.33798                                                    \n",
      "[260]\tvalidation-rmse:6.33642                                                    \n",
      "[280]\tvalidation-rmse:6.33409                                                    \n",
      "[300]\tvalidation-rmse:6.33358                                                    \n",
      "[320]\tvalidation-rmse:6.33010                                                    \n",
      "[340]\tvalidation-rmse:6.32902                                                    \n",
      "[360]\tvalidation-rmse:6.32942                                                    \n",
      "[380]\tvalidation-rmse:6.32858                                                    \n",
      "[400]\tvalidation-rmse:6.32860                                                    \n",
      "[420]\tvalidation-rmse:6.32862                                                    \n",
      "[439]\tvalidation-rmse:6.32931                                                    \n",
      " 74%|███████▍  | 37/50 [51:51<23:05, 106.60s/trial, best loss: 6.304227754735907]"
     ]
    },
    {
     "name": "stderr",
     "output_type": "stream",
     "text": [
      "/Users/bastienwinant/Desktop/projects/mlops-zoomcamp/.venv/lib/python3.9/site-packages/xgboost/core.py:158: UserWarning: [15:52:50] WARNING: /Users/runner/work/xgboost/xgboost/src/c_api/c_api.cc:1374: Saving model in the UBJSON format as default.  You can use file extension: `json`, `ubj` or `deprecated` to choose between formats.\n",
      "  warnings.warn(smsg, UserWarning)\n",
      "\n",
      "\u001B[31m2025/05/30 15:53:01 WARNING mlflow.models.model: Model logged without a signature and input example. Please set `input_example` parameter when logging the model to auto infer the model signature.\u001B[0m\n",
      "\n"
     ]
    },
    {
     "name": "stdout",
     "output_type": "stream",
     "text": [
      "[0]\tvalidation-rmse:10.92887                                                     \n",
      "[20]\tvalidation-rmse:6.58883                                                    \n",
      "[40]\tvalidation-rmse:6.52731                                                    \n",
      "[60]\tvalidation-rmse:6.50330                                                    \n",
      "[80]\tvalidation-rmse:6.48675                                                    \n",
      "[100]\tvalidation-rmse:6.47191                                                   \n",
      "[120]\tvalidation-rmse:6.45952                                                   \n",
      "[140]\tvalidation-rmse:6.45158                                                   \n",
      "[160]\tvalidation-rmse:6.44359                                                   \n",
      "[180]\tvalidation-rmse:6.43705                                                   \n",
      "[200]\tvalidation-rmse:6.43018                                                   \n",
      "[220]\tvalidation-rmse:6.42754                                                   \n",
      "[240]\tvalidation-rmse:6.42261                                                   \n",
      "[260]\tvalidation-rmse:6.41849                                                   \n",
      "[280]\tvalidation-rmse:6.41594                                                   \n",
      "[300]\tvalidation-rmse:6.41258                                                   \n",
      "[320]\tvalidation-rmse:6.40996                                                   \n",
      "[340]\tvalidation-rmse:6.40826                                                   \n",
      "[360]\tvalidation-rmse:6.40494                                                   \n",
      "[380]\tvalidation-rmse:6.40528                                                   \n",
      "[400]\tvalidation-rmse:6.40384                                                   \n",
      "[420]\tvalidation-rmse:6.40234                                                   \n",
      "[440]\tvalidation-rmse:6.40080                                                   \n",
      "[460]\tvalidation-rmse:6.40019                                                   \n",
      "[480]\tvalidation-rmse:6.40047                                                   \n",
      "[500]\tvalidation-rmse:6.39878                                                   \n",
      "[520]\tvalidation-rmse:6.39981                                                   \n",
      "[540]\tvalidation-rmse:6.39911                                                   \n",
      "[554]\tvalidation-rmse:6.39955                                                   \n",
      " 76%|███████▌  | 38/50 [53:23<19:25, 97.16s/trial, best loss: 6.304227754735907]"
     ]
    },
    {
     "name": "stderr",
     "output_type": "stream",
     "text": [
      "/Users/bastienwinant/Desktop/projects/mlops-zoomcamp/.venv/lib/python3.9/site-packages/xgboost/core.py:158: UserWarning: [15:54:22] WARNING: /Users/runner/work/xgboost/xgboost/src/c_api/c_api.cc:1374: Saving model in the UBJSON format as default.  You can use file extension: `json`, `ubj` or `deprecated` to choose between formats.\n",
      "  warnings.warn(smsg, UserWarning)\n",
      "\n",
      "\u001B[31m2025/05/30 15:54:31 WARNING mlflow.models.model: Model logged without a signature and input example. Please set `input_example` parameter when logging the model to auto infer the model signature.\u001B[0m\n",
      "\n"
     ]
    },
    {
     "name": "stdout",
     "output_type": "stream",
     "text": [
      "[0]\tvalidation-rmse:9.81553                                                     \n",
      "[20]\tvalidation-rmse:6.40125                                                    \n",
      "[40]\tvalidation-rmse:6.36347                                                    \n",
      "[60]\tvalidation-rmse:6.34872                                                    \n",
      "[80]\tvalidation-rmse:6.33779                                                    \n",
      "[100]\tvalidation-rmse:6.33229                                                   \n",
      "[120]\tvalidation-rmse:6.33021                                                   \n",
      "[140]\tvalidation-rmse:6.33282                                                   \n",
      "[160]\tvalidation-rmse:6.33399                                                   \n",
      "[175]\tvalidation-rmse:6.33563                                                   \n",
      " 78%|███████▊  | 39/50 [54:22<17:26, 95.10s/trial, best loss: 6.304227754735907]"
     ]
    },
    {
     "name": "stderr",
     "output_type": "stream",
     "text": [
      "/Users/bastienwinant/Desktop/projects/mlops-zoomcamp/.venv/lib/python3.9/site-packages/xgboost/core.py:158: UserWarning: [15:55:20] WARNING: /Users/runner/work/xgboost/xgboost/src/c_api/c_api.cc:1374: Saving model in the UBJSON format as default.  You can use file extension: `json`, `ubj` or `deprecated` to choose between formats.\n",
      "  warnings.warn(smsg, UserWarning)\n",
      "\n",
      "\u001B[31m2025/05/30 15:55:30 WARNING mlflow.models.model: Model logged without a signature and input example. Please set `input_example` parameter when logging the model to auto infer the model signature.\u001B[0m\n",
      "\n"
     ]
    },
    {
     "name": "stdout",
     "output_type": "stream",
     "text": [
      "[0]\tvalidation-rmse:11.67576                                                    \n",
      "[20]\tvalidation-rmse:7.23664                                                    \n",
      "[40]\tvalidation-rmse:6.72322                                                    \n",
      "[60]\tvalidation-rmse:6.64099                                                    \n",
      "[80]\tvalidation-rmse:6.62062                                                    \n",
      "[100]\tvalidation-rmse:6.60995                                                   \n",
      "[120]\tvalidation-rmse:6.60040                                                   \n",
      "[140]\tvalidation-rmse:6.59122                                                   \n",
      "[160]\tvalidation-rmse:6.58368                                                   \n",
      "[180]\tvalidation-rmse:6.57730                                                   \n",
      "[200]\tvalidation-rmse:6.57122                                                   \n",
      "[220]\tvalidation-rmse:6.56547                                                   \n",
      "[240]\tvalidation-rmse:6.56041                                                   \n",
      "[260]\tvalidation-rmse:6.55566                                                   \n",
      "[280]\tvalidation-rmse:6.55157                                                   \n",
      "[300]\tvalidation-rmse:6.54698                                                   \n",
      "[320]\tvalidation-rmse:6.54282                                                   \n",
      "[340]\tvalidation-rmse:6.53899                                                   \n",
      "[360]\tvalidation-rmse:6.53539                                                   \n",
      "[380]\tvalidation-rmse:6.53257                                                   \n",
      "[400]\tvalidation-rmse:6.52875                                                   \n",
      "[420]\tvalidation-rmse:6.52600                                                   \n",
      "[440]\tvalidation-rmse:6.52301                                                   \n",
      "[460]\tvalidation-rmse:6.51974                                                   \n",
      "[480]\tvalidation-rmse:6.51718                                                   \n",
      "[500]\tvalidation-rmse:6.51470                                                   \n",
      "[520]\tvalidation-rmse:6.51253                                                   \n",
      "[540]\tvalidation-rmse:6.50988                                                   \n",
      "[560]\tvalidation-rmse:6.50773                                                   \n",
      "[580]\tvalidation-rmse:6.50569                                                   \n",
      "[600]\tvalidation-rmse:6.50331                                                   \n",
      "[620]\tvalidation-rmse:6.50075                                                   \n",
      "[640]\tvalidation-rmse:6.49901                                                   \n",
      "[660]\tvalidation-rmse:6.49599                                                   \n",
      "[680]\tvalidation-rmse:6.49407                                                   \n",
      "[700]\tvalidation-rmse:6.49211                                                   \n",
      "[720]\tvalidation-rmse:6.49057                                                   \n",
      "[740]\tvalidation-rmse:6.48867                                                   \n",
      "[760]\tvalidation-rmse:6.48641                                                   \n",
      "[780]\tvalidation-rmse:6.48482                                                   \n",
      "[800]\tvalidation-rmse:6.48357                                                   \n",
      "[820]\tvalidation-rmse:6.48209                                                   \n",
      "[840]\tvalidation-rmse:6.48066                                                   \n",
      "[860]\tvalidation-rmse:6.47882                                                   \n",
      "[880]\tvalidation-rmse:6.47767                                                   \n",
      "[900]\tvalidation-rmse:6.47631                                                   \n",
      "[920]\tvalidation-rmse:6.47484                                                   \n",
      "[940]\tvalidation-rmse:6.47370                                                   \n",
      "[960]\tvalidation-rmse:6.47272                                                   \n",
      "[980]\tvalidation-rmse:6.47164                                                   \n",
      "[999]\tvalidation-rmse:6.46920                                                   \n",
      " 80%|████████  | 40/50 [55:21<14:03, 84.35s/trial, best loss: 6.304227754735907]"
     ]
    },
    {
     "name": "stderr",
     "output_type": "stream",
     "text": [
      "/Users/bastienwinant/Desktop/projects/mlops-zoomcamp/.venv/lib/python3.9/site-packages/xgboost/core.py:158: UserWarning: [15:56:18] WARNING: /Users/runner/work/xgboost/xgboost/src/c_api/c_api.cc:1374: Saving model in the UBJSON format as default.  You can use file extension: `json`, `ubj` or `deprecated` to choose between formats.\n",
      "  warnings.warn(smsg, UserWarning)\n",
      "\n",
      "\u001B[31m2025/05/30 15:56:27 WARNING mlflow.models.model: Model logged without a signature and input example. Please set `input_example` parameter when logging the model to auto infer the model signature.\u001B[0m\n",
      "\n"
     ]
    },
    {
     "name": "stdout",
     "output_type": "stream",
     "text": [
      "[0]\tvalidation-rmse:11.23200                                                    \n",
      "[20]\tvalidation-rmse:6.62064                                                    \n",
      "[40]\tvalidation-rmse:6.48925                                                    \n",
      "[60]\tvalidation-rmse:6.46574                                                    \n",
      "[80]\tvalidation-rmse:6.44715                                                    \n",
      "[100]\tvalidation-rmse:6.43396                                                   \n",
      "[120]\tvalidation-rmse:6.42154                                                   \n",
      "[140]\tvalidation-rmse:6.41214                                                   \n",
      "[160]\tvalidation-rmse:6.40326                                                   \n",
      "[180]\tvalidation-rmse:6.39643                                                   \n",
      "[200]\tvalidation-rmse:6.38967                                                   \n",
      "[220]\tvalidation-rmse:6.38335                                                   \n",
      "[240]\tvalidation-rmse:6.37829                                                   \n",
      "[260]\tvalidation-rmse:6.37402                                                   \n",
      "[280]\tvalidation-rmse:6.36975                                                   \n",
      "[300]\tvalidation-rmse:6.36579                                                   \n",
      "[320]\tvalidation-rmse:6.36125                                                   \n",
      "[340]\tvalidation-rmse:6.35751                                                   \n",
      "[360]\tvalidation-rmse:6.35543                                                   \n",
      "[380]\tvalidation-rmse:6.35276                                                   \n",
      "[400]\tvalidation-rmse:6.35039                                                   \n",
      "[420]\tvalidation-rmse:6.34792                                                   \n",
      "[440]\tvalidation-rmse:6.34535                                                   \n",
      "[460]\tvalidation-rmse:6.34316                                                   \n",
      "[480]\tvalidation-rmse:6.34155                                                   \n",
      "[500]\tvalidation-rmse:6.34020                                                   \n",
      "[520]\tvalidation-rmse:6.33861                                                   \n",
      "[540]\tvalidation-rmse:6.33618                                                   \n",
      "[560]\tvalidation-rmse:6.33537                                                   \n",
      "[580]\tvalidation-rmse:6.33394                                                   \n",
      "[600]\tvalidation-rmse:6.33308                                                   \n",
      "[620]\tvalidation-rmse:6.33264                                                   \n",
      "[640]\tvalidation-rmse:6.33164                                                   \n",
      "[660]\tvalidation-rmse:6.33121                                                   \n",
      "[680]\tvalidation-rmse:6.33014                                                   \n",
      "[700]\tvalidation-rmse:6.33028                                                   \n",
      "[720]\tvalidation-rmse:6.32942                                                   \n",
      "[740]\tvalidation-rmse:6.32905                                                   \n",
      "[760]\tvalidation-rmse:6.32816                                                   \n",
      "[780]\tvalidation-rmse:6.32735                                                   \n",
      "[800]\tvalidation-rmse:6.32762                                                   \n",
      "[820]\tvalidation-rmse:6.32766                                                   \n",
      "[840]\tvalidation-rmse:6.32635                                                   \n",
      "[860]\tvalidation-rmse:6.32556                                                   \n",
      "[880]\tvalidation-rmse:6.32540                                                   \n",
      "[900]\tvalidation-rmse:6.32525                                                   \n",
      "[920]\tvalidation-rmse:6.32388                                                   \n",
      "[940]\tvalidation-rmse:6.32447                                                   \n",
      "[960]\tvalidation-rmse:6.32465                                                   \n",
      "[969]\tvalidation-rmse:6.32467                                                   \n",
      " 82%|████████▏ | 41/50 [56:57<11:24, 76.01s/trial, best loss: 6.304227754735907]"
     ]
    },
    {
     "name": "stderr",
     "output_type": "stream",
     "text": [
      "/Users/bastienwinant/Desktop/projects/mlops-zoomcamp/.venv/lib/python3.9/site-packages/xgboost/core.py:158: UserWarning: [15:57:58] WARNING: /Users/runner/work/xgboost/xgboost/src/c_api/c_api.cc:1374: Saving model in the UBJSON format as default.  You can use file extension: `json`, `ubj` or `deprecated` to choose between formats.\n",
      "  warnings.warn(smsg, UserWarning)\n",
      "\n",
      "\u001B[31m2025/05/30 15:58:06 WARNING mlflow.models.model: Model logged without a signature and input example. Please set `input_example` parameter when logging the model to auto infer the model signature.\u001B[0m\n",
      "\n"
     ]
    },
    {
     "name": "stdout",
     "output_type": "stream",
     "text": [
      "[0]\tvalidation-rmse:8.88912                                                     \n",
      "[20]\tvalidation-rmse:6.49934                                                    \n",
      "[40]\tvalidation-rmse:6.45167                                                    \n",
      "[60]\tvalidation-rmse:6.42628                                                    \n",
      "[80]\tvalidation-rmse:6.41298                                                    \n",
      "[100]\tvalidation-rmse:6.39853                                                   \n",
      "[120]\tvalidation-rmse:6.38762                                                   \n",
      "[140]\tvalidation-rmse:6.38316                                                   \n",
      "[160]\tvalidation-rmse:6.37785                                                   \n",
      "[180]\tvalidation-rmse:6.37436                                                   \n",
      "[200]\tvalidation-rmse:6.37327                                                   \n",
      "[220]\tvalidation-rmse:6.36993                                                   \n",
      "[240]\tvalidation-rmse:6.36794                                                   \n",
      "[260]\tvalidation-rmse:6.36698                                                   \n",
      "[280]\tvalidation-rmse:6.36653                                                   \n",
      "[300]\tvalidation-rmse:6.36589                                                   \n",
      "[320]\tvalidation-rmse:6.36582                                                   \n",
      "[340]\tvalidation-rmse:6.36500                                                   \n",
      "[347]\tvalidation-rmse:6.36489                                                   \n",
      " 84%|████████▍ | 42/50 [57:34<11:03, 82.90s/trial, best loss: 6.304227754735907]"
     ]
    },
    {
     "name": "stderr",
     "output_type": "stream",
     "text": [
      "/Users/bastienwinant/Desktop/projects/mlops-zoomcamp/.venv/lib/python3.9/site-packages/xgboost/core.py:158: UserWarning: [15:58:31] WARNING: /Users/runner/work/xgboost/xgboost/src/c_api/c_api.cc:1374: Saving model in the UBJSON format as default.  You can use file extension: `json`, `ubj` or `deprecated` to choose between formats.\n",
      "  warnings.warn(smsg, UserWarning)\n",
      "\n",
      "\u001B[31m2025/05/30 15:58:40 WARNING mlflow.models.model: Model logged without a signature and input example. Please set `input_example` parameter when logging the model to auto infer the model signature.\u001B[0m\n",
      "\n"
     ]
    },
    {
     "name": "stdout",
     "output_type": "stream",
     "text": [
      "[0]\tvalidation-rmse:11.41209                                                    \n",
      "[20]\tvalidation-rmse:6.72741                                                    \n",
      "[40]\tvalidation-rmse:6.50198                                                    \n",
      "[60]\tvalidation-rmse:6.45964                                                    \n",
      "[80]\tvalidation-rmse:6.44548                                                    \n",
      "[100]\tvalidation-rmse:6.43733                                                   \n",
      "[120]\tvalidation-rmse:6.43088                                                   \n",
      "[140]\tvalidation-rmse:6.42588                                                   \n",
      "[160]\tvalidation-rmse:6.42183                                                   \n",
      "[180]\tvalidation-rmse:6.41835                                                   \n",
      "[200]\tvalidation-rmse:6.41463                                                   \n",
      "[220]\tvalidation-rmse:6.41151                                                   \n",
      "[240]\tvalidation-rmse:6.40816                                                   \n",
      "[260]\tvalidation-rmse:6.40522                                                   \n",
      "[280]\tvalidation-rmse:6.40297                                                   \n",
      "[300]\tvalidation-rmse:6.40072                                                   \n",
      "[320]\tvalidation-rmse:6.39894                                                   \n",
      "[340]\tvalidation-rmse:6.39693                                                   \n",
      "[360]\tvalidation-rmse:6.39603                                                   \n",
      "[380]\tvalidation-rmse:6.39414                                                   \n",
      "[400]\tvalidation-rmse:6.39339                                                   \n",
      "[420]\tvalidation-rmse:6.39208                                                   \n",
      "[440]\tvalidation-rmse:6.39072                                                   \n",
      "[460]\tvalidation-rmse:6.38983                                                   \n",
      "[480]\tvalidation-rmse:6.38903                                                   \n",
      "[500]\tvalidation-rmse:6.38801                                                   \n",
      "[520]\tvalidation-rmse:6.38728                                                   \n",
      "[540]\tvalidation-rmse:6.38696                                                   \n",
      "[560]\tvalidation-rmse:6.38644                                                   \n",
      "[580]\tvalidation-rmse:6.38598                                                   \n",
      "[600]\tvalidation-rmse:6.38536                                                   \n",
      "[620]\tvalidation-rmse:6.38474                                                   \n",
      "[640]\tvalidation-rmse:6.38492                                                   \n",
      "[660]\tvalidation-rmse:6.38528                                                   \n",
      "[670]\tvalidation-rmse:6.38547                                                   \n",
      " 86%|████████▌ | 43/50 [59:35<07:57, 68.20s/trial, best loss: 6.304227754735907]"
     ]
    },
    {
     "name": "stderr",
     "output_type": "stream",
     "text": [
      "/Users/bastienwinant/Desktop/projects/mlops-zoomcamp/.venv/lib/python3.9/site-packages/xgboost/core.py:158: UserWarning: [16:00:46] WARNING: /Users/runner/work/xgboost/xgboost/src/c_api/c_api.cc:1374: Saving model in the UBJSON format as default.  You can use file extension: `json`, `ubj` or `deprecated` to choose between formats.\n",
      "  warnings.warn(smsg, UserWarning)\n",
      "\n",
      "\u001B[31m2025/05/30 16:01:01 WARNING mlflow.models.model: Model logged without a signature and input example. Please set `input_example` parameter when logging the model to auto infer the model signature.\u001B[0m\n",
      "\n"
     ]
    },
    {
     "name": "stdout",
     "output_type": "stream",
     "text": [
      "[0]\tvalidation-rmse:11.57967                                                      \n",
      "[20]\tvalidation-rmse:7.01278                                                      \n",
      "[40]\tvalidation-rmse:6.63254                                                      \n",
      "[60]\tvalidation-rmse:6.57757                                                      \n",
      "[80]\tvalidation-rmse:6.56076                                                      \n",
      "[100]\tvalidation-rmse:6.54756                                                     \n",
      "[120]\tvalidation-rmse:6.53937                                                     \n",
      "[140]\tvalidation-rmse:6.53001                                                     \n",
      "[160]\tvalidation-rmse:6.52286                                                     \n",
      "[180]\tvalidation-rmse:6.51571                                                     \n",
      "[200]\tvalidation-rmse:6.50972                                                     \n",
      "[220]\tvalidation-rmse:6.50461                                                     \n",
      "[240]\tvalidation-rmse:6.49864                                                     \n",
      "[260]\tvalidation-rmse:6.49378                                                     \n",
      "[280]\tvalidation-rmse:6.48859                                                     \n",
      "[300]\tvalidation-rmse:6.48440                                                     \n",
      "[320]\tvalidation-rmse:6.47877                                                     \n",
      "[340]\tvalidation-rmse:6.47502                                                     \n",
      "[360]\tvalidation-rmse:6.47097                                                     \n",
      "[380]\tvalidation-rmse:6.46815                                                     \n",
      "[400]\tvalidation-rmse:6.46465                                                     \n",
      "[420]\tvalidation-rmse:6.46044                                                     \n",
      "[440]\tvalidation-rmse:6.45718                                                     \n",
      "[460]\tvalidation-rmse:6.45525                                                     \n",
      "[480]\tvalidation-rmse:6.45245                                                     \n",
      "[500]\tvalidation-rmse:6.44999                                                     \n",
      "[520]\tvalidation-rmse:6.44712                                                     \n",
      "[540]\tvalidation-rmse:6.44267                                                     \n",
      "[560]\tvalidation-rmse:6.43997                                                     \n",
      "[580]\tvalidation-rmse:6.43871                                                     \n",
      "[600]\tvalidation-rmse:6.43723                                                     \n",
      "[620]\tvalidation-rmse:6.43550                                                     \n",
      "[640]\tvalidation-rmse:6.43295                                                     \n",
      "[660]\tvalidation-rmse:6.43097                                                     \n",
      "[680]\tvalidation-rmse:6.42930                                                     \n",
      "[700]\tvalidation-rmse:6.42747                                                     \n",
      "[720]\tvalidation-rmse:6.42647                                                     \n",
      "[740]\tvalidation-rmse:6.42483                                                     \n",
      "[760]\tvalidation-rmse:6.42369                                                     \n",
      "[780]\tvalidation-rmse:6.42159                                                     \n",
      "[800]\tvalidation-rmse:6.41968                                                     \n",
      "[820]\tvalidation-rmse:6.41762                                                     \n",
      "[840]\tvalidation-rmse:6.41571                                                     \n",
      "[860]\tvalidation-rmse:6.41565                                                     \n",
      "[880]\tvalidation-rmse:6.41407                                                     \n",
      "[900]\tvalidation-rmse:6.41334                                                     \n",
      "[920]\tvalidation-rmse:6.41221                                                     \n",
      "[940]\tvalidation-rmse:6.41077                                                     \n",
      "[960]\tvalidation-rmse:6.41020                                                     \n",
      "[980]\tvalidation-rmse:6.40830                                                     \n",
      "[999]\tvalidation-rmse:6.40716                                                     \n",
      " 88%|████████▊ | 44/50 [1:02:03<09:01, 90.20s/trial, best loss: 6.304227754735907]"
     ]
    },
    {
     "name": "stderr",
     "output_type": "stream",
     "text": [
      "/Users/bastienwinant/Desktop/projects/mlops-zoomcamp/.venv/lib/python3.9/site-packages/xgboost/core.py:158: UserWarning: [16:03:05] WARNING: /Users/runner/work/xgboost/xgboost/src/c_api/c_api.cc:1374: Saving model in the UBJSON format as default.  You can use file extension: `json`, `ubj` or `deprecated` to choose between formats.\n",
      "  warnings.warn(smsg, UserWarning)\n",
      "\n",
      "\u001B[31m2025/05/30 16:03:13 WARNING mlflow.models.model: Model logged without a signature and input example. Please set `input_example` parameter when logging the model to auto infer the model signature.\u001B[0m\n",
      "\n"
     ]
    },
    {
     "name": "stdout",
     "output_type": "stream",
     "text": [
      "[0]\tvalidation-rmse:10.44760                                                       \n",
      "[20]\tvalidation-rmse:6.46907                                                       \n",
      "[40]\tvalidation-rmse:6.42915                                                       \n",
      "[60]\tvalidation-rmse:6.40472                                                       \n",
      "[80]\tvalidation-rmse:6.38314                                                       \n",
      "[100]\tvalidation-rmse:6.37129                                                      \n",
      "[120]\tvalidation-rmse:6.35949                                                      \n",
      "[140]\tvalidation-rmse:6.34930                                                      \n",
      "[160]\tvalidation-rmse:6.34283                                                      \n",
      "[180]\tvalidation-rmse:6.33547                                                      \n",
      "[200]\tvalidation-rmse:6.32794                                                      \n",
      "[220]\tvalidation-rmse:6.32157                                                      \n",
      "[240]\tvalidation-rmse:6.31894                                                      \n",
      "[260]\tvalidation-rmse:6.31615                                                      \n",
      "[280]\tvalidation-rmse:6.31394                                                      \n",
      "[300]\tvalidation-rmse:6.31273                                                      \n",
      "[320]\tvalidation-rmse:6.31138                                                      \n",
      "[340]\tvalidation-rmse:6.30967                                                      \n",
      "[360]\tvalidation-rmse:6.30722                                                      \n",
      "[380]\tvalidation-rmse:6.30698                                                      \n",
      "[400]\tvalidation-rmse:6.30777                                                      \n",
      "[420]\tvalidation-rmse:6.30779                                                      \n",
      "[423]\tvalidation-rmse:6.30769                                                      \n",
      " 90%|█████████ | 45/50 [1:03:08<08:33, 102.78s/trial, best loss: 6.304227754735907]"
     ]
    },
    {
     "name": "stderr",
     "output_type": "stream",
     "text": [
      "/Users/bastienwinant/Desktop/projects/mlops-zoomcamp/.venv/lib/python3.9/site-packages/xgboost/core.py:158: UserWarning: [16:04:06] WARNING: /Users/runner/work/xgboost/xgboost/src/c_api/c_api.cc:1374: Saving model in the UBJSON format as default.  You can use file extension: `json`, `ubj` or `deprecated` to choose between formats.\n",
      "  warnings.warn(smsg, UserWarning)\n",
      "\n",
      "\u001B[31m2025/05/30 16:04:15 WARNING mlflow.models.model: Model logged without a signature and input example. Please set `input_example` parameter when logging the model to auto infer the model signature.\u001B[0m\n",
      "\n"
     ]
    },
    {
     "name": "stdout",
     "output_type": "stream",
     "text": [
      "[0]\tvalidation-rmse:11.45045                                                       \n",
      "[20]\tvalidation-rmse:6.76601                                                      \n",
      "[40]\tvalidation-rmse:6.50621                                                      \n",
      "[60]\tvalidation-rmse:6.47533                                                      \n",
      "[80]\tvalidation-rmse:6.45713                                                      \n",
      "[100]\tvalidation-rmse:6.44281                                                     \n",
      "[120]\tvalidation-rmse:6.43014                                                     \n",
      "[140]\tvalidation-rmse:6.41997                                                     \n",
      "[160]\tvalidation-rmse:6.41128                                                     \n",
      "[180]\tvalidation-rmse:6.40289                                                     \n",
      "[200]\tvalidation-rmse:6.39591                                                     \n",
      "[220]\tvalidation-rmse:6.38974                                                     \n",
      "[240]\tvalidation-rmse:6.38391                                                     \n",
      "[260]\tvalidation-rmse:6.37824                                                     \n",
      "[280]\tvalidation-rmse:6.37345                                                     \n",
      "[300]\tvalidation-rmse:6.36897                                                     \n",
      "[320]\tvalidation-rmse:6.36423                                                     \n",
      "[340]\tvalidation-rmse:6.36091                                                     \n",
      "[360]\tvalidation-rmse:6.35716                                                     \n",
      "[380]\tvalidation-rmse:6.35392                                                     \n",
      "[400]\tvalidation-rmse:6.35049                                                     \n",
      "[420]\tvalidation-rmse:6.34770                                                     \n",
      "[440]\tvalidation-rmse:6.34487                                                     \n",
      "[460]\tvalidation-rmse:6.34240                                                     \n",
      "[480]\tvalidation-rmse:6.33953                                                     \n",
      "[500]\tvalidation-rmse:6.33710                                                     \n",
      "[520]\tvalidation-rmse:6.33458                                                     \n",
      "[540]\tvalidation-rmse:6.33294                                                     \n",
      "[560]\tvalidation-rmse:6.33095                                                     \n",
      "[580]\tvalidation-rmse:6.32827                                                     \n",
      "[600]\tvalidation-rmse:6.32680                                                     \n",
      "[620]\tvalidation-rmse:6.32451                                                     \n",
      "[640]\tvalidation-rmse:6.32344                                                     \n",
      "[660]\tvalidation-rmse:6.32257                                                     \n",
      "[680]\tvalidation-rmse:6.32090                                                     \n",
      "[700]\tvalidation-rmse:6.31891                                                     \n",
      "[720]\tvalidation-rmse:6.31793                                                     \n",
      "[740]\tvalidation-rmse:6.31585                                                     \n",
      "[760]\tvalidation-rmse:6.31529                                                     \n",
      "[780]\tvalidation-rmse:6.31435                                                     \n",
      "[800]\tvalidation-rmse:6.31316                                                     \n",
      "[820]\tvalidation-rmse:6.31218                                                     \n",
      "[840]\tvalidation-rmse:6.31125                                                     \n",
      "[860]\tvalidation-rmse:6.31020                                                     \n",
      "[880]\tvalidation-rmse:6.30970                                                     \n",
      "[900]\tvalidation-rmse:6.30912                                                     \n",
      "[920]\tvalidation-rmse:6.30864                                                     \n",
      "[940]\tvalidation-rmse:6.30844                                                     \n",
      "[960]\tvalidation-rmse:6.30798                                                     \n",
      "[980]\tvalidation-rmse:6.30726                                                     \n",
      "[999]\tvalidation-rmse:6.30687                                                     \n",
      " 92%|█████████▏| 46/50 [1:05:07<06:01, 90.44s/trial, best loss: 6.304227754735907]"
     ]
    },
    {
     "name": "stderr",
     "output_type": "stream",
     "text": [
      "/Users/bastienwinant/Desktop/projects/mlops-zoomcamp/.venv/lib/python3.9/site-packages/xgboost/core.py:158: UserWarning: [16:06:10] WARNING: /Users/runner/work/xgboost/xgboost/src/c_api/c_api.cc:1374: Saving model in the UBJSON format as default.  You can use file extension: `json`, `ubj` or `deprecated` to choose between formats.\n",
      "  warnings.warn(smsg, UserWarning)\n",
      "\n",
      "\u001B[31m2025/05/30 16:06:19 WARNING mlflow.models.model: Model logged without a signature and input example. Please set `input_example` parameter when logging the model to auto infer the model signature.\u001B[0m\n",
      "\n"
     ]
    },
    {
     "name": "stdout",
     "output_type": "stream",
     "text": [
      "[0]\tvalidation-rmse:11.22574                                                       \n",
      "[20]\tvalidation-rmse:6.79542                                                       \n",
      "[40]\tvalidation-rmse:6.70243                                                       \n",
      "[60]\tvalidation-rmse:6.68202                                                       \n",
      "[80]\tvalidation-rmse:6.66937                                                       \n",
      "[100]\tvalidation-rmse:6.65696                                                      \n",
      "[120]\tvalidation-rmse:6.64817                                                      \n",
      "[140]\tvalidation-rmse:6.64104                                                      \n",
      "[160]\tvalidation-rmse:6.63276                                                      \n",
      "[180]\tvalidation-rmse:6.62458                                                      \n",
      "[200]\tvalidation-rmse:6.61643                                                      \n",
      "[220]\tvalidation-rmse:6.61062                                                      \n",
      "[240]\tvalidation-rmse:6.60460                                                      \n",
      "[260]\tvalidation-rmse:6.59924                                                      \n",
      "[280]\tvalidation-rmse:6.59294                                                      \n",
      "[300]\tvalidation-rmse:6.58711                                                      \n",
      "[320]\tvalidation-rmse:6.58231                                                      \n",
      "[340]\tvalidation-rmse:6.57830                                                      \n",
      "[360]\tvalidation-rmse:6.57311                                                      \n",
      "[380]\tvalidation-rmse:6.56846                                                      \n",
      "[400]\tvalidation-rmse:6.56294                                                      \n",
      "[420]\tvalidation-rmse:6.55890                                                      \n",
      "[440]\tvalidation-rmse:6.55375                                                      \n",
      "[460]\tvalidation-rmse:6.54896                                                      \n",
      "[480]\tvalidation-rmse:6.54608                                                      \n",
      "[500]\tvalidation-rmse:6.54240                                                      \n",
      "[520]\tvalidation-rmse:6.53860                                                      \n",
      "[540]\tvalidation-rmse:6.53553                                                      \n",
      "[560]\tvalidation-rmse:6.53162                                                      \n",
      "[580]\tvalidation-rmse:6.52728                                                      \n",
      "[600]\tvalidation-rmse:6.52502                                                      \n",
      "[620]\tvalidation-rmse:6.52137                                                      \n",
      "[640]\tvalidation-rmse:6.51827                                                      \n",
      "[660]\tvalidation-rmse:6.51471                                                      \n",
      "[680]\tvalidation-rmse:6.51243                                                      \n",
      "[700]\tvalidation-rmse:6.51045                                                      \n",
      "[720]\tvalidation-rmse:6.50831                                                      \n",
      "[740]\tvalidation-rmse:6.50597                                                      \n",
      "[760]\tvalidation-rmse:6.50343                                                      \n",
      "[780]\tvalidation-rmse:6.50143                                                      \n",
      "[800]\tvalidation-rmse:6.49845                                                      \n",
      "[820]\tvalidation-rmse:6.49640                                                      \n",
      "[840]\tvalidation-rmse:6.49410                                                      \n",
      "[860]\tvalidation-rmse:6.49245                                                      \n",
      "[880]\tvalidation-rmse:6.48975                                                      \n",
      "[900]\tvalidation-rmse:6.48859                                                      \n",
      "[920]\tvalidation-rmse:6.48584                                                      \n",
      "[940]\tvalidation-rmse:6.48449                                                      \n",
      "[960]\tvalidation-rmse:6.48188                                                      \n",
      "[980]\tvalidation-rmse:6.48064                                                      \n",
      "[999]\tvalidation-rmse:6.47907                                                      \n",
      " 94%|█████████▍| 47/50 [1:06:08<05:01, 100.41s/trial, best loss: 6.304227754735907]"
     ]
    },
    {
     "name": "stderr",
     "output_type": "stream",
     "text": [
      "/Users/bastienwinant/Desktop/projects/mlops-zoomcamp/.venv/lib/python3.9/site-packages/xgboost/core.py:158: UserWarning: [16:07:06] WARNING: /Users/runner/work/xgboost/xgboost/src/c_api/c_api.cc:1374: Saving model in the UBJSON format as default.  You can use file extension: `json`, `ubj` or `deprecated` to choose between formats.\n",
      "  warnings.warn(smsg, UserWarning)\n",
      "\n",
      "\u001B[31m2025/05/30 16:07:15 WARNING mlflow.models.model: Model logged without a signature and input example. Please set `input_example` parameter when logging the model to auto infer the model signature.\u001B[0m\n",
      "\n"
     ]
    },
    {
     "name": "stdout",
     "output_type": "stream",
     "text": [
      "[0]\tvalidation-rmse:9.23344                                                        \n",
      "[20]\tvalidation-rmse:6.52904                                                      \n",
      "[40]\tvalidation-rmse:6.50524                                                      \n",
      "[60]\tvalidation-rmse:6.49564                                                      \n",
      "[80]\tvalidation-rmse:6.48992                                                      \n",
      "[100]\tvalidation-rmse:6.48622                                                     \n",
      "[120]\tvalidation-rmse:6.48309                                                     \n",
      "[140]\tvalidation-rmse:6.48085                                                     \n",
      "[160]\tvalidation-rmse:6.47893                                                     \n",
      "[180]\tvalidation-rmse:6.47807                                                     \n",
      "[200]\tvalidation-rmse:6.47653                                                     \n",
      "[220]\tvalidation-rmse:6.47520                                                     \n",
      "[240]\tvalidation-rmse:6.47514                                                     \n",
      "[260]\tvalidation-rmse:6.47404                                                     \n",
      "[280]\tvalidation-rmse:6.47410                                                     \n",
      "[300]\tvalidation-rmse:6.47374                                                     \n",
      "[320]\tvalidation-rmse:6.47357                                                     \n",
      "[340]\tvalidation-rmse:6.47336                                                     \n",
      "[360]\tvalidation-rmse:6.47340                                                     \n",
      "[380]\tvalidation-rmse:6.47325                                                     \n",
      "[400]\tvalidation-rmse:6.47357                                                     \n",
      "[406]\tvalidation-rmse:6.47378                                                     \n",
      " 96%|█████████▌| 48/50 [1:07:04<02:54, 87.06s/trial, best loss: 6.304227754735907]"
     ]
    },
    {
     "name": "stderr",
     "output_type": "stream",
     "text": [
      "/Users/bastienwinant/Desktop/projects/mlops-zoomcamp/.venv/lib/python3.9/site-packages/xgboost/core.py:158: UserWarning: [16:08:03] WARNING: /Users/runner/work/xgboost/xgboost/src/c_api/c_api.cc:1374: Saving model in the UBJSON format as default.  You can use file extension: `json`, `ubj` or `deprecated` to choose between formats.\n",
      "  warnings.warn(smsg, UserWarning)\n",
      "\n",
      "\u001B[31m2025/05/30 16:08:12 WARNING mlflow.models.model: Model logged without a signature and input example. Please set `input_example` parameter when logging the model to auto infer the model signature.\u001B[0m\n",
      "\n"
     ]
    },
    {
     "name": "stdout",
     "output_type": "stream",
     "text": [
      "[0]\tvalidation-rmse:9.73061                                                       \n",
      "[20]\tvalidation-rmse:6.62864                                                      \n",
      "[40]\tvalidation-rmse:6.58666                                                      \n",
      "[60]\tvalidation-rmse:6.56282                                                      \n",
      "[80]\tvalidation-rmse:6.54243                                                      \n",
      "[100]\tvalidation-rmse:6.52837                                                     \n",
      "[120]\tvalidation-rmse:6.51471                                                     \n",
      "[140]\tvalidation-rmse:6.50343                                                     \n",
      "[160]\tvalidation-rmse:6.49450                                                     \n",
      "[180]\tvalidation-rmse:6.48225                                                     \n",
      "[200]\tvalidation-rmse:6.47204                                                     \n",
      "[220]\tvalidation-rmse:6.46308                                                     \n",
      "[240]\tvalidation-rmse:6.45853                                                     \n",
      "[260]\tvalidation-rmse:6.45296                                                     \n",
      "[280]\tvalidation-rmse:6.45132                                                     \n",
      "[300]\tvalidation-rmse:6.44734                                                     \n",
      "[320]\tvalidation-rmse:6.44383                                                     \n",
      "[340]\tvalidation-rmse:6.44303                                                     \n",
      "[360]\tvalidation-rmse:6.43696                                                     \n",
      "[380]\tvalidation-rmse:6.43454                                                     \n",
      "[400]\tvalidation-rmse:6.43248                                                     \n",
      "[420]\tvalidation-rmse:6.42906                                                     \n",
      "[440]\tvalidation-rmse:6.42785                                                     \n",
      "[460]\tvalidation-rmse:6.42639                                                     \n",
      "[480]\tvalidation-rmse:6.42412                                                     \n",
      "[500]\tvalidation-rmse:6.42184                                                     \n",
      "[520]\tvalidation-rmse:6.42021                                                     \n",
      "[540]\tvalidation-rmse:6.42056                                                     \n",
      "[560]\tvalidation-rmse:6.42009                                                     \n",
      "[580]\tvalidation-rmse:6.41978                                                     \n",
      " 98%|█████████▊| 49/50 [1:07:55<01:18, 78.22s/trial, best loss: 6.304227754735907]"
     ]
    },
    {
     "name": "stderr",
     "output_type": "stream",
     "text": [
      "/Users/bastienwinant/Desktop/projects/mlops-zoomcamp/.venv/lib/python3.9/site-packages/xgboost/core.py:158: UserWarning: [16:08:52] WARNING: /Users/runner/work/xgboost/xgboost/src/c_api/c_api.cc:1374: Saving model in the UBJSON format as default.  You can use file extension: `json`, `ubj` or `deprecated` to choose between formats.\n",
      "  warnings.warn(smsg, UserWarning)\n",
      "\n",
      "\u001B[31m2025/05/30 16:09:00 WARNING mlflow.models.model: Model logged without a signature and input example. Please set `input_example` parameter when logging the model to auto infer the model signature.\u001B[0m\n",
      "\n"
     ]
    },
    {
     "name": "stdout",
     "output_type": "stream",
     "text": [
      "100%|██████████| 50/50 [1:08:03<00:00, 81.68s/trial, best loss: 6.304227754735907]\n"
     ]
    }
   ],
   "execution_count": 28
  },
  {
   "metadata": {},
   "cell_type": "markdown",
   "source": "### Autologging",
   "id": "8eae1d92551df5be"
  },
  {
   "metadata": {
    "ExecuteTime": {
     "end_time": "2025-05-30T14:21:24.555460Z",
     "start_time": "2025-05-30T14:21:24.526929Z"
    }
   },
   "cell_type": "code",
   "source": "mlflow.xgboost.autolog()",
   "id": "4131f2cad70cdd07",
   "outputs": [],
   "execution_count": 40
  },
  {
   "metadata": {
    "ExecuteTime": {
     "end_time": "2025-05-30T14:09:01.514544Z",
     "start_time": "2025-05-30T14:09:01.509068Z"
    }
   },
   "cell_type": "code",
   "source": [
    "params = {\n",
    "    'learning_rate': 0.19030171678228142,\n",
    "    'max_depth': 29,\n",
    "    'min_child_weight': 1.000763936993607,\n",
    "    'objective': 'reg:squarederror',\n",
    "    'reg_alpha': 0.20924104314941339,\n",
    "    'reg_lambda': 0.0025628242268120804,\n",
    "    'seed': 42\n",
    "}"
   ],
   "id": "560d2907b00d4b25",
   "outputs": [],
   "execution_count": 30
  },
  {
   "metadata": {
    "ExecuteTime": {
     "end_time": "2025-05-30T14:11:42.914379Z",
     "start_time": "2025-05-30T14:09:02.360404Z"
    }
   },
   "cell_type": "code",
   "source": [
    "booster = xgb.train(\n",
    "    params=params,\n",
    "    dtrain=train,\n",
    "    num_boost_round=1000,\n",
    "    evals=[(valid, \"validation\")],\n",
    "    early_stopping_rounds=50,\n",
    "    verbose_eval=20\n",
    ")\n",
    "\n",
    "y_pred = booster.predict(valid)\n",
    "rmse = root_mean_squared_error(y_val, y_pred)"
   ],
   "id": "222aa7e3cad0530d",
   "outputs": [
    {
     "name": "stderr",
     "output_type": "stream",
     "text": [
      "2025/05/30 16:09:02 INFO mlflow.utils.autologging_utils: Created MLflow autologging run with ID 'ca3713d82e7a4f44a2df7de61d6c7418', which will track hyperparameters, performance metrics, model artifacts, and lineage information for the current xgboost workflow\n"
     ]
    },
    {
     "name": "stdout",
     "output_type": "stream",
     "text": [
      "[0]\tvalidation-rmse:10.71397\n",
      "[20]\tvalidation-rmse:6.53625\n",
      "[40]\tvalidation-rmse:6.49724\n",
      "[60]\tvalidation-rmse:6.47088\n",
      "[80]\tvalidation-rmse:6.44681\n",
      "[100]\tvalidation-rmse:6.43238\n",
      "[120]\tvalidation-rmse:6.41863\n",
      "[140]\tvalidation-rmse:6.40743\n",
      "[160]\tvalidation-rmse:6.39713\n",
      "[180]\tvalidation-rmse:6.38836\n",
      "[200]\tvalidation-rmse:6.37959\n",
      "[220]\tvalidation-rmse:6.37267\n",
      "[240]\tvalidation-rmse:6.36569\n",
      "[260]\tvalidation-rmse:6.36134\n",
      "[280]\tvalidation-rmse:6.35735\n",
      "[300]\tvalidation-rmse:6.35217\n",
      "[320]\tvalidation-rmse:6.34867\n",
      "[340]\tvalidation-rmse:6.34376\n",
      "[360]\tvalidation-rmse:6.33996\n",
      "[380]\tvalidation-rmse:6.33685\n",
      "[400]\tvalidation-rmse:6.33479\n",
      "[420]\tvalidation-rmse:6.33094\n",
      "[440]\tvalidation-rmse:6.32919\n",
      "[460]\tvalidation-rmse:6.32751\n",
      "[480]\tvalidation-rmse:6.32493\n",
      "[500]\tvalidation-rmse:6.32294\n",
      "[520]\tvalidation-rmse:6.31874\n",
      "[540]\tvalidation-rmse:6.31647\n",
      "[560]\tvalidation-rmse:6.31506\n",
      "[580]\tvalidation-rmse:6.31557\n",
      "[600]\tvalidation-rmse:6.31512\n",
      "[620]\tvalidation-rmse:6.31329\n",
      "[640]\tvalidation-rmse:6.31306\n",
      "[660]\tvalidation-rmse:6.31155\n",
      "[680]\tvalidation-rmse:6.31134\n",
      "[700]\tvalidation-rmse:6.31058\n",
      "[720]\tvalidation-rmse:6.30932\n",
      "[740]\tvalidation-rmse:6.30922\n",
      "[760]\tvalidation-rmse:6.30723\n",
      "[780]\tvalidation-rmse:6.30716\n",
      "[800]\tvalidation-rmse:6.30584\n",
      "[820]\tvalidation-rmse:6.30616\n",
      "[840]\tvalidation-rmse:6.30625\n",
      "[847]\tvalidation-rmse:6.30568\n"
     ]
    },
    {
     "name": "stderr",
     "output_type": "stream",
     "text": [
      "2025/05/30 16:11:32 WARNING mlflow.xgboost: Failed to infer model signature: could not sample data to infer model signature: please ensure that autologging is enabled before constructing the dataset.\n",
      "2025/05/30 16:11:32 WARNING mlflow.utils.autologging_utils: MLflow autologging encountered a warning: \"/Users/bastienwinant/Desktop/projects/mlops-zoomcamp/.venv/lib/python3.9/site-packages/xgboost/core.py:158: UserWarning: [16:11:32] WARNING: /Users/runner/work/xgboost/xgboost/src/c_api/c_api.cc:1374: Saving model in the UBJSON format as default.  You can use file extension: `json`, `ubj` or `deprecated` to choose between formats.\"\n",
      "\u001B[31m2025/05/30 16:11:40 WARNING mlflow.models.model: Model logged without a signature and input example. Please set `input_example` parameter when logging the model to auto infer the model signature.\u001B[0m\n"
     ]
    }
   ],
   "execution_count": 31
  },
  {
   "metadata": {},
   "cell_type": "markdown",
   "source": "#### Linear SVR",
   "id": "c57764ac776b88f3"
  },
  {
   "metadata": {
    "ExecuteTime": {
     "end_time": "2025-05-30T14:33:15.663630Z",
     "start_time": "2025-05-30T14:22:25.821637Z"
    }
   },
   "cell_type": "code",
   "source": [
    "svr = LinearSVR(max_iter=1000000)\n",
    "train_model(svr, X_train, y_train)\n",
    "y_pred = svr.predict(X_val)\n",
    "rmse = root_mean_squared_error(y_val, y_pred)"
   ],
   "id": "f3e09e1be609f2d0",
   "outputs": [
    {
     "name": "stderr",
     "output_type": "stream",
     "text": [
      "/Users/bastienwinant/Desktop/projects/mlops-zoomcamp/.venv/lib/python3.9/site-packages/sklearn/svm/_base.py:1249: ConvergenceWarning: Liblinear failed to converge, increase the number of iterations.\n",
      "  warnings.warn(\n"
     ]
    }
   ],
   "execution_count": 42
  },
  {
   "metadata": {},
   "cell_type": "markdown",
   "source": "#### Random Forest",
   "id": "6169686d80a54b6c"
  },
  {
   "metadata": {
    "ExecuteTime": {
     "end_time": "2025-05-30T14:48:11.422553Z",
     "start_time": "2025-05-30T14:33:16.351641Z"
    }
   },
   "cell_type": "code",
   "source": [
    "rf = RandomForestRegressor()\n",
    "train_model(rf, X_train, y_train)\n",
    "y_pred = rf.predict(X_val)\n",
    "rmse = root_mean_squared_error(y_val, y_pred)"
   ],
   "id": "756a7ca8409aad9f",
   "outputs": [],
   "execution_count": 43
  },
  {
   "metadata": {},
   "cell_type": "markdown",
   "source": "#### Extra Trees",
   "id": "7b6fb51b145018ea"
  },
  {
   "metadata": {
    "jupyter": {
     "is_executing": true
    },
    "ExecuteTime": {
     "start_time": "2025-05-30T14:48:11.682349Z"
    }
   },
   "cell_type": "code",
   "source": [
    "extra = ExtraTreesRegressor()\n",
    "train_model(extra, X_train, y_train)\n",
    "y_pred = extra.predict(X_val)\n",
    "rmse = root_mean_squared_error(y_val, y_pred)"
   ],
   "id": "ff274c8bc5c5c8",
   "outputs": [],
   "execution_count": null
  },
  {
   "metadata": {},
   "cell_type": "markdown",
   "source": "#### Gradient Boosting",
   "id": "c93ab9eaefb4075e"
  },
  {
   "metadata": {},
   "cell_type": "code",
   "outputs": [],
   "execution_count": null,
   "source": [
    "gb = GradientBoostingRegressor()\n",
    "train_model(gb, X_train, y_train)\n",
    "y_pred = gb.predict(X_val)\n",
    "rmse = root_mean_squared_error(y_val, y_pred)"
   ],
   "id": "1b5854c273d3aa7f"
  },
  {
   "metadata": {},
   "cell_type": "markdown",
   "source": "### Model Management",
   "id": "c620ee18583d9c02"
  },
  {
   "metadata": {
    "ExecuteTime": {
     "end_time": "2025-05-30T14:11:44.460453Z",
     "start_time": "2025-05-30T14:11:44.447528Z"
    }
   },
   "cell_type": "code",
   "source": "mlflow.xgboost.autolog(disable=True)",
   "id": "9101fbbb345a233f",
   "outputs": [],
   "execution_count": 32
  },
  {
   "metadata": {
    "ExecuteTime": {
     "end_time": "2025-05-30T14:11:53.725404Z",
     "start_time": "2025-05-30T14:11:45.447148Z"
    }
   },
   "cell_type": "code",
   "source": [
    "with mlflow.start_run():\n",
    "    mlflow.log_params(params)\n",
    "\n",
    "    mlflow.log_metric('rmse', rmse)\n",
    "\n",
    "    mlflow.log_artifact(local_path=\"models/preprocessor.b\", artifact_path=\"preprocessor\")\n",
    "    mlflow.xgboost.log_model(booster, artifact_path=\"models_mlflow\")"
   ],
   "id": "38adc131de2c7dbe",
   "outputs": [
    {
     "name": "stderr",
     "output_type": "stream",
     "text": [
      "/Users/bastienwinant/Desktop/projects/mlops-zoomcamp/.venv/lib/python3.9/site-packages/xgboost/core.py:158: UserWarning: [16:11:45] WARNING: /Users/runner/work/xgboost/xgboost/src/c_api/c_api.cc:1374: Saving model in the UBJSON format as default.  You can use file extension: `json`, `ubj` or `deprecated` to choose between formats.\n",
      "  warnings.warn(smsg, UserWarning)\n",
      "\u001B[31m2025/05/30 16:11:53 WARNING mlflow.models.model: Model logged without a signature and input example. Please set `input_example` parameter when logging the model to auto infer the model signature.\u001B[0m\n"
     ]
    }
   ],
   "execution_count": 33
  },
  {
   "metadata": {},
   "cell_type": "markdown",
   "source": [
    "### Model Retrieval\n",
    "#### Python"
   ],
   "id": "f44c5b9f4a10ebcb"
  },
  {
   "metadata": {
    "ExecuteTime": {
     "end_time": "2025-05-30T14:11:53.933847Z",
     "start_time": "2025-05-30T14:11:53.764719Z"
    }
   },
   "cell_type": "code",
   "source": [
    "logged_model = 'runs:/65425f7ef71644588856d6163ad035a0/models_mlflow'\n",
    "\n",
    "# Load model as a PyFuncModel.\n",
    "loaded_model = mlflow.pyfunc.load_model(logged_model)"
   ],
   "id": "be840853f0301bb8",
   "outputs": [],
   "execution_count": 34
  },
  {
   "metadata": {
    "ExecuteTime": {
     "end_time": "2025-05-30T14:11:54.001231Z",
     "start_time": "2025-05-30T14:11:53.991534Z"
    }
   },
   "cell_type": "code",
   "source": "loaded_model",
   "id": "62e677c77ac26831",
   "outputs": [
    {
     "data": {
      "text/plain": [
       "mlflow.pyfunc.loaded_model:\n",
       "  artifact_path: models_mlflow\n",
       "  flavor: mlflow.xgboost\n",
       "  run_id: 65425f7ef71644588856d6163ad035a0"
      ]
     },
     "execution_count": 35,
     "metadata": {},
     "output_type": "execute_result"
    }
   ],
   "execution_count": 35
  },
  {
   "metadata": {},
   "cell_type": "markdown",
   "source": "#### XGBoost",
   "id": "f284f398cd3d723a"
  },
  {
   "metadata": {
    "ExecuteTime": {
     "end_time": "2025-05-30T14:11:54.137900Z",
     "start_time": "2025-05-30T14:11:54.085877Z"
    }
   },
   "cell_type": "code",
   "source": "xgboost_model = mlflow.xgboost.load_model(logged_model)",
   "id": "68908da176c20d7e",
   "outputs": [],
   "execution_count": 36
  },
  {
   "metadata": {
    "ExecuteTime": {
     "end_time": "2025-05-30T14:11:54.156964Z",
     "start_time": "2025-05-30T14:11:54.150300Z"
    }
   },
   "cell_type": "code",
   "source": "xgboost_model",
   "id": "73acc1c9a23231e",
   "outputs": [
    {
     "data": {
      "text/plain": [
       "<xgboost.core.Booster at 0x13a08b370>"
      ]
     },
     "execution_count": 37,
     "metadata": {},
     "output_type": "execute_result"
    }
   ],
   "execution_count": 37
  },
  {
   "metadata": {
    "ExecuteTime": {
     "end_time": "2025-05-30T14:11:56.254124Z",
     "start_time": "2025-05-30T14:11:54.259161Z"
    }
   },
   "cell_type": "code",
   "source": "xgboost_model.predict(valid)",
   "id": "4ff17956ca980620",
   "outputs": [
    {
     "data": {
      "text/plain": [
       "array([14.496855 ,  7.109053 , 15.07815  , ..., 13.511075 ,  6.2299643,\n",
       "        8.019186 ], dtype=float32)"
      ]
     },
     "execution_count": 38,
     "metadata": {},
     "output_type": "execute_result"
    }
   ],
   "execution_count": 38
  },
  {
   "metadata": {},
   "cell_type": "markdown",
   "source": "### Model Registry",
   "id": "ebe0a169a0dfd7d8"
  },
  {
   "metadata": {
    "ExecuteTime": {
     "end_time": "2025-05-30T14:11:56.307145Z",
     "start_time": "2025-05-30T14:11:56.302186Z"
    }
   },
   "cell_type": "code",
   "source": "",
   "id": "cc9c5e5fca96c02a",
   "outputs": [],
   "execution_count": null
  }
 ],
 "metadata": {},
 "nbformat": 4,
 "nbformat_minor": 5
}
