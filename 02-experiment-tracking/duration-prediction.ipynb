{
 "cells": [
  {
   "metadata": {},
   "cell_type": "markdown",
   "source": "# Duration Prediction",
   "id": "8df1e33eddbe486a"
  },
  {
   "metadata": {
    "ExecuteTime": {
     "end_time": "2025-05-26T06:42:59.605099Z",
     "start_time": "2025-05-26T06:42:55.353412Z"
    }
   },
   "cell_type": "code",
   "source": [
    "import pandas as pd\n",
    "from sklearn.feature_extraction import DictVectorizer\n",
    "from sklearn.linear_model import LinearRegression, Lasso\n",
    "from sklearn.metrics import root_mean_squared_error\n",
    "import pickle\n",
    "import mlflow\n",
    "import xgboost as xgb\n",
    "from hyperopt import fmin, tpe, hp, STATUS_OK, Trials\n",
    "from hyperopt.pyll import scope"
   ],
   "id": "3ff847c79c1fa77f",
   "outputs": [],
   "execution_count": 2
  },
  {
   "metadata": {
    "ExecuteTime": {
     "end_time": "2025-05-25T22:10:27.504385Z",
     "start_time": "2025-05-25T22:10:27.499831Z"
    }
   },
   "cell_type": "code",
   "source": "pd.options.mode.copy_on_write = True",
   "id": "d5fb4c12e68866bd",
   "outputs": [],
   "execution_count": 2
  },
  {
   "metadata": {
    "ExecuteTime": {
     "end_time": "2025-05-25T22:11:02.166864Z",
     "start_time": "2025-05-25T22:11:01.211661Z"
    }
   },
   "cell_type": "code",
   "source": [
    "mlflow.set_tracking_uri(\"sqlite:///mlflow.db\")\n",
    "mlflow.set_experiment(\"nyc-taxi-experiment\")"
   ],
   "id": "86c3276af9f79ba7",
   "outputs": [
    {
     "name": "stderr",
     "output_type": "stream",
     "text": [
      "2025/05/26 00:11:02 INFO mlflow.tracking.fluent: Experiment with name 'nyc-taxi-experiment' does not exist. Creating a new experiment.\n"
     ]
    },
    {
     "data": {
      "text/plain": [
       "<Experiment: artifact_location='/Users/bastienwinant/Desktop/projects/mlops-zoomcamp/02-experiment-tracking/mlruns/1', creation_time=1748211062137, experiment_id='1', last_update_time=1748211062137, lifecycle_stage='active', name='nyc-taxi-experiment', tags={}>"
      ]
     },
     "execution_count": 3,
     "metadata": {},
     "output_type": "execute_result"
    }
   ],
   "execution_count": 3
  },
  {
   "metadata": {
    "ExecuteTime": {
     "end_time": "2025-05-25T22:12:03.243135Z",
     "start_time": "2025-05-25T22:12:03.234570Z"
    }
   },
   "cell_type": "code",
   "source": [
    "def preprocessing(df):\n",
    "    # compute target variables: trip duration in minutes\n",
    "    df['duration'] = df.lpep_dropoff_datetime - df.lpep_pickup_datetime\n",
    "    df.duration = df.duration.apply(lambda td: td.total_seconds() / 60)\n",
    "\n",
    "    # keep only trips of less than an hour\n",
    "    df = df.loc[(df.duration >= 1) & (df.duration <= 60), :]\n",
    "\n",
    "    # extract trip date components\n",
    "    df['trip_month'] = pd.Categorical(df.lpep_pickup_datetime.dt.month)\n",
    "    df['trip_dom'] = pd.Categorical(df.lpep_pickup_datetime.dt.day)\n",
    "    df['trip_hour'] = pd.Categorical(df.lpep_pickup_datetime.dt.hour)\n",
    "\n",
    "    # concatenate pickup and dropoff locations\n",
    "    df['PU_DO'] = df['PULocationID'].astype(str) + '_' + df['DOLocationID'].astype(str)\n",
    "\n",
    "    return df"
   ],
   "id": "5424649b7d8738a1",
   "outputs": [],
   "execution_count": 4
  },
  {
   "metadata": {
    "ExecuteTime": {
     "end_time": "2025-05-25T22:12:03.916002Z",
     "start_time": "2025-05-25T22:12:03.907975Z"
    }
   },
   "cell_type": "code",
   "source": [
    "def one_hot_encoding(df, numerical, categorical, dv=None):\n",
    "    df[categorical] = df[categorical].astype(str)\n",
    "    df_dicts = df[categorical + numerical].to_dict(orient='records')\n",
    "\n",
    "    if not dv:\n",
    "        dv = DictVectorizer()\n",
    "        dv.fit(df_dicts)\n",
    "\n",
    "    X_train = dv.transform(df_dicts)\n",
    "\n",
    "    return X_train, dv"
   ],
   "id": "17eb76d5b94f943d",
   "outputs": [],
   "execution_count": 5
  },
  {
   "metadata": {
    "ExecuteTime": {
     "end_time": "2025-05-25T22:12:04.941495Z",
     "start_time": "2025-05-25T22:12:04.936295Z"
    }
   },
   "cell_type": "code",
   "source": [
    "def train_model(model, X_train, y_train):\n",
    "    model.fit(X_train, y_train)"
   ],
   "id": "693c95161945494d",
   "outputs": [],
   "execution_count": 6
  },
  {
   "metadata": {
    "ExecuteTime": {
     "end_time": "2025-05-25T22:12:07.039635Z",
     "start_time": "2025-05-25T22:12:05.750489Z"
    }
   },
   "cell_type": "code",
   "source": [
    "# read im the raw data\n",
    "df_train = pd.read_parquet('https://d37ci6vzurychx.cloudfront.net/trip-data/green_tripdata_2021-01.parquet')\n",
    "df_val = pd.read_parquet('https://d37ci6vzurychx.cloudfront.net/trip-data/green_tripdata_2021-02.parquet')"
   ],
   "id": "20a9ba2f453c66cf",
   "outputs": [],
   "execution_count": 7
  },
  {
   "metadata": {
    "ExecuteTime": {
     "end_time": "2025-05-25T22:12:07.754981Z",
     "start_time": "2025-05-25T22:12:07.090299Z"
    }
   },
   "cell_type": "code",
   "source": [
    "# data cleaning\n",
    "df_train = preprocessing(df_train)\n",
    "df_val = preprocessing(df_val)"
   ],
   "id": "d0c6ea0e5f1b372c",
   "outputs": [],
   "execution_count": 8
  },
  {
   "metadata": {
    "ExecuteTime": {
     "end_time": "2025-05-25T22:12:07.802520Z",
     "start_time": "2025-05-25T22:12:07.796156Z"
    }
   },
   "cell_type": "code",
   "source": [
    "# variable selection\n",
    "categorical = ['PU_DO']\n",
    "numerical = ['trip_distance']"
   ],
   "id": "10b8d92f00b44798",
   "outputs": [],
   "execution_count": 9
  },
  {
   "metadata": {
    "ExecuteTime": {
     "end_time": "2025-05-25T22:12:09.721808Z",
     "start_time": "2025-05-25T22:12:09.044242Z"
    }
   },
   "cell_type": "code",
   "source": [
    "# categorical feature encoding\n",
    "X_train, dv = one_hot_encoding(df_train, numerical, categorical)\n",
    "X_val, _ = one_hot_encoding(df_val, numerical, categorical, dv=dv)"
   ],
   "id": "27a0aa67399448a6",
   "outputs": [],
   "execution_count": 10
  },
  {
   "metadata": {
    "ExecuteTime": {
     "end_time": "2025-05-25T22:12:13.197286Z",
     "start_time": "2025-05-25T22:12:13.192869Z"
    }
   },
   "cell_type": "code",
   "source": [
    "target = 'duration'\n",
    "y_train = df_train[target]\n",
    "y_val = df_val[target]"
   ],
   "id": "960e4afd67227c7a",
   "outputs": [],
   "execution_count": 11
  },
  {
   "metadata": {},
   "cell_type": "markdown",
   "source": "### Linear Regression",
   "id": "a0cc19845d89d063"
  },
  {
   "metadata": {
    "ExecuteTime": {
     "end_time": "2025-05-25T22:12:18.399837Z",
     "start_time": "2025-05-25T22:12:18.339543Z"
    }
   },
   "cell_type": "code",
   "outputs": [],
   "execution_count": 12,
   "source": [
    "lr = LinearRegression()\n",
    "train_model(lr, X_train, y_train)"
   ],
   "id": "f121fc45b1c4da72"
  },
  {
   "metadata": {
    "ExecuteTime": {
     "end_time": "2025-05-25T22:12:20.561102Z",
     "start_time": "2025-05-25T22:12:20.555098Z"
    }
   },
   "cell_type": "code",
   "outputs": [],
   "execution_count": 13,
   "source": "y_pred = lr.predict(X_val)",
   "id": "61b5b43abe35d437"
  },
  {
   "metadata": {
    "ExecuteTime": {
     "end_time": "2025-05-25T22:12:37.292041Z",
     "start_time": "2025-05-25T22:12:37.281920Z"
    }
   },
   "cell_type": "code",
   "outputs": [
    {
     "data": {
      "text/plain": [
       "7.758715200888857"
      ]
     },
     "execution_count": 15,
     "metadata": {},
     "output_type": "execute_result"
    }
   ],
   "execution_count": 15,
   "source": "root_mean_squared_error(y_val, y_pred)",
   "id": "f3cbb473e2bbe8af"
  },
  {
   "metadata": {},
   "cell_type": "markdown",
   "source": "### Lasso",
   "id": "70463a5df47c9b9a"
  },
  {
   "metadata": {
    "ExecuteTime": {
     "end_time": "2025-05-25T22:18:59.142035Z",
     "start_time": "2025-05-25T22:18:50.982609Z"
    }
   },
   "cell_type": "code",
   "source": [
    "alpha = .1\n",
    "lasso = Lasso(alpha=alpha)\n",
    "train_model(lasso, X_train, y_train)\n",
    "y_pred = lasso.predict(X_val)\n",
    "rmse = root_mean_squared_error(y_val, y_pred)\n",
    "\n",
    "with mlflow.start_run():\n",
    "    mlflow.set_tag(\"developer\", \"Armand Winant\")\n",
    "\n",
    "    # datasets used for training and validation\n",
    "    mlflow.log_param(\"train-data-path\", \"https://d37ci6vzurychx.cloudfront.net/trip-data/green_tripdata_2021-01.parquet\")\n",
    "    mlflow.log_param(\"validation-data-path\", \"https://d37ci6vzurychx.cloudfront.net/trip-data/green_tripdata_2021-02.parquet\")\n",
    "\n",
    "    # hyperparameters\n",
    "    mlflow.log_param(\"alpha\", alpha)\n",
    "\n",
    "    # validation performance\n",
    "    mlflow.log_metric(\"rmse\", rmse)"
   ],
   "id": "a806f35348249604",
   "outputs": [],
   "execution_count": 22
  },
  {
   "metadata": {},
   "cell_type": "markdown",
   "source": "### XGBoost",
   "id": "af068e0d225e9884"
  },
  {
   "metadata": {
    "ExecuteTime": {
     "end_time": "2025-05-26T06:51:10.057640Z",
     "start_time": "2025-05-26T06:51:10.046268Z"
    }
   },
   "cell_type": "code",
   "source": [
    "def objective(params):\n",
    "    booster = xgb.train(\n",
    "        params=params,\n",
    "        dtrain=train,\n",
    "        num_boost_round=1000,\n",
    "        evals=[(valid, \"validation\")],\n",
    "        early_stopping_rounds=50\n",
    "    )\n",
    "    y_pred = booster.predict(valid)\n",
    "    rmse = root_mean_squared_error(y_val, y_pred)\n",
    "\n",
    "    with mlflow.start_run():\n",
    "        mlflow.set_tag(\"model\", \"xgboost\")\n",
    "        mlflow.log_params(params)\n",
    "        mlflow.log_metric(\"rmse\", rmse)\n",
    "\n",
    "    return {'loss': rmse, 'status': STATUS_OK}\n"
   ],
   "id": "faffdf6f0cc27f3c",
   "outputs": [],
   "execution_count": 3
  },
  {
   "metadata": {
    "ExecuteTime": {
     "end_time": "2025-05-26T06:54:35.374230Z",
     "start_time": "2025-05-26T06:54:35.367765Z"
    }
   },
   "cell_type": "code",
   "source": [
    "search_space = {\n",
    "    'max_depth': scope.int(hp.quniform('max_depth', 4, 100, 1)),\n",
    "    'learning_rate': hp.loguniform('learning_rate', -3, 0),\n",
    "    'reg_alpha': hp.loguniform('reg_alpha', -5, -1),\n",
    "    'reg_lambda': hp.loguniform('reg_lambda', -6, -1),\n",
    "    'min_child_weight': hp.loguniform('min_child_weight', -1, 3),\n",
    "    'objective': 'reg:linear',\n",
    "    'seed': 42\n",
    "}"
   ],
   "id": "ee249dda12c0dea2",
   "outputs": [],
   "execution_count": 4
  },
  {
   "metadata": {},
   "cell_type": "code",
   "outputs": [],
   "execution_count": null,
   "source": [
    "best_result = fmin(\n",
    "    fn=objective,\n",
    "    space=search_space,\n",
    "    algo=tpe.suggest,\n",
    "    max_evals=50,\n",
    "    trials=Trials()\n",
    ")"
   ],
   "id": "60d4db88532b4a18"
  }
 ],
 "metadata": {},
 "nbformat": 4,
 "nbformat_minor": 5
}
